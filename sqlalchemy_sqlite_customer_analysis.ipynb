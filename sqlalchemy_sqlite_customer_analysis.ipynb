{
  "nbformat": 4,
  "nbformat_minor": 0,
  "metadata": {
    "colab": {
      "provenance": []
    },
    "kernelspec": {
      "name": "python3",
      "display_name": "Python 3"
    },
    "language_info": {
      "name": "python"
    }
  },
  "cells": [
    {
      "cell_type": "code",
      "source": [
        "!pip install -q sqlalchemy"
      ],
      "metadata": {
        "id": "nrzoVsa3KkT-"
      },
      "execution_count": null,
      "outputs": []
    },
    {
      "cell_type": "markdown",
      "source": [
        "# Set Up the Database Connection"
      ],
      "metadata": {
        "id": "BKgSk1wSLGSu"
      }
    },
    {
      "cell_type": "code",
      "source": [
        "from sqlalchemy import create_engine, text\n",
        "from sqlalchemy.orm import sessionmaker\n",
        "import pandas as pd\n",
        "import os\n",
        "\n",
        "# Define the SQLite database file path\n",
        "db_file = '/content/customer_data.db'  # Save to the root of the Colab environment\n",
        "\n",
        "# SQLite database connection string\n",
        "DATABASE_URI = f'sqlite:///{db_file}'\n",
        "\n",
        "# Create a database engine with connection pooling\n",
        "engine = create_engine(DATABASE_URI, echo=True, pool_size=10, max_overflow=20)\n",
        "\n",
        "# Create a session factory\n",
        "Session = sessionmaker(bind=engine)\n",
        "session = Session()\n",
        "\n",
        "print(\"SQLite database connection established.\")"
      ],
      "metadata": {
        "colab": {
          "base_uri": "https://localhost:8080/"
        },
        "id": "_8Ne4XevKl4v",
        "outputId": "7f167987-edc3-403a-d778-f8f5ebdb0a98"
      },
      "execution_count": null,
      "outputs": [
        {
          "output_type": "stream",
          "name": "stdout",
          "text": [
            "SQLite database connection established.\n"
          ]
        }
      ]
    },
    {
      "cell_type": "markdown",
      "source": [
        "# Create the Customer Table"
      ],
      "metadata": {
        "id": "1VaM71HXLIyF"
      }
    },
    {
      "cell_type": "code",
      "source": [
        "def create_customer_table():\n",
        "    try:\n",
        "        create_table_query = text(\"\"\"\n",
        "        CREATE TABLE IF NOT EXISTS customers (\n",
        "            id INTEGER PRIMARY KEY AUTOINCREMENT,\n",
        "            name TEXT NOT NULL,\n",
        "            age INTEGER,\n",
        "            gender TEXT,\n",
        "            email TEXT UNIQUE NOT NULL,\n",
        "            annual_income FLOAT,\n",
        "            spending_score INTEGER\n",
        "        )\n",
        "        \"\"\")\n",
        "        session.execute(create_table_query)\n",
        "        session.commit()\n",
        "        print(\"Table 'customers' created successfully.\")\n",
        "    except Exception as e:\n",
        "        session.rollback()\n",
        "        print(f\"Error creating table: {e}\")\n",
        "\n",
        "create_customer_table()"
      ],
      "metadata": {
        "colab": {
          "base_uri": "https://localhost:8080/"
        },
        "id": "y71BWc21KwIp",
        "outputId": "3e225d9a-1439-4cda-c450-7378ab0497ad"
      },
      "execution_count": null,
      "outputs": [
        {
          "output_type": "stream",
          "name": "stdout",
          "text": [
            "2024-08-25 06:15:24,982 INFO sqlalchemy.engine.Engine BEGIN (implicit)\n"
          ]
        },
        {
          "output_type": "stream",
          "name": "stderr",
          "text": [
            "INFO:sqlalchemy.engine.Engine:BEGIN (implicit)\n"
          ]
        },
        {
          "output_type": "stream",
          "name": "stdout",
          "text": [
            "2024-08-25 06:15:24,992 INFO sqlalchemy.engine.Engine \n",
            "        CREATE TABLE IF NOT EXISTS customers (\n",
            "            id INTEGER PRIMARY KEY AUTOINCREMENT,\n",
            "            name TEXT NOT NULL,\n",
            "            age INTEGER,\n",
            "            gender TEXT,\n",
            "            email TEXT UNIQUE NOT NULL,\n",
            "            annual_income FLOAT,\n",
            "            spending_score INTEGER\n",
            "        )\n",
            "        \n"
          ]
        },
        {
          "output_type": "stream",
          "name": "stderr",
          "text": [
            "INFO:sqlalchemy.engine.Engine:\n",
            "        CREATE TABLE IF NOT EXISTS customers (\n",
            "            id INTEGER PRIMARY KEY AUTOINCREMENT,\n",
            "            name TEXT NOT NULL,\n",
            "            age INTEGER,\n",
            "            gender TEXT,\n",
            "            email TEXT UNIQUE NOT NULL,\n",
            "            annual_income FLOAT,\n",
            "            spending_score INTEGER\n",
            "        )\n",
            "        \n"
          ]
        },
        {
          "output_type": "stream",
          "name": "stdout",
          "text": [
            "2024-08-25 06:15:25,000 INFO sqlalchemy.engine.Engine [generated in 0.00753s] ()\n"
          ]
        },
        {
          "output_type": "stream",
          "name": "stderr",
          "text": [
            "INFO:sqlalchemy.engine.Engine:[generated in 0.00753s] ()\n"
          ]
        },
        {
          "output_type": "stream",
          "name": "stdout",
          "text": [
            "2024-08-25 06:15:25,015 INFO sqlalchemy.engine.Engine COMMIT\n"
          ]
        },
        {
          "output_type": "stream",
          "name": "stderr",
          "text": [
            "INFO:sqlalchemy.engine.Engine:COMMIT\n"
          ]
        },
        {
          "output_type": "stream",
          "name": "stdout",
          "text": [
            "Table 'customers' created successfully.\n"
          ]
        }
      ]
    },
    {
      "cell_type": "markdown",
      "source": [
        "# Insert Customer Records"
      ],
      "metadata": {
        "id": "cwjsibONLPrQ"
      }
    },
    {
      "cell_type": "code",
      "source": [
        "def insert_customer(name, age, gender, email, annual_income, spending_score):\n",
        "    try:\n",
        "        insert_query = text(\"\"\"\n",
        "            INSERT INTO customers (name, age, gender, email, annual_income, spending_score)\n",
        "            VALUES (:name, :age, :gender, :email, :annual_income, :spending_score)\n",
        "        \"\"\")\n",
        "        session.execute(insert_query, {\n",
        "            'name': name, 'age': age, 'gender': gender, 'email': email,\n",
        "            'annual_income': annual_income, 'spending_score': spending_score\n",
        "        })\n",
        "        session.commit()\n",
        "        print(f\"Customer {name} inserted successfully.\")\n",
        "    except Exception as e:\n",
        "        session.rollback()\n",
        "        print(f\"Error inserting customer: {e}\")\n",
        "\n",
        "# Insert sample customer data\n",
        "customers = [\n",
        "    ('Alice Smith', 30, 'Female', 'alice.smith@example.com', 60000.0, 70),\n",
        "    ('Bob Johnson', 40, 'Male', 'bob.johnson@example.com', 80000.0, 50),\n",
        "    ('Carol White', 28, 'Female', 'carol.white@example.com', 45000.0, 90),\n",
        "    ('David Brown', 35, 'Male', 'david.brown@example.com', 72000.0, 60),\n",
        "    ('Eve Black', 22, 'Female', 'eve.black@example.com', 34000.0, 80)\n",
        "]\n",
        "\n",
        "for customer in customers:\n",
        "    insert_customer(*customer)"
      ],
      "metadata": {
        "colab": {
          "base_uri": "https://localhost:8080/"
        },
        "id": "yXq4dVJrKydo",
        "outputId": "995351a6-44e5-4a53-8330-b29e16fd9b89"
      },
      "execution_count": null,
      "outputs": [
        {
          "output_type": "stream",
          "name": "stdout",
          "text": [
            "2024-08-25 06:15:42,539 INFO sqlalchemy.engine.Engine BEGIN (implicit)\n"
          ]
        },
        {
          "output_type": "stream",
          "name": "stderr",
          "text": [
            "INFO:sqlalchemy.engine.Engine:BEGIN (implicit)\n"
          ]
        },
        {
          "output_type": "stream",
          "name": "stdout",
          "text": [
            "2024-08-25 06:15:42,559 INFO sqlalchemy.engine.Engine \n",
            "            INSERT INTO customers (name, age, gender, email, annual_income, spending_score)\n",
            "            VALUES (?, ?, ?, ?, ?, ?)\n",
            "        \n"
          ]
        },
        {
          "output_type": "stream",
          "name": "stderr",
          "text": [
            "INFO:sqlalchemy.engine.Engine:\n",
            "            INSERT INTO customers (name, age, gender, email, annual_income, spending_score)\n",
            "            VALUES (?, ?, ?, ?, ?, ?)\n",
            "        \n"
          ]
        },
        {
          "output_type": "stream",
          "name": "stdout",
          "text": [
            "2024-08-25 06:15:42,565 INFO sqlalchemy.engine.Engine [generated in 0.00659s] ('Alice Smith', 30, 'Female', 'alice.smith@example.com', 60000.0, 70)\n"
          ]
        },
        {
          "output_type": "stream",
          "name": "stderr",
          "text": [
            "INFO:sqlalchemy.engine.Engine:[generated in 0.00659s] ('Alice Smith', 30, 'Female', 'alice.smith@example.com', 60000.0, 70)\n"
          ]
        },
        {
          "output_type": "stream",
          "name": "stdout",
          "text": [
            "2024-08-25 06:15:42,569 INFO sqlalchemy.engine.Engine COMMIT\n"
          ]
        },
        {
          "output_type": "stream",
          "name": "stderr",
          "text": [
            "INFO:sqlalchemy.engine.Engine:COMMIT\n"
          ]
        },
        {
          "output_type": "stream",
          "name": "stdout",
          "text": [
            "Customer Alice Smith inserted successfully.\n",
            "2024-08-25 06:15:42,593 INFO sqlalchemy.engine.Engine BEGIN (implicit)\n"
          ]
        },
        {
          "output_type": "stream",
          "name": "stderr",
          "text": [
            "INFO:sqlalchemy.engine.Engine:BEGIN (implicit)\n"
          ]
        },
        {
          "output_type": "stream",
          "name": "stdout",
          "text": [
            "2024-08-25 06:15:42,606 INFO sqlalchemy.engine.Engine \n",
            "            INSERT INTO customers (name, age, gender, email, annual_income, spending_score)\n",
            "            VALUES (?, ?, ?, ?, ?, ?)\n",
            "        \n"
          ]
        },
        {
          "output_type": "stream",
          "name": "stderr",
          "text": [
            "INFO:sqlalchemy.engine.Engine:\n",
            "            INSERT INTO customers (name, age, gender, email, annual_income, spending_score)\n",
            "            VALUES (?, ?, ?, ?, ?, ?)\n",
            "        \n"
          ]
        },
        {
          "output_type": "stream",
          "name": "stdout",
          "text": [
            "2024-08-25 06:15:42,622 INFO sqlalchemy.engine.Engine [cached since 0.06335s ago] ('Bob Johnson', 40, 'Male', 'bob.johnson@example.com', 80000.0, 50)\n"
          ]
        },
        {
          "output_type": "stream",
          "name": "stderr",
          "text": [
            "INFO:sqlalchemy.engine.Engine:[cached since 0.06335s ago] ('Bob Johnson', 40, 'Male', 'bob.johnson@example.com', 80000.0, 50)\n"
          ]
        },
        {
          "output_type": "stream",
          "name": "stdout",
          "text": [
            "2024-08-25 06:15:42,631 INFO sqlalchemy.engine.Engine COMMIT\n"
          ]
        },
        {
          "output_type": "stream",
          "name": "stderr",
          "text": [
            "INFO:sqlalchemy.engine.Engine:COMMIT\n"
          ]
        },
        {
          "output_type": "stream",
          "name": "stdout",
          "text": [
            "Customer Bob Johnson inserted successfully.\n",
            "2024-08-25 06:15:42,641 INFO sqlalchemy.engine.Engine BEGIN (implicit)\n"
          ]
        },
        {
          "output_type": "stream",
          "name": "stderr",
          "text": [
            "INFO:sqlalchemy.engine.Engine:BEGIN (implicit)\n"
          ]
        },
        {
          "output_type": "stream",
          "name": "stdout",
          "text": [
            "2024-08-25 06:15:42,645 INFO sqlalchemy.engine.Engine \n",
            "            INSERT INTO customers (name, age, gender, email, annual_income, spending_score)\n",
            "            VALUES (?, ?, ?, ?, ?, ?)\n",
            "        \n"
          ]
        },
        {
          "output_type": "stream",
          "name": "stderr",
          "text": [
            "INFO:sqlalchemy.engine.Engine:\n",
            "            INSERT INTO customers (name, age, gender, email, annual_income, spending_score)\n",
            "            VALUES (?, ?, ?, ?, ?, ?)\n",
            "        \n"
          ]
        },
        {
          "output_type": "stream",
          "name": "stdout",
          "text": [
            "2024-08-25 06:15:42,648 INFO sqlalchemy.engine.Engine [cached since 0.0891s ago] ('Carol White', 28, 'Female', 'carol.white@example.com', 45000.0, 90)\n"
          ]
        },
        {
          "output_type": "stream",
          "name": "stderr",
          "text": [
            "INFO:sqlalchemy.engine.Engine:[cached since 0.0891s ago] ('Carol White', 28, 'Female', 'carol.white@example.com', 45000.0, 90)\n"
          ]
        },
        {
          "output_type": "stream",
          "name": "stdout",
          "text": [
            "2024-08-25 06:15:42,652 INFO sqlalchemy.engine.Engine COMMIT\n"
          ]
        },
        {
          "output_type": "stream",
          "name": "stderr",
          "text": [
            "INFO:sqlalchemy.engine.Engine:COMMIT\n"
          ]
        },
        {
          "output_type": "stream",
          "name": "stdout",
          "text": [
            "Customer Carol White inserted successfully.\n",
            "2024-08-25 06:15:42,662 INFO sqlalchemy.engine.Engine BEGIN (implicit)\n"
          ]
        },
        {
          "output_type": "stream",
          "name": "stderr",
          "text": [
            "INFO:sqlalchemy.engine.Engine:BEGIN (implicit)\n"
          ]
        },
        {
          "output_type": "stream",
          "name": "stdout",
          "text": [
            "2024-08-25 06:15:42,665 INFO sqlalchemy.engine.Engine \n",
            "            INSERT INTO customers (name, age, gender, email, annual_income, spending_score)\n",
            "            VALUES (?, ?, ?, ?, ?, ?)\n",
            "        \n"
          ]
        },
        {
          "output_type": "stream",
          "name": "stderr",
          "text": [
            "INFO:sqlalchemy.engine.Engine:\n",
            "            INSERT INTO customers (name, age, gender, email, annual_income, spending_score)\n",
            "            VALUES (?, ?, ?, ?, ?, ?)\n",
            "        \n"
          ]
        },
        {
          "output_type": "stream",
          "name": "stdout",
          "text": [
            "2024-08-25 06:15:42,677 INFO sqlalchemy.engine.Engine [cached since 0.1184s ago] ('David Brown', 35, 'Male', 'david.brown@example.com', 72000.0, 60)\n"
          ]
        },
        {
          "output_type": "stream",
          "name": "stderr",
          "text": [
            "INFO:sqlalchemy.engine.Engine:[cached since 0.1184s ago] ('David Brown', 35, 'Male', 'david.brown@example.com', 72000.0, 60)\n"
          ]
        },
        {
          "output_type": "stream",
          "name": "stdout",
          "text": [
            "2024-08-25 06:15:42,682 INFO sqlalchemy.engine.Engine COMMIT\n"
          ]
        },
        {
          "output_type": "stream",
          "name": "stderr",
          "text": [
            "INFO:sqlalchemy.engine.Engine:COMMIT\n"
          ]
        },
        {
          "output_type": "stream",
          "name": "stdout",
          "text": [
            "Customer David Brown inserted successfully.\n",
            "2024-08-25 06:15:42,693 INFO sqlalchemy.engine.Engine BEGIN (implicit)\n"
          ]
        },
        {
          "output_type": "stream",
          "name": "stderr",
          "text": [
            "INFO:sqlalchemy.engine.Engine:BEGIN (implicit)\n"
          ]
        },
        {
          "output_type": "stream",
          "name": "stdout",
          "text": [
            "2024-08-25 06:15:42,696 INFO sqlalchemy.engine.Engine \n",
            "            INSERT INTO customers (name, age, gender, email, annual_income, spending_score)\n",
            "            VALUES (?, ?, ?, ?, ?, ?)\n",
            "        \n"
          ]
        },
        {
          "output_type": "stream",
          "name": "stderr",
          "text": [
            "INFO:sqlalchemy.engine.Engine:\n",
            "            INSERT INTO customers (name, age, gender, email, annual_income, spending_score)\n",
            "            VALUES (?, ?, ?, ?, ?, ?)\n",
            "        \n"
          ]
        },
        {
          "output_type": "stream",
          "name": "stdout",
          "text": [
            "2024-08-25 06:15:42,700 INFO sqlalchemy.engine.Engine [cached since 0.1411s ago] ('Eve Black', 22, 'Female', 'eve.black@example.com', 34000.0, 80)\n"
          ]
        },
        {
          "output_type": "stream",
          "name": "stderr",
          "text": [
            "INFO:sqlalchemy.engine.Engine:[cached since 0.1411s ago] ('Eve Black', 22, 'Female', 'eve.black@example.com', 34000.0, 80)\n"
          ]
        },
        {
          "output_type": "stream",
          "name": "stdout",
          "text": [
            "2024-08-25 06:15:42,704 INFO sqlalchemy.engine.Engine COMMIT\n"
          ]
        },
        {
          "output_type": "stream",
          "name": "stderr",
          "text": [
            "INFO:sqlalchemy.engine.Engine:COMMIT\n"
          ]
        },
        {
          "output_type": "stream",
          "name": "stdout",
          "text": [
            "Customer Eve Black inserted successfully.\n"
          ]
        }
      ]
    },
    {
      "cell_type": "markdown",
      "source": [
        "# Query & Analyze Customer Data"
      ],
      "metadata": {
        "id": "q5uSOa3GLUMC"
      }
    },
    {
      "cell_type": "code",
      "source": [
        "def analyze_customer_data():\n",
        "    try:\n",
        "        # Query the customer data\n",
        "        query = \"\"\"\n",
        "        SELECT gender, AVG(annual_income) as avg_income, AVG(spending_score) as avg_score\n",
        "        FROM customers\n",
        "        GROUP BY gender\n",
        "        \"\"\"\n",
        "        df = pd.read_sql(query, engine)\n",
        "        print(\"Customer data analysis:\")\n",
        "        print(df)\n",
        "\n",
        "        # Spending score distribution\n",
        "        score_distribution = pd.read_sql(\"SELECT spending_score FROM customers\", engine)\n",
        "        print(\"\\nSpending Score Distribution:\")\n",
        "        print(score_distribution.describe())\n",
        "\n",
        "        return df, score_distribution\n",
        "    except Exception as e:\n",
        "        print(f\"Error analyzing customer data: {e}\")\n",
        "\n",
        "df_analysis, score_distribution = analyze_customer_data()"
      ],
      "metadata": {
        "colab": {
          "base_uri": "https://localhost:8080/"
        },
        "id": "DZtj0Gy2Kybj",
        "outputId": "9ab6eb21-5ece-403a-9b22-7c988fe9355e"
      },
      "execution_count": null,
      "outputs": [
        {
          "output_type": "stream",
          "name": "stdout",
          "text": [
            "2024-08-25 06:16:03,271 INFO sqlalchemy.engine.Engine BEGIN (implicit)\n"
          ]
        },
        {
          "output_type": "stream",
          "name": "stderr",
          "text": [
            "INFO:sqlalchemy.engine.Engine:BEGIN (implicit)\n"
          ]
        },
        {
          "output_type": "stream",
          "name": "stdout",
          "text": [
            "2024-08-25 06:16:03,278 INFO sqlalchemy.engine.Engine PRAGMA main.table_info(\"\n",
            "        SELECT gender, AVG(annual_income) as avg_income, AVG(spending_score) as avg_score\n",
            "        FROM customers\n",
            "        GROUP BY gender\n",
            "        \")\n"
          ]
        },
        {
          "output_type": "stream",
          "name": "stderr",
          "text": [
            "INFO:sqlalchemy.engine.Engine:PRAGMA main.table_info(\"\n",
            "        SELECT gender, AVG(annual_income) as avg_income, AVG(spending_score) as avg_score\n",
            "        FROM customers\n",
            "        GROUP BY gender\n",
            "        \")\n"
          ]
        },
        {
          "output_type": "stream",
          "name": "stdout",
          "text": [
            "2024-08-25 06:16:03,282 INFO sqlalchemy.engine.Engine [raw sql] ()\n"
          ]
        },
        {
          "output_type": "stream",
          "name": "stderr",
          "text": [
            "INFO:sqlalchemy.engine.Engine:[raw sql] ()\n"
          ]
        },
        {
          "output_type": "stream",
          "name": "stdout",
          "text": [
            "2024-08-25 06:16:03,284 INFO sqlalchemy.engine.Engine PRAGMA temp.table_info(\"\n",
            "        SELECT gender, AVG(annual_income) as avg_income, AVG(spending_score) as avg_score\n",
            "        FROM customers\n",
            "        GROUP BY gender\n",
            "        \")\n"
          ]
        },
        {
          "output_type": "stream",
          "name": "stderr",
          "text": [
            "INFO:sqlalchemy.engine.Engine:PRAGMA temp.table_info(\"\n",
            "        SELECT gender, AVG(annual_income) as avg_income, AVG(spending_score) as avg_score\n",
            "        FROM customers\n",
            "        GROUP BY gender\n",
            "        \")\n"
          ]
        },
        {
          "output_type": "stream",
          "name": "stdout",
          "text": [
            "2024-08-25 06:16:03,287 INFO sqlalchemy.engine.Engine [raw sql] ()\n"
          ]
        },
        {
          "output_type": "stream",
          "name": "stderr",
          "text": [
            "INFO:sqlalchemy.engine.Engine:[raw sql] ()\n"
          ]
        },
        {
          "output_type": "stream",
          "name": "stdout",
          "text": [
            "2024-08-25 06:16:03,289 INFO sqlalchemy.engine.Engine \n",
            "        SELECT gender, AVG(annual_income) as avg_income, AVG(spending_score) as avg_score\n",
            "        FROM customers\n",
            "        GROUP BY gender\n",
            "        \n"
          ]
        },
        {
          "output_type": "stream",
          "name": "stderr",
          "text": [
            "INFO:sqlalchemy.engine.Engine:\n",
            "        SELECT gender, AVG(annual_income) as avg_income, AVG(spending_score) as avg_score\n",
            "        FROM customers\n",
            "        GROUP BY gender\n",
            "        \n"
          ]
        },
        {
          "output_type": "stream",
          "name": "stdout",
          "text": [
            "2024-08-25 06:16:03,291 INFO sqlalchemy.engine.Engine [raw sql] ()\n"
          ]
        },
        {
          "output_type": "stream",
          "name": "stderr",
          "text": [
            "INFO:sqlalchemy.engine.Engine:[raw sql] ()\n"
          ]
        },
        {
          "output_type": "stream",
          "name": "stdout",
          "text": [
            "2024-08-25 06:16:03,298 INFO sqlalchemy.engine.Engine ROLLBACK\n"
          ]
        },
        {
          "output_type": "stream",
          "name": "stderr",
          "text": [
            "INFO:sqlalchemy.engine.Engine:ROLLBACK\n"
          ]
        },
        {
          "output_type": "stream",
          "name": "stdout",
          "text": [
            "Customer data analysis:\n",
            "   gender    avg_income  avg_score\n",
            "0  Female  46333.333333       80.0\n",
            "1    Male  76000.000000       55.0\n",
            "2024-08-25 06:16:03,308 INFO sqlalchemy.engine.Engine BEGIN (implicit)\n"
          ]
        },
        {
          "output_type": "stream",
          "name": "stderr",
          "text": [
            "INFO:sqlalchemy.engine.Engine:BEGIN (implicit)\n"
          ]
        },
        {
          "output_type": "stream",
          "name": "stdout",
          "text": [
            "2024-08-25 06:16:03,313 INFO sqlalchemy.engine.Engine PRAGMA main.table_info(\"SELECT spending_score FROM customers\")\n"
          ]
        },
        {
          "output_type": "stream",
          "name": "stderr",
          "text": [
            "INFO:sqlalchemy.engine.Engine:PRAGMA main.table_info(\"SELECT spending_score FROM customers\")\n"
          ]
        },
        {
          "output_type": "stream",
          "name": "stdout",
          "text": [
            "2024-08-25 06:16:03,315 INFO sqlalchemy.engine.Engine [raw sql] ()\n"
          ]
        },
        {
          "output_type": "stream",
          "name": "stderr",
          "text": [
            "INFO:sqlalchemy.engine.Engine:[raw sql] ()\n"
          ]
        },
        {
          "output_type": "stream",
          "name": "stdout",
          "text": [
            "2024-08-25 06:16:03,318 INFO sqlalchemy.engine.Engine PRAGMA temp.table_info(\"SELECT spending_score FROM customers\")\n"
          ]
        },
        {
          "output_type": "stream",
          "name": "stderr",
          "text": [
            "INFO:sqlalchemy.engine.Engine:PRAGMA temp.table_info(\"SELECT spending_score FROM customers\")\n"
          ]
        },
        {
          "output_type": "stream",
          "name": "stdout",
          "text": [
            "2024-08-25 06:16:03,321 INFO sqlalchemy.engine.Engine [raw sql] ()\n"
          ]
        },
        {
          "output_type": "stream",
          "name": "stderr",
          "text": [
            "INFO:sqlalchemy.engine.Engine:[raw sql] ()\n"
          ]
        },
        {
          "output_type": "stream",
          "name": "stdout",
          "text": [
            "2024-08-25 06:16:03,324 INFO sqlalchemy.engine.Engine SELECT spending_score FROM customers\n"
          ]
        },
        {
          "output_type": "stream",
          "name": "stderr",
          "text": [
            "INFO:sqlalchemy.engine.Engine:SELECT spending_score FROM customers\n"
          ]
        },
        {
          "output_type": "stream",
          "name": "stdout",
          "text": [
            "2024-08-25 06:16:03,327 INFO sqlalchemy.engine.Engine [raw sql] ()\n"
          ]
        },
        {
          "output_type": "stream",
          "name": "stderr",
          "text": [
            "INFO:sqlalchemy.engine.Engine:[raw sql] ()\n"
          ]
        },
        {
          "output_type": "stream",
          "name": "stdout",
          "text": [
            "2024-08-25 06:16:03,330 INFO sqlalchemy.engine.Engine ROLLBACK\n"
          ]
        },
        {
          "output_type": "stream",
          "name": "stderr",
          "text": [
            "INFO:sqlalchemy.engine.Engine:ROLLBACK\n"
          ]
        },
        {
          "output_type": "stream",
          "name": "stdout",
          "text": [
            "\n",
            "Spending Score Distribution:\n",
            "       spending_score\n",
            "count        5.000000\n",
            "mean        70.000000\n",
            "std         15.811388\n",
            "min         50.000000\n",
            "25%         60.000000\n",
            "50%         70.000000\n",
            "75%         80.000000\n",
            "max         90.000000\n"
          ]
        }
      ]
    },
    {
      "cell_type": "markdown",
      "source": [
        "# Update Customer Records"
      ],
      "metadata": {
        "id": "tqzpi2GyLYf0"
      }
    },
    {
      "cell_type": "code",
      "source": [
        "def update_spending_scores(income_threshold, increment):\n",
        "    try:\n",
        "        update_query = text(\"\"\"\n",
        "            UPDATE customers\n",
        "            SET spending_score = spending_score + :increment\n",
        "            WHERE annual_income > :income_threshold\n",
        "        \"\"\")\n",
        "        session.execute(update_query, {'increment': increment, 'income_threshold': income_threshold})\n",
        "        session.commit()\n",
        "        print(f\"Spending scores updated for customers with annual income above {income_threshold}.\")\n",
        "    except Exception as e:\n",
        "        session.rollback()\n",
        "        print(f\"Error updating spending scores: {e}\")\n",
        "\n",
        "update_spending_scores(70000.0, 5)"
      ],
      "metadata": {
        "colab": {
          "base_uri": "https://localhost:8080/"
        },
        "id": "opaaAz2fKyZM",
        "outputId": "2e57c0c8-ec45-43b4-ca4a-3efffc742b3a"
      },
      "execution_count": null,
      "outputs": [
        {
          "output_type": "stream",
          "name": "stdout",
          "text": [
            "2024-08-25 06:16:22,169 INFO sqlalchemy.engine.Engine BEGIN (implicit)\n"
          ]
        },
        {
          "output_type": "stream",
          "name": "stderr",
          "text": [
            "INFO:sqlalchemy.engine.Engine:BEGIN (implicit)\n"
          ]
        },
        {
          "output_type": "stream",
          "name": "stdout",
          "text": [
            "2024-08-25 06:16:22,173 INFO sqlalchemy.engine.Engine \n",
            "            UPDATE customers\n",
            "            SET spending_score = spending_score + ?\n",
            "            WHERE annual_income > ?\n",
            "        \n"
          ]
        },
        {
          "output_type": "stream",
          "name": "stderr",
          "text": [
            "INFO:sqlalchemy.engine.Engine:\n",
            "            UPDATE customers\n",
            "            SET spending_score = spending_score + ?\n",
            "            WHERE annual_income > ?\n",
            "        \n"
          ]
        },
        {
          "output_type": "stream",
          "name": "stdout",
          "text": [
            "2024-08-25 06:16:22,181 INFO sqlalchemy.engine.Engine [generated in 0.00814s] (5, 70000.0)\n"
          ]
        },
        {
          "output_type": "stream",
          "name": "stderr",
          "text": [
            "INFO:sqlalchemy.engine.Engine:[generated in 0.00814s] (5, 70000.0)\n"
          ]
        },
        {
          "output_type": "stream",
          "name": "stdout",
          "text": [
            "2024-08-25 06:16:22,188 INFO sqlalchemy.engine.Engine COMMIT\n"
          ]
        },
        {
          "output_type": "stream",
          "name": "stderr",
          "text": [
            "INFO:sqlalchemy.engine.Engine:COMMIT\n"
          ]
        },
        {
          "output_type": "stream",
          "name": "stdout",
          "text": [
            "Spending scores updated for customers with annual income above 70000.0.\n"
          ]
        }
      ]
    },
    {
      "cell_type": "markdown",
      "source": [
        "# Export Results to CSV"
      ],
      "metadata": {
        "id": "aiFTMua1LcnW"
      }
    },
    {
      "cell_type": "code",
      "source": [
        "def export_analysis_to_csv(df, filename='/content/customer_analysis.csv'):\n",
        "    try:\n",
        "        df.to_csv(filename, index=False)\n",
        "        print(f\"Analysis results exported to {filename}.\")\n",
        "    except Exception as e:\n",
        "        print(f\"Error exporting analysis to CSV: {e}\")\n",
        "\n",
        "export_analysis_to_csv(df_analysis)"
      ],
      "metadata": {
        "colab": {
          "base_uri": "https://localhost:8080/"
        },
        "id": "MUUzSxgrKyW3",
        "outputId": "fead979e-1e87-41a6-eea5-6831ed599b8e"
      },
      "execution_count": null,
      "outputs": [
        {
          "output_type": "stream",
          "name": "stdout",
          "text": [
            "Analysis results exported to /content/customer_analysis.csv.\n"
          ]
        }
      ]
    },
    {
      "cell_type": "markdown",
      "source": [
        "# Download the Database and CSV File"
      ],
      "metadata": {
        "id": "nrqWeWf9Lfvn"
      }
    },
    {
      "cell_type": "code",
      "source": [
        "from google.colab import files\n",
        "\n",
        "# Download the SQLite database file\n",
        "files.download(db_file)\n",
        "\n",
        "# Download the CSV file\n",
        "files.download('/content/customer_analysis.csv')"
      ],
      "metadata": {
        "colab": {
          "base_uri": "https://localhost:8080/",
          "height": 17
        },
        "id": "0_dAO41XKyUh",
        "outputId": "9bdea05d-8626-4fb1-c9af-49c662df97f4"
      },
      "execution_count": null,
      "outputs": [
        {
          "output_type": "display_data",
          "data": {
            "text/plain": [
              "<IPython.core.display.Javascript object>"
            ],
            "application/javascript": [
              "\n",
              "    async function download(id, filename, size) {\n",
              "      if (!google.colab.kernel.accessAllowed) {\n",
              "        return;\n",
              "      }\n",
              "      const div = document.createElement('div');\n",
              "      const label = document.createElement('label');\n",
              "      label.textContent = `Downloading \"${filename}\": `;\n",
              "      div.appendChild(label);\n",
              "      const progress = document.createElement('progress');\n",
              "      progress.max = size;\n",
              "      div.appendChild(progress);\n",
              "      document.body.appendChild(div);\n",
              "\n",
              "      const buffers = [];\n",
              "      let downloaded = 0;\n",
              "\n",
              "      const channel = await google.colab.kernel.comms.open(id);\n",
              "      // Send a message to notify the kernel that we're ready.\n",
              "      channel.send({})\n",
              "\n",
              "      for await (const message of channel.messages) {\n",
              "        // Send a message to notify the kernel that we're ready.\n",
              "        channel.send({})\n",
              "        if (message.buffers) {\n",
              "          for (const buffer of message.buffers) {\n",
              "            buffers.push(buffer);\n",
              "            downloaded += buffer.byteLength;\n",
              "            progress.value = downloaded;\n",
              "          }\n",
              "        }\n",
              "      }\n",
              "      const blob = new Blob(buffers, {type: 'application/binary'});\n",
              "      const a = document.createElement('a');\n",
              "      a.href = window.URL.createObjectURL(blob);\n",
              "      a.download = filename;\n",
              "      div.appendChild(a);\n",
              "      a.click();\n",
              "      div.remove();\n",
              "    }\n",
              "  "
            ]
          },
          "metadata": {}
        },
        {
          "output_type": "display_data",
          "data": {
            "text/plain": [
              "<IPython.core.display.Javascript object>"
            ],
            "application/javascript": [
              "download(\"download_fb17e9ca-b96e-4208-b667-bf529faf93ea\", \"customer_data.db\", 16384)"
            ]
          },
          "metadata": {}
        },
        {
          "output_type": "display_data",
          "data": {
            "text/plain": [
              "<IPython.core.display.Javascript object>"
            ],
            "application/javascript": [
              "\n",
              "    async function download(id, filename, size) {\n",
              "      if (!google.colab.kernel.accessAllowed) {\n",
              "        return;\n",
              "      }\n",
              "      const div = document.createElement('div');\n",
              "      const label = document.createElement('label');\n",
              "      label.textContent = `Downloading \"${filename}\": `;\n",
              "      div.appendChild(label);\n",
              "      const progress = document.createElement('progress');\n",
              "      progress.max = size;\n",
              "      div.appendChild(progress);\n",
              "      document.body.appendChild(div);\n",
              "\n",
              "      const buffers = [];\n",
              "      let downloaded = 0;\n",
              "\n",
              "      const channel = await google.colab.kernel.comms.open(id);\n",
              "      // Send a message to notify the kernel that we're ready.\n",
              "      channel.send({})\n",
              "\n",
              "      for await (const message of channel.messages) {\n",
              "        // Send a message to notify the kernel that we're ready.\n",
              "        channel.send({})\n",
              "        if (message.buffers) {\n",
              "          for (const buffer of message.buffers) {\n",
              "            buffers.push(buffer);\n",
              "            downloaded += buffer.byteLength;\n",
              "            progress.value = downloaded;\n",
              "          }\n",
              "        }\n",
              "      }\n",
              "      const blob = new Blob(buffers, {type: 'application/binary'});\n",
              "      const a = document.createElement('a');\n",
              "      a.href = window.URL.createObjectURL(blob);\n",
              "      a.download = filename;\n",
              "      div.appendChild(a);\n",
              "      a.click();\n",
              "      div.remove();\n",
              "    }\n",
              "  "
            ]
          },
          "metadata": {}
        },
        {
          "output_type": "display_data",
          "data": {
            "text/plain": [
              "<IPython.core.display.Javascript object>"
            ],
            "application/javascript": [
              "download(\"download_9fd4152c-53b1-49c5-a7bb-be07778b6f9a\", \"customer_analysis.csv\", 77)"
            ]
          },
          "metadata": {}
        }
      ]
    },
    {
      "cell_type": "markdown",
      "source": [
        "# Close the Connection"
      ],
      "metadata": {
        "id": "a4HxeboxLl6p"
      }
    },
    {
      "cell_type": "code",
      "source": [
        "def close_connection():\n",
        "    try:\n",
        "        session.close()\n",
        "        engine.dispose()\n",
        "        print(\"SQLite database connection closed.\")\n",
        "    except Exception as e:\n",
        "        print(f\"Error closing connection: {e}\")\n",
        "\n",
        "close_connection()"
      ],
      "metadata": {
        "colab": {
          "base_uri": "https://localhost:8080/"
        },
        "id": "P9xUr9-mLl4U",
        "outputId": "d661fd91-fd0a-4ac5-8a65-e75e309eacdf"
      },
      "execution_count": null,
      "outputs": [
        {
          "output_type": "stream",
          "name": "stdout",
          "text": [
            "SQLite database connection closed.\n"
          ]
        }
      ]
    }
  ]
}