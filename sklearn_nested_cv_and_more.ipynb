{
  "nbformat": 4,
  "nbformat_minor": 0,
  "metadata": {
    "colab": {
      "provenance": [],
      "toc_visible": true,
      "machine_shape": "hm"
    },
    "kernelspec": {
      "name": "python3",
      "display_name": "Python 3"
    },
    "language_info": {
      "name": "python"
    }
  },
  "cells": [
    {
      "cell_type": "markdown",
      "source": [
        "# Imports"
      ],
      "metadata": {
        "id": "auOCORkApIUJ"
      }
    },
    {
      "cell_type": "code",
      "source": [
        "import numpy as np\n",
        "import pandas as pd\n",
        "from sklearn.datasets import load_breast_cancer\n",
        "from sklearn.model_selection import RandomizedSearchCV, cross_val_score, KFold, StratifiedKFold\n",
        "from sklearn.ensemble import RandomForestClassifier\n",
        "from sklearn.svm import SVC\n",
        "from sklearn.pipeline import Pipeline\n",
        "from sklearn.preprocessing import StandardScaler\n",
        "from sklearn.metrics import accuracy_score, make_scorer\n",
        "from sklearn.utils import resample\n",
        "from scipy.stats import randint, uniform\n",
        "import joblib"
      ],
      "metadata": {
        "id": "VOwmTz-mpJaI"
      },
      "execution_count": 1,
      "outputs": []
    },
    {
      "cell_type": "markdown",
      "source": [
        "# Load the Data"
      ],
      "metadata": {
        "id": "LlH3NfvLpMP1"
      }
    },
    {
      "cell_type": "code",
      "source": [
        "# Load the dataset\n",
        "data = load_breast_cancer()\n",
        "X = pd.DataFrame(data.data, columns=data.feature_names)\n",
        "y = pd.Series(data.target, name='target')"
      ],
      "metadata": {
        "id": "wIFG5JwOpNel"
      },
      "execution_count": 2,
      "outputs": []
    },
    {
      "cell_type": "markdown",
      "source": [
        "# Create Pipeline"
      ],
      "metadata": {
        "id": "ySr822jNpOyw"
      }
    },
    {
      "cell_type": "code",
      "source": [
        "# Define the pipeline\n",
        "pipeline = Pipeline([\n",
        "    ('scaler', StandardScaler()),\n",
        "    ('classifier', RandomForestClassifier())\n",
        "])"
      ],
      "metadata": {
        "id": "s2lt_CCJpRCL"
      },
      "execution_count": 3,
      "outputs": []
    },
    {
      "cell_type": "markdown",
      "source": [
        "# Hyperparameter Grids"
      ],
      "metadata": {
        "id": "vQt7OF_CpRr1"
      }
    },
    {
      "cell_type": "code",
      "source": [
        "# Define the hyperparameter grids for each model\n",
        "param_grid = [\n",
        "    {\n",
        "        'classifier': [RandomForestClassifier()],\n",
        "        'classifier__n_estimators': randint(50, 200),\n",
        "        'classifier__max_depth': randint(3, 10),\n",
        "    },\n",
        "    {\n",
        "        'classifier': [SVC()],\n",
        "        'classifier__C': uniform(0.1, 10),\n",
        "        'classifier__kernel': ['linear', 'rbf'],\n",
        "    }\n",
        "]"
      ],
      "metadata": {
        "id": "jtT0gmNYpU7s"
      },
      "execution_count": 4,
      "outputs": []
    },
    {
      "cell_type": "markdown",
      "source": [
        "# Nested Cross-Validation"
      ],
      "metadata": {
        "id": "BRBeRcYXpeYG"
      }
    },
    {
      "cell_type": "code",
      "source": [
        "# Define the cross-validation strategy\n",
        "inner_cv = StratifiedKFold(n_splits=5, shuffle=True, random_state=42)\n",
        "outer_cv = StratifiedKFold(n_splits=5, shuffle=True, random_state=42)\n",
        "\n",
        "# Define the RandomizedSearchCV\n",
        "random_search = RandomizedSearchCV(\n",
        "    pipeline,\n",
        "    param_distributions=param_grid,\n",
        "    n_iter=50,\n",
        "    scoring='accuracy',\n",
        "    n_jobs=-1,\n",
        "    cv=inner_cv,\n",
        "    verbose=1,\n",
        "    random_state=42\n",
        ")\n",
        "\n",
        "# Perform nested cross-validation\n",
        "nested_scores = cross_val_score(\n",
        "    random_search,\n",
        "    X,\n",
        "    y,\n",
        "    cv=outer_cv,\n",
        "    scoring='accuracy',\n",
        "    n_jobs=-1\n",
        ")\n",
        "\n",
        "# Output the results\n",
        "print(f'Nested Cross-Validation Accuracy: {nested_scores.mean():.4f} ± {nested_scores.std():.4f}')"
      ],
      "metadata": {
        "colab": {
          "base_uri": "https://localhost:8080/"
        },
        "id": "YJwwLoXRpf-t",
        "outputId": "36dcf07e-d4f6-4691-99cb-163d4a7f963f"
      },
      "execution_count": 5,
      "outputs": [
        {
          "output_type": "stream",
          "name": "stdout",
          "text": [
            "Nested Cross-Validation Accuracy: 0.9807 ± 0.0179\n"
          ]
        }
      ]
    },
    {
      "cell_type": "markdown",
      "source": [
        "# Final Model"
      ],
      "metadata": {
        "id": "kNXa0CGkph7M"
      }
    },
    {
      "cell_type": "code",
      "execution_count": 6,
      "metadata": {
        "colab": {
          "base_uri": "https://localhost:8080/"
        },
        "id": "lKQnlLy5pEdW",
        "outputId": "71d65aac-780f-4875-b901-da6ac27f026a"
      },
      "outputs": [
        {
          "output_type": "stream",
          "name": "stdout",
          "text": [
            "Fitting 5 folds for each of 50 candidates, totalling 250 fits\n",
            "Best Model: Pipeline(steps=[('scaler', StandardScaler()),\n",
            "                ('classifier', SVC(C=3.408980248526492))])\n",
            "Best Hyperparameters: {'classifier': SVC(), 'classifier__C': 3.408980248526492, 'classifier__kernel': 'rbf'}\n"
          ]
        }
      ],
      "source": [
        "# Fit the final model on the entire dataset\n",
        "final_model = random_search.fit(X, y)\n",
        "\n",
        "# Output the best model and parameters\n",
        "print(f'Best Model: {final_model.best_estimator_}')\n",
        "print(f'Best Hyperparameters: {final_model.best_params_}')"
      ]
    },
    {
      "cell_type": "code",
      "source": [
        "# Perform cross-validation on the full dataset\n",
        "final_model_cv_scores = cross_val_score(final_model.best_estimator_, X, y, cv=5, scoring='accuracy')\n",
        "print(f'Final Model Cross-Validation Accuracy: {final_model_cv_scores.mean():.4f} ± {final_model_cv_scores.std():.4f}')"
      ],
      "metadata": {
        "colab": {
          "base_uri": "https://localhost:8080/"
        },
        "id": "IxcStf-ku29q",
        "outputId": "138898c9-9942-443c-cfde-66e1816697aa"
      },
      "execution_count": 7,
      "outputs": [
        {
          "output_type": "stream",
          "name": "stdout",
          "text": [
            "Final Model Cross-Validation Accuracy: 0.9789 ± 0.0070\n"
          ]
        }
      ]
    },
    {
      "cell_type": "code",
      "source": [
        "from sklearn.model_selection import RepeatedStratifiedKFold\n",
        "\n",
        "# Perform repeated cross-validation\n",
        "repeated_cv = RepeatedStratifiedKFold(n_splits=5, n_repeats=10, random_state=42)\n",
        "repeated_cv_scores = cross_val_score(final_model.best_estimator_, X, y, cv=repeated_cv, scoring='accuracy')\n",
        "print(f'Repeated Cross-Validation Accuracy: {repeated_cv_scores.mean():.4f} ± {repeated_cv_scores.std():.4f}')"
      ],
      "metadata": {
        "colab": {
          "base_uri": "https://localhost:8080/"
        },
        "id": "sP5yneVoxQvq",
        "outputId": "fedc82d2-acd2-4cc1-bd72-5f6832a0bb21"
      },
      "execution_count": 8,
      "outputs": [
        {
          "output_type": "stream",
          "name": "stdout",
          "text": [
            "Repeated Cross-Validation Accuracy: 0.9789 ± 0.0123\n"
          ]
        }
      ]
    },
    {
      "cell_type": "code",
      "source": [
        "from sklearn.model_selection import LeaveOneOut\n",
        "\n",
        "# Initialize Leave-One-Out Cross-Validation\n",
        "loo = LeaveOneOut()\n",
        "\n",
        "# Perform LOO-CV\n",
        "loo_cv_scores = cross_val_score(final_model.best_estimator_, X, y, cv=loo, scoring='accuracy')\n",
        "print(f'Leave-One-Out Cross-Validation Accuracy: {loo_cv_scores.mean():.4f} ± {loo_cv_scores.std():.4f}')"
      ],
      "metadata": {
        "colab": {
          "base_uri": "https://localhost:8080/"
        },
        "id": "KwnqnSBfx4BM",
        "outputId": "1675a0a8-4db7-4c0c-b369-822fccab9d0b"
      },
      "execution_count": 9,
      "outputs": [
        {
          "output_type": "stream",
          "name": "stdout",
          "text": [
            "Leave-One-Out Cross-Validation Accuracy: 0.9842 ± 0.1248\n"
          ]
        }
      ]
    },
    {
      "cell_type": "code",
      "source": [
        "import time\n",
        "from sklearn.model_selection import LeavePOut\n",
        "\n",
        "# Start the timer\n",
        "start_time = time.time()\n",
        "\n",
        "# Set P\n",
        "p = 2\n",
        "\n",
        "# Initialize Leave-P-Out Cross-Validation\n",
        "lpo = LeavePOut(p=p)\n",
        "\n",
        "# Perform LPO-CV\n",
        "lpo_cv_scores = cross_val_score(final_model.best_estimator_, X, y, cv=lpo, scoring='accuracy')\n",
        "print(f'Leave-P-Out Cross-Validation (P={p}) Accuracy: {lpo_cv_scores.mean():.4f} ± {lpo_cv_scores.std():.4f}')\n",
        "\n",
        "# End the timer\n",
        "end_time = time.time()\n",
        "\n",
        "# Calculate the total time taken\n",
        "total_time = end_time - start_time\n",
        "\n",
        "# Convert time to hours, minutes, and seconds\n",
        "hours, remainder = divmod(total_time, 3600)\n",
        "minutes, seconds = divmod(remainder, 60)\n",
        "\n",
        "# Print the total time taken in hours, minutes, and seconds\n",
        "print(f'Total time taken: {int(hours)} hours, {int(minutes)} minutes, and {seconds:.2f} seconds')"
      ],
      "metadata": {
        "colab": {
          "base_uri": "https://localhost:8080/"
        },
        "id": "cPAkUsQ9x3-4",
        "outputId": "29cf4858-1562-4b97-9a76-bb49d0e47dfd"
      },
      "execution_count": 10,
      "outputs": [
        {
          "output_type": "stream",
          "name": "stdout",
          "text": [
            "Leave-P-Out Cross-Validation (P=2) Accuracy: 0.9837 ± 0.0896\n",
            "Total time taken: 0 hours, 23 minutes, and 25.34 seconds\n"
          ]
        }
      ]
    },
    {
      "cell_type": "code",
      "source": [
        "# Initialize the list to store bootstrap scores\n",
        "bootstrap_scores = []\n",
        "\n",
        "# Number of bootstrap iterations\n",
        "n_iterations = 1000\n",
        "\n",
        "# Loop for bootstrap sampling\n",
        "for i in range(n_iterations):\n",
        "    # Create a bootstrap sample from the entire dataset\n",
        "    X_resample, y_resample = resample(X, y, replace=True)\n",
        "\n",
        "    # Identify the out-of-bag samples (not included in the bootstrap sample)\n",
        "    oob_mask = np.isin(np.arange(len(X)), np.unique(np.where(np.in1d(X, X_resample))[0]), invert=True)\n",
        "    X_oob, y_oob = X[oob_mask], y[oob_mask]\n",
        "\n",
        "    # Train the final model on the bootstrap sample\n",
        "    model = final_model.best_estimator_\n",
        "    model.fit(X_resample, y_resample)\n",
        "\n",
        "    # Evaluate the model on the out-of-bag (OOB) data\n",
        "    if len(X_oob) > 0:  # Ensure there are OOB samples to evaluate\n",
        "        y_pred_oob = model.predict(X_oob)\n",
        "        score = accuracy_score(y_oob, y_pred_oob)\n",
        "        bootstrap_scores.append(score)\n",
        "\n",
        "# Calculate the mean and confidence interval of the bootstrap scores\n",
        "mean_score = np.mean(bootstrap_scores)\n",
        "confidence_interval = np.percentile(bootstrap_scores, [2.5, 97.5])\n",
        "\n",
        "# Output the results\n",
        "print(f'Mean Bootstrap Accuracy: {mean_score:.4f}')\n",
        "print(f'95% Confidence Interval: {confidence_interval}')"
      ],
      "metadata": {
        "colab": {
          "base_uri": "https://localhost:8080/"
        },
        "id": "u3XB-AXm6sHS",
        "outputId": "6f61a37f-ea9a-4d59-bdb8-58c145d2473d"
      },
      "execution_count": 11,
      "outputs": [
        {
          "output_type": "stream",
          "name": "stdout",
          "text": [
            "Mean Bootstrap Accuracy: 0.9820\n",
            "95% Confidence Interval: [0.95774349 1.        ]\n"
          ]
        }
      ]
    },
    {
      "cell_type": "markdown",
      "source": [
        "# Save the Model"
      ],
      "metadata": {
        "id": "e4xyUEgeq1iV"
      }
    },
    {
      "cell_type": "code",
      "source": [
        "# Save the model to a file\n",
        "joblib.dump(final_model.best_estimator_, 'final_model.pkl')\n",
        "\n",
        "# Load the model from the file\n",
        "loaded_model = joblib.load('final_model.pkl')"
      ],
      "metadata": {
        "id": "8jqj5G06q2Ta"
      },
      "execution_count": 12,
      "outputs": []
    },
    {
      "cell_type": "markdown",
      "source": [
        "# Data Augmentation"
      ],
      "metadata": {
        "id": "Owl-aphyuxvF"
      }
    },
    {
      "cell_type": "code",
      "source": [
        "!pip install -q imblearn"
      ],
      "metadata": {
        "id": "jjCK0ptBvEH1"
      },
      "execution_count": 13,
      "outputs": []
    },
    {
      "cell_type": "code",
      "source": [
        "from imblearn.over_sampling import SMOTE\n",
        "\n",
        "# Perform synthetic oversampling\n",
        "smote = SMOTE(random_state=42)\n",
        "X_augmented, y_augmented = smote.fit_resample(X, y)\n",
        "\n",
        "augmented_cv_scores = cross_val_score(final_model.best_estimator_, X_augmented, y_augmented, cv=5, scoring='accuracy')\n",
        "print(f'Augmented Cross-Validation Accuracy: {augmented_cv_scores.mean():.4f} ± {augmented_cv_scores.std():.4f}')"
      ],
      "metadata": {
        "colab": {
          "base_uri": "https://localhost:8080/"
        },
        "id": "bVB7GwQqvGbG",
        "outputId": "6162400f-1c84-483d-a1f9-c5d7a27955e8"
      },
      "execution_count": 14,
      "outputs": [
        {
          "output_type": "stream",
          "name": "stdout",
          "text": [
            "Augmented Cross-Validation Accuracy: 0.9762 ± 0.0123\n"
          ]
        }
      ]
    },
    {
      "cell_type": "markdown",
      "source": [
        "# Stability Testing"
      ],
      "metadata": {
        "id": "La1jETyKxCau"
      }
    },
    {
      "cell_type": "code",
      "source": [
        "# Perform model stability testing\n",
        "noise_level = 0.01\n",
        "perturbed_scores = []\n",
        "\n",
        "for _ in range(100):\n",
        "    X_perturbed = X + noise_level * np.random.normal(size=X.shape)\n",
        "    score = accuracy_score(y, final_model.best_estimator_.predict(X_perturbed))\n",
        "    perturbed_scores.append(score)\n",
        "\n",
        "print(f'Mean Perturbed Accuracy: {np.mean(perturbed_scores):.4f} ± {np.std(perturbed_scores):.4f}')"
      ],
      "metadata": {
        "colab": {
          "base_uri": "https://localhost:8080/"
        },
        "id": "OXlwXrRZxDu4",
        "outputId": "e90cfccb-c64c-488d-ce81-31cf5fe50a13"
      },
      "execution_count": 15,
      "outputs": [
        {
          "output_type": "stream",
          "name": "stdout",
          "text": [
            "Mean Perturbed Accuracy: 0.8865 ± 0.0121\n"
          ]
        }
      ]
    },
    {
      "cell_type": "markdown",
      "source": [
        "# Jackknife Resampling"
      ],
      "metadata": {
        "id": "6o3yJ0qIxIMB"
      }
    },
    {
      "cell_type": "code",
      "source": [
        "# Initialize the list to store jackknife resampling scores\n",
        "jackknife_scores = []\n",
        "\n",
        "for i in range(len(X)):\n",
        "    # Create the jackknife sample (leave one out)\n",
        "    if isinstance(X, pd.DataFrame):\n",
        "        # Handling for pandas DataFrame\n",
        "        X_jackknife = X.drop(index=X.index[i])\n",
        "        y_jackknife = y.drop(index=y.index[i])\n",
        "\n",
        "        # Single row for prediction\n",
        "        X_i = X.iloc[[i]]\n",
        "        y_i = y.iloc[i]\n",
        "    else:\n",
        "        # Handling for NumPy arrays\n",
        "        X_jackknife = np.delete(X, i, axis=0)\n",
        "        y_jackknife = np.delete(y, i, axis=0)\n",
        "\n",
        "        # Single row for prediction\n",
        "        X_i = X[i].reshape(1, -1)\n",
        "        y_i = y[i]\n",
        "\n",
        "    # Fit the model on the jackknife sample\n",
        "    jackknife_model = final_model.best_estimator_\n",
        "    jackknife_model.fit(X_jackknife, y_jackknife)\n",
        "\n",
        "    # Evaluate the model on the left-out observation\n",
        "    y_pred = jackknife_model.predict(X_i)\n",
        "    score = accuracy_score([y_i], y_pred)\n",
        "    jackknife_scores.append(score)\n",
        "\n",
        "# Calculate the mean and variance of the jackknife scores\n",
        "mean_jackknife_score = np.mean(jackknife_scores)\n",
        "jackknife_variance = np.var(jackknife_scores)\n",
        "\n",
        "print(f'Jackknife Mean Accuracy: {mean_jackknife_score:.4f}')\n",
        "print(f'Jackknife Score Variance: {jackknife_variance:.4f}')"
      ],
      "metadata": {
        "colab": {
          "base_uri": "https://localhost:8080/"
        },
        "id": "lzQRhVL7yG7z",
        "outputId": "20d00c92-8759-481d-ef4e-4f4fcdcc1c52"
      },
      "execution_count": 18,
      "outputs": [
        {
          "output_type": "stream",
          "name": "stdout",
          "text": [
            "Jackknife Mean Accuracy: 0.9842\n",
            "Jackknife Score Variance: 0.0156\n"
          ]
        }
      ]
    },
    {
      "cell_type": "markdown",
      "source": [
        "# Model Ensembling"
      ],
      "metadata": {
        "id": "0ahJoOQ2yLxR"
      }
    },
    {
      "cell_type": "code",
      "source": [
        "# Access the cross-validation results from the RandomizedSearchCV object\n",
        "cv_results = pd.DataFrame(random_search.cv_results_)\n",
        "\n",
        "# Sort the models by their mean cross-validation score in descending order\n",
        "top_models_df = cv_results.sort_values(by='mean_test_score', ascending=False)\n",
        "\n",
        "# Extract the top 3 models and their corresponding parameters\n",
        "top_3_models = top_models_df.iloc[:3]\n",
        "\n",
        "# Display the top 3 models' mean test scores and parameters\n",
        "print(top_3_models[['mean_test_score', 'params']])"
      ],
      "metadata": {
        "colab": {
          "base_uri": "https://localhost:8080/"
        },
        "id": "DX6z1YtPyP1-",
        "outputId": "a0cd730e-708a-461b-e3b4-21dccd87ba7f"
      },
      "execution_count": 19,
      "outputs": [
        {
          "output_type": "stream",
          "name": "stdout",
          "text": [
            "    mean_test_score                                             params\n",
            "42         0.984179  {'classifier': SVC(), 'classifier__C': 3.40898...\n",
            "18         0.982425  {'classifier': SVC(), 'classifier__C': 3.95416...\n",
            "24         0.982425  {'classifier': SVC(), 'classifier__C': 4.35155...\n"
          ]
        }
      ]
    },
    {
      "cell_type": "code",
      "source": [
        "# Re-create the top 3 models using the extracted parameters\n",
        "top_model1_params = top_3_models.iloc[0]['params']\n",
        "top_model2_params = top_3_models.iloc[1]['params']\n",
        "top_model3_params = top_3_models.iloc[2]['params']\n",
        "\n",
        "# Re-create the models with the best parameters\n",
        "top_model1 = final_model.best_estimator_.set_params(**top_model1_params)\n",
        "top_model2 = final_model.best_estimator_.set_params(**top_model2_params)\n",
        "top_model3 = final_model.best_estimator_.set_params(**top_model3_params)"
      ],
      "metadata": {
        "id": "Ho5nAiopy2zv"
      },
      "execution_count": 20,
      "outputs": []
    },
    {
      "cell_type": "code",
      "source": [
        "from sklearn.ensemble import VotingClassifier\n",
        "\n",
        "# Create a VotingClassifier ensemble using the top 3 models\n",
        "ensemble_model = VotingClassifier(\n",
        "    estimators=[\n",
        "        ('top_model1', top_model1),\n",
        "        ('top_model2', top_model2),\n",
        "        ('top_model3', top_model3)\n",
        "    ],\n",
        "    voting='hard'  # 'hard' for majority voting, 'soft' for averaging probabilities\n",
        ")"
      ],
      "metadata": {
        "id": "oxjFc2eSyth9"
      },
      "execution_count": 21,
      "outputs": []
    },
    {
      "cell_type": "code",
      "source": [
        "# Fit the ensemble model on the entire dataset\n",
        "ensemble_model.fit(X, y)\n",
        "\n",
        "# Evaluate the ensemble model using cross-validation\n",
        "ensemble_cv_scores = cross_val_score(ensemble_model, X, y, cv=5, scoring='accuracy')\n",
        "print(f'Ensemble Cross-Validation Accuracy: {ensemble_cv_scores.mean():.4f} ± {ensemble_cv_scores.std():.4f}')"
      ],
      "metadata": {
        "colab": {
          "base_uri": "https://localhost:8080/"
        },
        "id": "q66F7WBuy6hu",
        "outputId": "9a62a59c-5f58-45ff-e211-0dec605aad40"
      },
      "execution_count": 22,
      "outputs": [
        {
          "output_type": "stream",
          "name": "stdout",
          "text": [
            "Ensemble Cross-Validation Accuracy: 0.9789 ± 0.0070\n"
          ]
        }
      ]
    },
    {
      "cell_type": "markdown",
      "source": [
        "# Permutation Importance"
      ],
      "metadata": {
        "id": "AR0oFItTzzFy"
      }
    },
    {
      "cell_type": "code",
      "source": [
        "from sklearn.inspection import permutation_importance\n",
        "import matplotlib.pyplot as plt\n",
        "\n",
        "# Fit the best model on the entire dataset\n",
        "fitted_model = final_model.best_estimator_.fit(X, y)\n",
        "\n",
        "# Compute permutation importance\n",
        "perm_importance = permutation_importance(fitted_model, X, y, n_repeats=30, random_state=42, n_jobs=-1)\n",
        "\n",
        "# Extract feature importances and corresponding feature names\n",
        "feature_importances = perm_importance.importances_mean\n",
        "feature_names = X.columns if isinstance(X, pd.DataFrame) else [f'Feature {i}' for i in range(X.shape[1])]\n",
        "\n",
        "# Sort the feature importances in descending order\n",
        "sorted_idx = np.argsort(feature_importances)[::-1]\n",
        "\n",
        "# Print the sorted feature importances\n",
        "print(\"Feature importances (sorted):\")\n",
        "for i in sorted_idx:\n",
        "    print(f\"{feature_names[i]}: {feature_importances[i]:.4f}\")"
      ],
      "metadata": {
        "colab": {
          "base_uri": "https://localhost:8080/"
        },
        "id": "5WVxNCiTz0Jz",
        "outputId": "9e98f635-6fc2-4bc9-a676-2212dcaaec52"
      },
      "execution_count": 24,
      "outputs": [
        {
          "output_type": "stream",
          "name": "stdout",
          "text": [
            "Feature importances (sorted):\n",
            "worst texture: 0.0190\n",
            "worst area: 0.0068\n",
            "worst smoothness: 0.0062\n",
            "concavity error: 0.0055\n",
            "radius error: 0.0053\n",
            "worst radius: 0.0052\n",
            "mean concave points: 0.0052\n",
            "mean concavity: 0.0039\n",
            "worst symmetry: 0.0035\n",
            "worst concavity: 0.0035\n",
            "perimeter error: 0.0035\n",
            "worst perimeter: 0.0033\n",
            "area error: 0.0032\n",
            "compactness error: 0.0032\n",
            "fractal dimension error: 0.0029\n",
            "worst fractal dimension: 0.0025\n",
            "mean texture: 0.0023\n",
            "texture error: 0.0023\n",
            "concave points error: 0.0015\n",
            "worst concave points: 0.0014\n",
            "mean compactness: 0.0012\n",
            "mean area: 0.0011\n",
            "symmetry error: 0.0008\n",
            "mean symmetry: 0.0006\n",
            "mean radius: 0.0006\n",
            "smoothness error: 0.0005\n",
            "mean perimeter: 0.0001\n",
            "mean smoothness: -0.0002\n",
            "mean fractal dimension: -0.0002\n",
            "worst compactness: -0.0010\n"
          ]
        }
      ]
    },
    {
      "cell_type": "code",
      "source": [
        "# Visualize the feature importances\n",
        "plt.figure(figsize=(10, 6))\n",
        "plt.barh(range(len(sorted_idx)), feature_importances[sorted_idx], align='center')\n",
        "plt.yticks(range(len(sorted_idx)), [feature_names[i] for i in sorted_idx])\n",
        "plt.xlabel('Permutation Importance')\n",
        "plt.title('Feature Importance (Permutation Importance)')\n",
        "plt.gca().invert_yaxis()  # Most important feature at the top\n",
        "plt.show()"
      ],
      "metadata": {
        "colab": {
          "base_uri": "https://localhost:8080/",
          "height": 564
        },
        "id": "V5AVANFzz0vA",
        "outputId": "b43077b1-f7a8-46bd-9729-0d1de9792581"
      },
      "execution_count": 25,
      "outputs": [
        {
          "output_type": "display_data",
          "data": {
            "text/plain": [
              "<Figure size 1000x600 with 1 Axes>"
            ],
            "image/png": "[encoded data removed]"
          },
          "metadata": {}
        }
      ]
    }
  ]
}