{
  "nbformat": 4,
  "nbformat_minor": 0,
  "metadata": {
    "colab": {
      "provenance": [],
      "machine_shape": "hm",
      "gpuType": "T4"
    },
    "kernelspec": {
      "name": "python3",
      "display_name": "Python 3"
    },
    "language_info": {
      "name": "python"
    },
    "accelerator": "GPU"
  },
  "cells": [
    {
      "cell_type": "markdown",
      "source": [
        "# CPU Workflow"
      ],
      "metadata": {
        "id": "jGerVknT-sf1"
      }
    },
    {
      "cell_type": "code",
      "source": [
        "import time\n",
        "import pandas as pd\n",
        "import numpy as np\n",
        "from sklearn.ensemble import RandomForestClassifier\n",
        "from sklearn.model_selection import train_test_split\n",
        "from sklearn.metrics import classification_report, accuracy_score"
      ],
      "metadata": {
        "id": "BMr2XpwC-uVM"
      },
      "execution_count": 1,
      "outputs": []
    },
    {
      "cell_type": "code",
      "source": [
        "# UCI Covertype dataset URL and column names\n",
        "url = \"https://archive.ics.uci.edu/ml/machine-learning-databases/covtype/covtype.data.gz\"\n",
        "columns = [\n",
        "    \"Elevation\", \"Aspect\", \"Slope\",\n",
        "    \"Horizontal_Distance_To_Hydrology\", \"Vertical_Distance_To_Hydrology\",\n",
        "    \"Horizontal_Distance_To_Roadways\", \"Hillshade_9am\", \"Hillshade_Noon\",\n",
        "    \"Hillshade_3pm\", \"Horizontal_Distance_To_Fire_Points\",\n",
        "    \"Wilderness_Area1\", \"Wilderness_Area2\", \"Wilderness_Area3\", \"Wilderness_Area4\",\n",
        "    \"Soil_Type1\", \"Soil_Type2\", \"Soil_Type3\", \"Soil_Type4\", \"Soil_Type5\", \"Soil_Type6\",\n",
        "    \"Soil_Type7\", \"Soil_Type8\", \"Soil_Type9\", \"Soil_Type10\", \"Soil_Type11\",\n",
        "    \"Soil_Type12\", \"Soil_Type13\", \"Soil_Type14\", \"Soil_Type15\", \"Soil_Type16\",\n",
        "    \"Soil_Type17\", \"Soil_Type18\", \"Soil_Type19\", \"Soil_Type20\", \"Soil_Type21\",\n",
        "    \"Soil_Type22\", \"Soil_Type23\", \"Soil_Type24\", \"Soil_Type25\", \"Soil_Type26\",\n",
        "    \"Soil_Type27\", \"Soil_Type28\", \"Soil_Type29\", \"Soil_Type30\", \"Soil_Type31\",\n",
        "    \"Soil_Type32\", \"Soil_Type33\", \"Soil_Type34\", \"Soil_Type35\", \"Soil_Type36\",\n",
        "    \"Soil_Type37\", \"Soil_Type38\", \"Soil_Type39\", \"Soil_Type40\",\n",
        "    \"Cover_Type\"\n",
        "]"
      ],
      "metadata": {
        "id": "03j0kijw-uS2"
      },
      "execution_count": 2,
      "outputs": []
    },
    {
      "cell_type": "code",
      "source": [
        "# Load the dataset\n",
        "data = pd.read_csv(url, header=None)\n",
        "data.columns = columns"
      ],
      "metadata": {
        "id": "Fer_4riKBBAj"
      },
      "execution_count": 3,
      "outputs": []
    },
    {
      "cell_type": "code",
      "source": [
        "# Separate features and target\n",
        "X = data.drop(\"Cover_Type\", axis=1)\n",
        "y = data[\"Cover_Type\"]"
      ],
      "metadata": {
        "id": "x94MfgtI-uQi"
      },
      "execution_count": 4,
      "outputs": []
    },
    {
      "cell_type": "code",
      "source": [
        "# Split into training and test sets (80% train, 20% test)\n",
        "X_train, X_test, y_train, y_test = train_test_split(X, y, test_size=0.2, stratify=y, random_state=42)"
      ],
      "metadata": {
        "id": "ypN5VfeU-37x"
      },
      "execution_count": 5,
      "outputs": []
    },
    {
      "cell_type": "code",
      "source": [
        "# Time training the CPU-based RandomForestClassifier\n",
        "start_time = time.time()\n",
        "clf = RandomForestClassifier(n_estimators=100, max_depth=10, max_features=1, n_jobs=-1, random_state=42)\n",
        "clf.fit(X_train, y_train)\n",
        "cpu_train_time = time.time() - start_time"
      ],
      "metadata": {
        "id": "IlRdz23C-35u"
      },
      "execution_count": 6,
      "outputs": []
    },
    {
      "cell_type": "code",
      "source": [
        "# Evaluate the model\n",
        "y_pred = clf.predict(X_test)\n",
        "print(\"CPU RandomForestClassifier training time: {:.2f} seconds\".format(cpu_train_time))\n",
        "print(\"Accuracy: {:.3f}\".format(accuracy_score(y_test, y_pred)))\n",
        "print(\"\\nClassification Report:\")\n",
        "print(classification_report(y_test, y_pred, zero_division=0))"
      ],
      "metadata": {
        "colab": {
          "base_uri": "https://localhost:8080/"
        },
        "id": "Z7JLQkFi-33I",
        "outputId": "afd432cc-c471-4cd8-f20f-5ebae72eee7b"
      },
      "execution_count": 7,
      "outputs": [
        {
          "output_type": "stream",
          "name": "stdout",
          "text": [
            "CPU RandomForestClassifier training time: 6.68 seconds\n",
            "Accuracy: 0.683\n",
            "\n",
            "Classification Report:\n",
            "              precision    recall  f1-score   support\n",
            "\n",
            "           1       0.78      0.54      0.64     42368\n",
            "           2       0.65      0.94      0.77     56661\n",
            "           3       0.72      0.40      0.52      7151\n",
            "           4       0.00      0.00      0.00       549\n",
            "           5       0.00      0.00      0.00      1899\n",
            "           6       1.00      0.01      0.02      3473\n",
            "           7       0.00      0.00      0.00      4102\n",
            "\n",
            "    accuracy                           0.68    116203\n",
            "   macro avg       0.45      0.27      0.28    116203\n",
            "weighted avg       0.68      0.68      0.64    116203\n",
            "\n"
          ]
        }
      ]
    },
    {
      "cell_type": "code",
      "execution_count": 8,
      "metadata": {
        "id": "uXqzReHC-Y1p"
      },
      "outputs": [],
      "source": [
        "# Save the CPU training time for later comparison\n",
        "with open(\"cpu_time.txt\", \"w\") as f:\n",
        "    f.write(str(cpu_train_time))"
      ]
    },
    {
      "cell_type": "markdown",
      "source": [
        "# GPU Workflow"
      ],
      "metadata": {
        "id": "I-PjMhILBLkm"
      }
    },
    {
      "cell_type": "code",
      "source": [
        "!pip install -q jupyter-client==7.4.9"
      ],
      "metadata": {
        "colab": {
          "base_uri": "https://localhost:8080/"
        },
        "id": "niH9h_ePJQqb",
        "outputId": "a627e99a-b61f-4739-e134-4669c3c42286"
      },
      "execution_count": 1,
      "outputs": [
        {
          "output_type": "stream",
          "name": "stdout",
          "text": [
            "\u001b[?25l   \u001b[90m━━━━━━━━━━━━━━━━━━━━━━━━━━━━━━━━━━━━━━━━\u001b[0m \u001b[32m0.0/133.5 kB\u001b[0m \u001b[31m?\u001b[0m eta \u001b[36m-:--:--\u001b[0m\r\u001b[2K   \u001b[90m━━━━━━━━━━━━━━━━━━━━━━━━━━━━━━━━━━━━━━━━\u001b[0m \u001b[32m133.5/133.5 kB\u001b[0m \u001b[31m8.6 MB/s\u001b[0m eta \u001b[36m0:00:00\u001b[0m\n",
            "\u001b[?25h"
          ]
        }
      ]
    },
    {
      "cell_type": "code",
      "source": [
        "!pip install --quiet --extra-index-url=https://pypi.nvidia.com \\\n",
        "    \"cudf-cu12==25.2.*\" \\\n",
        "    \"dask-cudf-cu12==25.2.*\" \\\n",
        "    \"cuml-cu12==25.2.*\" \\\n",
        "    \"cugraph-cu12==25.2.*\" \\\n",
        "    \"nx-cugraph-cu12==25.2.*\" \\\n",
        "    \"cuspatial-cu12==25.2.*\" \\\n",
        "    \"cuproj-cu12==25.2.*\" \\\n",
        "    \"cuxfilter-cu12==25.2.*\" \\\n",
        "    \"cucim-cu12==25.2.*\" \\\n",
        "    \"pylibraft-cu12==25.2.*\" \\\n",
        "    \"raft-dask-cu12==25.2.*\" \\\n",
        "    \"cuvs-cu12==25.2.*\" \\\n",
        "    \"nx-cugraph-cu12==25.2.*\""
      ],
      "metadata": {
        "colab": {
          "base_uri": "https://localhost:8080/"
        },
        "id": "zIttZH5V_7O3",
        "outputId": "b581d292-94d2-4c5e-da93-3523869c4e7b"
      },
      "execution_count": 2,
      "outputs": [
        {
          "output_type": "stream",
          "name": "stdout",
          "text": [
            "\u001b[2K     \u001b[90m━━━━━━━━━━━━━━━━━━━━━━━━━━━━━━━━━━━━━━━━\u001b[0m \u001b[32m3.2/3.2 MB\u001b[0m \u001b[31m169.0 MB/s\u001b[0m eta \u001b[36m0:00:00\u001b[0m\n",
            "\u001b[2K     \u001b[90m━━━━━━━━━━━━━━━━━━━━━━━━━━━━━━━━━━━━━━━━\u001b[0m \u001b[32m4.3/4.3 MB\u001b[0m \u001b[31m192.4 MB/s\u001b[0m eta \u001b[36m0:00:00\u001b[0m\n",
            "\u001b[2K     \u001b[90m━━━━━━━━━━━━━━━━━━━━━━━━━━━━━━━━━━━━━━━━\u001b[0m \u001b[32m1.1/1.1 MB\u001b[0m \u001b[31m193.9 MB/s\u001b[0m eta \u001b[36m0:00:00\u001b[0m\n",
            "\u001b[2K     \u001b[90m━━━━━━━━━━━━━━━━━━━━━━━━━━━━━━━━━━━━━━━━\u001b[0m \u001b[32m83.6/83.6 kB\u001b[0m \u001b[31m86.7 MB/s\u001b[0m eta \u001b[36m0:00:00\u001b[0m\n",
            "\u001b[2K     \u001b[90m━━━━━━━━━━━━━━━━━━━━━━━━━━━━━━━━━━━━━━━━\u001b[0m \u001b[32m5.6/5.6 MB\u001b[0m \u001b[31m213.5 MB/s\u001b[0m eta \u001b[36m0:00:00\u001b[0m\n",
            "\u001b[2K     \u001b[90m━━━━━━━━━━━━━━━━━━━━━━━━━━━━━━━━━━━━━━━━\u001b[0m \u001b[32m32.6/32.6 MB\u001b[0m \u001b[31m193.1 MB/s\u001b[0m eta \u001b[36m0:00:00\u001b[0m\n",
            "\u001b[2K   \u001b[90m━━━━━━━━━━━━━━━━━━━━━━━━━━━━━━━━━━━━━━━━\u001b[0m \u001b[32m18.3/18.3 MB\u001b[0m \u001b[31m86.7 MB/s\u001b[0m eta \u001b[36m0:00:00\u001b[0m\n",
            "\u001b[2K   \u001b[90m━━━━━━━━━━━━━━━━━━━━━━━━━━━━━━━━━━━━━━━━\u001b[0m \u001b[32m385.8/385.8 kB\u001b[0m \u001b[31m28.9 MB/s\u001b[0m eta \u001b[36m0:00:00\u001b[0m\n",
            "\u001b[2K   \u001b[90m━━━━━━━━━━━━━━━━━━━━━━━━━━━━━━━━━━━━━━━━\u001b[0m \u001b[32m66.4/66.4 kB\u001b[0m \u001b[31m5.9 MB/s\u001b[0m eta \u001b[36m0:00:00\u001b[0m\n",
            "\u001b[?25h"
          ]
        }
      ]
    },
    {
      "cell_type": "code",
      "source": [
        "!sudo apt-get update -qq > /dev/null 2>&1\n",
        "!sudo apt-get install -y -qq cuda-toolkit-12-2 > /dev/null 2>&1"
      ],
      "metadata": {
        "id": "2FL7oTcx_7R-"
      },
      "execution_count": 3,
      "outputs": []
    },
    {
      "cell_type": "code",
      "source": [
        "%load_ext cuml.accel"
      ],
      "metadata": {
        "colab": {
          "base_uri": "https://localhost:8080/"
        },
        "id": "Nx-zsrxI_7L-",
        "outputId": "bc7f4a7d-f2d3-431d-8668-76a957b04e79"
      },
      "execution_count": 4,
      "outputs": [
        {
          "output_type": "stream",
          "name": "stdout",
          "text": [
            "[2025-04-07 04:33:59.221] [CUML] [info] cuML: Installed accelerator for sklearn.\n",
            "[2025-04-07 04:34:24.428] [CUML] [info] cuML: Installed accelerator for umap.\n",
            "[2025-04-07 04:34:24.571] [CUML] [info] cuML: Installed accelerator for hdbscan.\n",
            "[2025-04-07 04:34:24.571] [CUML] [info] cuML: Successfully initialized accelerator.\n"
          ]
        }
      ]
    },
    {
      "cell_type": "code",
      "source": [
        "import time\n",
        "import pandas as pd\n",
        "import numpy as np\n",
        "from sklearn.ensemble import RandomForestClassifier\n",
        "from sklearn.model_selection import train_test_split\n",
        "from sklearn.metrics import classification_report, accuracy_score"
      ],
      "metadata": {
        "id": "fHFqrJiLAR6a"
      },
      "execution_count": 5,
      "outputs": []
    },
    {
      "cell_type": "code",
      "source": [
        "# UCI Covertype dataset URL and column names\n",
        "url = \"https://archive.ics.uci.edu/ml/machine-learning-databases/covtype/covtype.data.gz\"\n",
        "columns = [\n",
        "    \"Elevation\", \"Aspect\", \"Slope\",\n",
        "    \"Horizontal_Distance_To_Hydrology\", \"Vertical_Distance_To_Hydrology\",\n",
        "    \"Horizontal_Distance_To_Roadways\", \"Hillshade_9am\", \"Hillshade_Noon\",\n",
        "    \"Hillshade_3pm\", \"Horizontal_Distance_To_Fire_Points\",\n",
        "    \"Wilderness_Area1\", \"Wilderness_Area2\", \"Wilderness_Area3\", \"Wilderness_Area4\",\n",
        "    \"Soil_Type1\", \"Soil_Type2\", \"Soil_Type3\", \"Soil_Type4\", \"Soil_Type5\", \"Soil_Type6\",\n",
        "    \"Soil_Type7\", \"Soil_Type8\", \"Soil_Type9\", \"Soil_Type10\", \"Soil_Type11\",\n",
        "    \"Soil_Type12\", \"Soil_Type13\", \"Soil_Type14\", \"Soil_Type15\", \"Soil_Type16\",\n",
        "    \"Soil_Type17\", \"Soil_Type18\", \"Soil_Type19\", \"Soil_Type20\", \"Soil_Type21\",\n",
        "    \"Soil_Type22\", \"Soil_Type23\", \"Soil_Type24\", \"Soil_Type25\", \"Soil_Type26\",\n",
        "    \"Soil_Type27\", \"Soil_Type28\", \"Soil_Type29\", \"Soil_Type30\", \"Soil_Type31\",\n",
        "    \"Soil_Type32\", \"Soil_Type33\", \"Soil_Type34\", \"Soil_Type35\", \"Soil_Type36\",\n",
        "    \"Soil_Type37\", \"Soil_Type38\", \"Soil_Type39\", \"Soil_Type40\",\n",
        "    \"Cover_Type\"\n",
        "]"
      ],
      "metadata": {
        "id": "Cfv1Cds8Ac1x"
      },
      "execution_count": 6,
      "outputs": []
    },
    {
      "cell_type": "code",
      "source": [
        "# Load the dataset\n",
        "data = pd.read_csv(url, header=None)\n",
        "data.columns = columns"
      ],
      "metadata": {
        "id": "JMoyeS0nBFc6"
      },
      "execution_count": 7,
      "outputs": []
    },
    {
      "cell_type": "code",
      "source": [
        "# Separate features and target\n",
        "X = data.drop(\"Cover_Type\", axis=1)\n",
        "y = data[\"Cover_Type\"]"
      ],
      "metadata": {
        "id": "jvFhiqpPAfK5"
      },
      "execution_count": 8,
      "outputs": []
    },
    {
      "cell_type": "code",
      "source": [
        "# Split into training and test sets (80% train, 20% test)\n",
        "X_train, X_test, y_train, y_test = train_test_split(X, y, test_size=0.2, stratify=y, random_state=42)"
      ],
      "metadata": {
        "id": "q8c8wfsWAR4m"
      },
      "execution_count": 9,
      "outputs": []
    },
    {
      "cell_type": "code",
      "source": [
        "# Time training the RandomForestClassifier\n",
        "start_time_gpu = time.time()\n",
        "clf_gpu = RandomForestClassifier(n_estimators=100, max_depth=10, max_features=1, n_jobs=-1, random_state=42)\n",
        "clf_gpu.fit(X_train, y_train)\n",
        "gpu_train_time = time.time() - start_time_gpu"
      ],
      "metadata": {
        "id": "V6raKV-zAR1-"
      },
      "execution_count": 10,
      "outputs": []
    },
    {
      "cell_type": "code",
      "source": [
        "# Evaluate the model\n",
        "y_pred_gpu = clf_gpu.predict(X_test)\n",
        "print(\"cuML-accelerated RandomForestClassifier training time: {:.2f} seconds\".format(gpu_train_time))\n",
        "print(\"Accuracy: {:.3f}\".format(accuracy_score(y_test, y_pred_gpu)))\n",
        "print(\"\\nClassification Report:\")\n",
        "print(classification_report(y_test, y_pred_gpu, zero_division=0))"
      ],
      "metadata": {
        "colab": {
          "base_uri": "https://localhost:8080/"
        },
        "id": "j2cpYGdDBD7g",
        "outputId": "49959f9e-f337-4c63-a35d-5bf22fef9cbd"
      },
      "execution_count": 11,
      "outputs": [
        {
          "output_type": "stream",
          "name": "stdout",
          "text": [
            "cuML-accelerated RandomForestClassifier training time: 5.02 seconds\n",
            "Accuracy: 0.521\n",
            "\n",
            "Classification Report:\n",
            "              precision    recall  f1-score   support\n",
            "\n",
            "           1       0.69      0.11      0.18     42368\n",
            "           2       0.51      0.99      0.67     56661\n",
            "           3       0.00      0.00      0.00      7151\n",
            "           4       0.00      0.00      0.00       549\n",
            "           5       0.00      0.00      0.00      1899\n",
            "           6       0.00      0.00      0.00      3473\n",
            "           7       0.00      0.00      0.00      4102\n",
            "\n",
            "    accuracy                           0.52    116203\n",
            "   macro avg       0.17      0.16      0.12    116203\n",
            "weighted avg       0.50      0.52      0.40    116203\n",
            "\n"
          ]
        }
      ]
    },
    {
      "cell_type": "code",
      "source": [
        "# Read the saved CPU training time\n",
        "with open(\"cpu_time.txt\", \"r\") as f:\n",
        "    saved_cpu_time = float(f.read())\n",
        "\n",
        "print(\"CPU RandomForestClassifier training time: {:.2f} seconds\".format(saved_cpu_time))\n",
        "print(\"cuML-accelerated RandomForestClassifier training time: {:.2f} seconds\".format(gpu_train_time))"
      ],
      "metadata": {
        "colab": {
          "base_uri": "https://localhost:8080/"
        },
        "id": "JteJX7rqARz5",
        "outputId": "17686fab-0e77-42e9-9207-71d64ae7699f"
      },
      "execution_count": 12,
      "outputs": [
        {
          "output_type": "stream",
          "name": "stdout",
          "text": [
            "CPU RandomForestClassifier training time: 6.68 seconds\n",
            "cuML-accelerated RandomForestClassifier training time: 5.02 seconds\n"
          ]
        }
      ]
    }
  ]
}