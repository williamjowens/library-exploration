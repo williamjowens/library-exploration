{
  "nbformat": 4,
  "nbformat_minor": 0,
  "metadata": {
    "colab": {
      "provenance": [],
      "toc_visible": true,
      "machine_shape": "hm",
      "gpuType": "T4"
    },
    "kernelspec": {
      "name": "python3",
      "display_name": "Python 3"
    },
    "language_info": {
      "name": "python"
    },
    "accelerator": "GPU",
    "widgets": {
      "application/vnd.jupyter.widget-state+json": {
        "ba2f7f09d5c3443b9cebdb94c0279c66": {
          "model_module": "@jupyter-widgets/controls",
          "model_name": "HBoxModel",
          "model_module_version": "1.5.0",
          "state": {
            "_dom_classes": [],
            "_model_module": "@jupyter-widgets/controls",
            "_model_module_version": "1.5.0",
            "_model_name": "HBoxModel",
            "_view_count": null,
            "_view_module": "@jupyter-widgets/controls",
            "_view_module_version": "1.5.0",
            "_view_name": "HBoxView",
            "box_style": "",
            "children": [
              "IPY_MODEL_f9e42698773747a0b78f0f4093dc416a",
              "IPY_MODEL_3b8ebfbf65e84cd89c03d1f6fd11cd13",
              "IPY_MODEL_d89a75ca926e450d9a402231fcc0ba00"
            ],
            "layout": "IPY_MODEL_703983e842fe40b9b4887a52095b2f42"
          }
        },
        "f9e42698773747a0b78f0f4093dc416a": {
          "model_module": "@jupyter-widgets/controls",
          "model_name": "HTMLModel",
          "model_module_version": "1.5.0",
          "state": {
            "_dom_classes": [],
            "_model_module": "@jupyter-widgets/controls",
            "_model_module_version": "1.5.0",
            "_model_name": "HTMLModel",
            "_view_count": null,
            "_view_module": "@jupyter-widgets/controls",
            "_view_module_version": "1.5.0",
            "_view_name": "HTMLView",
            "description": "",
            "description_tooltip": null,
            "layout": "IPY_MODEL_b3276da745924efd99bf911863686029",
            "placeholder": "​",
            "style": "IPY_MODEL_ec1d5826437c4254ac9c946767890226",
            "value": "Training LGB Models: 100%"
          }
        },
        "3b8ebfbf65e84cd89c03d1f6fd11cd13": {
          "model_module": "@jupyter-widgets/controls",
          "model_name": "FloatProgressModel",
          "model_module_version": "1.5.0",
          "state": {
            "_dom_classes": [],
            "_model_module": "@jupyter-widgets/controls",
            "_model_module_version": "1.5.0",
            "_model_name": "FloatProgressModel",
            "_view_count": null,
            "_view_module": "@jupyter-widgets/controls",
            "_view_module_version": "1.5.0",
            "_view_name": "ProgressView",
            "bar_style": "success",
            "description": "",
            "description_tooltip": null,
            "layout": "IPY_MODEL_f82c30f87bec44d3b6ed4c7de2264d69",
            "max": 6,
            "min": 0,
            "orientation": "horizontal",
            "style": "IPY_MODEL_b17197a3ce6f47fab06d96c1896d468f",
            "value": 6
          }
        },
        "d89a75ca926e450d9a402231fcc0ba00": {
          "model_module": "@jupyter-widgets/controls",
          "model_name": "HTMLModel",
          "model_module_version": "1.5.0",
          "state": {
            "_dom_classes": [],
            "_model_module": "@jupyter-widgets/controls",
            "_model_module_version": "1.5.0",
            "_model_name": "HTMLModel",
            "_view_count": null,
            "_view_module": "@jupyter-widgets/controls",
            "_view_module_version": "1.5.0",
            "_view_name": "HTMLView",
            "description": "",
            "description_tooltip": null,
            "layout": "IPY_MODEL_d740fbc173b442998ce5d4703fb71cee",
            "placeholder": "​",
            "style": "IPY_MODEL_6b78cdfd4f8946dd9ca87477e5c6a1b5",
            "value": " 6/6 [10:34&lt;00:00, 111.90s/it]"
          }
        },
        "703983e842fe40b9b4887a52095b2f42": {
          "model_module": "@jupyter-widgets/base",
          "model_name": "LayoutModel",
          "model_module_version": "1.2.0",
          "state": {
            "_model_module": "@jupyter-widgets/base",
            "_model_module_version": "1.2.0",
            "_model_name": "LayoutModel",
            "_view_count": null,
            "_view_module": "@jupyter-widgets/base",
            "_view_module_version": "1.2.0",
            "_view_name": "LayoutView",
            "align_content": null,
            "align_items": null,
            "align_self": null,
            "border": null,
            "bottom": null,
            "display": null,
            "flex": null,
            "flex_flow": null,
            "grid_area": null,
            "grid_auto_columns": null,
            "grid_auto_flow": null,
            "grid_auto_rows": null,
            "grid_column": null,
            "grid_gap": null,
            "grid_row": null,
            "grid_template_areas": null,
            "grid_template_columns": null,
            "grid_template_rows": null,
            "height": null,
            "justify_content": null,
            "justify_items": null,
            "left": null,
            "margin": null,
            "max_height": null,
            "max_width": null,
            "min_height": null,
            "min_width": null,
            "object_fit": null,
            "object_position": null,
            "order": null,
            "overflow": null,
            "overflow_x": null,
            "overflow_y": null,
            "padding": null,
            "right": null,
            "top": null,
            "visibility": null,
            "width": null
          }
        },
        "b3276da745924efd99bf911863686029": {
          "model_module": "@jupyter-widgets/base",
          "model_name": "LayoutModel",
          "model_module_version": "1.2.0",
          "state": {
            "_model_module": "@jupyter-widgets/base",
            "_model_module_version": "1.2.0",
            "_model_name": "LayoutModel",
            "_view_count": null,
            "_view_module": "@jupyter-widgets/base",
            "_view_module_version": "1.2.0",
            "_view_name": "LayoutView",
            "align_content": null,
            "align_items": null,
            "align_self": null,
            "border": null,
            "bottom": null,
            "display": null,
            "flex": null,
            "flex_flow": null,
            "grid_area": null,
            "grid_auto_columns": null,
            "grid_auto_flow": null,
            "grid_auto_rows": null,
            "grid_column": null,
            "grid_gap": null,
            "grid_row": null,
            "grid_template_areas": null,
            "grid_template_columns": null,
            "grid_template_rows": null,
            "height": null,
            "justify_content": null,
            "justify_items": null,
            "left": null,
            "margin": null,
            "max_height": null,
            "max_width": null,
            "min_height": null,
            "min_width": null,
            "object_fit": null,
            "object_position": null,
            "order": null,
            "overflow": null,
            "overflow_x": null,
            "overflow_y": null,
            "padding": null,
            "right": null,
            "top": null,
            "visibility": null,
            "width": null
          }
        },
        "ec1d5826437c4254ac9c946767890226": {
          "model_module": "@jupyter-widgets/controls",
          "model_name": "DescriptionStyleModel",
          "model_module_version": "1.5.0",
          "state": {
            "_model_module": "@jupyter-widgets/controls",
            "_model_module_version": "1.5.0",
            "_model_name": "DescriptionStyleModel",
            "_view_count": null,
            "_view_module": "@jupyter-widgets/base",
            "_view_module_version": "1.2.0",
            "_view_name": "StyleView",
            "description_width": ""
          }
        },
        "f82c30f87bec44d3b6ed4c7de2264d69": {
          "model_module": "@jupyter-widgets/base",
          "model_name": "LayoutModel",
          "model_module_version": "1.2.0",
          "state": {
            "_model_module": "@jupyter-widgets/base",
            "_model_module_version": "1.2.0",
            "_model_name": "LayoutModel",
            "_view_count": null,
            "_view_module": "@jupyter-widgets/base",
            "_view_module_version": "1.2.0",
            "_view_name": "LayoutView",
            "align_content": null,
            "align_items": null,
            "align_self": null,
            "border": null,
            "bottom": null,
            "display": null,
            "flex": null,
            "flex_flow": null,
            "grid_area": null,
            "grid_auto_columns": null,
            "grid_auto_flow": null,
            "grid_auto_rows": null,
            "grid_column": null,
            "grid_gap": null,
            "grid_row": null,
            "grid_template_areas": null,
            "grid_template_columns": null,
            "grid_template_rows": null,
            "height": null,
            "justify_content": null,
            "justify_items": null,
            "left": null,
            "margin": null,
            "max_height": null,
            "max_width": null,
            "min_height": null,
            "min_width": null,
            "object_fit": null,
            "object_position": null,
            "order": null,
            "overflow": null,
            "overflow_x": null,
            "overflow_y": null,
            "padding": null,
            "right": null,
            "top": null,
            "visibility": null,
            "width": null
          }
        },
        "b17197a3ce6f47fab06d96c1896d468f": {
          "model_module": "@jupyter-widgets/controls",
          "model_name": "ProgressStyleModel",
          "model_module_version": "1.5.0",
          "state": {
            "_model_module": "@jupyter-widgets/controls",
            "_model_module_version": "1.5.0",
            "_model_name": "ProgressStyleModel",
            "_view_count": null,
            "_view_module": "@jupyter-widgets/base",
            "_view_module_version": "1.2.0",
            "_view_name": "StyleView",
            "bar_color": null,
            "description_width": ""
          }
        },
        "d740fbc173b442998ce5d4703fb71cee": {
          "model_module": "@jupyter-widgets/base",
          "model_name": "LayoutModel",
          "model_module_version": "1.2.0",
          "state": {
            "_model_module": "@jupyter-widgets/base",
            "_model_module_version": "1.2.0",
            "_model_name": "LayoutModel",
            "_view_count": null,
            "_view_module": "@jupyter-widgets/base",
            "_view_module_version": "1.2.0",
            "_view_name": "LayoutView",
            "align_content": null,
            "align_items": null,
            "align_self": null,
            "border": null,
            "bottom": null,
            "display": null,
            "flex": null,
            "flex_flow": null,
            "grid_area": null,
            "grid_auto_columns": null,
            "grid_auto_flow": null,
            "grid_auto_rows": null,
            "grid_column": null,
            "grid_gap": null,
            "grid_row": null,
            "grid_template_areas": null,
            "grid_template_columns": null,
            "grid_template_rows": null,
            "height": null,
            "justify_content": null,
            "justify_items": null,
            "left": null,
            "margin": null,
            "max_height": null,
            "max_width": null,
            "min_height": null,
            "min_width": null,
            "object_fit": null,
            "object_position": null,
            "order": null,
            "overflow": null,
            "overflow_x": null,
            "overflow_y": null,
            "padding": null,
            "right": null,
            "top": null,
            "visibility": null,
            "width": null
          }
        },
        "6b78cdfd4f8946dd9ca87477e5c6a1b5": {
          "model_module": "@jupyter-widgets/controls",
          "model_name": "DescriptionStyleModel",
          "model_module_version": "1.5.0",
          "state": {
            "_model_module": "@jupyter-widgets/controls",
            "_model_module_version": "1.5.0",
            "_model_name": "DescriptionStyleModel",
            "_view_count": null,
            "_view_module": "@jupyter-widgets/base",
            "_view_module_version": "1.2.0",
            "_view_name": "StyleView",
            "description_width": ""
          }
        },
        "ce2ddf2317b144828d5edd30cb08bb0f": {
          "model_module": "@jupyter-widgets/controls",
          "model_name": "HBoxModel",
          "model_module_version": "1.5.0",
          "state": {
            "_dom_classes": [],
            "_model_module": "@jupyter-widgets/controls",
            "_model_module_version": "1.5.0",
            "_model_name": "HBoxModel",
            "_view_count": null,
            "_view_module": "@jupyter-widgets/controls",
            "_view_module_version": "1.5.0",
            "_view_name": "HBoxView",
            "box_style": "",
            "children": [
              "IPY_MODEL_9eab2b954fb24a71929aa22e034864e3",
              "IPY_MODEL_ca3fefb4e6c14813943cfb88f766596a",
              "IPY_MODEL_9c2a8fc90b8d40d6bf123cc220b145b1"
            ],
            "layout": "IPY_MODEL_b1c61cfb3f2d4102b9eb0365f74226b2"
          }
        },
        "9eab2b954fb24a71929aa22e034864e3": {
          "model_module": "@jupyter-widgets/controls",
          "model_name": "HTMLModel",
          "model_module_version": "1.5.0",
          "state": {
            "_dom_classes": [],
            "_model_module": "@jupyter-widgets/controls",
            "_model_module_version": "1.5.0",
            "_model_name": "HTMLModel",
            "_view_count": null,
            "_view_module": "@jupyter-widgets/controls",
            "_view_module_version": "1.5.0",
            "_view_name": "HTMLView",
            "description": "",
            "description_tooltip": null,
            "layout": "IPY_MODEL_47d7664b6f9048dcb8bef3feeaf46e4f",
            "placeholder": "​",
            "style": "IPY_MODEL_f59fbafea64c440bbac26ab739a9c75d",
            "value": "Training CNN Models: 100%"
          }
        },
        "ca3fefb4e6c14813943cfb88f766596a": {
          "model_module": "@jupyter-widgets/controls",
          "model_name": "FloatProgressModel",
          "model_module_version": "1.5.0",
          "state": {
            "_dom_classes": [],
            "_model_module": "@jupyter-widgets/controls",
            "_model_module_version": "1.5.0",
            "_model_name": "FloatProgressModel",
            "_view_count": null,
            "_view_module": "@jupyter-widgets/controls",
            "_view_module_version": "1.5.0",
            "_view_name": "ProgressView",
            "bar_style": "success",
            "description": "",
            "description_tooltip": null,
            "layout": "IPY_MODEL_0e19829e14ca460f95d0d16eeaa5b6f9",
            "max": 6,
            "min": 0,
            "orientation": "horizontal",
            "style": "IPY_MODEL_3e9bb15380344713b1bdd219ca124046",
            "value": 6
          }
        },
        "9c2a8fc90b8d40d6bf123cc220b145b1": {
          "model_module": "@jupyter-widgets/controls",
          "model_name": "HTMLModel",
          "model_module_version": "1.5.0",
          "state": {
            "_dom_classes": [],
            "_model_module": "@jupyter-widgets/controls",
            "_model_module_version": "1.5.0",
            "_model_name": "HTMLModel",
            "_view_count": null,
            "_view_module": "@jupyter-widgets/controls",
            "_view_module_version": "1.5.0",
            "_view_name": "HTMLView",
            "description": "",
            "description_tooltip": null,
            "layout": "IPY_MODEL_e8430e48961a4bac8b5a3a5add1d53e2",
            "placeholder": "​",
            "style": "IPY_MODEL_ac07d39b984c4ac4ba65c3f347b1e1ce",
            "value": " 6/6 [3:37:09&lt;00:00, 2243.44s/it]"
          }
        },
        "b1c61cfb3f2d4102b9eb0365f74226b2": {
          "model_module": "@jupyter-widgets/base",
          "model_name": "LayoutModel",
          "model_module_version": "1.2.0",
          "state": {
            "_model_module": "@jupyter-widgets/base",
            "_model_module_version": "1.2.0",
            "_model_name": "LayoutModel",
            "_view_count": null,
            "_view_module": "@jupyter-widgets/base",
            "_view_module_version": "1.2.0",
            "_view_name": "LayoutView",
            "align_content": null,
            "align_items": null,
            "align_self": null,
            "border": null,
            "bottom": null,
            "display": null,
            "flex": null,
            "flex_flow": null,
            "grid_area": null,
            "grid_auto_columns": null,
            "grid_auto_flow": null,
            "grid_auto_rows": null,
            "grid_column": null,
            "grid_gap": null,
            "grid_row": null,
            "grid_template_areas": null,
            "grid_template_columns": null,
            "grid_template_rows": null,
            "height": null,
            "justify_content": null,
            "justify_items": null,
            "left": null,
            "margin": null,
            "max_height": null,
            "max_width": null,
            "min_height": null,
            "min_width": null,
            "object_fit": null,
            "object_position": null,
            "order": null,
            "overflow": null,
            "overflow_x": null,
            "overflow_y": null,
            "padding": null,
            "right": null,
            "top": null,
            "visibility": null,
            "width": null
          }
        },
        "47d7664b6f9048dcb8bef3feeaf46e4f": {
          "model_module": "@jupyter-widgets/base",
          "model_name": "LayoutModel",
          "model_module_version": "1.2.0",
          "state": {
            "_model_module": "@jupyter-widgets/base",
            "_model_module_version": "1.2.0",
            "_model_name": "LayoutModel",
            "_view_count": null,
            "_view_module": "@jupyter-widgets/base",
            "_view_module_version": "1.2.0",
            "_view_name": "LayoutView",
            "align_content": null,
            "align_items": null,
            "align_self": null,
            "border": null,
            "bottom": null,
            "display": null,
            "flex": null,
            "flex_flow": null,
            "grid_area": null,
            "grid_auto_columns": null,
            "grid_auto_flow": null,
            "grid_auto_rows": null,
            "grid_column": null,
            "grid_gap": null,
            "grid_row": null,
            "grid_template_areas": null,
            "grid_template_columns": null,
            "grid_template_rows": null,
            "height": null,
            "justify_content": null,
            "justify_items": null,
            "left": null,
            "margin": null,
            "max_height": null,
            "max_width": null,
            "min_height": null,
            "min_width": null,
            "object_fit": null,
            "object_position": null,
            "order": null,
            "overflow": null,
            "overflow_x": null,
            "overflow_y": null,
            "padding": null,
            "right": null,
            "top": null,
            "visibility": null,
            "width": null
          }
        },
        "f59fbafea64c440bbac26ab739a9c75d": {
          "model_module": "@jupyter-widgets/controls",
          "model_name": "DescriptionStyleModel",
          "model_module_version": "1.5.0",
          "state": {
            "_model_module": "@jupyter-widgets/controls",
            "_model_module_version": "1.5.0",
            "_model_name": "DescriptionStyleModel",
            "_view_count": null,
            "_view_module": "@jupyter-widgets/base",
            "_view_module_version": "1.2.0",
            "_view_name": "StyleView",
            "description_width": ""
          }
        },
        "0e19829e14ca460f95d0d16eeaa5b6f9": {
          "model_module": "@jupyter-widgets/base",
          "model_name": "LayoutModel",
          "model_module_version": "1.2.0",
          "state": {
            "_model_module": "@jupyter-widgets/base",
            "_model_module_version": "1.2.0",
            "_model_name": "LayoutModel",
            "_view_count": null,
            "_view_module": "@jupyter-widgets/base",
            "_view_module_version": "1.2.0",
            "_view_name": "LayoutView",
            "align_content": null,
            "align_items": null,
            "align_self": null,
            "border": null,
            "bottom": null,
            "display": null,
            "flex": null,
            "flex_flow": null,
            "grid_area": null,
            "grid_auto_columns": null,
            "grid_auto_flow": null,
            "grid_auto_rows": null,
            "grid_column": null,
            "grid_gap": null,
            "grid_row": null,
            "grid_template_areas": null,
            "grid_template_columns": null,
            "grid_template_rows": null,
            "height": null,
            "justify_content": null,
            "justify_items": null,
            "left": null,
            "margin": null,
            "max_height": null,
            "max_width": null,
            "min_height": null,
            "min_width": null,
            "object_fit": null,
            "object_position": null,
            "order": null,
            "overflow": null,
            "overflow_x": null,
            "overflow_y": null,
            "padding": null,
            "right": null,
            "top": null,
            "visibility": null,
            "width": null
          }
        },
        "3e9bb15380344713b1bdd219ca124046": {
          "model_module": "@jupyter-widgets/controls",
          "model_name": "ProgressStyleModel",
          "model_module_version": "1.5.0",
          "state": {
            "_model_module": "@jupyter-widgets/controls",
            "_model_module_version": "1.5.0",
            "_model_name": "ProgressStyleModel",
            "_view_count": null,
            "_view_module": "@jupyter-widgets/base",
            "_view_module_version": "1.2.0",
            "_view_name": "StyleView",
            "bar_color": null,
            "description_width": ""
          }
        },
        "e8430e48961a4bac8b5a3a5add1d53e2": {
          "model_module": "@jupyter-widgets/base",
          "model_name": "LayoutModel",
          "model_module_version": "1.2.0",
          "state": {
            "_model_module": "@jupyter-widgets/base",
            "_model_module_version": "1.2.0",
            "_model_name": "LayoutModel",
            "_view_count": null,
            "_view_module": "@jupyter-widgets/base",
            "_view_module_version": "1.2.0",
            "_view_name": "LayoutView",
            "align_content": null,
            "align_items": null,
            "align_self": null,
            "border": null,
            "bottom": null,
            "display": null,
            "flex": null,
            "flex_flow": null,
            "grid_area": null,
            "grid_auto_columns": null,
            "grid_auto_flow": null,
            "grid_auto_rows": null,
            "grid_column": null,
            "grid_gap": null,
            "grid_row": null,
            "grid_template_areas": null,
            "grid_template_columns": null,
            "grid_template_rows": null,
            "height": null,
            "justify_content": null,
            "justify_items": null,
            "left": null,
            "margin": null,
            "max_height": null,
            "max_width": null,
            "min_height": null,
            "min_width": null,
            "object_fit": null,
            "object_position": null,
            "order": null,
            "overflow": null,
            "overflow_x": null,
            "overflow_y": null,
            "padding": null,
            "right": null,
            "top": null,
            "visibility": null,
            "width": null
          }
        },
        "ac07d39b984c4ac4ba65c3f347b1e1ce": {
          "model_module": "@jupyter-widgets/controls",
          "model_name": "DescriptionStyleModel",
          "model_module_version": "1.5.0",
          "state": {
            "_model_module": "@jupyter-widgets/controls",
            "_model_module_version": "1.5.0",
            "_model_name": "DescriptionStyleModel",
            "_view_count": null,
            "_view_module": "@jupyter-widgets/base",
            "_view_module_version": "1.2.0",
            "_view_name": "StyleView",
            "description_width": ""
          }
        }
      }
    }
  },
  "cells": [
    {
      "cell_type": "markdown",
      "source": [
        "# Installs & Imports"
      ],
      "metadata": {
        "id": "zl3uN801LZkm"
      }
    },
    {
      "cell_type": "markdown",
      "source": [
        "## TF Settings"
      ],
      "metadata": {
        "id": "IaUkedEDP5AE"
      }
    },
    {
      "cell_type": "code",
      "source": [
        "# import tensorflow as tf\n",
        "# gpus = tf.config.list_physical_devices('GPU')\n",
        "# if gpus:\n",
        "#     for gpu in gpus:\n",
        "#         tf.config.experimental.set_memory_growth(gpu, True)"
      ],
      "metadata": {
        "id": "zcRpM6VHFKpn"
      },
      "execution_count": 2,
      "outputs": []
    },
    {
      "cell_type": "code",
      "source": [
        "# Force TF to run on CPU\n",
        "import tensorflow as tf\n",
        "tf.config.set_visible_devices([], 'GPU')"
      ],
      "metadata": {
        "id": "gXRedSrluiUG"
      },
      "execution_count": 3,
      "outputs": []
    },
    {
      "cell_type": "markdown",
      "source": [
        "Concurrent usage of LightGBM with GPU/CUDA support and TensorFlow/Keras with GPU/CUDA support led to issues with TensorFlow/Keras (DNN library initialization error). Not sure how to resolve the discrepancies, so we will force TensorFlow/Keras to run on CPU."
      ],
      "metadata": {
        "id": "1fxAtXv6OXlU"
      }
    },
    {
      "cell_type": "markdown",
      "source": [
        "## OpenCL GPU"
      ],
      "metadata": {
        "id": "xuUBCHxVPmd3"
      }
    },
    {
      "cell_type": "code",
      "source": [
        "# !pip install -q lightgbm dask[dataframe]"
      ],
      "metadata": {
        "id": "BSwzakuCQhDu"
      },
      "execution_count": 4,
      "outputs": []
    },
    {
      "cell_type": "code",
      "source": [
        "# # Install to run LightGBM on GPU\n",
        "# !mkdir -p /etc/OpenCL/vendors && echo \"libnvidia-opencl.so.1\" > /etc/OpenCL/vendors/nvidia.icd"
      ],
      "metadata": {
        "id": "BT1nu604QWel"
      },
      "execution_count": 5,
      "outputs": []
    },
    {
      "cell_type": "code",
      "source": [
        "# # Test running LightGBM on GPU\n",
        "# import lightgbm as lgb\n",
        "# from sklearn.datasets import make_regression\n",
        "\n",
        "# X, y = make_regression(n_samples=10_000)\n",
        "# dtrain = lgb.Dataset(X, label=y)\n",
        "# bst = lgb.train(\n",
        "#     params={\n",
        "#         \"objective\": \"regression\",\n",
        "#         \"device\": \"gpu\",\n",
        "#         \"verbose\": 1\n",
        "#     },\n",
        "#     train_set=dtrain,\n",
        "#     num_boost_round=5\n",
        "# )"
      ],
      "metadata": {
        "id": "8OvkmGh5QYL2"
      },
      "execution_count": 6,
      "outputs": []
    },
    {
      "cell_type": "markdown",
      "source": [
        "## CUDA"
      ],
      "metadata": {
        "id": "cQvlzeNWPp20"
      }
    },
    {
      "cell_type": "code",
      "source": [
        "# Uninstall any existing LightGBM installation\n",
        "!pip uninstall -y lightgbm\n",
        "\n",
        "# Install to run LightGBM on CUDA\n",
        "!pip install \\\n",
        "    --force-reinstall \\\n",
        "    --no-binary lightgbm \\\n",
        "    --config-settings=cmake.define.USE_CUDA=ON \\\n",
        "    lightgbm \\\n",
        "    --no-deps\n",
        "\n",
        "!pip install -q dask[dataframe]"
      ],
      "metadata": {
        "colab": {
          "base_uri": "https://localhost:8080/"
        },
        "id": "5Ev3WtHjyVqC",
        "outputId": "8be288c6-c15c-44eb-e05f-e7820ebf28cb"
      },
      "execution_count": 7,
      "outputs": [
        {
          "output_type": "stream",
          "name": "stdout",
          "text": [
            "Found existing installation: lightgbm 4.5.0\n",
            "Uninstalling lightgbm-4.5.0:\n",
            "  Successfully uninstalled lightgbm-4.5.0\n",
            "Collecting lightgbm\n",
            "  Downloading lightgbm-4.6.0.tar.gz (1.7 MB)\n",
            "\u001b[2K     \u001b[90m━━━━━━━━━━━━━━━━━━━━━━━━━━━━━━━━━━━━━━━━\u001b[0m \u001b[32m1.7/1.7 MB\u001b[0m \u001b[31m19.3 MB/s\u001b[0m eta \u001b[36m0:00:00\u001b[0m\n",
            "\u001b[?25h  Installing build dependencies ... \u001b[?25l\u001b[?25hdone\n",
            "  Getting requirements to build wheel ... \u001b[?25l\u001b[?25hdone\n",
            "  Installing backend dependencies ... \u001b[?25l\u001b[?25hdone\n",
            "  Preparing metadata (pyproject.toml) ... \u001b[?25l\u001b[?25hdone\n",
            "Building wheels for collected packages: lightgbm\n",
            "  Building wheel for lightgbm (pyproject.toml) ... \u001b[?25l\u001b[?25hdone\n",
            "  Created wheel for lightgbm: filename=lightgbm-4.6.0-py3-none-linux_x86_64.whl size=61748399 sha256=290491c3964b2f92e926dc9d6848f77aefbbee5e85fdc6c0e35fae2d95b04e78\n",
            "  Stored in directory: /root/.cache/pip/wheels/ee/da/90/bd694ce19848ae41071e6c926d1650e4581556bf5869a57fe0\n",
            "Successfully built lightgbm\n",
            "Installing collected packages: lightgbm\n",
            "Successfully installed lightgbm-4.6.0\n",
            "\u001b[2K   \u001b[90m━━━━━━━━━━━━━━━━━━━━━━━━━━━━━━━━━━━━━━━━\u001b[0m \u001b[32m243.2/243.2 kB\u001b[0m \u001b[31m4.1 MB/s\u001b[0m eta \u001b[36m0:00:00\u001b[0m\n",
            "\u001b[?25h"
          ]
        }
      ]
    },
    {
      "cell_type": "code",
      "source": [
        "# Test running LightGBM on CUDA\n",
        "import lightgbm as lgb\n",
        "from sklearn.datasets import make_regression\n",
        "\n",
        "X, y = make_regression(n_samples=10_000)\n",
        "dtrain = lgb.Dataset(X, label=y)\n",
        "bst = lgb.train(\n",
        "    params={\n",
        "        \"objective\": \"regression\",\n",
        "        \"device\": \"cuda\",\n",
        "        \"verbose\": 1\n",
        "    },\n",
        "    train_set=dtrain,\n",
        "    num_boost_round=5\n",
        ")"
      ],
      "metadata": {
        "colab": {
          "base_uri": "https://localhost:8080/"
        },
        "id": "HzYVc1Ahyipx",
        "outputId": "4ac21bd0-9b6a-49df-84eb-837f864c10e1"
      },
      "execution_count": 8,
      "outputs": [
        {
          "output_type": "stream",
          "name": "stdout",
          "text": [
            "[LightGBM] [Warning] Using sparse features with CUDA is currently not supported.\n",
            "[LightGBM] [Info] Total Bins 25500\n",
            "[LightGBM] [Info] Number of data points in the train set: 10000, number of used features: 100\n",
            "[LightGBM] [Info] Start training from score 0.523529\n"
          ]
        }
      ]
    },
    {
      "cell_type": "code",
      "source": [
        "!nvcc --version  # Check CUDA version\n",
        "!nvidia-smi      # Check GPU and driver status"
      ],
      "metadata": {
        "colab": {
          "base_uri": "https://localhost:8080/"
        },
        "id": "FkOApX4nytry",
        "outputId": "e8f6451d-29d0-4190-d506-9b9ac5802ac5"
      },
      "execution_count": 9,
      "outputs": [
        {
          "output_type": "stream",
          "name": "stdout",
          "text": [
            "nvcc: NVIDIA (R) Cuda compiler driver\n",
            "Copyright (c) 2005-2024 NVIDIA Corporation\n",
            "Built on Thu_Jun__6_02:18:23_PDT_2024\n",
            "Cuda compilation tools, release 12.5, V12.5.82\n",
            "Build cuda_12.5.r12.5/compiler.34385749_0\n",
            "Wed Feb 19 14:38:55 2025       \n",
            "+-----------------------------------------------------------------------------------------+\n",
            "| NVIDIA-SMI 550.54.15              Driver Version: 550.54.15      CUDA Version: 12.4     |\n",
            "|-----------------------------------------+------------------------+----------------------+\n",
            "| GPU  Name                 Persistence-M | Bus-Id          Disp.A | Volatile Uncorr. ECC |\n",
            "| Fan  Temp   Perf          Pwr:Usage/Cap |           Memory-Usage | GPU-Util  Compute M. |\n",
            "|                                         |                        |               MIG M. |\n",
            "|=========================================+========================+======================|\n",
            "|   0  Tesla T4                       Off |   00000000:00:04.0 Off |                    0 |\n",
            "| N/A   40C    P0             26W /   70W |     138MiB /  15360MiB |     27%      Default |\n",
            "|                                         |                        |                  N/A |\n",
            "+-----------------------------------------+------------------------+----------------------+\n",
            "                                                                                         \n",
            "+-----------------------------------------------------------------------------------------+\n",
            "| Processes:                                                                              |\n",
            "|  GPU   GI   CI        PID   Type   Process name                              GPU Memory |\n",
            "|        ID   ID                                                               Usage      |\n",
            "|=========================================================================================|\n",
            "+-----------------------------------------------------------------------------------------+\n"
          ]
        }
      ]
    },
    {
      "cell_type": "markdown",
      "source": [
        "## More Installs"
      ],
      "metadata": {
        "id": "Vxmi1lu6Pyna"
      }
    },
    {
      "cell_type": "code",
      "source": [
        "# Need to install for pyrfr\n",
        "!apt-get update\n",
        "!apt-get install -y swig3.0"
      ],
      "metadata": {
        "colab": {
          "base_uri": "https://localhost:8080/"
        },
        "id": "9wmX1mYUQac9",
        "outputId": "d746209b-f290-409c-bdc9-d95b93eb413c"
      },
      "execution_count": 10,
      "outputs": [
        {
          "output_type": "stream",
          "name": "stdout",
          "text": [
            "\r0% [Working]\r            \rGet:1 http://security.ubuntu.com/ubuntu jammy-security InRelease [129 kB]\n",
            "Get:2 https://cloud.r-project.org/bin/linux/ubuntu jammy-cran40/ InRelease [3,632 B]\n",
            "Get:3 https://developer.download.nvidia.com/compute/cuda/repos/ubuntu2204/x86_64  InRelease [1,581 B]\n",
            "Hit:4 http://archive.ubuntu.com/ubuntu jammy InRelease\n",
            "Get:5 https://r2u.stat.illinois.edu/ubuntu jammy InRelease [6,555 B]\n",
            "Get:6 http://archive.ubuntu.com/ubuntu jammy-updates InRelease [128 kB]\n",
            "Get:7 http://security.ubuntu.com/ubuntu jammy-security/main amd64 Packages [2,610 kB]\n",
            "Hit:8 https://ppa.launchpadcontent.net/deadsnakes/ppa/ubuntu jammy InRelease\n",
            "Get:9 https://developer.download.nvidia.com/compute/cuda/repos/ubuntu2204/x86_64  Packages [1,317 kB]\n",
            "Hit:10 https://ppa.launchpadcontent.net/graphics-drivers/ppa/ubuntu jammy InRelease\n",
            "Get:11 http://security.ubuntu.com/ubuntu jammy-security/universe amd64 Packages [1,230 kB]\n",
            "Hit:12 https://ppa.launchpadcontent.net/ubuntugis/ppa/ubuntu jammy InRelease\n",
            "Get:13 http://archive.ubuntu.com/ubuntu jammy-backports InRelease [127 kB]\n",
            "Get:14 https://r2u.stat.illinois.edu/ubuntu jammy/main all Packages [8,687 kB]\n",
            "Get:15 http://archive.ubuntu.com/ubuntu jammy-updates/restricted amd64 Packages [3,793 kB]\n",
            "Get:16 https://r2u.stat.illinois.edu/ubuntu jammy/main amd64 Packages [2,660 kB]\n",
            "Get:17 http://archive.ubuntu.com/ubuntu jammy-updates/universe amd64 Packages [1,526 kB]\n",
            "Get:18 http://archive.ubuntu.com/ubuntu jammy-updates/main amd64 Packages [2,939 kB]\n",
            "Fetched 25.2 MB in 2s (10.6 MB/s)\n",
            "Reading package lists... Done\n",
            "W: Skipping acquire of configured file 'main/source/Sources' as repository 'https://r2u.stat.illinois.edu/ubuntu jammy InRelease' does not seem to provide it (sources.list entry misspelt?)\n",
            "Reading package lists... Done\n",
            "Building dependency tree... Done\n",
            "Reading state information... Done\n",
            "Suggested packages:\n",
            "  swig3.0-examples swig3.0-doc\n",
            "The following NEW packages will be installed:\n",
            "  swig3.0\n",
            "0 upgraded, 1 newly installed, 0 to remove and 27 not upgraded.\n",
            "Need to get 1,109 kB of archives.\n",
            "After this operation, 5,555 kB of additional disk space will be used.\n",
            "Get:1 http://archive.ubuntu.com/ubuntu jammy/universe amd64 swig3.0 amd64 3.0.12-2.2ubuntu1 [1,109 kB]\n",
            "Fetched 1,109 kB in 1s (1,221 kB/s)\n",
            "Selecting previously unselected package swig3.0.\n",
            "(Reading database ... 124926 files and directories currently installed.)\n",
            "Preparing to unpack .../swig3.0_3.0.12-2.2ubuntu1_amd64.deb ...\n",
            "Unpacking swig3.0 (3.0.12-2.2ubuntu1) ...\n",
            "Setting up swig3.0 (3.0.12-2.2ubuntu1) ...\n",
            "Processing triggers for man-db (2.10.2-1) ...\n"
          ]
        }
      ]
    },
    {
      "cell_type": "code",
      "source": [
        "# Symbolic link\n",
        "!ln -sf /usr/bin/swig3.0 /usr/bin/swig"
      ],
      "metadata": {
        "id": "N8JFXWUdQv9i"
      },
      "execution_count": 11,
      "outputs": []
    },
    {
      "cell_type": "code",
      "source": [
        "# Need to install for smac\n",
        "!pip install -q pyrfr"
      ],
      "metadata": {
        "colab": {
          "base_uri": "https://localhost:8080/"
        },
        "id": "5j-HLkH0Qz2I",
        "outputId": "6aeac2c7-8504-4550-83f3-9f0194fc3a64"
      },
      "execution_count": 12,
      "outputs": [
        {
          "output_type": "stream",
          "name": "stdout",
          "text": [
            "\u001b[?25l     \u001b[90m━━━━━━━━━━━━━━━━━━━━━━━━━━━━━━━━━━━━━━━━\u001b[0m \u001b[32m0.0/295.1 kB\u001b[0m \u001b[31m?\u001b[0m eta \u001b[36m-:--:--\u001b[0m\r\u001b[2K     \u001b[91m━━━━━━━━━━━━━\u001b[0m\u001b[91m╸\u001b[0m\u001b[90m━━━━━━━━━━━━━━━━━━━━━━━━━━\u001b[0m \u001b[32m102.4/295.1 kB\u001b[0m \u001b[31m3.4 MB/s\u001b[0m eta \u001b[36m0:00:01\u001b[0m\r\u001b[2K     \u001b[90m━━━━━━━━━━━━━━━━━━━━━━━━━━━━━━━━━━━━━━━━\u001b[0m \u001b[32m295.1/295.1 kB\u001b[0m \u001b[31m4.8 MB/s\u001b[0m eta \u001b[36m0:00:00\u001b[0m\n",
            "\u001b[?25h  Preparing metadata (setup.py) ... \u001b[?25l\u001b[?25hdone\n",
            "  Building wheel for pyrfr (setup.py) ... \u001b[?25l\u001b[?25hdone\n"
          ]
        }
      ]
    },
    {
      "cell_type": "code",
      "source": [
        "!pip install -q optuna==4.2.0 optunahub optuna-integration smac==2.2.0 scipy torch gpytorch botorch cmaes jax jaxlib"
      ],
      "metadata": {
        "colab": {
          "base_uri": "https://localhost:8080/"
        },
        "id": "J9Rr_Z0hQ1NM",
        "outputId": "07e1933a-1933-48ea-b0fa-962879ba3b9e"
      },
      "execution_count": 13,
      "outputs": [
        {
          "output_type": "stream",
          "name": "stdout",
          "text": [
            "\u001b[?25l     \u001b[90m━━━━━━━━━━━━━━━━━━━━━━━━━━━━━━━━━━━━━━━━\u001b[0m \u001b[32m0.0/150.0 kB\u001b[0m \u001b[31m?\u001b[0m eta \u001b[36m-:--:--\u001b[0m\r\u001b[2K     \u001b[90m━━━━━━━━━━━━━━━━━━━━━━━━━━━━━━━━━━━━━━━━\u001b[0m \u001b[32m150.0/150.0 kB\u001b[0m \u001b[31m4.3 MB/s\u001b[0m eta \u001b[36m0:00:00\u001b[0m\n",
            "\u001b[?25h  Installing build dependencies ... \u001b[?25l\u001b[?25hdone\n",
            "  Getting requirements to build wheel ... \u001b[?25l\u001b[?25hdone\n",
            "  Preparing metadata (pyproject.toml) ... \u001b[?25l\u001b[?25hdone\n",
            "  Installing build dependencies ... \u001b[?25l\u001b[?25hdone\n",
            "  Getting requirements to build wheel ... \u001b[?25l\u001b[?25hdone\n",
            "  Preparing metadata (pyproject.toml) ... \u001b[?25l\u001b[?25hdone\n",
            "\u001b[2K     \u001b[90m━━━━━━━━━━━━━━━━━━━━━━━━━━━━━━━━━━━━━━━━\u001b[0m \u001b[32m131.0/131.0 kB\u001b[0m \u001b[31m10.8 MB/s\u001b[0m eta \u001b[36m0:00:00\u001b[0m\n",
            "\u001b[?25h  Installing build dependencies ... \u001b[?25l\u001b[?25hdone\n",
            "  Getting requirements to build wheel ... \u001b[?25l\u001b[?25hdone\n",
            "  Preparing metadata (pyproject.toml) ... \u001b[?25l\u001b[?25hdone\n",
            "\u001b[2K   \u001b[90m━━━━━━━━━━━━━━━━━━━━━━━━━━━━━━━━━━━━━━━━\u001b[0m \u001b[32m383.4/383.4 kB\u001b[0m \u001b[31m15.7 MB/s\u001b[0m eta \u001b[36m0:00:00\u001b[0m\n",
            "\u001b[2K   \u001b[90m━━━━━━━━━━━━━━━━━━━━━━━━━━━━━━━━━━━━━━━━\u001b[0m \u001b[32m97.6/97.6 kB\u001b[0m \u001b[31m8.0 MB/s\u001b[0m eta \u001b[36m0:00:00\u001b[0m\n",
            "\u001b[2K   \u001b[90m━━━━━━━━━━━━━━━━━━━━━━━━━━━━━━━━━━━━━━━━\u001b[0m \u001b[32m363.4/363.4 MB\u001b[0m \u001b[31m2.9 MB/s\u001b[0m eta \u001b[36m0:00:00\u001b[0m\n",
            "\u001b[2K   \u001b[90m━━━━━━━━━━━━━━━━━━━━━━━━━━━━━━━━━━━━━━━━\u001b[0m \u001b[32m13.8/13.8 MB\u001b[0m \u001b[31m103.0 MB/s\u001b[0m eta \u001b[36m0:00:00\u001b[0m\n",
            "\u001b[2K   \u001b[90m━━━━━━━━━━━━━━━━━━━━━━━━━━━━━━━━━━━━━━━━\u001b[0m \u001b[32m24.6/24.6 MB\u001b[0m \u001b[31m79.4 MB/s\u001b[0m eta \u001b[36m0:00:00\u001b[0m\n",
            "\u001b[2K   \u001b[90m━━━━━━━━━━━━━━━━━━━━━━━━━━━━━━━━━━━━━━━━\u001b[0m \u001b[32m883.7/883.7 kB\u001b[0m \u001b[31m49.3 MB/s\u001b[0m eta \u001b[36m0:00:00\u001b[0m\n",
            "\u001b[2K   \u001b[90m━━━━━━━━━━━━━━━━━━━━━━━━━━━━━━━━━━━━━━━━\u001b[0m \u001b[32m664.8/664.8 MB\u001b[0m \u001b[31m2.1 MB/s\u001b[0m eta \u001b[36m0:00:00\u001b[0m\n",
            "\u001b[2K   \u001b[90m━━━━━━━━━━━━━━━━━━━━━━━━━━━━━━━━━━━━━━━━\u001b[0m \u001b[32m211.5/211.5 MB\u001b[0m \u001b[31m4.6 MB/s\u001b[0m eta \u001b[36m0:00:00\u001b[0m\n",
            "\u001b[2K   \u001b[90m━━━━━━━━━━━━━━━━━━━━━━━━━━━━━━━━━━━━━━━━\u001b[0m \u001b[32m56.3/56.3 MB\u001b[0m \u001b[31m38.7 MB/s\u001b[0m eta \u001b[36m0:00:00\u001b[0m\n",
            "\u001b[2K   \u001b[90m━━━━━━━━━━━━━━━━━━━━━━━━━━━━━━━━━━━━━━━━\u001b[0m \u001b[32m127.9/127.9 MB\u001b[0m \u001b[31m18.5 MB/s\u001b[0m eta \u001b[36m0:00:00\u001b[0m\n",
            "\u001b[2K   \u001b[90m━━━━━━━━━━━━━━━━━━━━━━━━━━━━━━━━━━━━━━━━\u001b[0m \u001b[32m207.5/207.5 MB\u001b[0m \u001b[31m4.1 MB/s\u001b[0m eta \u001b[36m0:00:00\u001b[0m\n",
            "\u001b[2K   \u001b[90m━━━━━━━━━━━━━━━━━━━━━━━━━━━━━━━━━━━━━━━━\u001b[0m \u001b[32m21.1/21.1 MB\u001b[0m \u001b[31m84.7 MB/s\u001b[0m eta \u001b[36m0:00:00\u001b[0m\n",
            "\u001b[2K   \u001b[90m━━━━━━━━━━━━━━━━━━━━━━━━━━━━━━━━━━━━━━━━\u001b[0m \u001b[32m277.7/277.7 kB\u001b[0m \u001b[31m21.4 MB/s\u001b[0m eta \u001b[36m0:00:00\u001b[0m\n",
            "\u001b[2K   \u001b[90m━━━━━━━━━━━━━━━━━━━━━━━━━━━━━━━━━━━━━━━━\u001b[0m \u001b[32m706.8/706.8 kB\u001b[0m \u001b[31m36.4 MB/s\u001b[0m eta \u001b[36m0:00:00\u001b[0m\n",
            "\u001b[2K   \u001b[90m━━━━━━━━━━━━━━━━━━━━━━━━━━━━━━━━━━━━━━━━\u001b[0m \u001b[32m176.3/176.3 kB\u001b[0m \u001b[31m14.0 MB/s\u001b[0m eta \u001b[36m0:00:00\u001b[0m\n",
            "\u001b[2K   \u001b[90m━━━━━━━━━━━━━━━━━━━━━━━━━━━━━━━━━━━━━━━━\u001b[0m \u001b[32m233.6/233.6 kB\u001b[0m \u001b[31m17.5 MB/s\u001b[0m eta \u001b[36m0:00:00\u001b[0m\n",
            "\u001b[2K   \u001b[90m━━━━━━━━━━━━━━━━━━━━━━━━━━━━━━━━━━━━━━━━\u001b[0m \u001b[32m52.0/52.0 kB\u001b[0m \u001b[31m3.8 MB/s\u001b[0m eta \u001b[36m0:00:00\u001b[0m\n",
            "\u001b[2K   \u001b[90m━━━━━━━━━━━━━━━━━━━━━━━━━━━━━━━━━━━━━━━━\u001b[0m \u001b[32m47.4/47.4 kB\u001b[0m \u001b[31m3.4 MB/s\u001b[0m eta \u001b[36m0:00:00\u001b[0m\n",
            "\u001b[2K   \u001b[90m━━━━━━━━━━━━━━━━━━━━━━━━━━━━━━━━━━━━━━━━\u001b[0m \u001b[32m409.2/409.2 kB\u001b[0m \u001b[31m29.4 MB/s\u001b[0m eta \u001b[36m0:00:00\u001b[0m\n",
            "\u001b[2K   \u001b[90m━━━━━━━━━━━━━━━━━━━━━━━━━━━━━━━━━━━━━━━━\u001b[0m \u001b[32m756.0/756.0 kB\u001b[0m \u001b[31m41.7 MB/s\u001b[0m eta \u001b[36m0:00:00\u001b[0m\n",
            "\u001b[2K   \u001b[90m━━━━━━━━━━━━━━━━━━━━━━━━━━━━━━━━━━━━━━━━\u001b[0m \u001b[32m1.0/1.0 MB\u001b[0m \u001b[31m51.0 MB/s\u001b[0m eta \u001b[36m0:00:00\u001b[0m\n",
            "\u001b[2K   \u001b[90m━━━━━━━━━━━━━━━━━━━━━━━━━━━━━━━━━━━━━━━━\u001b[0m \u001b[32m56.4/56.4 kB\u001b[0m \u001b[31m4.3 MB/s\u001b[0m eta \u001b[36m0:00:00\u001b[0m\n",
            "\u001b[2K   \u001b[90m━━━━━━━━━━━━━━━━━━━━━━━━━━━━━━━━━━━━━━━━\u001b[0m \u001b[32m856.7/856.7 kB\u001b[0m \u001b[31m42.1 MB/s\u001b[0m eta \u001b[36m0:00:00\u001b[0m\n",
            "\u001b[2K   \u001b[90m━━━━━━━━━━━━━━━━━━━━━━━━━━━━━━━━━━━━━━━━\u001b[0m \u001b[32m78.5/78.5 kB\u001b[0m \u001b[31m6.8 MB/s\u001b[0m eta \u001b[36m0:00:00\u001b[0m\n",
            "\u001b[2K   \u001b[90m━━━━━━━━━━━━━━━━━━━━━━━━━━━━━━━━━━━━━━━━\u001b[0m \u001b[32m43.3/43.3 kB\u001b[0m \u001b[31m3.7 MB/s\u001b[0m eta \u001b[36m0:00:00\u001b[0m\n",
            "\u001b[?25h  Building wheel for smac (pyproject.toml) ... \u001b[?25l\u001b[?25hdone\n",
            "  Building wheel for ConfigSpace (pyproject.toml) ... \u001b[?25l\u001b[?25hdone\n",
            "  Building wheel for pynisher (pyproject.toml) ... \u001b[?25l\u001b[?25hdone\n"
          ]
        }
      ]
    },
    {
      "cell_type": "markdown",
      "source": [
        "## Imports"
      ],
      "metadata": {
        "id": "pZPFpm9mP06F"
      }
    },
    {
      "cell_type": "code",
      "source": [
        "import numpy as np\n",
        "import pandas as pd\n",
        "import matplotlib.pyplot as plt\n",
        "import seaborn as sns\n",
        "import time\n",
        "import joblib\n",
        "from tqdm.notebook import tqdm\n",
        "\n",
        "from sklearn.model_selection import train_test_split, cross_val_score\n",
        "from sklearn.metrics import accuracy_score, precision_score, recall_score, f1_score, roc_auc_score\n",
        "\n",
        "import tensorflow as tf\n",
        "from tensorflow.keras.datasets import mnist\n",
        "from tensorflow.keras.layers import Dense, Input, Conv2D, MaxPooling2D, Flatten, Reshape\n",
        "from tensorflow.keras.models import Model\n",
        "from tensorflow.keras.optimizers import AdamW\n",
        "from keras.wrappers import SKLearnClassifier\n",
        "\n",
        "from lightgbm import LGBMClassifier\n",
        "\n",
        "import botorch\n",
        "import cmaes\n",
        "\n",
        "import optuna\n",
        "from optuna.samplers import TPESampler, GPSampler, CmaEsSampler\n",
        "from optuna.exceptions import ExperimentalWarning\n",
        "import optunahub\n",
        "import optuna_integration\n",
        "from optuna_integration import BoTorchSampler\n",
        "\n",
        "import pyrfr\n",
        "import smac\n",
        "\n",
        "import warnings\n",
        "warnings.filterwarnings(\"ignore\", category=UserWarning)\n",
        "warnings.filterwarnings(\"ignore\", category=FutureWarning)\n",
        "warnings.filterwarnings(\"ignore\", category=ExperimentalWarning)\n",
        "\n",
        "np.random.seed(42)"
      ],
      "metadata": {
        "id": "zP3_HBdOQ5Jr"
      },
      "execution_count": 14,
      "outputs": []
    },
    {
      "cell_type": "code",
      "source": [
        "from tensorflow.python.platform import build_info as tf_build_info\n",
        "from platform import python_version\n",
        "\n",
        "print(f\"TensorFlow build:\\n{tf_build_info.build_info}\")\n",
        "print(f\"\\nPhysical devices: {tf.config.list_physical_devices('GPU')}\")\n",
        "print(f\"\\nPython version: {python_version()}\")\n",
        "print(f\"TensorFlow version: {tf.__version__}\")\n",
        "print(f\"\\nLightGBM CUDA-linked library:\\n{lgb.basic._LIB}\")"
      ],
      "metadata": {
        "colab": {
          "base_uri": "https://localhost:8080/"
        },
        "id": "Ngw7XPRHB7tm",
        "outputId": "47896ac6-954a-49d6-fed0-3c535bf586d9"
      },
      "execution_count": 15,
      "outputs": [
        {
          "output_type": "stream",
          "name": "stdout",
          "text": [
            "TensorFlow build:\n",
            "OrderedDict([('cpu_compiler', '/usr/lib/llvm-18/bin/clang'), ('cuda_compute_capabilities', ['sm_60', 'sm_70', 'sm_80', 'sm_89', 'compute_90']), ('cuda_version', '12.5.1'), ('cudnn_version', '9'), ('is_cuda_build', True), ('is_rocm_build', False), ('is_tensorrt_build', False)])\n",
            "\n",
            "Physical devices: [PhysicalDevice(name='/physical_device:GPU:0', device_type='GPU')]\n",
            "\n",
            "Python version: 3.11.11\n",
            "TensorFlow version: 2.18.0\n",
            "\n",
            "LightGBM CUDA-linked library:\n",
            "<CDLL '/usr/local/lib/python3.11/dist-packages/lightgbm/lib/lib_lightgbm.so', handle a72e760 at 0x7ac839659750>\n"
          ]
        }
      ]
    },
    {
      "cell_type": "markdown",
      "source": [
        "# Data Loading"
      ],
      "metadata": {
        "id": "LoNegtJJRP07"
      }
    },
    {
      "cell_type": "code",
      "source": [
        "# Load the MNIST dataset\n",
        "(X_train_raw, y_train), (X_test_raw, y_test) = mnist.load_data()\n",
        "\n",
        "# Combine training and test sets into a complete dataset\n",
        "X_all = np.concatenate([X_train_raw, X_test_raw], axis=0)\n",
        "y_all = np.concatenate([y_train, y_test], axis=0)\n",
        "\n",
        "# Flatten images to 784-dimensional vectors\n",
        "X_all_flat = X_all.reshape(-1, 28*28)\n",
        "\n",
        "# Create column names for features\n",
        "feature_columns = [f\"pixel_{i}\" for i in range(28*28)]\n",
        "\n",
        "# Create a DataFrame with features and corresponding label\n",
        "df_mnist = pd.DataFrame(X_all_flat, columns=feature_columns)\n",
        "df_mnist[\"label\"] = y_all\n",
        "\n",
        "# Change the order so the label column is first\n",
        "df_mnist = df_mnist.reindex(columns=['label'] + feature_columns)\n",
        "\n",
        "# Display the DataFrame\n",
        "display(df_mnist.head())"
      ],
      "metadata": {
        "colab": {
          "base_uri": "https://localhost:8080/",
          "height": 290
        },
        "id": "igq4PZ7zRPyS",
        "outputId": "fdef52ce-7098-46de-a188-43b617bfdef3"
      },
      "execution_count": 17,
      "outputs": [
        {
          "output_type": "stream",
          "name": "stdout",
          "text": [
            "Downloading data from https://storage.googleapis.com/tensorflow/tf-keras-datasets/mnist.npz\n",
            "\u001b[1m11490434/11490434\u001b[0m \u001b[32m━━━━━━━━━━━━━━━━━━━━\u001b[0m\u001b[37m\u001b[0m \u001b[1m0s\u001b[0m 0us/step\n"
          ]
        },
        {
          "output_type": "display_data",
          "data": {
            "text/plain": [
              "   label  pixel_0  pixel_1  pixel_2  pixel_3  pixel_4  pixel_5  pixel_6  \\\n",
              "0      5        0        0        0        0        0        0        0   \n",
              "1      0        0        0        0        0        0        0        0   \n",
              "2      4        0        0        0        0        0        0        0   \n",
              "3      1        0        0        0        0        0        0        0   \n",
              "4      9        0        0        0        0        0        0        0   \n",
              "\n",
              "   pixel_7  pixel_8  ...  pixel_774  pixel_775  pixel_776  pixel_777  \\\n",
              "0        0        0  ...          0          0          0          0   \n",
              "1        0        0  ...          0          0          0          0   \n",
              "2        0        0  ...          0          0          0          0   \n",
              "3        0        0  ...          0          0          0          0   \n",
              "4        0        0  ...          0          0          0          0   \n",
              "\n",
              "   pixel_778  pixel_779  pixel_780  pixel_781  pixel_782  pixel_783  \n",
              "0          0          0          0          0          0          0  \n",
              "1          0          0          0          0          0          0  \n",
              "2          0          0          0          0          0          0  \n",
              "3          0          0          0          0          0          0  \n",
              "4          0          0          0          0          0          0  \n",
              "\n",
              "[5 rows x 785 columns]"
            ],
            "text/html": [
              "\n",
              "  <div id=\"df-5b957069-96d0-4994-81ff-3a9e2a025e15\" class=\"colab-df-container\">\n",
              "    <div>\n",
              "<style scoped>\n",
              "    .dataframe tbody tr th:only-of-type {\n",
              "        vertical-align: middle;\n",
              "    }\n",
              "\n",
              "    .dataframe tbody tr th {\n",
              "        vertical-align: top;\n",
              "    }\n",
              "\n",
              "    .dataframe thead th {\n",
              "        text-align: right;\n",
              "    }\n",
              "</style>\n",
              "<table border=\"1\" class=\"dataframe\">\n",
              "  <thead>\n",
              "    <tr style=\"text-align: right;\">\n",
              "      <th></th>\n",
              "      <th>label</th>\n",
              "      <th>pixel_0</th>\n",
              "      <th>pixel_1</th>\n",
              "      <th>pixel_2</th>\n",
              "      <th>pixel_3</th>\n",
              "      <th>pixel_4</th>\n",
              "      <th>pixel_5</th>\n",
              "      <th>pixel_6</th>\n",
              "      <th>pixel_7</th>\n",
              "      <th>pixel_8</th>\n",
              "      <th>...</th>\n",
              "      <th>pixel_774</th>\n",
              "      <th>pixel_775</th>\n",
              "      <th>pixel_776</th>\n",
              "      <th>pixel_777</th>\n",
              "      <th>pixel_778</th>\n",
              "      <th>pixel_779</th>\n",
              "      <th>pixel_780</th>\n",
              "      <th>pixel_781</th>\n",
              "      <th>pixel_782</th>\n",
              "      <th>pixel_783</th>\n",
              "    </tr>\n",
              "  </thead>\n",
              "  <tbody>\n",
              "    <tr>\n",
              "      <th>0</th>\n",
              "      <td>5</td>\n",
              "      <td>0</td>\n",
              "      <td>0</td>\n",
              "      <td>0</td>\n",
              "      <td>0</td>\n",
              "      <td>0</td>\n",
              "      <td>0</td>\n",
              "      <td>0</td>\n",
              "      <td>0</td>\n",
              "      <td>0</td>\n",
              "      <td>...</td>\n",
              "      <td>0</td>\n",
              "      <td>0</td>\n",
              "      <td>0</td>\n",
              "      <td>0</td>\n",
              "      <td>0</td>\n",
              "      <td>0</td>\n",
              "      <td>0</td>\n",
              "      <td>0</td>\n",
              "      <td>0</td>\n",
              "      <td>0</td>\n",
              "    </tr>\n",
              "    <tr>\n",
              "      <th>1</th>\n",
              "      <td>0</td>\n",
              "      <td>0</td>\n",
              "      <td>0</td>\n",
              "      <td>0</td>\n",
              "      <td>0</td>\n",
              "      <td>0</td>\n",
              "      <td>0</td>\n",
              "      <td>0</td>\n",
              "      <td>0</td>\n",
              "      <td>0</td>\n",
              "      <td>...</td>\n",
              "      <td>0</td>\n",
              "      <td>0</td>\n",
              "      <td>0</td>\n",
              "      <td>0</td>\n",
              "      <td>0</td>\n",
              "      <td>0</td>\n",
              "      <td>0</td>\n",
              "      <td>0</td>\n",
              "      <td>0</td>\n",
              "      <td>0</td>\n",
              "    </tr>\n",
              "    <tr>\n",
              "      <th>2</th>\n",
              "      <td>4</td>\n",
              "      <td>0</td>\n",
              "      <td>0</td>\n",
              "      <td>0</td>\n",
              "      <td>0</td>\n",
              "      <td>0</td>\n",
              "      <td>0</td>\n",
              "      <td>0</td>\n",
              "      <td>0</td>\n",
              "      <td>0</td>\n",
              "      <td>...</td>\n",
              "      <td>0</td>\n",
              "      <td>0</td>\n",
              "      <td>0</td>\n",
              "      <td>0</td>\n",
              "      <td>0</td>\n",
              "      <td>0</td>\n",
              "      <td>0</td>\n",
              "      <td>0</td>\n",
              "      <td>0</td>\n",
              "      <td>0</td>\n",
              "    </tr>\n",
              "    <tr>\n",
              "      <th>3</th>\n",
              "      <td>1</td>\n",
              "      <td>0</td>\n",
              "      <td>0</td>\n",
              "      <td>0</td>\n",
              "      <td>0</td>\n",
              "      <td>0</td>\n",
              "      <td>0</td>\n",
              "      <td>0</td>\n",
              "      <td>0</td>\n",
              "      <td>0</td>\n",
              "      <td>...</td>\n",
              "      <td>0</td>\n",
              "      <td>0</td>\n",
              "      <td>0</td>\n",
              "      <td>0</td>\n",
              "      <td>0</td>\n",
              "      <td>0</td>\n",
              "      <td>0</td>\n",
              "      <td>0</td>\n",
              "      <td>0</td>\n",
              "      <td>0</td>\n",
              "    </tr>\n",
              "    <tr>\n",
              "      <th>4</th>\n",
              "      <td>9</td>\n",
              "      <td>0</td>\n",
              "      <td>0</td>\n",
              "      <td>0</td>\n",
              "      <td>0</td>\n",
              "      <td>0</td>\n",
              "      <td>0</td>\n",
              "      <td>0</td>\n",
              "      <td>0</td>\n",
              "      <td>0</td>\n",
              "      <td>...</td>\n",
              "      <td>0</td>\n",
              "      <td>0</td>\n",
              "      <td>0</td>\n",
              "      <td>0</td>\n",
              "      <td>0</td>\n",
              "      <td>0</td>\n",
              "      <td>0</td>\n",
              "      <td>0</td>\n",
              "      <td>0</td>\n",
              "      <td>0</td>\n",
              "    </tr>\n",
              "  </tbody>\n",
              "</table>\n",
              "<p>5 rows × 785 columns</p>\n",
              "</div>\n",
              "    <div class=\"colab-df-buttons\">\n",
              "\n",
              "  <div class=\"colab-df-container\">\n",
              "    <button class=\"colab-df-convert\" onclick=\"convertToInteractive('df-5b957069-96d0-4994-81ff-3a9e2a025e15')\"\n",
              "            title=\"Convert this dataframe to an interactive table.\"\n",
              "            style=\"display:none;\">\n",
              "\n",
              "  <svg xmlns=\"http://www.w3.org/2000/svg\" height=\"24px\" viewBox=\"0 -960 960 960\">\n",
              "    <path d=\"M120-120v-720h720v720H120Zm60-500h600v-160H180v160Zm220 220h160v-160H400v160Zm0 220h160v-160H400v160ZM180-400h160v-160H180v160Zm440 0h160v-160H620v160ZM180-180h160v-160H180v160Zm440 0h160v-160H620v160Z\"/>\n",
              "  </svg>\n",
              "    </button>\n",
              "\n",
              "  <style>\n",
              "    .colab-df-container {\n",
              "      display:flex;\n",
              "      gap: 12px;\n",
              "    }\n",
              "\n",
              "    .colab-df-convert {\n",
              "      background-color: #E8F0FE;\n",
              "      border: none;\n",
              "      border-radius: 50%;\n",
              "      cursor: pointer;\n",
              "      display: none;\n",
              "      fill: #1967D2;\n",
              "      height: 32px;\n",
              "      padding: 0 0 0 0;\n",
              "      width: 32px;\n",
              "    }\n",
              "\n",
              "    .colab-df-convert:hover {\n",
              "      background-color: #E2EBFA;\n",
              "      box-shadow: 0px 1px 2px rgba(60, 64, 67, 0.3), 0px 1px 3px 1px rgba(60, 64, 67, 0.15);\n",
              "      fill: #174EA6;\n",
              "    }\n",
              "\n",
              "    .colab-df-buttons div {\n",
              "      margin-bottom: 4px;\n",
              "    }\n",
              "\n",
              "    [theme=dark] .colab-df-convert {\n",
              "      background-color: #3B4455;\n",
              "      fill: #D2E3FC;\n",
              "    }\n",
              "\n",
              "    [theme=dark] .colab-df-convert:hover {\n",
              "      background-color: #434B5C;\n",
              "      box-shadow: 0px 1px 3px 1px rgba(0, 0, 0, 0.15);\n",
              "      filter: drop-shadow(0px 1px 2px rgba(0, 0, 0, 0.3));\n",
              "      fill: #FFFFFF;\n",
              "    }\n",
              "  </style>\n",
              "\n",
              "    <script>\n",
              "      const buttonEl =\n",
              "        document.querySelector('#df-5b957069-96d0-4994-81ff-3a9e2a025e15 button.colab-df-convert');\n",
              "      buttonEl.style.display =\n",
              "        google.colab.kernel.accessAllowed ? 'block' : 'none';\n",
              "\n",
              "      async function convertToInteractive(key) {\n",
              "        const element = document.querySelector('#df-5b957069-96d0-4994-81ff-3a9e2a025e15');\n",
              "        const dataTable =\n",
              "          await google.colab.kernel.invokeFunction('convertToInteractive',\n",
              "                                                    [key], {});\n",
              "        if (!dataTable) return;\n",
              "\n",
              "        const docLinkHtml = 'Like what you see? Visit the ' +\n",
              "          '<a target=\"_blank\" href=https://colab.research.google.com/notebooks/data_table.ipynb>data table notebook</a>'\n",
              "          + ' to learn more about interactive tables.';\n",
              "        element.innerHTML = '';\n",
              "        dataTable['output_type'] = 'display_data';\n",
              "        await google.colab.output.renderOutput(dataTable, element);\n",
              "        const docLink = document.createElement('div');\n",
              "        docLink.innerHTML = docLinkHtml;\n",
              "        element.appendChild(docLink);\n",
              "      }\n",
              "    </script>\n",
              "  </div>\n",
              "\n",
              "\n",
              "<div id=\"df-634b9ab0-00cb-4324-a7ca-91eaf7ab41d3\">\n",
              "  <button class=\"colab-df-quickchart\" onclick=\"quickchart('df-634b9ab0-00cb-4324-a7ca-91eaf7ab41d3')\"\n",
              "            title=\"Suggest charts\"\n",
              "            style=\"display:none;\">\n",
              "\n",
              "<svg xmlns=\"http://www.w3.org/2000/svg\" height=\"24px\"viewBox=\"0 0 24 24\"\n",
              "     width=\"24px\">\n",
              "    <g>\n",
              "        <path d=\"M19 3H5c-1.1 0-2 .9-2 2v14c0 1.1.9 2 2 2h14c1.1 0 2-.9 2-2V5c0-1.1-.9-2-2-2zM9 17H7v-7h2v7zm4 0h-2V7h2v10zm4 0h-2v-4h2v4z\"/>\n",
              "    </g>\n",
              "</svg>\n",
              "  </button>\n",
              "\n",
              "<style>\n",
              "  .colab-df-quickchart {\n",
              "      --bg-color: #E8F0FE;\n",
              "      --fill-color: #1967D2;\n",
              "      --hover-bg-color: #E2EBFA;\n",
              "      --hover-fill-color: #174EA6;\n",
              "      --disabled-fill-color: #AAA;\n",
              "      --disabled-bg-color: #DDD;\n",
              "  }\n",
              "\n",
              "  [theme=dark] .colab-df-quickchart {\n",
              "      --bg-color: #3B4455;\n",
              "      --fill-color: #D2E3FC;\n",
              "      --hover-bg-color: #434B5C;\n",
              "      --hover-fill-color: #FFFFFF;\n",
              "      --disabled-bg-color: #3B4455;\n",
              "      --disabled-fill-color: #666;\n",
              "  }\n",
              "\n",
              "  .colab-df-quickchart {\n",
              "    background-color: var(--bg-color);\n",
              "    border: none;\n",
              "    border-radius: 50%;\n",
              "    cursor: pointer;\n",
              "    display: none;\n",
              "    fill: var(--fill-color);\n",
              "    height: 32px;\n",
              "    padding: 0;\n",
              "    width: 32px;\n",
              "  }\n",
              "\n",
              "  .colab-df-quickchart:hover {\n",
              "    background-color: var(--hover-bg-color);\n",
              "    box-shadow: 0 1px 2px rgba(60, 64, 67, 0.3), 0 1px 3px 1px rgba(60, 64, 67, 0.15);\n",
              "    fill: var(--button-hover-fill-color);\n",
              "  }\n",
              "\n",
              "  .colab-df-quickchart-complete:disabled,\n",
              "  .colab-df-quickchart-complete:disabled:hover {\n",
              "    background-color: var(--disabled-bg-color);\n",
              "    fill: var(--disabled-fill-color);\n",
              "    box-shadow: none;\n",
              "  }\n",
              "\n",
              "  .colab-df-spinner {\n",
              "    border: 2px solid var(--fill-color);\n",
              "    border-color: transparent;\n",
              "    border-bottom-color: var(--fill-color);\n",
              "    animation:\n",
              "      spin 1s steps(1) infinite;\n",
              "  }\n",
              "\n",
              "  @keyframes spin {\n",
              "    0% {\n",
              "      border-color: transparent;\n",
              "      border-bottom-color: var(--fill-color);\n",
              "      border-left-color: var(--fill-color);\n",
              "    }\n",
              "    20% {\n",
              "      border-color: transparent;\n",
              "      border-left-color: var(--fill-color);\n",
              "      border-top-color: var(--fill-color);\n",
              "    }\n",
              "    30% {\n",
              "      border-color: transparent;\n",
              "      border-left-color: var(--fill-color);\n",
              "      border-top-color: var(--fill-color);\n",
              "      border-right-color: var(--fill-color);\n",
              "    }\n",
              "    40% {\n",
              "      border-color: transparent;\n",
              "      border-right-color: var(--fill-color);\n",
              "      border-top-color: var(--fill-color);\n",
              "    }\n",
              "    60% {\n",
              "      border-color: transparent;\n",
              "      border-right-color: var(--fill-color);\n",
              "    }\n",
              "    80% {\n",
              "      border-color: transparent;\n",
              "      border-right-color: var(--fill-color);\n",
              "      border-bottom-color: var(--fill-color);\n",
              "    }\n",
              "    90% {\n",
              "      border-color: transparent;\n",
              "      border-bottom-color: var(--fill-color);\n",
              "    }\n",
              "  }\n",
              "</style>\n",
              "\n",
              "  <script>\n",
              "    async function quickchart(key) {\n",
              "      const quickchartButtonEl =\n",
              "        document.querySelector('#' + key + ' button');\n",
              "      quickchartButtonEl.disabled = true;  // To prevent multiple clicks.\n",
              "      quickchartButtonEl.classList.add('colab-df-spinner');\n",
              "      try {\n",
              "        const charts = await google.colab.kernel.invokeFunction(\n",
              "            'suggestCharts', [key], {});\n",
              "      } catch (error) {\n",
              "        console.error('Error during call to suggestCharts:', error);\n",
              "      }\n",
              "      quickchartButtonEl.classList.remove('colab-df-spinner');\n",
              "      quickchartButtonEl.classList.add('colab-df-quickchart-complete');\n",
              "    }\n",
              "    (() => {\n",
              "      let quickchartButtonEl =\n",
              "        document.querySelector('#df-634b9ab0-00cb-4324-a7ca-91eaf7ab41d3 button');\n",
              "      quickchartButtonEl.style.display =\n",
              "        google.colab.kernel.accessAllowed ? 'block' : 'none';\n",
              "    })();\n",
              "  </script>\n",
              "</div>\n",
              "\n",
              "    </div>\n",
              "  </div>\n"
            ],
            "application/vnd.google.colaboratory.intrinsic+json": {
              "type": "dataframe"
            }
          },
          "metadata": {}
        }
      ]
    },
    {
      "cell_type": "code",
      "source": [
        "# Visualize 9 sample MNIST images\n",
        "plt.figure(figsize=(8, 8))\n",
        "for i in range(9):\n",
        "    plt.subplot(3, 3, i + 1)\n",
        "    plt.imshow(X_all[i], cmap=\"gray\")\n",
        "    plt.title(f\"Label: {y_all[i]}\")\n",
        "    plt.axis(\"off\")\n",
        "plt.suptitle(\"Sample MNIST Images\")\n",
        "plt.show()"
      ],
      "metadata": {
        "colab": {
          "base_uri": "https://localhost:8080/",
          "height": 732
        },
        "id": "v9iEMMZ9RPvb",
        "outputId": "d5925c03-f904-456c-c452-c31d0bc2d4d9"
      },
      "execution_count": 18,
      "outputs": [
        {
          "output_type": "display_data",
          "data": {
            "text/plain": [
              "<Figure size 800x800 with 9 Axes>"
            ],
            "image/png": "[encoded data removed]"
          },
          "metadata": {}
        }
      ]
    },
    {
      "cell_type": "code",
      "source": [
        "# Plot the distribution of labels\n",
        "plt.figure(figsize=(6, 4))\n",
        "sns.countplot(x=df_mnist[\"label\"])\n",
        "plt.title(\"MNIST Label Distribution\")\n",
        "plt.show()"
      ],
      "metadata": {
        "colab": {
          "base_uri": "https://localhost:8080/",
          "height": 410
        },
        "id": "BHIG-9x7RWlG",
        "outputId": "980e7eba-754b-4680-833c-9b9d3e95fdf5"
      },
      "execution_count": 19,
      "outputs": [
        {
          "output_type": "display_data",
          "data": {
            "text/plain": [
              "<Figure size 600x400 with 1 Axes>"
            ],
            "image/png": "[encoded data removed]"
          },
          "metadata": {}
        }
      ]
    },
    {
      "cell_type": "markdown",
      "source": [
        "# Data Preparation"
      ],
      "metadata": {
        "id": "dR2rn0HBRX-a"
      }
    },
    {
      "cell_type": "code",
      "source": [
        "# Normalize pixel values to [0, 1]\n",
        "X_all_norm = df_mnist[feature_columns].astype(\"float32\") / 255.0\n",
        "y_all = df_mnist[\"label\"]"
      ],
      "metadata": {
        "id": "CBaKM6aFRaSi"
      },
      "execution_count": 20,
      "outputs": []
    },
    {
      "cell_type": "code",
      "source": [
        "# Re-split into training and test sets with stratification\n",
        "X_train, X_test, y_train, y_test = train_test_split(\n",
        "    X_all_norm,\n",
        "    y_all,\n",
        "    test_size=0.2,\n",
        "    random_state=42,\n",
        "    stratify=y_all\n",
        ")"
      ],
      "metadata": {
        "id": "unExHsaGRb7P"
      },
      "execution_count": 21,
      "outputs": []
    },
    {
      "cell_type": "code",
      "source": [
        "# Print the shapes\n",
        "print(\"Training Data Shapes:\")\n",
        "print(f\"X_train: {X_train.shape}\")\n",
        "print(f\"y_train: {y_train.shape}\")\n",
        "\n",
        "print(\"\\nTesting Data Shapes:\")\n",
        "print(f\"X_test: {X_test.shape}\")\n",
        "print(f\"y_test: {y_test.shape}\")"
      ],
      "metadata": {
        "colab": {
          "base_uri": "https://localhost:8080/"
        },
        "id": "qvVQU0YKaWkU",
        "outputId": "11649d7a-0910-4c79-c83d-26f357d73f30"
      },
      "execution_count": 22,
      "outputs": [
        {
          "output_type": "stream",
          "name": "stdout",
          "text": [
            "Training Data Shapes:\n",
            "X_train: (56000, 784)\n",
            "y_train: (56000,)\n",
            "\n",
            "Testing Data Shapes:\n",
            "X_test: (14000, 784)\n",
            "y_test: (14000,)\n"
          ]
        }
      ]
    },
    {
      "cell_type": "markdown",
      "source": [
        "# Model Definition"
      ],
      "metadata": {
        "id": "xTH0QT70SCu8"
      }
    },
    {
      "cell_type": "code",
      "source": [
        "def build_lgb_model(params=None):\n",
        "    if params is None:\n",
        "        params = {\n",
        "            \"n_estimators\": 100,\n",
        "            \"num_leaves\": 31,\n",
        "            \"learning_rate\": 0.1,\n",
        "            \"verbose\": -1,\n",
        "            \"device\": \"cuda\"\n",
        "        }\n",
        "    model = LGBMClassifier(\n",
        "        n_estimators=params[\"n_estimators\"],\n",
        "        num_leaves=params[\"num_leaves\"],\n",
        "        learning_rate=params[\"learning_rate\"],\n",
        "        verbose=params[\"verbose\"],\n",
        "        device=params[\"device\"]\n",
        "    )\n",
        "    return model"
      ],
      "metadata": {
        "id": "dtnwE3ndSCsZ"
      },
      "execution_count": 23,
      "outputs": []
    },
    {
      "cell_type": "code",
      "source": [
        "def build_cnn_model(X, y, input_shape=(28*28,), num_classes=10, conv_filters=32, dense_units=64, lr=1e-3, **kwargs):\n",
        "    inp = Input(shape=input_shape)  # expects flattened input (784,)\n",
        "    x = Reshape((28, 28, 1))(inp)  # reshape to (28, 28, 1) for the CNN layers\n",
        "    x = Conv2D(conv_filters, (3, 3), activation=\"relu\")(x)  # first conv layer\n",
        "    x = MaxPooling2D((2, 2))(x)  # first pooling\n",
        "    x = Conv2D(conv_filters*2, (3, 3), activation=\"relu\")(x)  # second conv layer\n",
        "    x = MaxPooling2D((2, 2))(x)  # second pooling\n",
        "    x = Flatten()(x)  # flatten output\n",
        "    x = Dense(dense_units, activation=\"relu\")(x)  # dense layer\n",
        "    out = Dense(num_classes, activation=\"softmax\")(x)  # output layer\n",
        "    model = Model(inp, out)\n",
        "    model.compile(\n",
        "        optimizer=AdamW(learning_rate=lr),\n",
        "        loss=\"categorical_crossentropy\",\n",
        "        metrics=[\"accuracy\"]\n",
        "    )\n",
        "    return model"
      ],
      "metadata": {
        "id": "6sfb4fJSTTJm"
      },
      "execution_count": 24,
      "outputs": []
    },
    {
      "cell_type": "code",
      "source": [
        "print(\"Validating LightGBM model...\")\n",
        "lgb_model = build_lgb_model()\n",
        "lgb_model.fit(X_train, y_train)\n",
        "preds_lgb = lgb_model.predict(X_test)\n",
        "acc_lgb = accuracy_score(y_test, preds_lgb)\n",
        "print(f\"LightGBM Accuracy: {acc_lgb:.4f}\")"
      ],
      "metadata": {
        "colab": {
          "base_uri": "https://localhost:8080/"
        },
        "id": "P_OJ4N6lZcks",
        "outputId": "f24dba4a-6c1a-435e-ca7e-9613d543ee9e"
      },
      "execution_count": 23,
      "outputs": [
        {
          "output_type": "stream",
          "name": "stdout",
          "text": [
            "Validating LightGBM model...\n",
            "LightGBM Accuracy: 0.9760\n"
          ]
        }
      ]
    },
    {
      "cell_type": "code",
      "source": [
        "print(\"Validating CNN model...\")\n",
        "cnn_clf = SKLearnClassifier(\n",
        "    model=build_cnn_model,\n",
        "    model_kwargs={\n",
        "        \"input_shape\": (28*28,),\n",
        "        \"num_classes\": 10,\n",
        "        \"conv_filters\": 32,\n",
        "        \"dense_units\": 64,\n",
        "        \"lr\": 1e-3\n",
        "    },\n",
        "    fit_kwargs={\n",
        "        \"epochs\": 10,\n",
        "        \"batch_size\": 32,\n",
        "        \"verbose\": 1\n",
        "    }\n",
        ")\n",
        "cnn_clf.fit(X_train, y_train)\n",
        "preds_cnn = cnn_clf.predict(X_test)\n",
        "acc_cnn = accuracy_score(y_test, preds_cnn)\n",
        "print(f\"\\nCNN Accuracy: {acc_cnn:.4f}\")"
      ],
      "metadata": {
        "colab": {
          "base_uri": "https://localhost:8080/"
        },
        "id": "ijQhqmeMZciT",
        "outputId": "85181ea2-6816-486b-a5c2-9c9065fb469d"
      },
      "execution_count": 24,
      "outputs": [
        {
          "output_type": "stream",
          "name": "stdout",
          "text": [
            "Validating CNN model...\n",
            "Epoch 1/10\n",
            "\u001b[1m1750/1750\u001b[0m \u001b[32m━━━━━━━━━━━━━━━━━━━━\u001b[0m\u001b[37m\u001b[0m \u001b[1m259s\u001b[0m 147ms/step - accuracy: 0.8903 - loss: 0.3451\n",
            "Epoch 2/10\n",
            "\u001b[1m1750/1750\u001b[0m \u001b[32m━━━━━━━━━━━━━━━━━━━━\u001b[0m\u001b[37m\u001b[0m \u001b[1m239s\u001b[0m 136ms/step - accuracy: 0.9845 - loss: 0.0516\n",
            "Epoch 3/10\n",
            "\u001b[1m1750/1750\u001b[0m \u001b[32m━━━━━━━━━━━━━━━━━━━━\u001b[0m\u001b[37m\u001b[0m \u001b[1m234s\u001b[0m 134ms/step - accuracy: 0.9889 - loss: 0.0351\n",
            "Epoch 4/10\n",
            "\u001b[1m1750/1750\u001b[0m \u001b[32m━━━━━━━━━━━━━━━━━━━━\u001b[0m\u001b[37m\u001b[0m \u001b[1m231s\u001b[0m 132ms/step - accuracy: 0.9921 - loss: 0.0245\n",
            "Epoch 5/10\n",
            "\u001b[1m1750/1750\u001b[0m \u001b[32m━━━━━━━━━━━━━━━━━━━━\u001b[0m\u001b[37m\u001b[0m \u001b[1m233s\u001b[0m 133ms/step - accuracy: 0.9947 - loss: 0.0178\n",
            "Epoch 6/10\n",
            "\u001b[1m1750/1750\u001b[0m \u001b[32m━━━━━━━━━━━━━━━━━━━━\u001b[0m\u001b[37m\u001b[0m \u001b[1m230s\u001b[0m 131ms/step - accuracy: 0.9961 - loss: 0.0129\n",
            "Epoch 7/10\n",
            "\u001b[1m1750/1750\u001b[0m \u001b[32m━━━━━━━━━━━━━━━━━━━━\u001b[0m\u001b[37m\u001b[0m \u001b[1m235s\u001b[0m 134ms/step - accuracy: 0.9962 - loss: 0.0108\n",
            "Epoch 8/10\n",
            "\u001b[1m1750/1750\u001b[0m \u001b[32m━━━━━━━━━━━━━━━━━━━━\u001b[0m\u001b[37m\u001b[0m \u001b[1m233s\u001b[0m 133ms/step - accuracy: 0.9972 - loss: 0.0083\n",
            "Epoch 9/10\n",
            "\u001b[1m1750/1750\u001b[0m \u001b[32m━━━━━━━━━━━━━━━━━━━━\u001b[0m\u001b[37m\u001b[0m \u001b[1m229s\u001b[0m 131ms/step - accuracy: 0.9975 - loss: 0.0080\n",
            "Epoch 10/10\n",
            "\u001b[1m1750/1750\u001b[0m \u001b[32m━━━━━━━━━━━━━━━━━━━━\u001b[0m\u001b[37m\u001b[0m \u001b[1m234s\u001b[0m 134ms/step - accuracy: 0.9977 - loss: 0.0078\n",
            "\u001b[1m438/438\u001b[0m \u001b[32m━━━━━━━━━━━━━━━━━━━━\u001b[0m\u001b[37m\u001b[0m \u001b[1m2s\u001b[0m 5ms/step\n",
            "\n",
            "CNN Accuracy: 0.9897\n"
          ]
        }
      ]
    },
    {
      "cell_type": "markdown",
      "source": [
        "# Objective Functions"
      ],
      "metadata": {
        "id": "_58eRDqgTkfl"
      }
    },
    {
      "cell_type": "code",
      "source": [
        "def objective_lgb(trial: optuna.Trial) -> float:\n",
        "    params = {\n",
        "        \"n_estimators\": trial.suggest_int(\"n_estimators\", 50, 300),\n",
        "        \"num_leaves\": trial.suggest_int(\"num_leaves\", 20, 100),\n",
        "        \"learning_rate\": trial.suggest_float(\"learning_rate\", 1e-3, 0.2, log=True),\n",
        "        \"verbose\": -1,\n",
        "        \"device\": \"cuda\"\n",
        "    }\n",
        "    model = build_lgb_model(params)\n",
        "    score = cross_val_score(model, X_train, y_train, cv=3, scoring=\"accuracy\").mean()\n",
        "    return score"
      ],
      "metadata": {
        "id": "y_h2A-eZTrWz"
      },
      "execution_count": 25,
      "outputs": []
    },
    {
      "cell_type": "code",
      "source": [
        "def objective_cnn(trial: optuna.Trial) -> float:\n",
        "    conv_filters = trial.suggest_int(\"conv_filters\", 16, 64)\n",
        "    dense_units = trial.suggest_int(\"dense_units\", 32, 128)\n",
        "    lr = trial.suggest_float(\"lr\", 1e-4, 1e-2, log=True)\n",
        "    epochs = trial.suggest_int(\"epochs\", 5, 15)\n",
        "    batch_size = trial.suggest_int(\"batch_size\", 16, 128, log=True)\n",
        "    clf = SKLearnClassifier(\n",
        "        model=build_cnn_model,\n",
        "        model_kwargs={\n",
        "            \"input_shape\": (28*28,),\n",
        "            \"num_classes\": 10,\n",
        "            \"conv_filters\": conv_filters,\n",
        "            \"dense_units\": dense_units,\n",
        "            \"lr\": lr\n",
        "        },\n",
        "        fit_kwargs={\n",
        "            \"epochs\": epochs,\n",
        "            \"batch_size\": batch_size,\n",
        "            \"verbose\": 0\n",
        "        }\n",
        "    )\n",
        "    score = cross_val_score(clf, X_train, y_train, cv=3, scoring=\"accuracy\").mean()\n",
        "    return score"
      ],
      "metadata": {
        "id": "EuVMKeIWTwQc"
      },
      "execution_count": 26,
      "outputs": []
    },
    {
      "cell_type": "markdown",
      "source": [
        "# Hyperparameter Tuning"
      ],
      "metadata": {
        "id": "0k8Nsqd4T8VG"
      }
    },
    {
      "cell_type": "code",
      "source": [
        "# Define samplers\n",
        "smac_mod = optunahub.load_module(\"samplers/smac_sampler\")\n",
        "gwo_mod = optunahub.load_module(\"samplers/grey_wolf_optimization\")\n",
        "\n",
        "SMACSampler = smac_mod.SMACSampler\n",
        "GWOSampler = gwo_mod.GreyWolfOptimizationSampler\n",
        "\n",
        "smac_dict_lgb = {\n",
        "    \"n_estimators\": optuna.distributions.IntDistribution(50, 300),\n",
        "    \"num_leaves\": optuna.distributions.IntDistribution(20, 100),\n",
        "    \"learning_rate\": optuna.distributions.FloatDistribution(1e-3, 0.2, log=True),\n",
        "}\n",
        "\n",
        "samplers_lgb = {\n",
        "    \"TPESampler\": TPESampler(),\n",
        "    \"CmaEsSampler\": CmaEsSampler(),\n",
        "    \"GPSampler\": GPSampler(),\n",
        "    \"BoTorchSampler\": BoTorchSampler(),\n",
        "    \"SMACSampler\": SMACSampler(smac_dict_lgb),\n",
        "    \"GWOSampler\": GWOSampler(),\n",
        "}\n",
        "\n",
        "smac_dict_cnn = {\n",
        "    \"conv_filters\": optuna.distributions.IntDistribution(16, 64),\n",
        "    \"dense_units\": optuna.distributions.IntDistribution(32, 128),\n",
        "    \"lr\": optuna.distributions.FloatDistribution(1e-4, 1e-2, log=True),\n",
        "    \"epochs\": optuna.distributions.IntDistribution(5, 15),\n",
        "    \"batch_size\": optuna.distributions.IntDistribution(16, 128, log=True),\n",
        "}\n",
        "\n",
        "samplers_cnn = {\n",
        "    \"TPESampler\": TPESampler(),\n",
        "    \"CmaEsSampler\": CmaEsSampler(),\n",
        "    \"GPSampler\": GPSampler(),\n",
        "    \"BoTorchSampler\": BoTorchSampler(),\n",
        "    \"SMACSampler\": SMACSampler(smac_dict_cnn),\n",
        "    \"GWOSampler\": GWOSampler(),\n",
        "}"
      ],
      "metadata": {
        "colab": {
          "base_uri": "https://localhost:8080/"
        },
        "id": "FcmQzHK0T_9E",
        "outputId": "8974ed7f-cae4-4a1f-da57-85514efa53c3"
      },
      "execution_count": 27,
      "outputs": [
        {
          "output_type": "stream",
          "name": "stdout",
          "text": [
            "[INFO][abstract_initial_design.py:147] Using 25 initial design configurations and 0 additional configurations.\n",
            "[INFO][abstract_initial_design.py:95] Reducing the number of initial configurations from 50 to 25 (max_ratio == 0.25).\n",
            "[INFO][abstract_initial_design.py:147] Using 25 initial design configurations and 0 additional configurations.\n"
          ]
        }
      ]
    },
    {
      "cell_type": "code",
      "source": [
        "def run_studies(objective, sampler_dict, n_trials=5):\n",
        "    best_params = {}\n",
        "    for name, sampler in sampler_dict.items():\n",
        "        sampler_instance = sampler() if isinstance(sampler, type) else sampler\n",
        "        study = optuna.create_study(direction=\"maximize\", sampler=sampler_instance)\n",
        "        study.optimize(objective, n_trials=n_trials)\n",
        "        best_params[name] = study.best_trial.params\n",
        "        print(f\"Best params for {objective.__name__} with {name}: {study.best_trial.params}\")\n",
        "        print(\"\\n\\n\")\n",
        "        time.sleep(3)\n",
        "\n",
        "    return best_params"
      ],
      "metadata": {
        "id": "LqpXGgHGUWCX"
      },
      "execution_count": 28,
      "outputs": []
    },
    {
      "cell_type": "code",
      "source": [
        "# Run tuning for each model\n",
        "print(\"Tuning LightGBM models...\")\n",
        "time.sleep(3)\n",
        "best_params_lgb = run_studies(objective_lgb, samplers_lgb, n_trials=3)\n",
        "\n",
        "time.sleep(3)\n",
        "print(\"\\nTuning CNN models...\")\n",
        "time.sleep(3)\n",
        "best_params_cnn = run_studies(objective_cnn, samplers_cnn, n_trials=3)"
      ],
      "metadata": {
        "colab": {
          "base_uri": "https://localhost:8080/"
        },
        "id": "-jMDk6ZuXhMV",
        "outputId": "793b6bb7-c854-4a4f-951f-4dd06c04cfae"
      },
      "execution_count": 29,
      "outputs": [
        {
          "output_type": "stream",
          "name": "stdout",
          "text": [
            "Tuning LightGBM models...\n"
          ]
        },
        {
          "output_type": "stream",
          "name": "stderr",
          "text": [
            "[I 2025-02-19 02:22:58,832] A new study created in memory with name: no-name-8612ae65-7e7e-48ac-9962-0e1a78141553\n",
            "[I 2025-02-19 02:28:39,369] Trial 0 finished with value: 0.9767678893352483 and parameters: {'n_estimators': 280, 'num_leaves': 30, 'learning_rate': 0.05358498952206787}. Best is trial 0 with value: 0.9767678893352483.\n",
            "[I 2025-02-19 02:32:45,717] Trial 1 finished with value: 0.9773214499221424 and parameters: {'n_estimators': 241, 'num_leaves': 65, 'learning_rate': 0.15867164879669876}. Best is trial 1 with value: 0.9773214499221424.\n",
            "[I 2025-02-19 02:39:07,869] Trial 2 finished with value: 0.9277857812051401 and parameters: {'n_estimators': 129, 'num_leaves': 88, 'learning_rate': 0.0020336751616209054}. Best is trial 1 with value: 0.9773214499221424.\n"
          ]
        },
        {
          "output_type": "stream",
          "name": "stdout",
          "text": [
            "Best params for objective_lgb with TPESampler: {'n_estimators': 241, 'num_leaves': 65, 'learning_rate': 0.15867164879669876}\n",
            "\n",
            "\n",
            "\n"
          ]
        },
        {
          "output_type": "stream",
          "name": "stderr",
          "text": [
            "[I 2025-02-19 02:39:10,871] A new study created in memory with name: no-name-755d8221-7b79-4884-9e8c-ed86dacaa5ee\n",
            "[I 2025-02-19 02:49:17,046] Trial 0 finished with value: 0.9387143315943871 and parameters: {'n_estimators': 182, 'num_leaves': 96, 'learning_rate': 0.0027189454826265056}. Best is trial 0 with value: 0.9387143315943871.\n",
            "[I 2025-02-19 02:56:32,577] Trial 1 finished with value: 0.9651250229373516 and parameters: {'n_estimators': 206, 'num_leaves': 58, 'learning_rate': 0.01721173785706532}. Best is trial 1 with value: 0.9651250229373516.\n",
            "[I 2025-02-19 03:03:08,096] Trial 2 finished with value: 0.9455714658460556 and parameters: {'n_estimators': 191, 'num_leaves': 58, 'learning_rate': 0.0059621172857986125}. Best is trial 1 with value: 0.9651250229373516.\n"
          ]
        },
        {
          "output_type": "stream",
          "name": "stdout",
          "text": [
            "Best params for objective_lgb with CmaEsSampler: {'n_estimators': 206, 'num_leaves': 58, 'learning_rate': 0.01721173785706532}\n",
            "\n",
            "\n",
            "\n"
          ]
        },
        {
          "output_type": "stream",
          "name": "stderr",
          "text": [
            "[I 2025-02-19 03:03:11,098] A new study created in memory with name: no-name-a43da27a-7395-4b44-a08a-383b137e9628\n",
            "[I 2025-02-19 03:06:09,510] Trial 0 finished with value: 0.9756071613368141 and parameters: {'n_estimators': 88, 'num_leaves': 59, 'learning_rate': 0.14008707299757336}. Best is trial 0 with value: 0.9756071613368141.\n",
            "[I 2025-02-19 03:07:56,450] Trial 1 finished with value: 0.8927322005065985 and parameters: {'n_estimators': 145, 'num_leaves': 20, 'learning_rate': 0.0021559527292986293}. Best is trial 0 with value: 0.9756071613368141.\n",
            "[I 2025-02-19 03:16:17,245] Trial 2 finished with value: 0.9588750340942792 and parameters: {'n_estimators': 177, 'num_leaves': 81, 'learning_rate': 0.012280390827268832}. Best is trial 0 with value: 0.9756071613368141.\n"
          ]
        },
        {
          "output_type": "stream",
          "name": "stdout",
          "text": [
            "Best params for objective_lgb with GPSampler: {'n_estimators': 88, 'num_leaves': 59, 'learning_rate': 0.14008707299757336}\n",
            "\n",
            "\n",
            "\n"
          ]
        },
        {
          "output_type": "stream",
          "name": "stderr",
          "text": [
            "[I 2025-02-19 03:16:20,246] A new study created in memory with name: no-name-a54df908-7388-41d4-abb9-8278c8dba13b\n",
            "[I 2025-02-19 03:21:43,369] Trial 0 finished with value: 0.9635535975537532 and parameters: {'n_estimators': 134, 'num_leaves': 70, 'learning_rate': 0.02292443452635111}. Best is trial 0 with value: 0.9635535975537532.\n",
            "[I 2025-02-19 03:30:10,082] Trial 1 finished with value: 0.9687143010007286 and parameters: {'n_estimators': 199, 'num_leaves': 71, 'learning_rate': 0.023352242548466923}. Best is trial 1 with value: 0.9687143010007286.\n",
            "[I 2025-02-19 03:34:39,539] Trial 2 finished with value: 0.9726785733244462 and parameters: {'n_estimators': 137, 'num_leaves': 56, 'learning_rate': 0.054341131708659576}. Best is trial 2 with value: 0.9726785733244462.\n"
          ]
        },
        {
          "output_type": "stream",
          "name": "stdout",
          "text": [
            "Best params for objective_lgb with BoTorchSampler: {'n_estimators': 137, 'num_leaves': 56, 'learning_rate': 0.054341131708659576}\n",
            "\n",
            "\n",
            "\n"
          ]
        },
        {
          "output_type": "stream",
          "name": "stderr",
          "text": [
            "[I 2025-02-19 03:34:42,540] A new study created in memory with name: no-name-916d39ee-1848-436d-8275-23c095f1f221\n"
          ]
        },
        {
          "output_type": "stream",
          "name": "stdout",
          "text": [
            "[INFO][abstract_intensifier.py:306] Using only one seed for deterministic scenario.\n",
            "[INFO][abstract_intensifier.py:516] Added config c3f701 as new incumbent because there are no incumbents yet.\n"
          ]
        },
        {
          "output_type": "stream",
          "name": "stderr",
          "text": [
            "[I 2025-02-19 03:36:22,891] Trial 0 finished with value: 0.976928603621065 and parameters: {'n_estimators': 133, 'num_leaves': 20, 'learning_rate': 0.1633212753179}. Best is trial 0 with value: 0.976928603621065.\n",
            "[I 2025-02-19 03:46:28,112] Trial 1 finished with value: 0.953767888682813 and parameters: {'n_estimators': 246, 'num_leaves': 67, 'learning_rate': 0.0068634535215}. Best is trial 0 with value: 0.976928603621065.\n",
            "[I 2025-02-19 03:48:37,161] Trial 2 finished with value: 0.898160785969495 and parameters: {'n_estimators': 65, 'num_leaves': 59, 'learning_rate': 0.0016495117439}. Best is trial 0 with value: 0.976928603621065.\n"
          ]
        },
        {
          "output_type": "stream",
          "name": "stdout",
          "text": [
            "Best params for objective_lgb with SMACSampler: {'n_estimators': 133, 'num_leaves': 20, 'learning_rate': 0.1633212753179}\n",
            "\n",
            "\n",
            "\n"
          ]
        },
        {
          "output_type": "stream",
          "name": "stderr",
          "text": [
            "[I 2025-02-19 03:48:40,162] A new study created in memory with name: no-name-b3142f9f-7f33-4a22-aef2-78ecce4f1f17\n",
            "[I 2025-02-19 03:57:11,933] Trial 0 finished with value: 0.9685892917530348 and parameters: {'n_estimators': 187, 'num_leaves': 77, 'learning_rate': 0.024376795198947098}. Best is trial 0 with value: 0.9685892917530348.\n",
            "[I 2025-02-19 04:03:42,548] Trial 1 finished with value: 0.9620714610733301 and parameters: {'n_estimators': 156, 'num_leaves': 72, 'learning_rate': 0.01793876531448651}. Best is trial 0 with value: 0.9685892917530348.\n",
            "[I 2025-02-19 04:20:07,384] Trial 2 finished with value: 0.9628750181526678 and parameters: {'n_estimators': 273, 'num_leaves': 98, 'learning_rate': 0.010160177584759029}. Best is trial 0 with value: 0.9685892917530348.\n"
          ]
        },
        {
          "output_type": "stream",
          "name": "stdout",
          "text": [
            "Best params for objective_lgb with GWOSampler: {'n_estimators': 187, 'num_leaves': 77, 'learning_rate': 0.024376795198947098}\n",
            "\n",
            "\n",
            "\n",
            "\n",
            "Tuning CNN models...\n"
          ]
        },
        {
          "output_type": "stream",
          "name": "stderr",
          "text": [
            "[I 2025-02-19 04:20:16,387] A new study created in memory with name: no-name-01a02f03-2002-495f-8a36-aa0e8138e09e\n"
          ]
        },
        {
          "output_type": "stream",
          "name": "stdout",
          "text": [
            "\u001b[1m1167/1167\u001b[0m \u001b[32m━━━━━━━━━━━━━━━━━━━━\u001b[0m\u001b[37m\u001b[0m \u001b[1m109s\u001b[0m 92ms/step - accuracy: 0.8808 - loss: 0.3891\n",
            "\u001b[1m584/584\u001b[0m \u001b[32m━━━━━━━━━━━━━━━━━━━━\u001b[0m\u001b[37m\u001b[0m \u001b[1m2s\u001b[0m 4ms/step\n",
            "\u001b[1m1167/1167\u001b[0m \u001b[32m━━━━━━━━━━━━━━━━━━━━\u001b[0m\u001b[37m\u001b[0m \u001b[1m106s\u001b[0m 90ms/step - accuracy: 0.8852 - loss: 0.3735\n",
            "\u001b[1m584/584\u001b[0m \u001b[32m━━━━━━━━━━━━━━━━━━━━\u001b[0m\u001b[37m\u001b[0m \u001b[1m2s\u001b[0m 4ms/step\n",
            "\u001b[1m1167/1167\u001b[0m \u001b[32m━━━━━━━━━━━━━━━━━━━━\u001b[0m\u001b[37m\u001b[0m \u001b[1m104s\u001b[0m 88ms/step - accuracy: 0.8802 - loss: 0.3892\n",
            "\u001b[1m584/584\u001b[0m \u001b[32m━━━━━━━━━━━━━━━━━━━━\u001b[0m\u001b[37m\u001b[0m \u001b[1m2s\u001b[0m 4ms/step\n"
          ]
        },
        {
          "output_type": "stream",
          "name": "stderr",
          "text": [
            "[I 2025-02-19 04:25:44,754] Trial 0 finished with value: 0.976125014015636 and parameters: {'conv_filters': 19, 'dense_units': 94, 'lr': 0.0016074382622105342, 'epochs': 5, 'batch_size': 31}. Best is trial 0 with value: 0.976125014015636.\n"
          ]
        },
        {
          "output_type": "stream",
          "name": "stdout",
          "text": [
            "\u001b[1m1167/1167\u001b[0m \u001b[32m━━━━━━━━━━━━━━━━━━━━\u001b[0m\u001b[37m\u001b[0m \u001b[1m306s\u001b[0m 261ms/step - accuracy: 0.9077 - loss: 0.2816\n",
            "\u001b[1m584/584\u001b[0m \u001b[32m━━━━━━━━━━━━━━━━━━━━\u001b[0m\u001b[37m\u001b[0m \u001b[1m5s\u001b[0m 9ms/step\n",
            "\u001b[1m1167/1167\u001b[0m \u001b[32m━━━━━━━━━━━━━━━━━━━━\u001b[0m\u001b[37m\u001b[0m \u001b[1m302s\u001b[0m 257ms/step - accuracy: 0.8967 - loss: 0.3187\n",
            "\u001b[1m584/584\u001b[0m \u001b[32m━━━━━━━━━━━━━━━━━━━━\u001b[0m\u001b[37m\u001b[0m \u001b[1m4s\u001b[0m 7ms/step\n",
            "\u001b[1m1167/1167\u001b[0m \u001b[32m━━━━━━━━━━━━━━━━━━━━\u001b[0m\u001b[37m\u001b[0m \u001b[1m307s\u001b[0m 261ms/step - accuracy: 0.9009 - loss: 0.3169\n",
            "\u001b[1m584/584\u001b[0m \u001b[32m━━━━━━━━━━━━━━━━━━━━\u001b[0m\u001b[37m\u001b[0m \u001b[1m5s\u001b[0m 9ms/step\n"
          ]
        },
        {
          "output_type": "stream",
          "name": "stderr",
          "text": [
            "[I 2025-02-19 04:41:15,659] Trial 1 finished with value: 0.9817857008810015 and parameters: {'conv_filters': 59, 'dense_units': 92, 'lr': 0.0015972696406334947, 'epochs': 5, 'batch_size': 34}. Best is trial 1 with value: 0.9817857008810015.\n"
          ]
        },
        {
          "output_type": "stream",
          "name": "stdout",
          "text": [
            "\u001b[1m1167/1167\u001b[0m \u001b[32m━━━━━━━━━━━━━━━━━━━━\u001b[0m\u001b[37m\u001b[0m \u001b[1m304s\u001b[0m 259ms/step - accuracy: 0.8703 - loss: 0.4693\n",
            "\u001b[1m584/584\u001b[0m \u001b[32m━━━━━━━━━━━━━━━━━━━━\u001b[0m\u001b[37m\u001b[0m \u001b[1m6s\u001b[0m 9ms/step\n",
            "\u001b[1m1167/1167\u001b[0m \u001b[32m━━━━━━━━━━━━━━━━━━━━\u001b[0m\u001b[37m\u001b[0m \u001b[1m302s\u001b[0m 258ms/step - accuracy: 0.8545 - loss: 0.4898\n",
            "\u001b[1m584/584\u001b[0m \u001b[32m━━━━━━━━━━━━━━━━━━━━\u001b[0m\u001b[37m\u001b[0m \u001b[1m5s\u001b[0m 8ms/step\n",
            "\u001b[1m1167/1167\u001b[0m \u001b[32m━━━━━━━━━━━━━━━━━━━━\u001b[0m\u001b[37m\u001b[0m \u001b[1m298s\u001b[0m 254ms/step - accuracy: 0.8620 - loss: 0.4616\n",
            "\u001b[1m584/584\u001b[0m \u001b[32m━━━━━━━━━━━━━━━━━━━━\u001b[0m\u001b[37m\u001b[0m \u001b[1m5s\u001b[0m 9ms/step\n"
          ]
        },
        {
          "output_type": "stream",
          "name": "stderr",
          "text": [
            "[I 2025-02-19 04:56:37,837] Trial 2 finished with value: 0.9739821482615647 and parameters: {'conv_filters': 59, 'dense_units': 71, 'lr': 0.00040924379913446867, 'epochs': 12, 'batch_size': 16}. Best is trial 1 with value: 0.9817857008810015.\n"
          ]
        },
        {
          "output_type": "stream",
          "name": "stdout",
          "text": [
            "Best params for objective_cnn with TPESampler: {'conv_filters': 59, 'dense_units': 92, 'lr': 0.0015972696406334947, 'epochs': 5, 'batch_size': 34}\n",
            "\n",
            "\n",
            "\n"
          ]
        },
        {
          "output_type": "stream",
          "name": "stderr",
          "text": [
            "[I 2025-02-19 04:56:40,838] A new study created in memory with name: no-name-2b30806d-9187-4fa4-bf6d-1cc4a2634017\n"
          ]
        },
        {
          "output_type": "stream",
          "name": "stdout",
          "text": [
            "\u001b[1m1167/1167\u001b[0m \u001b[32m━━━━━━━━━━━━━━━━━━━━\u001b[0m\u001b[37m\u001b[0m \u001b[1m180s\u001b[0m 153ms/step - accuracy: 0.9070 - loss: 0.2924\n",
            "\u001b[1m584/584\u001b[0m \u001b[32m━━━━━━━━━━━━━━━━━━━━\u001b[0m\u001b[37m\u001b[0m \u001b[1m4s\u001b[0m 6ms/step\n",
            "\u001b[1m1167/1167\u001b[0m \u001b[32m━━━━━━━━━━━━━━━━━━━━\u001b[0m\u001b[37m\u001b[0m \u001b[1m178s\u001b[0m 151ms/step - accuracy: 0.9034 - loss: 0.2986\n",
            "\u001b[1m584/584\u001b[0m \u001b[32m━━━━━━━━━━━━━━━━━━━━\u001b[0m\u001b[37m\u001b[0m \u001b[1m3s\u001b[0m 5ms/step\n",
            "\u001b[1m1167/1167\u001b[0m \u001b[32m━━━━━━━━━━━━━━━━━━━━\u001b[0m\u001b[37m\u001b[0m \u001b[1m178s\u001b[0m 151ms/step - accuracy: 0.9118 - loss: 0.2849\n",
            "\u001b[1m584/584\u001b[0m \u001b[32m━━━━━━━━━━━━━━━━━━━━\u001b[0m\u001b[37m\u001b[0m \u001b[1m4s\u001b[0m 6ms/step\n"
          ]
        },
        {
          "output_type": "stream",
          "name": "stderr",
          "text": [
            "[I 2025-02-19 05:05:47,861] Trial 0 finished with value: 0.9781785057247059 and parameters: {'conv_filters': 35, 'dense_units': 79, 'lr': 0.003923198886564563, 'epochs': 9, 'batch_size': 28}. Best is trial 0 with value: 0.9781785057247059.\n"
          ]
        },
        {
          "output_type": "stream",
          "name": "stdout",
          "text": [
            "\u001b[1m1167/1167\u001b[0m \u001b[32m━━━━━━━━━━━━━━━━━━━━\u001b[0m\u001b[37m\u001b[0m \u001b[1m153s\u001b[0m 130ms/step - accuracy: 0.8593 - loss: 0.4780\n",
            "\u001b[1m584/584\u001b[0m \u001b[32m━━━━━━━━━━━━━━━━━━━━\u001b[0m\u001b[37m\u001b[0m \u001b[1m3s\u001b[0m 5ms/step\n",
            "\u001b[1m1167/1167\u001b[0m \u001b[32m━━━━━━━━━━━━━━━━━━━━\u001b[0m\u001b[37m\u001b[0m \u001b[1m152s\u001b[0m 129ms/step - accuracy: 0.8664 - loss: 0.4688\n",
            "\u001b[1m584/584\u001b[0m \u001b[32m━━━━━━━━━━━━━━━━━━━━\u001b[0m\u001b[37m\u001b[0m \u001b[1m3s\u001b[0m 4ms/step\n",
            "\u001b[1m1167/1167\u001b[0m \u001b[32m━━━━━━━━━━━━━━━━━━━━\u001b[0m\u001b[37m\u001b[0m \u001b[1m151s\u001b[0m 128ms/step - accuracy: 0.8600 - loss: 0.4754\n",
            "\u001b[1m584/584\u001b[0m \u001b[32m━━━━━━━━━━━━━━━━━━━━\u001b[0m\u001b[37m\u001b[0m \u001b[1m3s\u001b[0m 5ms/step\n"
          ]
        },
        {
          "output_type": "stream",
          "name": "stderr",
          "text": [
            "[I 2025-02-19 05:13:34,640] Trial 1 finished with value: 0.9738393108893777 and parameters: {'conv_filters': 29, 'dense_units': 83, 'lr': 0.0006208431106087642, 'epochs': 10, 'batch_size': 66}. Best is trial 0 with value: 0.9781785057247059.\n"
          ]
        },
        {
          "output_type": "stream",
          "name": "stdout",
          "text": [
            "\u001b[1m1167/1167\u001b[0m \u001b[32m━━━━━━━━━━━━━━━━━━━━\u001b[0m\u001b[37m\u001b[0m \u001b[1m197s\u001b[0m 168ms/step - accuracy: 0.9104 - loss: 0.2793\n",
            "\u001b[1m584/584\u001b[0m \u001b[32m━━━━━━━━━━━━━━━━━━━━\u001b[0m\u001b[37m\u001b[0m \u001b[1m3s\u001b[0m 5ms/step\n",
            "\u001b[1m1167/1167\u001b[0m \u001b[32m━━━━━━━━━━━━━━━━━━━━\u001b[0m\u001b[37m\u001b[0m \u001b[1m200s\u001b[0m 170ms/step - accuracy: 0.9096 - loss: 0.2870\n",
            "\u001b[1m584/584\u001b[0m \u001b[32m━━━━━━━━━━━━━━━━━━━━\u001b[0m\u001b[37m\u001b[0m \u001b[1m3s\u001b[0m 5ms/step\n",
            "\u001b[1m1167/1167\u001b[0m \u001b[32m━━━━━━━━━━━━━━━━━━━━\u001b[0m\u001b[37m\u001b[0m \u001b[1m198s\u001b[0m 168ms/step - accuracy: 0.9070 - loss: 0.2973\n",
            "\u001b[1m584/584\u001b[0m \u001b[32m━━━━━━━━━━━━━━━━━━━━\u001b[0m\u001b[37m\u001b[0m \u001b[1m3s\u001b[0m 5ms/step\n"
          ]
        },
        {
          "output_type": "stream",
          "name": "stderr",
          "text": [
            "[I 2025-02-19 05:23:40,714] Trial 2 finished with value: 0.9817321304090457 and parameters: {'conv_filters': 39, 'dense_units': 70, 'lr': 0.0028068024860648704, 'epochs': 9, 'batch_size': 25}. Best is trial 2 with value: 0.9817321304090457.\n"
          ]
        },
        {
          "output_type": "stream",
          "name": "stdout",
          "text": [
            "Best params for objective_cnn with CmaEsSampler: {'conv_filters': 39, 'dense_units': 70, 'lr': 0.0028068024860648704, 'epochs': 9, 'batch_size': 25}\n",
            "\n",
            "\n",
            "\n"
          ]
        },
        {
          "output_type": "stream",
          "name": "stderr",
          "text": [
            "[I 2025-02-19 05:23:43,715] A new study created in memory with name: no-name-bfcb0d06-f05b-4973-8255-29a4aafab8d4\n"
          ]
        },
        {
          "output_type": "stream",
          "name": "stdout",
          "text": [
            "\u001b[1m1167/1167\u001b[0m \u001b[32m━━━━━━━━━━━━━━━━━━━━\u001b[0m\u001b[37m\u001b[0m \u001b[1m127s\u001b[0m 108ms/step - accuracy: 0.8398 - loss: 0.5924\n",
            "\u001b[1m584/584\u001b[0m \u001b[32m━━━━━━━━━━━━━━━━━━━━\u001b[0m\u001b[37m\u001b[0m \u001b[1m3s\u001b[0m 4ms/step\n",
            "\u001b[1m1167/1167\u001b[0m \u001b[32m━━━━━━━━━━━━━━━━━━━━\u001b[0m\u001b[37m\u001b[0m \u001b[1m127s\u001b[0m 108ms/step - accuracy: 0.8316 - loss: 0.5962\n",
            "\u001b[1m584/584\u001b[0m \u001b[32m━━━━━━━━━━━━━━━━━━━━\u001b[0m\u001b[37m\u001b[0m \u001b[1m2s\u001b[0m 4ms/step\n",
            "\u001b[1m1167/1167\u001b[0m \u001b[32m━━━━━━━━━━━━━━━━━━━━\u001b[0m\u001b[37m\u001b[0m \u001b[1m131s\u001b[0m 111ms/step - accuracy: 0.8255 - loss: 0.6248\n",
            "\u001b[1m584/584\u001b[0m \u001b[32m━━━━━━━━━━━━━━━━━━━━\u001b[0m\u001b[37m\u001b[0m \u001b[1m2s\u001b[0m 4ms/step\n"
          ]
        },
        {
          "output_type": "stream",
          "name": "stderr",
          "text": [
            "[I 2025-02-19 05:30:17,629] Trial 0 finished with value: 0.9680178992150484 and parameters: {'conv_filters': 24, 'dense_units': 117, 'lr': 0.0003525990176079008, 'epochs': 9, 'batch_size': 90}. Best is trial 0 with value: 0.9680178992150484.\n"
          ]
        },
        {
          "output_type": "stream",
          "name": "stdout",
          "text": [
            "\u001b[1m1167/1167\u001b[0m \u001b[32m━━━━━━━━━━━━━━━━━━━━\u001b[0m\u001b[37m\u001b[0m \u001b[1m134s\u001b[0m 114ms/step - accuracy: 0.8647 - loss: 0.4291\n",
            "\u001b[1m584/584\u001b[0m \u001b[32m━━━━━━━━━━━━━━━━━━━━\u001b[0m\u001b[37m\u001b[0m \u001b[1m2s\u001b[0m 4ms/step\n",
            "\u001b[1m1167/1167\u001b[0m \u001b[32m━━━━━━━━━━━━━━━━━━━━\u001b[0m\u001b[37m\u001b[0m \u001b[1m135s\u001b[0m 114ms/step - accuracy: 0.8591 - loss: 0.4418\n",
            "\u001b[1m584/584\u001b[0m \u001b[32m━━━━━━━━━━━━━━━━━━━━\u001b[0m\u001b[37m\u001b[0m \u001b[1m3s\u001b[0m 4ms/step\n",
            "\u001b[1m1167/1167\u001b[0m \u001b[32m━━━━━━━━━━━━━━━━━━━━\u001b[0m\u001b[37m\u001b[0m \u001b[1m136s\u001b[0m 115ms/step - accuracy: 0.8665 - loss: 0.4529\n",
            "\u001b[1m584/584\u001b[0m \u001b[32m━━━━━━━━━━━━━━━━━━━━\u001b[0m\u001b[37m\u001b[0m \u001b[1m3s\u001b[0m 5ms/step\n"
          ]
        },
        {
          "output_type": "stream",
          "name": "stderr",
          "text": [
            "[I 2025-02-19 05:37:12,292] Trial 1 finished with value: 0.9766428829575037 and parameters: {'conv_filters': 25, 'dense_units': 120, 'lr': 0.0007459982331126381, 'epochs': 12, 'batch_size': 44}. Best is trial 1 with value: 0.9766428829575037.\n"
          ]
        },
        {
          "output_type": "stream",
          "name": "stdout",
          "text": [
            "\u001b[1m1167/1167\u001b[0m \u001b[32m━━━━━━━━━━━━━━━━━━━━\u001b[0m\u001b[37m\u001b[0m \u001b[1m175s\u001b[0m 149ms/step - accuracy: 0.7605 - loss: 0.8054\n",
            "\u001b[1m584/584\u001b[0m \u001b[32m━━━━━━━━━━━━━━━━━━━━\u001b[0m\u001b[37m\u001b[0m \u001b[1m3s\u001b[0m 5ms/step\n",
            "\u001b[1m1167/1167\u001b[0m \u001b[32m━━━━━━━━━━━━━━━━━━━━\u001b[0m\u001b[37m\u001b[0m \u001b[1m179s\u001b[0m 151ms/step - accuracy: 0.7876 - loss: 0.7560\n",
            "\u001b[1m584/584\u001b[0m \u001b[32m━━━━━━━━━━━━━━━━━━━━\u001b[0m\u001b[37m\u001b[0m \u001b[1m3s\u001b[0m 5ms/step\n",
            "\u001b[1m1167/1167\u001b[0m \u001b[32m━━━━━━━━━━━━━━━━━━━━\u001b[0m\u001b[37m\u001b[0m \u001b[1m175s\u001b[0m 148ms/step - accuracy: 0.7665 - loss: 0.8329\n",
            "\u001b[1m584/584\u001b[0m \u001b[32m━━━━━━━━━━━━━━━━━━━━\u001b[0m\u001b[37m\u001b[0m \u001b[1m4s\u001b[0m 6ms/step\n"
          ]
        },
        {
          "output_type": "stream",
          "name": "stderr",
          "text": [
            "[I 2025-02-19 05:46:11,895] Trial 2 finished with value: 0.9564821268852263 and parameters: {'conv_filters': 34, 'dense_units': 33, 'lr': 0.00024752407717275977, 'epochs': 7, 'batch_size': 19}. Best is trial 1 with value: 0.9766428829575037.\n"
          ]
        },
        {
          "output_type": "stream",
          "name": "stdout",
          "text": [
            "Best params for objective_cnn with GPSampler: {'conv_filters': 25, 'dense_units': 120, 'lr': 0.0007459982331126381, 'epochs': 12, 'batch_size': 44}\n",
            "\n",
            "\n",
            "\n"
          ]
        },
        {
          "output_type": "stream",
          "name": "stderr",
          "text": [
            "[I 2025-02-19 05:46:14,896] A new study created in memory with name: no-name-8ab45439-a73c-4dde-a95f-c22a9d2ed09b\n"
          ]
        },
        {
          "output_type": "stream",
          "name": "stdout",
          "text": [
            "\u001b[1m1167/1167\u001b[0m \u001b[32m━━━━━━━━━━━━━━━━━━━━\u001b[0m\u001b[37m\u001b[0m \u001b[1m112s\u001b[0m 94ms/step - accuracy: 0.6952 - loss: 1.0920\n",
            "\u001b[1m584/584\u001b[0m \u001b[32m━━━━━━━━━━━━━━━━━━━━\u001b[0m\u001b[37m\u001b[0m \u001b[1m2s\u001b[0m 4ms/step\n",
            "\u001b[1m1167/1167\u001b[0m \u001b[32m━━━━━━━━━━━━━━━━━━━━\u001b[0m\u001b[37m\u001b[0m \u001b[1m111s\u001b[0m 94ms/step - accuracy: 0.6604 - loss: 1.1734\n",
            "\u001b[1m584/584\u001b[0m \u001b[32m━━━━━━━━━━━━━━━━━━━━\u001b[0m\u001b[37m\u001b[0m \u001b[1m2s\u001b[0m 4ms/step\n",
            "\u001b[1m1167/1167\u001b[0m \u001b[32m━━━━━━━━━━━━━━━━━━━━\u001b[0m\u001b[37m\u001b[0m \u001b[1m110s\u001b[0m 93ms/step - accuracy: 0.6754 - loss: 1.1636\n",
            "\u001b[1m584/584\u001b[0m \u001b[32m━━━━━━━━━━━━━━━━━━━━\u001b[0m\u001b[37m\u001b[0m \u001b[1m2s\u001b[0m 4ms/step\n"
          ]
        },
        {
          "output_type": "stream",
          "name": "stderr",
          "text": [
            "[I 2025-02-19 05:51:56,751] Trial 0 finished with value: 0.9366428481737192 and parameters: {'conv_filters': 20, 'dense_units': 61, 'lr': 0.00012358997843318363, 'epochs': 13, 'batch_size': 31}. Best is trial 0 with value: 0.9366428481737192.\n"
          ]
        },
        {
          "output_type": "stream",
          "name": "stdout",
          "text": [
            "\u001b[1m1167/1167\u001b[0m \u001b[32m━━━━━━━━━━━━━━━━━━━━\u001b[0m\u001b[37m\u001b[0m \u001b[1m274s\u001b[0m 233ms/step - accuracy: 0.8783 - loss: 0.3913\n",
            "\u001b[1m584/584\u001b[0m \u001b[32m━━━━━━━━━━━━━━━━━━━━\u001b[0m\u001b[37m\u001b[0m \u001b[1m5s\u001b[0m 8ms/step\n",
            "\u001b[1m1167/1167\u001b[0m \u001b[32m━━━━━━━━━━━━━━━━━━━━\u001b[0m\u001b[37m\u001b[0m \u001b[1m275s\u001b[0m 234ms/step - accuracy: 0.9099 - loss: 0.3013\n",
            "\u001b[1m584/584\u001b[0m \u001b[32m━━━━━━━━━━━━━━━━━━━━\u001b[0m\u001b[37m\u001b[0m \u001b[1m4s\u001b[0m 7ms/step\n",
            "\u001b[1m1167/1167\u001b[0m \u001b[32m━━━━━━━━━━━━━━━━━━━━\u001b[0m\u001b[37m\u001b[0m \u001b[1m275s\u001b[0m 235ms/step - accuracy: 0.8761 - loss: 0.4520\n",
            "\u001b[1m584/584\u001b[0m \u001b[32m━━━━━━━━━━━━━━━━━━━━\u001b[0m\u001b[37m\u001b[0m \u001b[1m5s\u001b[0m 8ms/step\n"
          ]
        },
        {
          "output_type": "stream",
          "name": "stderr",
          "text": [
            "[I 2025-02-19 06:05:56,321] Trial 1 finished with value: 0.969535728297148 and parameters: {'conv_filters': 54, 'dense_units': 117, 'lr': 0.009807728119543425, 'epochs': 6, 'batch_size': 45}. Best is trial 1 with value: 0.969535728297148.\n"
          ]
        },
        {
          "output_type": "stream",
          "name": "stdout",
          "text": [
            "\u001b[1m1167/1167\u001b[0m \u001b[32m━━━━━━━━━━━━━━━━━━━━\u001b[0m\u001b[37m\u001b[0m \u001b[1m135s\u001b[0m 114ms/step - accuracy: 0.8890 - loss: 0.3373\n",
            "\u001b[1m584/584\u001b[0m \u001b[32m━━━━━━━━━━━━━━━━━━━━\u001b[0m\u001b[37m\u001b[0m \u001b[1m2s\u001b[0m 4ms/step\n",
            "\u001b[1m1167/1167\u001b[0m \u001b[32m━━━━━━━━━━━━━━━━━━━━\u001b[0m\u001b[37m\u001b[0m \u001b[1m138s\u001b[0m 117ms/step - accuracy: 0.8949 - loss: 0.3330\n",
            "\u001b[1m584/584\u001b[0m \u001b[32m━━━━━━━━━━━━━━━━━━━━\u001b[0m\u001b[37m\u001b[0m \u001b[1m3s\u001b[0m 5ms/step\n",
            "\u001b[1m1167/1167\u001b[0m \u001b[32m━━━━━━━━━━━━━━━━━━━━\u001b[0m\u001b[37m\u001b[0m \u001b[1m135s\u001b[0m 114ms/step - accuracy: 0.9044 - loss: 0.2942\n",
            "\u001b[1m584/584\u001b[0m \u001b[32m━━━━━━━━━━━━━━━━━━━━\u001b[0m\u001b[37m\u001b[0m \u001b[1m3s\u001b[0m 4ms/step\n"
          ]
        },
        {
          "output_type": "stream",
          "name": "stderr",
          "text": [
            "[I 2025-02-19 06:12:54,317] Trial 2 finished with value: 0.974517861590971 and parameters: {'conv_filters': 26, 'dense_units': 66, 'lr': 0.009716012684509513, 'epochs': 5, 'batch_size': 50}. Best is trial 2 with value: 0.974517861590971.\n"
          ]
        },
        {
          "output_type": "stream",
          "name": "stdout",
          "text": [
            "Best params for objective_cnn with BoTorchSampler: {'conv_filters': 26, 'dense_units': 66, 'lr': 0.009716012684509513, 'epochs': 5, 'batch_size': 50}\n",
            "\n",
            "\n",
            "\n"
          ]
        },
        {
          "output_type": "stream",
          "name": "stderr",
          "text": [
            "[I 2025-02-19 06:12:57,319] A new study created in memory with name: no-name-be929e8a-7e80-41bc-be75-015728fef19e\n"
          ]
        },
        {
          "output_type": "stream",
          "name": "stdout",
          "text": [
            "[INFO][abstract_intensifier.py:306] Using only one seed for deterministic scenario.\n",
            "\u001b[1m1167/1167\u001b[0m \u001b[32m━━━━━━━━━━━━━━━━━━━━\u001b[0m\u001b[37m\u001b[0m \u001b[1m191s\u001b[0m 162ms/step - accuracy: 0.8593 - loss: 0.4748\n",
            "\u001b[1m584/584\u001b[0m \u001b[32m━━━━━━━━━━━━━━━━━━━━\u001b[0m\u001b[37m\u001b[0m \u001b[1m3s\u001b[0m 5ms/step\n",
            "\u001b[1m1167/1167\u001b[0m \u001b[32m━━━━━━━━━━━━━━━━━━━━\u001b[0m\u001b[37m\u001b[0m \u001b[1m208s\u001b[0m 176ms/step - accuracy: 0.8570 - loss: 0.4791\n",
            "\u001b[1m584/584\u001b[0m \u001b[32m━━━━━━━━━━━━━━━━━━━━\u001b[0m\u001b[37m\u001b[0m \u001b[1m4s\u001b[0m 6ms/step\n",
            "\u001b[1m1167/1167\u001b[0m \u001b[32m━━━━━━━━━━━━━━━━━━━━\u001b[0m\u001b[37m\u001b[0m \u001b[1m202s\u001b[0m 172ms/step - accuracy: 0.8573 - loss: 0.4821\n",
            "\u001b[1m584/584\u001b[0m \u001b[32m━━━━━━━━━━━━━━━━━━━━\u001b[0m\u001b[37m\u001b[0m \u001b[1m4s\u001b[0m 6ms/step\n",
            "[INFO][abstract_intensifier.py:516] Added config c6d0bb as new incumbent because there are no incumbents yet.\n"
          ]
        },
        {
          "output_type": "stream",
          "name": "stderr",
          "text": [
            "[I 2025-02-19 06:23:10,109] Trial 0 finished with value: 0.9735535376100808 and parameters: {'conv_filters': 38, 'dense_units': 45, 'lr': 0.0006991106642, 'epochs': 6, 'batch_size': 34}. Best is trial 0 with value: 0.9735535376100808.\n"
          ]
        },
        {
          "output_type": "stream",
          "name": "stdout",
          "text": [
            "\u001b[1m1167/1167\u001b[0m \u001b[32m━━━━━━━━━━━━━━━━━━━━\u001b[0m\u001b[37m\u001b[0m \u001b[1m239s\u001b[0m 204ms/step - accuracy: 0.8980 - loss: 0.3233\n",
            "\u001b[1m584/584\u001b[0m \u001b[32m━━━━━━━━━━━━━━━━━━━━\u001b[0m\u001b[37m\u001b[0m \u001b[1m5s\u001b[0m 6ms/step\n",
            "\u001b[1m1167/1167\u001b[0m \u001b[32m━━━━━━━━━━━━━━━━━━━━\u001b[0m\u001b[37m\u001b[0m \u001b[1m244s\u001b[0m 208ms/step - accuracy: 0.8625 - loss: 0.4315\n",
            "\u001b[1m584/584\u001b[0m \u001b[32m━━━━━━━━━━━━━━━━━━━━\u001b[0m\u001b[37m\u001b[0m \u001b[1m4s\u001b[0m 6ms/step\n",
            "\u001b[1m1167/1167\u001b[0m \u001b[32m━━━━━━━━━━━━━━━━━━━━\u001b[0m\u001b[37m\u001b[0m \u001b[1m242s\u001b[0m 206ms/step - accuracy: 0.8384 - loss: 0.4996\n",
            "\u001b[1m584/584\u001b[0m \u001b[32m━━━━━━━━━━━━━━━━━━━━\u001b[0m\u001b[37m\u001b[0m \u001b[1m4s\u001b[0m 7ms/step\n"
          ]
        },
        {
          "output_type": "stream",
          "name": "stderr",
          "text": [
            "[I 2025-02-19 06:35:29,512] Trial 1 finished with value: 0.9630356243370644 and parameters: {'conv_filters': 46, 'dense_units': 114, 'lr': 0.0081593209737, 'epochs': 12, 'batch_size': 105}. Best is trial 0 with value: 0.9735535376100808.\n"
          ]
        },
        {
          "output_type": "stream",
          "name": "stdout",
          "text": [
            "\u001b[1m1167/1167\u001b[0m \u001b[32m━━━━━━━━━━━━━━━━━━━━\u001b[0m\u001b[37m\u001b[0m \u001b[1m101s\u001b[0m 85ms/step - accuracy: 0.8941 - loss: 0.3630\n",
            "\u001b[1m584/584\u001b[0m \u001b[32m━━━━━━━━━━━━━━━━━━━━\u001b[0m\u001b[37m\u001b[0m \u001b[1m2s\u001b[0m 4ms/step\n",
            "\u001b[1m1167/1167\u001b[0m \u001b[32m━━━━━━━━━━━━━━━━━━━━\u001b[0m\u001b[37m\u001b[0m \u001b[1m96s\u001b[0m 81ms/step - accuracy: 0.8808 - loss: 0.3892\n",
            "\u001b[1m584/584\u001b[0m \u001b[32m━━━━━━━━━━━━━━━━━━━━\u001b[0m\u001b[37m\u001b[0m \u001b[1m2s\u001b[0m 4ms/step\n",
            "\u001b[1m1167/1167\u001b[0m \u001b[32m━━━━━━━━━━━━━━━━━━━━\u001b[0m\u001b[37m\u001b[0m \u001b[1m97s\u001b[0m 82ms/step - accuracy: 0.8759 - loss: 0.4073\n",
            "\u001b[1m584/584\u001b[0m \u001b[32m━━━━━━━━━━━━━━━━━━━━\u001b[0m\u001b[37m\u001b[0m \u001b[1m2s\u001b[0m 4ms/step\n",
            "[INFO][abstract_intensifier.py:595] Added config 4ff074 and rejected config c6d0bb as incumbent because it is not better than the incumbents on 1 instances:\n"
          ]
        },
        {
          "output_type": "stream",
          "name": "stderr",
          "text": [
            "[I 2025-02-19 06:40:32,144] Trial 2 finished with value: 0.9779821313633038 and parameters: {'conv_filters': 17, 'dense_units': 74, 'lr': 0.0016726008292, 'epochs': 10, 'batch_size': 99}. Best is trial 2 with value: 0.9779821313633038.\n"
          ]
        },
        {
          "output_type": "stream",
          "name": "stdout",
          "text": [
            "Best params for objective_cnn with SMACSampler: {'conv_filters': 17, 'dense_units': 74, 'lr': 0.0016726008292, 'epochs': 10, 'batch_size': 99}\n",
            "\n",
            "\n",
            "\n"
          ]
        },
        {
          "output_type": "stream",
          "name": "stderr",
          "text": [
            "[I 2025-02-19 06:40:35,145] A new study created in memory with name: no-name-fedb8926-3e50-45dc-9111-2fab04f749da\n"
          ]
        },
        {
          "output_type": "stream",
          "name": "stdout",
          "text": [
            "\u001b[1m1167/1167\u001b[0m \u001b[32m━━━━━━━━━━━━━━━━━━━━\u001b[0m\u001b[37m\u001b[0m \u001b[1m224s\u001b[0m 190ms/step - accuracy: 0.8963 - loss: 0.3311\n",
            "\u001b[1m584/584\u001b[0m \u001b[32m━━━━━━━━━━━━━━━━━━━━\u001b[0m\u001b[37m\u001b[0m \u001b[1m4s\u001b[0m 6ms/step\n",
            "\u001b[1m1167/1167\u001b[0m \u001b[32m━━━━━━━━━━━━━━━━━━━━\u001b[0m\u001b[37m\u001b[0m \u001b[1m227s\u001b[0m 193ms/step - accuracy: 0.9039 - loss: 0.3115\n",
            "\u001b[1m584/584\u001b[0m \u001b[32m━━━━━━━━━━━━━━━━━━━━\u001b[0m\u001b[37m\u001b[0m \u001b[1m4s\u001b[0m 6ms/step\n",
            "\u001b[1m1167/1167\u001b[0m \u001b[32m━━━━━━━━━━━━━━━━━━━━\u001b[0m\u001b[37m\u001b[0m \u001b[1m219s\u001b[0m 186ms/step - accuracy: 0.9003 - loss: 0.3230\n",
            "\u001b[1m584/584\u001b[0m \u001b[32m━━━━━━━━━━━━━━━━━━━━\u001b[0m\u001b[37m\u001b[0m \u001b[1m4s\u001b[0m 6ms/step\n"
          ]
        },
        {
          "output_type": "stream",
          "name": "stderr",
          "text": [
            "[I 2025-02-19 06:51:56,717] Trial 0 finished with value: 0.9800893188654448 and parameters: {'conv_filters': 42, 'dense_units': 101, 'lr': 0.0016051911333587634, 'epochs': 10, 'batch_size': 38}. Best is trial 0 with value: 0.9800893188654448.\n"
          ]
        },
        {
          "output_type": "stream",
          "name": "stdout",
          "text": [
            "\u001b[1m1167/1167\u001b[0m \u001b[32m━━━━━━━━━━━━━━━━━━━━\u001b[0m\u001b[37m\u001b[0m \u001b[1m197s\u001b[0m 167ms/step - accuracy: 0.8638 - loss: 0.4380\n",
            "\u001b[1m584/584\u001b[0m \u001b[32m━━━━━━━━━━━━━━━━━━━━\u001b[0m\u001b[37m\u001b[0m \u001b[1m3s\u001b[0m 5ms/step\n",
            "\u001b[1m1167/1167\u001b[0m \u001b[32m━━━━━━━━━━━━━━━━━━━━\u001b[0m\u001b[37m\u001b[0m \u001b[1m196s\u001b[0m 167ms/step - accuracy: 0.8717 - loss: 0.4256\n",
            "\u001b[1m584/584\u001b[0m \u001b[32m━━━━━━━━━━━━━━━━━━━━\u001b[0m\u001b[37m\u001b[0m \u001b[1m3s\u001b[0m 5ms/step\n",
            "\u001b[1m1167/1167\u001b[0m \u001b[32m━━━━━━━━━━━━━━━━━━━━\u001b[0m\u001b[37m\u001b[0m \u001b[1m195s\u001b[0m 166ms/step - accuracy: 0.8693 - loss: 0.4452\n",
            "\u001b[1m584/584\u001b[0m \u001b[32m━━━━━━━━━━━━━━━━━━━━\u001b[0m\u001b[37m\u001b[0m \u001b[1m3s\u001b[0m 6ms/step\n"
          ]
        },
        {
          "output_type": "stream",
          "name": "stderr",
          "text": [
            "[I 2025-02-19 07:01:56,001] Trial 1 finished with value: 0.9747500175224748 and parameters: {'conv_filters': 37, 'dense_units': 118, 'lr': 0.0005846326121643416, 'epochs': 15, 'batch_size': 61}. Best is trial 0 with value: 0.9800893188654448.\n"
          ]
        },
        {
          "output_type": "stream",
          "name": "stdout",
          "text": [
            "\u001b[1m1167/1167\u001b[0m \u001b[32m━━━━━━━━━━━━━━━━━━━━\u001b[0m\u001b[37m\u001b[0m \u001b[1m214s\u001b[0m 182ms/step - accuracy: 0.7857 - loss: 0.8025\n",
            "\u001b[1m584/584\u001b[0m \u001b[32m━━━━━━━━━━━━━━━━━━━━\u001b[0m\u001b[37m\u001b[0m \u001b[1m3s\u001b[0m 6ms/step\n",
            "\u001b[1m1167/1167\u001b[0m \u001b[32m━━━━━━━━━━━━━━━━━━━━\u001b[0m\u001b[37m\u001b[0m \u001b[1m208s\u001b[0m 177ms/step - accuracy: 0.7729 - loss: 0.8263\n",
            "\u001b[1m584/584\u001b[0m \u001b[32m━━━━━━━━━━━━━━━━━━━━\u001b[0m\u001b[37m\u001b[0m \u001b[1m3s\u001b[0m 6ms/step\n",
            "\u001b[1m1167/1167\u001b[0m \u001b[32m━━━━━━━━━━━━━━━━━━━━\u001b[0m\u001b[37m\u001b[0m \u001b[1m214s\u001b[0m 182ms/step - accuracy: 0.7812 - loss: 0.8003\n",
            "\u001b[1m584/584\u001b[0m \u001b[32m━━━━━━━━━━━━━━━━━━━━\u001b[0m\u001b[37m\u001b[0m \u001b[1m4s\u001b[0m 6ms/step\n"
          ]
        },
        {
          "output_type": "stream",
          "name": "stderr",
          "text": [
            "[I 2025-02-19 07:12:44,070] Trial 2 finished with value: 0.9585535777798032 and parameters: {'conv_filters': 41, 'dense_units': 87, 'lr': 0.00013869861245357332, 'epochs': 15, 'batch_size': 83}. Best is trial 0 with value: 0.9800893188654448.\n"
          ]
        },
        {
          "output_type": "stream",
          "name": "stdout",
          "text": [
            "Best params for objective_cnn with GWOSampler: {'conv_filters': 42, 'dense_units': 101, 'lr': 0.0016051911333587634, 'epochs': 10, 'batch_size': 38}\n",
            "\n",
            "\n",
            "\n"
          ]
        }
      ]
    },
    {
      "cell_type": "markdown",
      "source": [
        "# Model Training"
      ],
      "metadata": {
        "id": "6PegSpZWXkZB"
      }
    },
    {
      "cell_type": "code",
      "source": [
        "def train_lgb_model(params: dict):\n",
        "    params.update({\"verbose\": -1, \"device\": \"cuda\"})\n",
        "    model = build_lgb_model(params)\n",
        "    model.fit(X_train, y_train)\n",
        "    return model"
      ],
      "metadata": {
        "id": "-UOXN7kDXkVG"
      },
      "execution_count": 27,
      "outputs": []
    },
    {
      "cell_type": "code",
      "source": [
        "def train_cnn_model(params: dict):\n",
        "    clf = SKLearnClassifier(\n",
        "        model=build_cnn_model,\n",
        "        model_kwargs={\n",
        "            \"input_shape\": (28*28,),\n",
        "            \"num_classes\": 10,\n",
        "            \"conv_filters\": params.get(\"conv_filters\", 32),\n",
        "            \"dense_units\": params.get(\"dense_units\", 64),\n",
        "            \"lr\": params.get(\"lr\", 1e-3)\n",
        "        },\n",
        "        fit_kwargs={\n",
        "            \"epochs\": params.get(\"epochs\", 10),\n",
        "            \"batch_size\": params.get(\"batch_size\", 32),\n",
        "            \"verbose\": 0\n",
        "        }\n",
        "    )\n",
        "    clf.fit(X_train, y_train)\n",
        "    return clf"
      ],
      "metadata": {
        "id": "leS9RDF7XkSO"
      },
      "execution_count": 28,
      "outputs": []
    },
    {
      "cell_type": "code",
      "source": [
        "def train_final_models(best_params_dict, train_func, model_tag):\n",
        "    models = {}\n",
        "    for sampler_name, params in tqdm(best_params_dict.items(), desc=f\"Training {model_tag} Models\"):\n",
        "        try:\n",
        "            model = train_func(params)\n",
        "            models[f\"{model_tag}_{sampler_name}\"] = model\n",
        "        except Exception as e:\n",
        "            print(f\"Error training model for {model_tag} with {sampler_name}: {e}\")\n",
        "    return models"
      ],
      "metadata": {
        "id": "yd2Lz086YIgi"
      },
      "execution_count": 29,
      "outputs": []
    },
    {
      "cell_type": "code",
      "source": [
        "# Train the models\n",
        "final_lgb_models = train_final_models(best_params_lgb, train_lgb_model, \"LGB\")\n",
        "final_cnn_models = train_final_models(best_params_cnn, train_cnn_model, \"CNN\")"
      ],
      "metadata": {
        "id": "1YKCB8DvYLCS",
        "colab": {
          "base_uri": "https://localhost:8080/",
          "height": 81,
          "referenced_widgets": [
            "ba2f7f09d5c3443b9cebdb94c0279c66",
            "f9e42698773747a0b78f0f4093dc416a",
            "3b8ebfbf65e84cd89c03d1f6fd11cd13",
            "d89a75ca926e450d9a402231fcc0ba00",
            "703983e842fe40b9b4887a52095b2f42",
            "b3276da745924efd99bf911863686029",
            "ec1d5826437c4254ac9c946767890226",
            "f82c30f87bec44d3b6ed4c7de2264d69",
            "b17197a3ce6f47fab06d96c1896d468f",
            "d740fbc173b442998ce5d4703fb71cee",
            "6b78cdfd4f8946dd9ca87477e5c6a1b5",
            "ce2ddf2317b144828d5edd30cb08bb0f",
            "9eab2b954fb24a71929aa22e034864e3",
            "ca3fefb4e6c14813943cfb88f766596a",
            "9c2a8fc90b8d40d6bf123cc220b145b1",
            "b1c61cfb3f2d4102b9eb0365f74226b2",
            "47d7664b6f9048dcb8bef3feeaf46e4f",
            "f59fbafea64c440bbac26ab739a9c75d",
            "0e19829e14ca460f95d0d16eeaa5b6f9",
            "3e9bb15380344713b1bdd219ca124046",
            "e8430e48961a4bac8b5a3a5add1d53e2",
            "ac07d39b984c4ac4ba65c3f347b1e1ce"
          ]
        },
        "outputId": "dda4c20d-177b-46b0-cbc8-f73377fd63ae"
      },
      "execution_count": 33,
      "outputs": [
        {
          "output_type": "display_data",
          "data": {
            "text/plain": [
              "Training LGB Models:   0%|          | 0/6 [00:00<?, ?it/s]"
            ],
            "application/vnd.jupyter.widget-view+json": {
              "version_major": 2,
              "version_minor": 0,
              "model_id": "ba2f7f09d5c3443b9cebdb94c0279c66"
            }
          },
          "metadata": {}
        },
        {
          "output_type": "display_data",
          "data": {
            "text/plain": [
              "Training CNN Models:   0%|          | 0/6 [00:00<?, ?it/s]"
            ],
            "application/vnd.jupyter.widget-view+json": {
              "version_major": 2,
              "version_minor": 0,
              "model_id": "ce2ddf2317b144828d5edd30cb08bb0f"
            }
          },
          "metadata": {}
        }
      ]
    },
    {
      "cell_type": "code",
      "source": [
        "# Save the model dictionary objects\n",
        "joblib.dump(final_lgb_models, \"final_lgb_models.joblib\")\n",
        "joblib.dump(final_cnn_models, \"final_cnn_models.joblib\")"
      ],
      "metadata": {
        "colab": {
          "base_uri": "https://localhost:8080/"
        },
        "id": "OAzGz02nzxrE",
        "outputId": "d78bfec7-d917-48d8-fdba-b1ab29687d9b"
      },
      "execution_count": 34,
      "outputs": [
        {
          "output_type": "execute_result",
          "data": {
            "text/plain": [
              "['final_cnn_models.joblib']"
            ]
          },
          "metadata": {},
          "execution_count": 34
        }
      ]
    },
    {
      "cell_type": "code",
      "source": [
        "# Download the files\n",
        "from google.colab import files\n",
        "\n",
        "files.download(\"final_lgb_models.joblib\")\n",
        "files.download(\"final_cnn_models.joblib\")"
      ],
      "metadata": {
        "colab": {
          "base_uri": "https://localhost:8080/",
          "height": 17
        },
        "id": "GGbQIgf_0MCV",
        "outputId": "966761e1-8afc-4f74-d825-a1e8040141dd"
      },
      "execution_count": 35,
      "outputs": [
        {
          "output_type": "display_data",
          "data": {
            "text/plain": [
              "<IPython.core.display.Javascript object>"
            ],
            "application/javascript": [
              "\n",
              "    async function download(id, filename, size) {\n",
              "      if (!google.colab.kernel.accessAllowed) {\n",
              "        return;\n",
              "      }\n",
              "      const div = document.createElement('div');\n",
              "      const label = document.createElement('label');\n",
              "      label.textContent = `Downloading \"${filename}\": `;\n",
              "      div.appendChild(label);\n",
              "      const progress = document.createElement('progress');\n",
              "      progress.max = size;\n",
              "      div.appendChild(progress);\n",
              "      document.body.appendChild(div);\n",
              "\n",
              "      const buffers = [];\n",
              "      let downloaded = 0;\n",
              "\n",
              "      const channel = await google.colab.kernel.comms.open(id);\n",
              "      // Send a message to notify the kernel that we're ready.\n",
              "      channel.send({})\n",
              "\n",
              "      for await (const message of channel.messages) {\n",
              "        // Send a message to notify the kernel that we're ready.\n",
              "        channel.send({})\n",
              "        if (message.buffers) {\n",
              "          for (const buffer of message.buffers) {\n",
              "            buffers.push(buffer);\n",
              "            downloaded += buffer.byteLength;\n",
              "            progress.value = downloaded;\n",
              "          }\n",
              "        }\n",
              "      }\n",
              "      const blob = new Blob(buffers, {type: 'application/binary'});\n",
              "      const a = document.createElement('a');\n",
              "      a.href = window.URL.createObjectURL(blob);\n",
              "      a.download = filename;\n",
              "      div.appendChild(a);\n",
              "      a.click();\n",
              "      div.remove();\n",
              "    }\n",
              "  "
            ]
          },
          "metadata": {}
        },
        {
          "output_type": "display_data",
          "data": {
            "text/plain": [
              "<IPython.core.display.Javascript object>"
            ],
            "application/javascript": [
              "download(\"download_ed121421-652f-4b3b-a709-6a52fe078632\", \"final_lgb_models.joblib\", 56432784)"
            ]
          },
          "metadata": {}
        },
        {
          "output_type": "display_data",
          "data": {
            "text/plain": [
              "<IPython.core.display.Javascript object>"
            ],
            "application/javascript": [
              "\n",
              "    async function download(id, filename, size) {\n",
              "      if (!google.colab.kernel.accessAllowed) {\n",
              "        return;\n",
              "      }\n",
              "      const div = document.createElement('div');\n",
              "      const label = document.createElement('label');\n",
              "      label.textContent = `Downloading \"${filename}\": `;\n",
              "      div.appendChild(label);\n",
              "      const progress = document.createElement('progress');\n",
              "      progress.max = size;\n",
              "      div.appendChild(progress);\n",
              "      document.body.appendChild(div);\n",
              "\n",
              "      const buffers = [];\n",
              "      let downloaded = 0;\n",
              "\n",
              "      const channel = await google.colab.kernel.comms.open(id);\n",
              "      // Send a message to notify the kernel that we're ready.\n",
              "      channel.send({})\n",
              "\n",
              "      for await (const message of channel.messages) {\n",
              "        // Send a message to notify the kernel that we're ready.\n",
              "        channel.send({})\n",
              "        if (message.buffers) {\n",
              "          for (const buffer of message.buffers) {\n",
              "            buffers.push(buffer);\n",
              "            downloaded += buffer.byteLength;\n",
              "            progress.value = downloaded;\n",
              "          }\n",
              "        }\n",
              "      }\n",
              "      const blob = new Blob(buffers, {type: 'application/binary'});\n",
              "      const a = document.createElement('a');\n",
              "      a.href = window.URL.createObjectURL(blob);\n",
              "      a.download = filename;\n",
              "      div.appendChild(a);\n",
              "      a.click();\n",
              "      div.remove();\n",
              "    }\n",
              "  "
            ]
          },
          "metadata": {}
        },
        {
          "output_type": "display_data",
          "data": {
            "text/plain": [
              "<IPython.core.display.Javascript object>"
            ],
            "application/javascript": [
              "download(\"download_ce0588b2-b4f2-4d85-a9e8-1434fd2e301a\", \"final_cnn_models.joblib\", 13279725)"
            ]
          },
          "metadata": {}
        }
      ]
    },
    {
      "cell_type": "code",
      "source": [
        "# Load the model dictionary objects\n",
        "final_lgb_models = joblib.load(\"final_lgb_models.joblib\")\n",
        "final_cnn_models = joblib.load(\"final_cnn_models.joblib\")"
      ],
      "metadata": {
        "id": "HmH5h_u5z7sr"
      },
      "execution_count": 30,
      "outputs": []
    },
    {
      "cell_type": "code",
      "source": [
        "# Combine all final models\n",
        "final_models = {}\n",
        "final_models.update(final_lgb_models)\n",
        "final_models.update(final_cnn_models)"
      ],
      "metadata": {
        "id": "RGYse_4-YPSs"
      },
      "execution_count": 31,
      "outputs": []
    },
    {
      "cell_type": "markdown",
      "source": [
        "# Model Evaluation"
      ],
      "metadata": {
        "id": "1Wr1uO9iYSOK"
      }
    },
    {
      "cell_type": "code",
      "source": [
        "# Metrics DataFrame\n",
        "results = {}\n",
        "\n",
        "for name, model in final_models.items():\n",
        "    y_pred = model.predict(X_test)\n",
        "    results[name] = {\n",
        "        \"Accuracy\": accuracy_score(y_test, y_pred),\n",
        "        \"Precision\": precision_score(y_test, y_pred, average=\"macro\"),\n",
        "        \"Recall\": recall_score(y_test, y_pred, average=\"macro\"),\n",
        "        \"F1 Score\": f1_score(y_test, y_pred, average=\"macro\")\n",
        "    }\n",
        "\n",
        "metrics_df = pd.DataFrame(results).T\n",
        "print(\"Final Evaluation Metrics:\")\n",
        "display(metrics_df)"
      ],
      "metadata": {
        "colab": {
          "base_uri": "https://localhost:8080/",
          "height": 547
        },
        "id": "6hDko--9YSLk",
        "outputId": "ebf66e59-58a1-4b46-e8b1-8bf8a92d2fce"
      },
      "execution_count": 32,
      "outputs": [
        {
          "output_type": "stream",
          "name": "stdout",
          "text": [
            "\u001b[1m438/438\u001b[0m \u001b[32m━━━━━━━━━━━━━━━━━━━━\u001b[0m\u001b[37m\u001b[0m \u001b[1m5s\u001b[0m 10ms/step\n",
            "\u001b[1m438/438\u001b[0m \u001b[32m━━━━━━━━━━━━━━━━━━━━\u001b[0m\u001b[37m\u001b[0m \u001b[1m3s\u001b[0m 7ms/step\n",
            "\u001b[1m438/438\u001b[0m \u001b[32m━━━━━━━━━━━━━━━━━━━━\u001b[0m\u001b[37m\u001b[0m \u001b[1m3s\u001b[0m 6ms/step\n",
            "\u001b[1m438/438\u001b[0m \u001b[32m━━━━━━━━━━━━━━━━━━━━\u001b[0m\u001b[37m\u001b[0m \u001b[1m3s\u001b[0m 6ms/step\n",
            "\u001b[1m438/438\u001b[0m \u001b[32m━━━━━━━━━━━━━━━━━━━━\u001b[0m\u001b[37m\u001b[0m \u001b[1m2s\u001b[0m 5ms/step\n",
            "\u001b[1m438/438\u001b[0m \u001b[32m━━━━━━━━━━━━━━━━━━━━\u001b[0m\u001b[37m\u001b[0m \u001b[1m3s\u001b[0m 7ms/step\n",
            "Final Evaluation Metrics:\n"
          ]
        },
        {
          "output_type": "display_data",
          "data": {
            "text/plain": [
              "                    Accuracy  Precision    Recall  F1 Score\n",
              "LGB_TPESampler      0.980000   0.979961  0.979886  0.979914\n",
              "LGB_CmaEsSampler    0.965643   0.965491  0.965359  0.965411\n",
              "LGB_GPSampler       0.978071   0.978067  0.977904  0.977970\n",
              "LGB_BoTorchSampler  0.973786   0.973761  0.973556  0.973640\n",
              "LGB_SMACSampler     0.979571   0.979514  0.979462  0.979477\n",
              "LGB_GWOSampler      0.970214   0.970095  0.969971  0.970020\n",
              "CNN_TPESampler      0.988643   0.988758  0.988618  0.988659\n",
              "CNN_CmaEsSampler    0.988429   0.988397  0.988452  0.988407\n",
              "CNN_GPSampler       0.989357   0.989538  0.989240  0.989356\n",
              "CNN_BoTorchSampler  0.985357   0.985403  0.985252  0.985278\n",
              "CNN_SMACSampler     0.990929   0.990930  0.990939  0.990910\n",
              "CNN_GWOSampler      0.990500   0.990424  0.990550  0.990474"
            ],
            "text/html": [
              "\n",
              "  <div id=\"df-c444355f-eee4-4c54-a09e-93626e4f1e65\" class=\"colab-df-container\">\n",
              "    <div>\n",
              "<style scoped>\n",
              "    .dataframe tbody tr th:only-of-type {\n",
              "        vertical-align: middle;\n",
              "    }\n",
              "\n",
              "    .dataframe tbody tr th {\n",
              "        vertical-align: top;\n",
              "    }\n",
              "\n",
              "    .dataframe thead th {\n",
              "        text-align: right;\n",
              "    }\n",
              "</style>\n",
              "<table border=\"1\" class=\"dataframe\">\n",
              "  <thead>\n",
              "    <tr style=\"text-align: right;\">\n",
              "      <th></th>\n",
              "      <th>Accuracy</th>\n",
              "      <th>Precision</th>\n",
              "      <th>Recall</th>\n",
              "      <th>F1 Score</th>\n",
              "    </tr>\n",
              "  </thead>\n",
              "  <tbody>\n",
              "    <tr>\n",
              "      <th>LGB_TPESampler</th>\n",
              "      <td>0.980000</td>\n",
              "      <td>0.979961</td>\n",
              "      <td>0.979886</td>\n",
              "      <td>0.979914</td>\n",
              "    </tr>\n",
              "    <tr>\n",
              "      <th>LGB_CmaEsSampler</th>\n",
              "      <td>0.965643</td>\n",
              "      <td>0.965491</td>\n",
              "      <td>0.965359</td>\n",
              "      <td>0.965411</td>\n",
              "    </tr>\n",
              "    <tr>\n",
              "      <th>LGB_GPSampler</th>\n",
              "      <td>0.978071</td>\n",
              "      <td>0.978067</td>\n",
              "      <td>0.977904</td>\n",
              "      <td>0.977970</td>\n",
              "    </tr>\n",
              "    <tr>\n",
              "      <th>LGB_BoTorchSampler</th>\n",
              "      <td>0.973786</td>\n",
              "      <td>0.973761</td>\n",
              "      <td>0.973556</td>\n",
              "      <td>0.973640</td>\n",
              "    </tr>\n",
              "    <tr>\n",
              "      <th>LGB_SMACSampler</th>\n",
              "      <td>0.979571</td>\n",
              "      <td>0.979514</td>\n",
              "      <td>0.979462</td>\n",
              "      <td>0.979477</td>\n",
              "    </tr>\n",
              "    <tr>\n",
              "      <th>LGB_GWOSampler</th>\n",
              "      <td>0.970214</td>\n",
              "      <td>0.970095</td>\n",
              "      <td>0.969971</td>\n",
              "      <td>0.970020</td>\n",
              "    </tr>\n",
              "    <tr>\n",
              "      <th>CNN_TPESampler</th>\n",
              "      <td>0.988643</td>\n",
              "      <td>0.988758</td>\n",
              "      <td>0.988618</td>\n",
              "      <td>0.988659</td>\n",
              "    </tr>\n",
              "    <tr>\n",
              "      <th>CNN_CmaEsSampler</th>\n",
              "      <td>0.988429</td>\n",
              "      <td>0.988397</td>\n",
              "      <td>0.988452</td>\n",
              "      <td>0.988407</td>\n",
              "    </tr>\n",
              "    <tr>\n",
              "      <th>CNN_GPSampler</th>\n",
              "      <td>0.989357</td>\n",
              "      <td>0.989538</td>\n",
              "      <td>0.989240</td>\n",
              "      <td>0.989356</td>\n",
              "    </tr>\n",
              "    <tr>\n",
              "      <th>CNN_BoTorchSampler</th>\n",
              "      <td>0.985357</td>\n",
              "      <td>0.985403</td>\n",
              "      <td>0.985252</td>\n",
              "      <td>0.985278</td>\n",
              "    </tr>\n",
              "    <tr>\n",
              "      <th>CNN_SMACSampler</th>\n",
              "      <td>0.990929</td>\n",
              "      <td>0.990930</td>\n",
              "      <td>0.990939</td>\n",
              "      <td>0.990910</td>\n",
              "    </tr>\n",
              "    <tr>\n",
              "      <th>CNN_GWOSampler</th>\n",
              "      <td>0.990500</td>\n",
              "      <td>0.990424</td>\n",
              "      <td>0.990550</td>\n",
              "      <td>0.990474</td>\n",
              "    </tr>\n",
              "  </tbody>\n",
              "</table>\n",
              "</div>\n",
              "    <div class=\"colab-df-buttons\">\n",
              "\n",
              "  <div class=\"colab-df-container\">\n",
              "    <button class=\"colab-df-convert\" onclick=\"convertToInteractive('df-c444355f-eee4-4c54-a09e-93626e4f1e65')\"\n",
              "            title=\"Convert this dataframe to an interactive table.\"\n",
              "            style=\"display:none;\">\n",
              "\n",
              "  <svg xmlns=\"http://www.w3.org/2000/svg\" height=\"24px\" viewBox=\"0 -960 960 960\">\n",
              "    <path d=\"M120-120v-720h720v720H120Zm60-500h600v-160H180v160Zm220 220h160v-160H400v160Zm0 220h160v-160H400v160ZM180-400h160v-160H180v160Zm440 0h160v-160H620v160ZM180-180h160v-160H180v160Zm440 0h160v-160H620v160Z\"/>\n",
              "  </svg>\n",
              "    </button>\n",
              "\n",
              "  <style>\n",
              "    .colab-df-container {\n",
              "      display:flex;\n",
              "      gap: 12px;\n",
              "    }\n",
              "\n",
              "    .colab-df-convert {\n",
              "      background-color: #E8F0FE;\n",
              "      border: none;\n",
              "      border-radius: 50%;\n",
              "      cursor: pointer;\n",
              "      display: none;\n",
              "      fill: #1967D2;\n",
              "      height: 32px;\n",
              "      padding: 0 0 0 0;\n",
              "      width: 32px;\n",
              "    }\n",
              "\n",
              "    .colab-df-convert:hover {\n",
              "      background-color: #E2EBFA;\n",
              "      box-shadow: 0px 1px 2px rgba(60, 64, 67, 0.3), 0px 1px 3px 1px rgba(60, 64, 67, 0.15);\n",
              "      fill: #174EA6;\n",
              "    }\n",
              "\n",
              "    .colab-df-buttons div {\n",
              "      margin-bottom: 4px;\n",
              "    }\n",
              "\n",
              "    [theme=dark] .colab-df-convert {\n",
              "      background-color: #3B4455;\n",
              "      fill: #D2E3FC;\n",
              "    }\n",
              "\n",
              "    [theme=dark] .colab-df-convert:hover {\n",
              "      background-color: #434B5C;\n",
              "      box-shadow: 0px 1px 3px 1px rgba(0, 0, 0, 0.15);\n",
              "      filter: drop-shadow(0px 1px 2px rgba(0, 0, 0, 0.3));\n",
              "      fill: #FFFFFF;\n",
              "    }\n",
              "  </style>\n",
              "\n",
              "    <script>\n",
              "      const buttonEl =\n",
              "        document.querySelector('#df-c444355f-eee4-4c54-a09e-93626e4f1e65 button.colab-df-convert');\n",
              "      buttonEl.style.display =\n",
              "        google.colab.kernel.accessAllowed ? 'block' : 'none';\n",
              "\n",
              "      async function convertToInteractive(key) {\n",
              "        const element = document.querySelector('#df-c444355f-eee4-4c54-a09e-93626e4f1e65');\n",
              "        const dataTable =\n",
              "          await google.colab.kernel.invokeFunction('convertToInteractive',\n",
              "                                                    [key], {});\n",
              "        if (!dataTable) return;\n",
              "\n",
              "        const docLinkHtml = 'Like what you see? Visit the ' +\n",
              "          '<a target=\"_blank\" href=https://colab.research.google.com/notebooks/data_table.ipynb>data table notebook</a>'\n",
              "          + ' to learn more about interactive tables.';\n",
              "        element.innerHTML = '';\n",
              "        dataTable['output_type'] = 'display_data';\n",
              "        await google.colab.output.renderOutput(dataTable, element);\n",
              "        const docLink = document.createElement('div');\n",
              "        docLink.innerHTML = docLinkHtml;\n",
              "        element.appendChild(docLink);\n",
              "      }\n",
              "    </script>\n",
              "  </div>\n",
              "\n",
              "\n",
              "<div id=\"df-1a39ee96-592c-4228-bed7-a2ce8055b104\">\n",
              "  <button class=\"colab-df-quickchart\" onclick=\"quickchart('df-1a39ee96-592c-4228-bed7-a2ce8055b104')\"\n",
              "            title=\"Suggest charts\"\n",
              "            style=\"display:none;\">\n",
              "\n",
              "<svg xmlns=\"http://www.w3.org/2000/svg\" height=\"24px\"viewBox=\"0 0 24 24\"\n",
              "     width=\"24px\">\n",
              "    <g>\n",
              "        <path d=\"M19 3H5c-1.1 0-2 .9-2 2v14c0 1.1.9 2 2 2h14c1.1 0 2-.9 2-2V5c0-1.1-.9-2-2-2zM9 17H7v-7h2v7zm4 0h-2V7h2v10zm4 0h-2v-4h2v4z\"/>\n",
              "    </g>\n",
              "</svg>\n",
              "  </button>\n",
              "\n",
              "<style>\n",
              "  .colab-df-quickchart {\n",
              "      --bg-color: #E8F0FE;\n",
              "      --fill-color: #1967D2;\n",
              "      --hover-bg-color: #E2EBFA;\n",
              "      --hover-fill-color: #174EA6;\n",
              "      --disabled-fill-color: #AAA;\n",
              "      --disabled-bg-color: #DDD;\n",
              "  }\n",
              "\n",
              "  [theme=dark] .colab-df-quickchart {\n",
              "      --bg-color: #3B4455;\n",
              "      --fill-color: #D2E3FC;\n",
              "      --hover-bg-color: #434B5C;\n",
              "      --hover-fill-color: #FFFFFF;\n",
              "      --disabled-bg-color: #3B4455;\n",
              "      --disabled-fill-color: #666;\n",
              "  }\n",
              "\n",
              "  .colab-df-quickchart {\n",
              "    background-color: var(--bg-color);\n",
              "    border: none;\n",
              "    border-radius: 50%;\n",
              "    cursor: pointer;\n",
              "    display: none;\n",
              "    fill: var(--fill-color);\n",
              "    height: 32px;\n",
              "    padding: 0;\n",
              "    width: 32px;\n",
              "  }\n",
              "\n",
              "  .colab-df-quickchart:hover {\n",
              "    background-color: var(--hover-bg-color);\n",
              "    box-shadow: 0 1px 2px rgba(60, 64, 67, 0.3), 0 1px 3px 1px rgba(60, 64, 67, 0.15);\n",
              "    fill: var(--button-hover-fill-color);\n",
              "  }\n",
              "\n",
              "  .colab-df-quickchart-complete:disabled,\n",
              "  .colab-df-quickchart-complete:disabled:hover {\n",
              "    background-color: var(--disabled-bg-color);\n",
              "    fill: var(--disabled-fill-color);\n",
              "    box-shadow: none;\n",
              "  }\n",
              "\n",
              "  .colab-df-spinner {\n",
              "    border: 2px solid var(--fill-color);\n",
              "    border-color: transparent;\n",
              "    border-bottom-color: var(--fill-color);\n",
              "    animation:\n",
              "      spin 1s steps(1) infinite;\n",
              "  }\n",
              "\n",
              "  @keyframes spin {\n",
              "    0% {\n",
              "      border-color: transparent;\n",
              "      border-bottom-color: var(--fill-color);\n",
              "      border-left-color: var(--fill-color);\n",
              "    }\n",
              "    20% {\n",
              "      border-color: transparent;\n",
              "      border-left-color: var(--fill-color);\n",
              "      border-top-color: var(--fill-color);\n",
              "    }\n",
              "    30% {\n",
              "      border-color: transparent;\n",
              "      border-left-color: var(--fill-color);\n",
              "      border-top-color: var(--fill-color);\n",
              "      border-right-color: var(--fill-color);\n",
              "    }\n",
              "    40% {\n",
              "      border-color: transparent;\n",
              "      border-right-color: var(--fill-color);\n",
              "      border-top-color: var(--fill-color);\n",
              "    }\n",
              "    60% {\n",
              "      border-color: transparent;\n",
              "      border-right-color: var(--fill-color);\n",
              "    }\n",
              "    80% {\n",
              "      border-color: transparent;\n",
              "      border-right-color: var(--fill-color);\n",
              "      border-bottom-color: var(--fill-color);\n",
              "    }\n",
              "    90% {\n",
              "      border-color: transparent;\n",
              "      border-bottom-color: var(--fill-color);\n",
              "    }\n",
              "  }\n",
              "</style>\n",
              "\n",
              "  <script>\n",
              "    async function quickchart(key) {\n",
              "      const quickchartButtonEl =\n",
              "        document.querySelector('#' + key + ' button');\n",
              "      quickchartButtonEl.disabled = true;  // To prevent multiple clicks.\n",
              "      quickchartButtonEl.classList.add('colab-df-spinner');\n",
              "      try {\n",
              "        const charts = await google.colab.kernel.invokeFunction(\n",
              "            'suggestCharts', [key], {});\n",
              "      } catch (error) {\n",
              "        console.error('Error during call to suggestCharts:', error);\n",
              "      }\n",
              "      quickchartButtonEl.classList.remove('colab-df-spinner');\n",
              "      quickchartButtonEl.classList.add('colab-df-quickchart-complete');\n",
              "    }\n",
              "    (() => {\n",
              "      let quickchartButtonEl =\n",
              "        document.querySelector('#df-1a39ee96-592c-4228-bed7-a2ce8055b104 button');\n",
              "      quickchartButtonEl.style.display =\n",
              "        google.colab.kernel.accessAllowed ? 'block' : 'none';\n",
              "    })();\n",
              "  </script>\n",
              "</div>\n",
              "\n",
              "  <div id=\"id_e446ef5a-f11c-4752-8cf9-8ec769c4bce5\">\n",
              "    <style>\n",
              "      .colab-df-generate {\n",
              "        background-color: #E8F0FE;\n",
              "        border: none;\n",
              "        border-radius: 50%;\n",
              "        cursor: pointer;\n",
              "        display: none;\n",
              "        fill: #1967D2;\n",
              "        height: 32px;\n",
              "        padding: 0 0 0 0;\n",
              "        width: 32px;\n",
              "      }\n",
              "\n",
              "      .colab-df-generate:hover {\n",
              "        background-color: #E2EBFA;\n",
              "        box-shadow: 0px 1px 2px rgba(60, 64, 67, 0.3), 0px 1px 3px 1px rgba(60, 64, 67, 0.15);\n",
              "        fill: #174EA6;\n",
              "      }\n",
              "\n",
              "      [theme=dark] .colab-df-generate {\n",
              "        background-color: #3B4455;\n",
              "        fill: #D2E3FC;\n",
              "      }\n",
              "\n",
              "      [theme=dark] .colab-df-generate:hover {\n",
              "        background-color: #434B5C;\n",
              "        box-shadow: 0px 1px 3px 1px rgba(0, 0, 0, 0.15);\n",
              "        filter: drop-shadow(0px 1px 2px rgba(0, 0, 0, 0.3));\n",
              "        fill: #FFFFFF;\n",
              "      }\n",
              "    </style>\n",
              "    <button class=\"colab-df-generate\" onclick=\"generateWithVariable('metrics_df')\"\n",
              "            title=\"Generate code using this dataframe.\"\n",
              "            style=\"display:none;\">\n",
              "\n",
              "  <svg xmlns=\"http://www.w3.org/2000/svg\" height=\"24px\"viewBox=\"0 0 24 24\"\n",
              "       width=\"24px\">\n",
              "    <path d=\"M7,19H8.4L18.45,9,17,7.55,7,17.6ZM5,21V16.75L18.45,3.32a2,2,0,0,1,2.83,0l1.4,1.43a1.91,1.91,0,0,1,.58,1.4,1.91,1.91,0,0,1-.58,1.4L9.25,21ZM18.45,9,17,7.55Zm-12,3A5.31,5.31,0,0,0,4.9,8.1,5.31,5.31,0,0,0,1,6.5,5.31,5.31,0,0,0,4.9,4.9,5.31,5.31,0,0,0,6.5,1,5.31,5.31,0,0,0,8.1,4.9,5.31,5.31,0,0,0,12,6.5,5.46,5.46,0,0,0,6.5,12Z\"/>\n",
              "  </svg>\n",
              "    </button>\n",
              "    <script>\n",
              "      (() => {\n",
              "      const buttonEl =\n",
              "        document.querySelector('#id_e446ef5a-f11c-4752-8cf9-8ec769c4bce5 button.colab-df-generate');\n",
              "      buttonEl.style.display =\n",
              "        google.colab.kernel.accessAllowed ? 'block' : 'none';\n",
              "\n",
              "      buttonEl.onclick = () => {\n",
              "        google.colab.notebook.generateWithVariable('metrics_df');\n",
              "      }\n",
              "      })();\n",
              "    </script>\n",
              "  </div>\n",
              "\n",
              "    </div>\n",
              "  </div>\n"
            ],
            "application/vnd.google.colaboratory.intrinsic+json": {
              "type": "dataframe",
              "variable_name": "metrics_df",
              "summary": "{\n  \"name\": \"metrics_df\",\n  \"rows\": 12,\n  \"fields\": [\n    {\n      \"column\": \"Accuracy\",\n      \"properties\": {\n        \"dtype\": \"number\",\n        \"std\": 0.00853370803642582,\n        \"min\": 0.9656428571428571,\n        \"max\": 0.9909285714285714,\n        \"num_unique_values\": 12,\n        \"samples\": [\n          0.9909285714285714,\n          0.9853571428571428,\n          0.98\n        ],\n        \"semantic_type\": \"\",\n        \"description\": \"\"\n      }\n    },\n    {\n      \"column\": \"Precision\",\n      \"properties\": {\n        \"dtype\": \"number\",\n        \"std\": 0.008594738150063038,\n        \"min\": 0.965491116330913,\n        \"max\": 0.990930375134479,\n        \"num_unique_values\": 12,\n        \"samples\": [\n          0.990930375134479,\n          0.9854033839637445,\n          0.9799613137089125\n        ],\n        \"semantic_type\": \"\",\n        \"description\": \"\"\n      }\n    },\n    {\n      \"column\": \"Recall\",\n      \"properties\": {\n        \"dtype\": \"number\",\n        \"std\": 0.008634559939832311,\n        \"min\": 0.965359147990171,\n        \"max\": 0.9909391249025953,\n        \"num_unique_values\": 12,\n        \"samples\": [\n          0.9909391249025953,\n          0.9852515549565843,\n          0.9798856803725899\n        ],\n        \"semantic_type\": \"\",\n        \"description\": \"\"\n      }\n    },\n    {\n      \"column\": \"F1 Score\",\n      \"properties\": {\n        \"dtype\": \"number\",\n        \"std\": 0.008609399731747736,\n        \"min\": 0.9654105702508728,\n        \"max\": 0.9909100816129983,\n        \"num_unique_values\": 12,\n        \"samples\": [\n          0.9909100816129983,\n          0.9852784917410411,\n          0.9799135796449031\n        ],\n        \"semantic_type\": \"\",\n        \"description\": \"\"\n      }\n    }\n  ]\n}"
            }
          },
          "metadata": {}
        }
      ]
    },
    {
      "cell_type": "code",
      "source": [
        "# Plot metrics\n",
        "metrics_to_plot = [\"Accuracy\", \"Precision\", \"Recall\", \"F1 Score\"]\n",
        "\n",
        "sampler_colors = {\n",
        "    \"TPESampler\": \"dodgerblue\",\n",
        "    \"CmaEsSampler\": \"red\",\n",
        "    \"GPSampler\": \"green\",\n",
        "    \"BoTorchSampler\": \"orange\",\n",
        "    \"SMACSampler\": \"purple\",\n",
        "    \"GWOSampler\": \"pink\",\n",
        "}\n",
        "\n",
        "# Create a 2x2 grid of subplots (for the 4 metrics)\n",
        "fig, axes = plt.subplots(2, 2, figsize=(12, 8), sharey=True)\n",
        "axes = axes.ravel()  # Flatten so we can iterate easily\n",
        "\n",
        "for i, metric in enumerate(metrics_to_plot):\n",
        "    ax = axes[i]\n",
        "    bar_colors = []\n",
        "\n",
        "    # Build color list based on sampler name in index\n",
        "    for model_name in metrics_df.index:\n",
        "        sampler = model_name.split(\"_\")[-1]\n",
        "        bar_colors.append(sampler_colors.get(sampler, \"gray\"))\n",
        "\n",
        "    # Plot the bars\n",
        "    bars = ax.bar(metrics_df.index, metrics_df[metric], color=bar_colors)\n",
        "\n",
        "    # Annotate each bar\n",
        "    for bar in bars:\n",
        "        height = bar.get_height()\n",
        "        ax.text(\n",
        "            bar.get_x() + bar.get_width()/2,\n",
        "            height + 0.01,\n",
        "            f\"{height:.2f}\",\n",
        "            ha=\"center\",\n",
        "            va=\"bottom\"\n",
        "        )\n",
        "\n",
        "    ax.set_title(metric)\n",
        "    ax.set_ylim(0, 1.1)\n",
        "\n",
        "    # Rotate x-axis labels\n",
        "    ax.set_xticklabels(metrics_df.index, rotation=60, ha=\"right\")\n",
        "\n",
        "plt.tight_layout()\n",
        "plt.show()"
      ],
      "metadata": {
        "id": "8BoF0CnzYdz2",
        "colab": {
          "base_uri": "https://localhost:8080/",
          "height": 756
        },
        "outputId": "4f508af1-c506-4d9a-8d0f-b17497156e04"
      },
      "execution_count": 37,
      "outputs": [
        {
          "output_type": "display_data",
          "data": {
            "text/plain": [
              "<Figure size 1200x800 with 4 Axes>"
            ],
            "image/png": "[encoded data removed]"
          },
          "metadata": {}
        }
      ]
    }
  ]
}