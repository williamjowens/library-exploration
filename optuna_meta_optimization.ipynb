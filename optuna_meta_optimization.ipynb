{
  "nbformat": 4,
  "nbformat_minor": 0,
  "metadata": {
    "colab": {
      "provenance": [],
      "toc_visible": true
    },
    "kernelspec": {
      "name": "python3",
      "display_name": "Python 3"
    },
    "language_info": {
      "name": "python"
    }
  },
  "cells": [
    {
      "cell_type": "markdown",
      "source": [
        "# Installs & Imports"
      ],
      "metadata": {
        "id": "CO4pozIu7oJb"
      }
    },
    {
      "cell_type": "code",
      "source": [
        "!pip install -q optuna cmaes"
      ],
      "metadata": {
        "id": "vO9zyZ8eAgJU"
      },
      "execution_count": 1,
      "outputs": []
    },
    {
      "cell_type": "code",
      "source": [
        "import optuna\n",
        "from optuna.samplers import TPESampler, RandomSampler, CmaEsSampler\n",
        "import tensorflow as tf\n",
        "import pandas as pd\n",
        "from sklearn.datasets import load_iris\n",
        "from sklearn.model_selection import train_test_split\n",
        "from sklearn.preprocessing import StandardScaler\n",
        "from sklearn.metrics import accuracy_score\n",
        "import tensorflow as tf\n",
        "from tensorflow.keras import layers\n",
        "from sklearn.model_selection import StratifiedKFold"
      ],
      "metadata": {
        "id": "xSyphrPCAjcz"
      },
      "execution_count": 2,
      "outputs": []
    },
    {
      "cell_type": "markdown",
      "source": [
        "# Load the Data"
      ],
      "metadata": {
        "id": "-QRaAdIAAmbC"
      }
    },
    {
      "cell_type": "code",
      "source": [
        "# Function to load and preprocess the data\n",
        "def load_and_preprocess_data():\n",
        "    # Load the dataset\n",
        "    data = load_iris()\n",
        "    df = pd.DataFrame(data.data, columns=data.feature_names)\n",
        "    df['target'] = data.target\n",
        "\n",
        "    # Split the data into features and target\n",
        "    X = df.drop('target', axis=1)\n",
        "    y = df['target']\n",
        "\n",
        "    # Train-test split\n",
        "    X_train, X_test, y_train, y_test = train_test_split(X, y, test_size=0.2, random_state=42, stratify=y)\n",
        "\n",
        "    # Feature scaling\n",
        "    scaler = StandardScaler()\n",
        "    X_train = scaler.fit_transform(X_train)\n",
        "    X_test = scaler.transform(X_test)\n",
        "\n",
        "    return X_train, X_test, y_train.values, y_test.values"
      ],
      "metadata": {
        "id": "t1aegSMFAoQH"
      },
      "execution_count": 3,
      "outputs": []
    },
    {
      "cell_type": "code",
      "source": [
        "# Load and preprocess the data\n",
        "X_train, X_test, y_train, y_test = load_and_preprocess_data()\n",
        "\n",
        "# Print shapes\n",
        "print(\"X_train shape:\", X_train.shape)\n",
        "print(\"X_test shape:\", X_test.shape)\n",
        "print(\"y_train shape:\", y_train.shape)\n",
        "print(\"y_test shape:\", y_test.shape)"
      ],
      "metadata": {
        "colab": {
          "base_uri": "https://localhost:8080/"
        },
        "id": "IeQbWFVxBYlh",
        "outputId": "1a2b55ec-b239-458b-aeb5-6414f83cf304"
      },
      "execution_count": 4,
      "outputs": [
        {
          "output_type": "stream",
          "name": "stdout",
          "text": [
            "X_train shape: (120, 4)\n",
            "X_test shape: (30, 4)\n",
            "y_train shape: (120,)\n",
            "y_test shape: (30,)\n"
          ]
        }
      ]
    },
    {
      "cell_type": "markdown",
      "source": [
        "# Model Optimization"
      ],
      "metadata": {
        "id": "PP_dvscQAp7H"
      }
    },
    {
      "cell_type": "code",
      "source": [
        "# Function to define and compile the model based on the optimizer and its parameters\n",
        "def compile_model(trial):\n",
        "    model = tf.keras.Sequential([\n",
        "        layers.Dense(trial.suggest_int('units1', 16, 128), activation='relu'),\n",
        "        layers.Dense(trial.suggest_int('units2', 16, 128), activation='relu'),\n",
        "        layers.Dense(3, activation='softmax')\n",
        "    ])\n",
        "\n",
        "    # Select and configure the optimizer\n",
        "    optimizer_name = trial.suggest_categorical('optimizer', ['Adam', 'RMSprop', 'SGD'])\n",
        "    learning_rate = trial.suggest_float('learning_rate', 1e-5, 1e-1, log=True)\n",
        "\n",
        "    if optimizer_name == 'Adam':\n",
        "        beta_1 = trial.suggest_float('beta_1', 0.8, 0.999)\n",
        "        beta_2 = trial.suggest_float('beta_2', 0.8, 0.999)\n",
        "        optimizer = tf.keras.optimizers.Adam(learning_rate=learning_rate, beta_1=beta_1, beta_2=beta_2)\n",
        "    elif optimizer_name == 'RMSprop':\n",
        "        rho = trial.suggest_float('rho', 0.8, 0.999)\n",
        "        optimizer = tf.keras.optimizers.RMSprop(learning_rate=learning_rate, rho=rho)\n",
        "    else:\n",
        "        momentum = trial.suggest_float('momentum', 0.0, 0.9)\n",
        "        optimizer = tf.keras.optimizers.SGD(learning_rate=learning_rate, momentum=momentum)\n",
        "\n",
        "    model.compile(optimizer=optimizer, loss='sparse_categorical_crossentropy', metrics=['accuracy'])\n",
        "    return model"
      ],
      "metadata": {
        "id": "frtNbB1fIu7h"
      },
      "execution_count": 5,
      "outputs": []
    },
    {
      "cell_type": "code",
      "source": [
        "# Function to perform K-Fold Cross-Validation and return the average validation accuracy\n",
        "def model_optimization(trial, X_train, y_train):\n",
        "    model = compile_model(trial)\n",
        "\n",
        "    skf = StratifiedKFold(n_splits=5)\n",
        "    accuracies = []\n",
        "\n",
        "    for train_index, val_index in skf.split(X_train, y_train):\n",
        "        X_tr, X_val = X_train[train_index], X_train[val_index]\n",
        "        y_tr, y_val = y_train[train_index], y_train[val_index]\n",
        "\n",
        "        history = model.fit(X_tr, y_tr, validation_data=(X_val, y_val),\n",
        "                            epochs=5, batch_size=trial.suggest_int('batch_size', 32, 128), verbose=0)\n",
        "\n",
        "        val_acc = history.history['val_accuracy'][-1]\n",
        "        accuracies.append(val_acc)\n",
        "\n",
        "    return sum(accuracies) / len(accuracies)"
      ],
      "metadata": {
        "id": "rvz9bAatA0jj"
      },
      "execution_count": 6,
      "outputs": []
    },
    {
      "cell_type": "markdown",
      "source": [
        "# Study Optimization"
      ],
      "metadata": {
        "id": "fLuW6pZWA2X8"
      }
    },
    {
      "cell_type": "code",
      "source": [
        "# Function to run the study optimization with the appropriate sampler strategy\n",
        "def study_optimization(trial, X_train, y_train):\n",
        "    # Select the pruner\n",
        "    pruner_name = trial.suggest_categorical('pruner', ['MedianPruner', 'HyperbandPruner', 'NopPruner'])\n",
        "    pruner = getattr(optuna.pruners, pruner_name)()\n",
        "\n",
        "    # Select the sampler\n",
        "    sampler_name = trial.suggest_categorical('sampler', ['TPESampler', 'RandomSampler', 'CmaEsSampler'])\n",
        "\n",
        "    if sampler_name == 'CmaEsSampler':\n",
        "        # If CmaEsSampler is selected, use TPESampler for categorical parameters\n",
        "        base_sampler = TPESampler()\n",
        "\n",
        "        def inner_study_optimization(inner_trial):\n",
        "            optimizer_name = inner_trial.suggest_categorical('optimizer', ['Adam', 'RMSprop', 'SGD'])\n",
        "            return model_optimization(inner_trial, X_train, y_train)\n",
        "\n",
        "        # Create a nested study with CmaEsSampler for continuous parameters\n",
        "        continuous_sampler = CmaEsSampler(warn_independent_sampling=False)\n",
        "        nested_study = optuna.create_study(direction='maximize', sampler=continuous_sampler, pruner=pruner)\n",
        "        nested_study.optimize(inner_study_optimization, n_trials=20)\n",
        "\n",
        "        return nested_study.best_value\n",
        "\n",
        "    else:\n",
        "        # If TPESampler or RandomSampler is selected, use it for the whole optimization\n",
        "        sampler = getattr(optuna.samplers, sampler_name)()\n",
        "        study = optuna.create_study(direction='maximize', sampler=sampler, pruner=pruner)\n",
        "        study.optimize(lambda t: model_optimization(t, X_train, y_train), n_trials=20)\n",
        "\n",
        "        return study.best_value"
      ],
      "metadata": {
        "id": "SSLYk2UHA5j4"
      },
      "execution_count": 7,
      "outputs": []
    },
    {
      "cell_type": "markdown",
      "source": [
        "# Meta-Optimization"
      ],
      "metadata": {
        "id": "2_1LmfZbA6VE"
      }
    },
    {
      "cell_type": "code",
      "source": [
        "# Function to run the meta-optimization to find the best study parameters\n",
        "def run_meta_optimization(X_train, y_train):\n",
        "    meta_study = optuna.create_study(direction='maximize')\n",
        "    meta_study.optimize(lambda t: study_optimization(t, X_train, y_train), n_trials=10)\n",
        "    return meta_study"
      ],
      "metadata": {
        "id": "L-oOw1jEBi2l"
      },
      "execution_count": 8,
      "outputs": []
    },
    {
      "cell_type": "code",
      "source": [
        "# Meta-optimization to optimize the Optuna study parameters\n",
        "meta_study = run_meta_optimization(X_train, y_train)"
      ],
      "metadata": {
        "colab": {
          "base_uri": "https://localhost:8080/"
        },
        "id": "JzEO_t-nA7uK",
        "outputId": "2f27f23e-be5f-487e-f6f2-5cbd1c915530"
      },
      "execution_count": 9,
      "outputs": [
        {
          "output_type": "stream",
          "name": "stderr",
          "text": [
            "[I 2024-08-26 00:59:33,069] A new study created in memory with name: no-name-67eb8551-82ef-4f52-abc8-c41efcf70bff\n",
            "[I 2024-08-26 00:59:33,073] A new study created in memory with name: no-name-5897a4e0-9698-47f7-bcb2-0b61fef9122e\n",
            "[I 2024-08-26 00:59:39,509] Trial 0 finished with value: 0.875 and parameters: {'units1': 70, 'units2': 56, 'optimizer': 'RMSprop', 'learning_rate': 0.001223789846088445, 'rho': 0.9486317224041942, 'batch_size': 48}. Best is trial 0 with value: 0.875.\n",
            "[I 2024-08-26 00:59:51,012] Trial 1 finished with value: 0.5666666746139526 and parameters: {'units1': 37, 'units2': 97, 'optimizer': 'SGD', 'learning_rate': 0.007729566253774043, 'momentum': 0.3970202272784246, 'batch_size': 96}. Best is trial 0 with value: 0.875.\n",
            "[I 2024-08-26 01:00:05,002] Trial 2 finished with value: 0.7666666746139527 and parameters: {'units1': 62, 'units2': 55, 'optimizer': 'Adam', 'learning_rate': 0.00034898055449182196, 'beta_1': 0.800914380337444, 'beta_2': 0.8855966600473282, 'batch_size': 123}. Best is trial 0 with value: 0.875.\n",
            "[I 2024-08-26 01:00:08,376] Trial 3 finished with value: 0.44166666865348814 and parameters: {'units1': 60, 'units2': 58, 'optimizer': 'SGD', 'learning_rate': 1.2179760702796982e-05, 'momentum': 0.528620670660332, 'batch_size': 73}. Best is trial 0 with value: 0.875.\n",
            "[I 2024-08-26 01:00:12,392] Trial 4 finished with value: 0.625 and parameters: {'units1': 47, 'units2': 32, 'optimizer': 'RMSprop', 'learning_rate': 1.2154908415046406e-05, 'rho': 0.9755349722176507, 'batch_size': 87}. Best is trial 0 with value: 0.875.\n",
            "[I 2024-08-26 01:00:15,663] Trial 5 finished with value: 0.5833333373069763 and parameters: {'units1': 43, 'units2': 18, 'optimizer': 'Adam', 'learning_rate': 0.0003451998763546476, 'beta_1': 0.8025757170357883, 'beta_2': 0.8822555015676158, 'batch_size': 128}. Best is trial 0 with value: 0.875.\n",
            "[I 2024-08-26 01:00:18,844] Trial 6 finished with value: 0.924999988079071 and parameters: {'units1': 119, 'units2': 50, 'optimizer': 'Adam', 'learning_rate': 0.010054372998101501, 'beta_1': 0.8590760405633691, 'beta_2': 0.9915207197764802, 'batch_size': 99}. Best is trial 6 with value: 0.924999988079071.\n",
            "[I 2024-08-26 01:00:21,757] Trial 7 finished with value: 0.3416666746139526 and parameters: {'units1': 127, 'units2': 59, 'optimizer': 'SGD', 'learning_rate': 0.00012479245370445737, 'momentum': 0.34342194183870883, 'batch_size': 33}. Best is trial 6 with value: 0.924999988079071.\n",
            "[I 2024-08-26 01:00:25,779] Trial 8 finished with value: 0.949999988079071 and parameters: {'units1': 69, 'units2': 115, 'optimizer': 'RMSprop', 'learning_rate': 0.02736284983171188, 'rho': 0.95933957945187, 'batch_size': 53}. Best is trial 8 with value: 0.949999988079071.\n",
            "[I 2024-08-26 01:00:28,987] Trial 9 finished with value: 0.5 and parameters: {'units1': 90, 'units2': 97, 'optimizer': 'Adam', 'learning_rate': 1.316210085062217e-05, 'beta_1': 0.8878938940523955, 'beta_2': 0.9011265022050088, 'batch_size': 32}. Best is trial 8 with value: 0.949999988079071.\n",
            "[I 2024-08-26 01:00:32,003] Trial 10 finished with value: 0.924999988079071 and parameters: {'units1': 21, 'units2': 123, 'optimizer': 'RMSprop', 'learning_rate': 0.07954648109022858, 'rho': 0.8171673016920256, 'batch_size': 63}. Best is trial 8 with value: 0.949999988079071.\n",
            "[I 2024-08-26 01:00:36,621] Trial 11 finished with value: 0.925 and parameters: {'units1': 101, 'units2': 127, 'optimizer': 'RMSprop', 'learning_rate': 0.024652236814270864, 'rho': 0.8967057644332506, 'batch_size': 103}. Best is trial 8 with value: 0.949999988079071.\n",
            "[I 2024-08-26 01:00:40,255] Trial 12 finished with value: 0.8833333253860474 and parameters: {'units1': 97, 'units2': 125, 'optimizer': 'RMSprop', 'learning_rate': 0.07942185122575716, 'rho': 0.8915593593406472, 'batch_size': 114}. Best is trial 8 with value: 0.949999988079071.\n",
            "[I 2024-08-26 01:00:43,254] Trial 13 finished with value: 0.9583333253860473 and parameters: {'units1': 93, 'units2': 103, 'optimizer': 'RMSprop', 'learning_rate': 0.012211650329656338, 'rho': 0.8977395383973569, 'batch_size': 56}. Best is trial 13 with value: 0.9583333253860473.\n",
            "[I 2024-08-26 01:00:46,010] Trial 14 finished with value: 0.925 and parameters: {'units1': 84, 'units2': 96, 'optimizer': 'RMSprop', 'learning_rate': 0.0031865459788553143, 'rho': 0.9330380078300868, 'batch_size': 56}. Best is trial 13 with value: 0.9583333253860473.\n",
            "[I 2024-08-26 01:00:49,601] Trial 15 finished with value: 0.9333333253860474 and parameters: {'units1': 110, 'units2': 81, 'optimizer': 'RMSprop', 'learning_rate': 0.019528543540806707, 'rho': 0.8567117366454884, 'batch_size': 71}. Best is trial 13 with value: 0.9583333253860473.\n",
            "[I 2024-08-26 01:00:52,706] Trial 16 finished with value: 0.949999988079071 and parameters: {'units1': 78, 'units2': 110, 'optimizer': 'RMSprop', 'learning_rate': 0.0031215127976558987, 'rho': 0.9934068520018091, 'batch_size': 48}. Best is trial 13 with value: 0.9583333253860473.\n",
            "[I 2024-08-26 01:00:55,550] Trial 17 finished with value: 0.9083333373069763 and parameters: {'units1': 73, 'units2': 80, 'optimizer': 'RMSprop', 'learning_rate': 0.03637282083926182, 'rho': 0.9291157914372397, 'batch_size': 46}. Best is trial 13 with value: 0.9583333253860473.\n",
            "[I 2024-08-26 01:00:58,668] Trial 18 finished with value: 0.924999988079071 and parameters: {'units1': 56, 'units2': 110, 'optimizer': 'RMSprop', 'learning_rate': 0.005691778345251808, 'rho': 0.8878180016640579, 'batch_size': 59}. Best is trial 13 with value: 0.9583333253860473.\n",
            "[I 2024-08-26 01:01:01,758] Trial 19 finished with value: 0.6416666686534882 and parameters: {'units1': 105, 'units2': 114, 'optimizer': 'SGD', 'learning_rate': 0.0012543022580809085, 'momentum': 0.869379673014832, 'batch_size': 81}. Best is trial 13 with value: 0.9583333253860473.\n",
            "[I 2024-08-26 01:01:01,761] Trial 0 finished with value: 0.9583333253860473 and parameters: {'pruner': 'MedianPruner', 'sampler': 'TPESampler'}. Best is trial 0 with value: 0.9583333253860473.\n",
            "[I 2024-08-26 01:01:01,763] A new study created in memory with name: no-name-33154a85-c67e-4da5-8500-010319dc8da0\n",
            "[I 2024-08-26 01:01:05,362] Trial 0 finished with value: 0.9666666626930237 and parameters: {'units1': 18, 'units2': 98, 'optimizer': 'RMSprop', 'learning_rate': 0.007118018026603435, 'rho': 0.9448765634298094, 'batch_size': 69}. Best is trial 0 with value: 0.9666666626930237.\n",
            "[I 2024-08-26 01:01:08,566] Trial 1 finished with value: 0.9083333253860474 and parameters: {'units1': 69, 'units2': 61, 'optimizer': 'Adam', 'learning_rate': 0.0023970555913465884, 'beta_1': 0.8488623324195941, 'beta_2': 0.9116878912514694, 'batch_size': 56}. Best is trial 0 with value: 0.9666666626930237.\n",
            "[I 2024-08-26 01:01:11,895] Trial 2 finished with value: 0.825 and parameters: {'units1': 57, 'units2': 36, 'optimizer': 'Adam', 'learning_rate': 0.0010429770455786457, 'beta_1': 0.8897915611202476, 'beta_2': 0.9840751268940502, 'batch_size': 38}. Best is trial 0 with value: 0.9666666626930237.\n",
            "[I 2024-08-26 01:01:16,342] Trial 3 finished with value: 0.15 and parameters: {'units1': 43, 'units2': 122, 'optimizer': 'SGD', 'learning_rate': 0.00029046644182130135, 'momentum': 0.126373203037727, 'batch_size': 48}. Best is trial 0 with value: 0.9666666626930237.\n",
            "[I 2024-08-26 01:01:19,250] Trial 4 finished with value: 0.6666666865348816 and parameters: {'units1': 112, 'units2': 39, 'optimizer': 'SGD', 'learning_rate': 0.008446933668977703, 'momentum': 0.41967559722748005, 'batch_size': 108}. Best is trial 0 with value: 0.9666666626930237.\n",
            "[I 2024-08-26 01:01:22,318] Trial 5 finished with value: 0.9083333253860474 and parameters: {'units1': 42, 'units2': 70, 'optimizer': 'RMSprop', 'learning_rate': 0.08631148917534844, 'rho': 0.9125391383122188, 'batch_size': 96}. Best is trial 0 with value: 0.9666666626930237.\n",
            "[I 2024-08-26 01:01:25,143] Trial 6 finished with value: 0.800000011920929 and parameters: {'units1': 120, 'units2': 97, 'optimizer': 'SGD', 'learning_rate': 0.011646788054962037, 'momentum': 0.08127925232647232, 'batch_size': 59}. Best is trial 0 with value: 0.9666666626930237.\n",
            "[I 2024-08-26 01:01:29,219] Trial 7 finished with value: 0.600000011920929 and parameters: {'units1': 127, 'units2': 112, 'optimizer': 'SGD', 'learning_rate': 3.472084484221045e-05, 'momentum': 0.024446476451397515, 'batch_size': 47}. Best is trial 0 with value: 0.9666666626930237.\n",
            "[I 2024-08-26 01:01:32,442] Trial 8 finished with value: 0.95 and parameters: {'units1': 119, 'units2': 41, 'optimizer': 'RMSprop', 'learning_rate': 0.05220451270145354, 'rho': 0.9226631774122034, 'batch_size': 72}. Best is trial 0 with value: 0.9666666626930237.\n",
            "[I 2024-08-26 01:01:36,291] Trial 9 finished with value: 0.949999988079071 and parameters: {'units1': 40, 'units2': 98, 'optimizer': 'Adam', 'learning_rate': 0.02018912635872178, 'beta_1': 0.9064137674093852, 'beta_2': 0.8377041454192343, 'batch_size': 90}. Best is trial 0 with value: 0.9666666626930237.\n",
            "[I 2024-08-26 01:01:39,546] Trial 10 finished with value: 0.7416666746139526 and parameters: {'units1': 16, 'units2': 89, 'optimizer': 'RMSprop', 'learning_rate': 0.00018175521156696834, 'rho': 0.9977600397688163, 'batch_size': 119}. Best is trial 0 with value: 0.9666666626930237.\n",
            "[I 2024-08-26 01:01:43,169] Trial 11 finished with value: 0.924999988079071 and parameters: {'units1': 94, 'units2': 21, 'optimizer': 'RMSprop', 'learning_rate': 0.06964635421201856, 'rho': 0.929284011600355, 'batch_size': 73}. Best is trial 0 with value: 0.9666666626930237.\n",
            "[I 2024-08-26 01:01:46,097] Trial 12 finished with value: 0.9416666626930237 and parameters: {'units1': 93, 'units2': 45, 'optimizer': 'RMSprop', 'learning_rate': 0.003805767186111979, 'rho': 0.8021654689124273, 'batch_size': 71}. Best is trial 0 with value: 0.9666666626930237.\n",
            "[I 2024-08-26 01:01:48,939] Trial 13 finished with value: 0.9166666507720947 and parameters: {'units1': 18, 'units2': 80, 'optimizer': 'RMSprop', 'learning_rate': 0.02897130097790422, 'rho': 0.9581694351381564, 'batch_size': 83}. Best is trial 0 with value: 0.9666666626930237.\n",
            "[I 2024-08-26 01:01:52,287] Trial 14 finished with value: 0.9416666507720948 and parameters: {'units1': 96, 'units2': 57, 'optimizer': 'RMSprop', 'learning_rate': 0.004761634807338005, 'rho': 0.852991398241929, 'batch_size': 66}. Best is trial 0 with value: 0.9666666626930237.\n",
            "[I 2024-08-26 01:01:55,929] Trial 15 finished with value: 0.949999988079071 and parameters: {'units1': 76, 'units2': 20, 'optimizer': 'RMSprop', 'learning_rate': 0.032882389441993856, 'rho': 0.8850944588556986, 'batch_size': 100}. Best is trial 0 with value: 0.9666666626930237.\n",
            "[I 2024-08-26 01:01:59,504] Trial 16 finished with value: 0.8833333373069763 and parameters: {'units1': 106, 'units2': 108, 'optimizer': 'RMSprop', 'learning_rate': 0.0009618879127878324, 'rho': 0.9614818832166862, 'batch_size': 78}. Best is trial 0 with value: 0.9666666626930237.\n",
            "[I 2024-08-26 01:02:02,438] Trial 17 finished with value: 0.9166666626930237 and parameters: {'units1': 77, 'units2': 76, 'optimizer': 'RMSprop', 'learning_rate': 0.001615719536383129, 'rho': 0.8829765235470467, 'batch_size': 63}. Best is trial 0 with value: 0.9666666626930237.\n",
            "[I 2024-08-26 01:02:05,922] Trial 18 finished with value: 0.2666666626930237 and parameters: {'units1': 28, 'units2': 127, 'optimizer': 'RMSprop', 'learning_rate': 1.3370562908258526e-05, 'rho': 0.9480322743686707, 'batch_size': 32}. Best is trial 0 with value: 0.9666666626930237.\n",
            "[I 2024-08-26 01:02:09,795] Trial 19 finished with value: 0.924999988079071 and parameters: {'units1': 61, 'units2': 52, 'optimizer': 'Adam', 'learning_rate': 0.009401155352709856, 'beta_1': 0.9757926219360922, 'beta_2': 0.802457378264344, 'batch_size': 81}. Best is trial 0 with value: 0.9666666626930237.\n",
            "[I 2024-08-26 01:02:09,798] Trial 1 finished with value: 0.9666666626930237 and parameters: {'pruner': 'MedianPruner', 'sampler': 'TPESampler'}. Best is trial 1 with value: 0.9666666626930237.\n",
            "[I 2024-08-26 01:02:09,804] A new study created in memory with name: no-name-c473c50c-f07b-4e19-be68-1aaf383b3dec\n",
            "[I 2024-08-26 01:02:13,895] Trial 0 finished with value: 0.8499999880790711 and parameters: {'optimizer': 'RMSprop', 'units1': 106, 'units2': 100, 'learning_rate': 0.0002863663104458677, 'rho': 0.8046344285166187, 'batch_size': 38}. Best is trial 0 with value: 0.8499999880790711.\n",
            "[I 2024-08-26 01:02:17,142] Trial 1 finished with value: 0.925 and parameters: {'optimizer': 'Adam', 'units1': 74, 'units2': 112, 'learning_rate': 0.003169741165030317, 'beta_1': 0.9804114696468959, 'beta_2': 0.8398254625418536, 'batch_size': 76}. Best is trial 1 with value: 0.925.\n",
            "[I 2024-08-26 01:02:21,600] Trial 2 finished with value: 0.7333333492279053 and parameters: {'optimizer': 'Adam', 'units1': 39, 'units2': 77, 'learning_rate': 0.0004996861618021402, 'beta_1': 0.9098045749076094, 'beta_2': 0.8884374162059856, 'batch_size': 90}. Best is trial 1 with value: 0.925.\n",
            "[I 2024-08-26 01:02:24,726] Trial 3 finished with value: 0.8083333373069763 and parameters: {'optimizer': 'Adam', 'units1': 112, 'units2': 77, 'learning_rate': 0.0003964534404383201, 'beta_1': 0.8600498042180612, 'beta_2': 0.8512832299833464, 'batch_size': 58}. Best is trial 1 with value: 0.925.\n",
            "[I 2024-08-26 01:02:28,052] Trial 4 finished with value: 0.8583333253860473 and parameters: {'optimizer': 'Adam', 'units1': 105, 'units2': 67, 'learning_rate': 0.0010856820544817185, 'beta_1': 0.9818070040707048, 'beta_2': 0.9276011708506811, 'batch_size': 77}. Best is trial 1 with value: 0.925.\n",
            "[I 2024-08-26 01:02:31,937] Trial 5 finished with value: 0.49166667759418486 and parameters: {'optimizer': 'Adam', 'units1': 20, 'units2': 48, 'learning_rate': 0.00046913025444777, 'beta_1': 0.9705007762604628, 'beta_2': 0.8702700306859427, 'batch_size': 70}. Best is trial 1 with value: 0.925.\n",
            "[I 2024-08-26 01:02:35,174] Trial 6 finished with value: 0.3333333432674408 and parameters: {'optimizer': 'SGD', 'units1': 94, 'units2': 71, 'learning_rate': 0.0016182636123097856, 'momentum': 0.4422393415321826, 'batch_size': 110}. Best is trial 1 with value: 0.925.\n",
            "[I 2024-08-26 01:02:37,855] Trial 7 finished with value: 0.675000011920929 and parameters: {'optimizer': 'SGD', 'units1': 72, 'units2': 64, 'learning_rate': 0.007359384643991088, 'momentum': 0.7313068197827686, 'batch_size': 82}. Best is trial 1 with value: 0.925.\n",
            "[I 2024-08-26 01:02:41,016] Trial 8 finished with value: 0.8833333373069763 and parameters: {'optimizer': 'Adam', 'units1': 87, 'units2': 54, 'learning_rate': 0.002393596358133067, 'beta_1': 0.882801100951055, 'beta_2': 0.8389239366535841, 'batch_size': 91}. Best is trial 1 with value: 0.925.\n",
            "[I 2024-08-26 01:02:44,428] Trial 9 finished with value: 0.6083333313465118 and parameters: {'optimizer': 'SGD', 'units1': 78, 'units2': 65, 'learning_rate': 0.00786536191792113, 'momentum': 0.05163705617229897, 'batch_size': 66}. Best is trial 1 with value: 0.925.\n",
            "[I 2024-08-26 01:02:48,687] Trial 10 finished with value: 0.875 and parameters: {'optimizer': 'RMSprop', 'units1': 76, 'units2': 65, 'learning_rate': 0.0009205285437570978, 'rho': 0.9440074628597855, 'batch_size': 84}. Best is trial 1 with value: 0.925.\n",
            "[I 2024-08-26 01:02:51,725] Trial 11 finished with value: 0.8833333373069763 and parameters: {'optimizer': 'RMSprop', 'units1': 102, 'units2': 59, 'learning_rate': 0.000748077592151008, 'rho': 0.833889316813003, 'batch_size': 41}. Best is trial 1 with value: 0.925.\n",
            "[I 2024-08-26 01:02:55,044] Trial 12 finished with value: 0.8833333373069763 and parameters: {'optimizer': 'Adam', 'units1': 101, 'units2': 81, 'learning_rate': 0.0013442977513751138, 'beta_1': 0.8762162662931393, 'beta_2': 0.837384346682616, 'batch_size': 55}. Best is trial 1 with value: 0.925.\n",
            "[I 2024-08-26 01:02:59,002] Trial 13 finished with value: 0.09166666492819786 and parameters: {'optimizer': 'SGD', 'units1': 80, 'units2': 104, 'learning_rate': 0.0008349737555394197, 'momentum': 0.004813438761003086, 'batch_size': 73}. Best is trial 1 with value: 0.925.\n",
            "[I 2024-08-26 01:03:02,318] Trial 14 finished with value: 0.9416666626930237 and parameters: {'optimizer': 'Adam', 'units1': 88, 'units2': 81, 'learning_rate': 0.02630326140724859, 'beta_1': 0.8797220198410185, 'beta_2': 0.8197309493113167, 'batch_size': 90}. Best is trial 14 with value: 0.9416666626930237.\n",
            "[I 2024-08-26 01:03:05,067] Trial 15 finished with value: 0.8416666626930237 and parameters: {'optimizer': 'SGD', 'units1': 121, 'units2': 66, 'learning_rate': 0.011387463772133124, 'momentum': 0.8481629588472985, 'batch_size': 64}. Best is trial 14 with value: 0.9416666626930237.\n",
            "[I 2024-08-26 01:03:07,849] Trial 16 finished with value: 0.9333333373069763 and parameters: {'optimizer': 'RMSprop', 'units1': 69, 'units2': 80, 'learning_rate': 0.0024351595135981745, 'rho': 0.8491726085753093, 'batch_size': 64}. Best is trial 14 with value: 0.9416666626930237.\n",
            "[I 2024-08-26 01:03:11,666] Trial 17 finished with value: 0.9416666626930237 and parameters: {'optimizer': 'RMSprop', 'units1': 83, 'units2': 84, 'learning_rate': 0.004277487045124691, 'rho': 0.9090150312793048, 'batch_size': 67}. Best is trial 14 with value: 0.9416666626930237.\n",
            "[I 2024-08-26 01:03:14,977] Trial 18 finished with value: 0.925 and parameters: {'optimizer': 'Adam', 'units1': 64, 'units2': 56, 'learning_rate': 0.005846525977474867, 'beta_1': 0.9386544207188048, 'beta_2': 0.8654495498160496, 'batch_size': 69}. Best is trial 14 with value: 0.9416666626930237.\n",
            "[I 2024-08-26 01:03:18,345] Trial 19 finished with value: 0.85 and parameters: {'optimizer': 'Adam', 'units1': 87, 'units2': 81, 'learning_rate': 0.0015406744486028707, 'beta_1': 0.9222943776956396, 'beta_2': 0.9228760584163962, 'batch_size': 82}. Best is trial 14 with value: 0.9416666626930237.\n",
            "[I 2024-08-26 01:03:18,348] Trial 2 finished with value: 0.9416666626930237 and parameters: {'pruner': 'MedianPruner', 'sampler': 'CmaEsSampler'}. Best is trial 1 with value: 0.9666666626930237.\n",
            "[I 2024-08-26 01:03:18,353] A new study created in memory with name: no-name-f3c1888f-90a0-4b1c-bf54-6d5ba3bdd0f7\n",
            "[I 2024-08-26 01:03:21,143] Trial 0 finished with value: 0.6166666746139526 and parameters: {'units1': 67, 'units2': 58, 'optimizer': 'RMSprop', 'learning_rate': 0.0001329144779827691, 'rho': 0.8763417188141366, 'batch_size': 96}. Best is trial 0 with value: 0.6166666746139526.\n",
            "[I 2024-08-26 01:03:25,277] Trial 1 finished with value: 0.37500000596046446 and parameters: {'units1': 45, 'units2': 124, 'optimizer': 'Adam', 'learning_rate': 8.600794581811364e-05, 'beta_1': 0.8777604788391775, 'beta_2': 0.9657732404304404, 'batch_size': 111}. Best is trial 0 with value: 0.6166666746139526.\n",
            "[I 2024-08-26 01:03:28,039] Trial 2 finished with value: 0.6916666626930237 and parameters: {'units1': 98, 'units2': 60, 'optimizer': 'SGD', 'learning_rate': 0.003822164991651075, 'momentum': 0.6685666196655881, 'batch_size': 92}. Best is trial 2 with value: 0.6916666626930237.\n",
            "[I 2024-08-26 01:03:31,261] Trial 3 finished with value: 0.7166666746139526 and parameters: {'units1': 48, 'units2': 32, 'optimizer': 'Adam', 'learning_rate': 0.0001545713960594718, 'beta_1': 0.8412515652873901, 'beta_2': 0.9126933806045447, 'batch_size': 80}. Best is trial 3 with value: 0.7166666746139526.\n",
            "[I 2024-08-26 01:03:34,548] Trial 4 finished with value: 0.6750000059604645 and parameters: {'units1': 29, 'units2': 76, 'optimizer': 'RMSprop', 'learning_rate': 0.00011423755863717913, 'rho': 0.9177386886713884, 'batch_size': 46}. Best is trial 3 with value: 0.7166666746139526.\n",
            "[I 2024-08-26 01:03:38,075] Trial 5 finished with value: 0.5833333134651184 and parameters: {'units1': 79, 'units2': 90, 'optimizer': 'SGD', 'learning_rate': 0.00023178617304813473, 'momentum': 0.15511793719608727, 'batch_size': 124}. Best is trial 3 with value: 0.7166666746139526.\n",
            "[I 2024-08-26 01:03:41,817] Trial 6 finished with value: 0.8750000119209289 and parameters: {'units1': 117, 'units2': 25, 'optimizer': 'SGD', 'learning_rate': 0.08547567943990003, 'momentum': 0.5063052820497733, 'batch_size': 100}. Best is trial 6 with value: 0.8750000119209289.\n",
            "[I 2024-08-26 01:03:44,712] Trial 7 finished with value: 0.6416666746139527 and parameters: {'units1': 68, 'units2': 122, 'optimizer': 'SGD', 'learning_rate': 4.398988439692792e-05, 'momentum': 0.7495728538700417, 'batch_size': 120}. Best is trial 6 with value: 0.8750000119209289.\n",
            "[I 2024-08-26 01:03:48,507] Trial 8 finished with value: 0.5750000059604645 and parameters: {'units1': 59, 'units2': 33, 'optimizer': 'SGD', 'learning_rate': 0.00384587984895231, 'momentum': 0.22712432622187076, 'batch_size': 107}. Best is trial 6 with value: 0.8750000119209289.\n",
            "[I 2024-08-26 01:03:52,447] Trial 9 finished with value: 0.5583333313465119 and parameters: {'units1': 50, 'units2': 28, 'optimizer': 'Adam', 'learning_rate': 4.793145018894084e-05, 'beta_1': 0.8342183341692966, 'beta_2': 0.9751256982195748, 'batch_size': 125}. Best is trial 6 with value: 0.8750000119209289.\n",
            "[I 2024-08-26 01:03:55,577] Trial 10 finished with value: 0.9416666507720948 and parameters: {'units1': 42, 'units2': 121, 'optimizer': 'Adam', 'learning_rate': 0.007826848456195456, 'beta_1': 0.8613528600846612, 'beta_2': 0.839429854390154, 'batch_size': 35}. Best is trial 10 with value: 0.9416666507720948.\n",
            "[I 2024-08-26 01:03:58,820] Trial 11 finished with value: 0.925 and parameters: {'units1': 100, 'units2': 79, 'optimizer': 'Adam', 'learning_rate': 0.007652317174779454, 'beta_1': 0.853475201489176, 'beta_2': 0.88733870128163, 'batch_size': 105}. Best is trial 10 with value: 0.9416666507720948.\n",
            "[I 2024-08-26 01:04:02,595] Trial 12 finished with value: 0.8416666626930237 and parameters: {'units1': 45, 'units2': 31, 'optimizer': 'SGD', 'learning_rate': 0.021981507613957438, 'momentum': 0.4047671278289707, 'batch_size': 49}. Best is trial 10 with value: 0.9416666507720948.\n",
            "[I 2024-08-26 01:04:05,666] Trial 13 finished with value: 0.9583333253860473 and parameters: {'units1': 64, 'units2': 29, 'optimizer': 'Adam', 'learning_rate': 0.022327033989915118, 'beta_1': 0.9927087527980383, 'beta_2': 0.9135042728280672, 'batch_size': 78}. Best is trial 13 with value: 0.9583333253860473.\n",
            "[I 2024-08-26 01:04:08,492] Trial 14 finished with value: 0.9416666626930237 and parameters: {'units1': 127, 'units2': 127, 'optimizer': 'RMSprop', 'learning_rate': 0.01510337175375542, 'rho': 0.938623881164045, 'batch_size': 61}. Best is trial 13 with value: 0.9583333253860473.\n",
            "[I 2024-08-26 01:04:11,676] Trial 15 finished with value: 0.5333333253860474 and parameters: {'units1': 42, 'units2': 86, 'optimizer': 'Adam', 'learning_rate': 5.223130313246765e-05, 'beta_1': 0.9829165413902672, 'beta_2': 0.9220865979917342, 'batch_size': 88}. Best is trial 13 with value: 0.9583333253860473.\n",
            "[I 2024-08-26 01:04:15,662] Trial 16 finished with value: 0.3416666746139526 and parameters: {'units1': 87, 'units2': 125, 'optimizer': 'SGD', 'learning_rate': 1.0839663704143386e-05, 'momentum': 0.31602541187846944, 'batch_size': 47}. Best is trial 13 with value: 0.9583333253860473.\n",
            "[I 2024-08-26 01:04:18,395] Trial 17 finished with value: 0.8083333253860474 and parameters: {'units1': 53, 'units2': 121, 'optimizer': 'SGD', 'learning_rate': 0.017357371571384086, 'momentum': 0.5591858090199582, 'batch_size': 74}. Best is trial 13 with value: 0.9583333253860473.\n",
            "[I 2024-08-26 01:04:21,272] Trial 18 finished with value: 0.9583333134651184 and parameters: {'units1': 22, 'units2': 79, 'optimizer': 'RMSprop', 'learning_rate': 0.020722531268464274, 'rho': 0.8667319772914696, 'batch_size': 127}. Best is trial 13 with value: 0.9583333253860473.\n",
            "[I 2024-08-26 01:04:24,510] Trial 19 finished with value: 0.8499999880790711 and parameters: {'units1': 115, 'units2': 63, 'optimizer': 'Adam', 'learning_rate': 0.001974147531215279, 'beta_1': 0.9613602538662571, 'beta_2': 0.9536552607816211, 'batch_size': 119}. Best is trial 13 with value: 0.9583333253860473.\n",
            "[I 2024-08-26 01:04:24,513] Trial 3 finished with value: 0.9583333253860473 and parameters: {'pruner': 'HyperbandPruner', 'sampler': 'RandomSampler'}. Best is trial 1 with value: 0.9666666626930237.\n",
            "[I 2024-08-26 01:04:24,519] A new study created in memory with name: no-name-bad77c4a-308e-4481-adf1-7765e0901034\n",
            "[I 2024-08-26 01:04:28,714] Trial 0 finished with value: 0.9416666626930237 and parameters: {'units1': 56, 'units2': 73, 'optimizer': 'Adam', 'learning_rate': 0.006378880592947159, 'beta_1': 0.8628343804459044, 'beta_2': 0.9819570917662284, 'batch_size': 81}. Best is trial 0 with value: 0.9416666626930237.\n",
            "[I 2024-08-26 01:04:31,854] Trial 1 finished with value: 0.949999988079071 and parameters: {'units1': 64, 'units2': 25, 'optimizer': 'Adam', 'learning_rate': 0.05695430661560674, 'beta_1': 0.8894508177055443, 'beta_2': 0.9762554136997641, 'batch_size': 88}. Best is trial 1 with value: 0.949999988079071.\n",
            "[I 2024-08-26 01:04:35,024] Trial 2 finished with value: 0.899999988079071 and parameters: {'units1': 45, 'units2': 50, 'optimizer': 'Adam', 'learning_rate': 0.016791450907853292, 'beta_1': 0.9931780127269447, 'beta_2': 0.9803220967832355, 'batch_size': 90}. Best is trial 1 with value: 0.949999988079071.\n",
            "[I 2024-08-26 01:04:37,924] Trial 3 finished with value: 0.6833333373069763 and parameters: {'units1': 109, 'units2': 112, 'optimizer': 'SGD', 'learning_rate': 0.0023144516923066178, 'momentum': 0.8899879226326141, 'batch_size': 113}. Best is trial 1 with value: 0.949999988079071.\n",
            "[I 2024-08-26 01:04:41,879] Trial 4 finished with value: 0.875 and parameters: {'units1': 79, 'units2': 116, 'optimizer': 'RMSprop', 'learning_rate': 0.001101051648739506, 'rho': 0.8956367305265229, 'batch_size': 123}. Best is trial 1 with value: 0.949999988079071.\n",
            "[I 2024-08-26 01:04:46,299] Trial 5 finished with value: 0.825 and parameters: {'units1': 74, 'units2': 84, 'optimizer': 'Adam', 'learning_rate': 0.0016099350213334702, 'beta_1': 0.9900876732167603, 'beta_2': 0.9779845421059301, 'batch_size': 125}. Best is trial 1 with value: 0.949999988079071.\n",
            "[I 2024-08-26 01:04:49,699] Trial 6 finished with value: 0.825 and parameters: {'units1': 118, 'units2': 41, 'optimizer': 'Adam', 'learning_rate': 0.0005817134415215273, 'beta_1': 0.9957710408976306, 'beta_2': 0.950136359168125, 'batch_size': 34}. Best is trial 1 with value: 0.949999988079071.\n",
            "[I 2024-08-26 01:04:53,676] Trial 7 finished with value: 0.8 and parameters: {'units1': 16, 'units2': 71, 'optimizer': 'RMSprop', 'learning_rate': 0.00027077828030790596, 'rho': 0.9611079694960434, 'batch_size': 65}. Best is trial 1 with value: 0.949999988079071.\n",
            "[I 2024-08-26 01:04:56,951] Trial 8 finished with value: 0.9666666507720947 and parameters: {'units1': 28, 'units2': 117, 'optimizer': 'Adam', 'learning_rate': 0.027236418489754197, 'beta_1': 0.8878520547703352, 'beta_2': 0.8403967221958919, 'batch_size': 68}. Best is trial 8 with value: 0.9666666507720947.\n",
            "[I 2024-08-26 01:04:59,962] Trial 9 finished with value: 0.21666666269302368 and parameters: {'units1': 127, 'units2': 54, 'optimizer': 'SGD', 'learning_rate': 7.71722602517958e-05, 'momentum': 0.7747662137617961, 'batch_size': 106}. Best is trial 8 with value: 0.9666666507720947.\n",
            "[I 2024-08-26 01:05:02,852] Trial 10 finished with value: 0.799999988079071 and parameters: {'units1': 109, 'units2': 53, 'optimizer': 'RMSprop', 'learning_rate': 6.792789554219506e-05, 'rho': 0.9881033497834383, 'batch_size': 57}. Best is trial 8 with value: 0.9666666507720947.\n",
            "[I 2024-08-26 01:05:07,070] Trial 11 finished with value: 0.925 and parameters: {'units1': 44, 'units2': 68, 'optimizer': 'Adam', 'learning_rate': 0.006229172123434878, 'beta_1': 0.8761417144029079, 'beta_2': 0.908946197962569, 'batch_size': 77}. Best is trial 8 with value: 0.9666666507720947.\n",
            "[I 2024-08-26 01:05:10,108] Trial 12 finished with value: 0.9583333253860473 and parameters: {'units1': 120, 'units2': 21, 'optimizer': 'RMSprop', 'learning_rate': 0.044838328398702165, 'rho': 0.9781683129762777, 'batch_size': 81}. Best is trial 8 with value: 0.9666666507720947.\n",
            "[I 2024-08-26 01:05:12,943] Trial 13 finished with value: 0.7416666626930237 and parameters: {'units1': 108, 'units2': 41, 'optimizer': 'RMSprop', 'learning_rate': 0.0002951014371099859, 'rho': 0.8339102765469513, 'batch_size': 83}. Best is trial 8 with value: 0.9666666507720947.\n",
            "[I 2024-08-26 01:05:15,862] Trial 14 finished with value: 0.8583333253860473 and parameters: {'units1': 66, 'units2': 62, 'optimizer': 'RMSprop', 'learning_rate': 0.0002830936749065084, 'rho': 0.9966635701472563, 'batch_size': 113}. Best is trial 8 with value: 0.9666666507720947.\n",
            "[I 2024-08-26 01:05:19,999] Trial 15 finished with value: 0.9416666507720948 and parameters: {'units1': 57, 'units2': 123, 'optimizer': 'Adam', 'learning_rate': 0.015105049306114511, 'beta_1': 0.8710808031256502, 'beta_2': 0.8651941798167735, 'batch_size': 114}. Best is trial 8 with value: 0.9666666507720947.\n",
            "[I 2024-08-26 01:05:23,109] Trial 16 finished with value: 0.9166666746139527 and parameters: {'units1': 102, 'units2': 97, 'optimizer': 'Adam', 'learning_rate': 0.00565808270897127, 'beta_1': 0.954869569183681, 'beta_2': 0.9676147030073998, 'batch_size': 55}. Best is trial 8 with value: 0.9666666507720947.\n",
            "[I 2024-08-26 01:05:25,909] Trial 17 finished with value: 0.925 and parameters: {'units1': 31, 'units2': 17, 'optimizer': 'SGD', 'learning_rate': 0.07766541895828102, 'momentum': 0.6752622195082806, 'batch_size': 75}. Best is trial 8 with value: 0.9666666507720947.\n",
            "[I 2024-08-26 01:05:29,275] Trial 18 finished with value: 0.6833333253860474 and parameters: {'units1': 66, 'units2': 92, 'optimizer': 'Adam', 'learning_rate': 0.0004968932959360478, 'beta_1': 0.8273465978849025, 'beta_2': 0.9294810278269001, 'batch_size': 111}. Best is trial 8 with value: 0.9666666507720947.\n",
            "[I 2024-08-26 01:05:33,093] Trial 19 finished with value: 0.7416666746139526 and parameters: {'units1': 110, 'units2': 103, 'optimizer': 'Adam', 'learning_rate': 0.00013258797405338307, 'beta_1': 0.9779684516640603, 'beta_2': 0.9092885704735214, 'batch_size': 55}. Best is trial 8 with value: 0.9666666507720947.\n",
            "[I 2024-08-26 01:05:33,096] Trial 4 finished with value: 0.9666666507720947 and parameters: {'pruner': 'MedianPruner', 'sampler': 'RandomSampler'}. Best is trial 1 with value: 0.9666666626930237.\n",
            "[I 2024-08-26 01:05:33,102] A new study created in memory with name: no-name-836f3abc-12a0-4a9c-834f-c21deb35ec4c\n",
            "[I 2024-08-26 01:05:36,048] Trial 0 finished with value: 0.924999988079071 and parameters: {'units1': 81, 'units2': 110, 'optimizer': 'RMSprop', 'learning_rate': 0.029510767160645927, 'rho': 0.9797334937357993, 'batch_size': 104}. Best is trial 0 with value: 0.924999988079071.\n",
            "[I 2024-08-26 01:05:38,703] Trial 1 finished with value: 0.02500000074505806 and parameters: {'units1': 93, 'units2': 79, 'optimizer': 'SGD', 'learning_rate': 1.1397965285083866e-05, 'momentum': 0.3432854856815757, 'batch_size': 81}. Best is trial 0 with value: 0.924999988079071.\n",
            "[I 2024-08-26 01:05:42,016] Trial 2 finished with value: 0.9166666626930237 and parameters: {'units1': 53, 'units2': 33, 'optimizer': 'Adam', 'learning_rate': 0.00371820998755932, 'beta_1': 0.9052587099714581, 'beta_2': 0.9272566772424415, 'batch_size': 42}. Best is trial 0 with value: 0.924999988079071.\n",
            "[I 2024-08-26 01:05:45,447] Trial 3 finished with value: 0.8916666507720947 and parameters: {'units1': 53, 'units2': 105, 'optimizer': 'RMSprop', 'learning_rate': 0.028290497741433555, 'rho': 0.8684653110929335, 'batch_size': 100}. Best is trial 0 with value: 0.924999988079071.\n",
            "[I 2024-08-26 01:05:48,423] Trial 4 finished with value: 0.7833333373069763 and parameters: {'units1': 67, 'units2': 60, 'optimizer': 'RMSprop', 'learning_rate': 0.0004920841817399723, 'rho': 0.9459365423000947, 'batch_size': 88}. Best is trial 0 with value: 0.924999988079071.\n",
            "[I 2024-08-26 01:05:51,046] Trial 5 finished with value: 0.9083333373069763 and parameters: {'units1': 53, 'units2': 58, 'optimizer': 'RMSprop', 'learning_rate': 0.0779405326542439, 'rho': 0.8971741251008718, 'batch_size': 114}. Best is trial 0 with value: 0.924999988079071.\n",
            "[I 2024-08-26 01:05:54,054] Trial 6 finished with value: 0.9083333253860474 and parameters: {'units1': 38, 'units2': 18, 'optimizer': 'RMSprop', 'learning_rate': 0.07525525556962692, 'rho': 0.8634468976135462, 'batch_size': 87}. Best is trial 0 with value: 0.924999988079071.\n",
            "[I 2024-08-26 01:05:59,169] Trial 7 finished with value: 0.775 and parameters: {'units1': 53, 'units2': 77, 'optimizer': 'SGD', 'learning_rate': 0.009226877425584874, 'momentum': 0.5942961036774268, 'batch_size': 94}. Best is trial 0 with value: 0.924999988079071.\n",
            "[I 2024-08-26 01:06:01,974] Trial 8 finished with value: 0.8750000119209289 and parameters: {'units1': 46, 'units2': 91, 'optimizer': 'SGD', 'learning_rate': 0.04516226982315478, 'momentum': 0.24179319966170468, 'batch_size': 88}. Best is trial 0 with value: 0.924999988079071.\n",
            "[I 2024-08-26 01:06:04,882] Trial 9 finished with value: 0.7583333313465118 and parameters: {'units1': 32, 'units2': 48, 'optimizer': 'SGD', 'learning_rate': 0.0036650518937788126, 'momentum': 0.7598925625571704, 'batch_size': 89}. Best is trial 0 with value: 0.924999988079071.\n",
            "[I 2024-08-26 01:06:08,365] Trial 10 finished with value: 0.7583333373069763 and parameters: {'units1': 116, 'units2': 125, 'optimizer': 'Adam', 'learning_rate': 0.0005403500657616776, 'beta_1': 0.8124576374395983, 'beta_2': 0.8026995808357402, 'batch_size': 125}. Best is trial 0 with value: 0.924999988079071.\n",
            "[I 2024-08-26 01:06:12,356] Trial 11 finished with value: 0.8833333373069763 and parameters: {'units1': 85, 'units2': 22, 'optimizer': 'Adam', 'learning_rate': 0.0018112122634748385, 'beta_1': 0.9540284378326115, 'beta_2': 0.9791550996173379, 'batch_size': 39}. Best is trial 0 with value: 0.924999988079071.\n",
            "[I 2024-08-26 01:06:15,703] Trial 12 finished with value: 0.9583333253860473 and parameters: {'units1': 83, 'units2': 127, 'optimizer': 'Adam', 'learning_rate': 0.009639851000848522, 'beta_1': 0.8908862306774351, 'beta_2': 0.9206718581597566, 'batch_size': 52}. Best is trial 12 with value: 0.9583333253860473.\n",
            "[I 2024-08-26 01:06:19,092] Trial 13 finished with value: 0.9583333253860473 and parameters: {'units1': 105, 'units2': 127, 'optimizer': 'Adam', 'learning_rate': 0.011264737566047194, 'beta_1': 0.8434529496293702, 'beta_2': 0.8684670265421732, 'batch_size': 62}. Best is trial 12 with value: 0.9583333253860473.\n",
            "[I 2024-08-26 01:06:23,036] Trial 14 finished with value: 0.674999988079071 and parameters: {'units1': 109, 'units2': 125, 'optimizer': 'Adam', 'learning_rate': 7.928773147848109e-05, 'beta_1': 0.8402535909151986, 'beta_2': 0.8594866374031915, 'batch_size': 62}. Best is trial 12 with value: 0.9583333253860473.\n",
            "[I 2024-08-26 01:06:26,373] Trial 15 finished with value: 0.9666666507720947 and parameters: {'units1': 126, 'units2': 107, 'optimizer': 'Adam', 'learning_rate': 0.01248459406500326, 'beta_1': 0.8764939569715422, 'beta_2': 0.8933019207764835, 'batch_size': 62}. Best is trial 15 with value: 0.9666666507720947.\n",
            "[I 2024-08-26 01:06:29,522] Trial 16 finished with value: 0.9333333253860474 and parameters: {'units1': 18, 'units2': 104, 'optimizer': 'Adam', 'learning_rate': 0.007419041726636489, 'beta_1': 0.9041040314858014, 'beta_2': 0.9293387050463917, 'batch_size': 55}. Best is trial 15 with value: 0.9666666507720947.\n",
            "[I 2024-08-26 01:06:32,641] Trial 17 finished with value: 0.8666666626930237 and parameters: {'units1': 98, 'units2': 89, 'optimizer': 'Adam', 'learning_rate': 0.0010656431089645475, 'beta_1': 0.873140518631523, 'beta_2': 0.9027591289094472, 'batch_size': 71}. Best is trial 15 with value: 0.9666666507720947.\n",
            "[I 2024-08-26 01:06:36,896] Trial 18 finished with value: 0.7583333373069763 and parameters: {'units1': 127, 'units2': 117, 'optimizer': 'Adam', 'learning_rate': 0.00022022777591588965, 'beta_1': 0.9461294852218525, 'beta_2': 0.9630814431031612, 'batch_size': 49}. Best is trial 15 with value: 0.9666666507720947.\n",
            "[I 2024-08-26 01:06:40,091] Trial 19 finished with value: 0.9749999880790711 and parameters: {'units1': 128, 'units2': 94, 'optimizer': 'Adam', 'learning_rate': 0.01672847045474548, 'beta_1': 0.8825244468800664, 'beta_2': 0.8734638351844135, 'batch_size': 74}. Best is trial 19 with value: 0.9749999880790711.\n",
            "[I 2024-08-26 01:06:40,094] Trial 5 finished with value: 0.9749999880790711 and parameters: {'pruner': 'MedianPruner', 'sampler': 'TPESampler'}. Best is trial 5 with value: 0.9749999880790711.\n",
            "[I 2024-08-26 01:06:40,100] A new study created in memory with name: no-name-b6fd47f9-cc3d-4a6a-b36d-26a59d72dc25\n",
            "[I 2024-08-26 01:06:43,202] Trial 0 finished with value: 0.9749999880790711 and parameters: {'units1': 70, 'units2': 47, 'optimizer': 'RMSprop', 'learning_rate': 0.05784757344043098, 'rho': 0.817178233198234, 'batch_size': 34}. Best is trial 0 with value: 0.9749999880790711.\n",
            "[I 2024-08-26 01:06:45,878] Trial 1 finished with value: 0.6083333373069764 and parameters: {'units1': 87, 'units2': 93, 'optimizer': 'SGD', 'learning_rate': 0.002218523272794602, 'momentum': 0.8751512486988043, 'batch_size': 106}. Best is trial 0 with value: 0.9749999880790711.\n",
            "[I 2024-08-26 01:06:49,672] Trial 2 finished with value: 0.7500000119209289 and parameters: {'units1': 102, 'units2': 36, 'optimizer': 'RMSprop', 'learning_rate': 0.0002910981453532182, 'rho': 0.8027060832174254, 'batch_size': 71}. Best is trial 0 with value: 0.9749999880790711.\n",
            "[I 2024-08-26 01:06:52,315] Trial 3 finished with value: 0.5666666626930237 and parameters: {'units1': 22, 'units2': 88, 'optimizer': 'SGD', 'learning_rate': 0.0006895383736645618, 'momentum': 0.800032245153578, 'batch_size': 104}. Best is trial 0 with value: 0.9749999880790711.\n",
            "[I 2024-08-26 01:06:55,694] Trial 4 finished with value: 0.8833333253860474 and parameters: {'units1': 29, 'units2': 81, 'optimizer': 'Adam', 'learning_rate': 0.00392105417755972, 'beta_1': 0.8065025904510428, 'beta_2': 0.8271657130540779, 'batch_size': 64}. Best is trial 0 with value: 0.9749999880790711.\n",
            "[I 2024-08-26 01:06:58,620] Trial 5 finished with value: 0.37499999403953554 and parameters: {'units1': 118, 'units2': 29, 'optimizer': 'RMSprop', 'learning_rate': 9.554115214211051e-05, 'rho': 0.8341696556211444, 'batch_size': 125}. Best is trial 0 with value: 0.9749999880790711.\n",
            "[I 2024-08-26 01:07:02,675] Trial 6 finished with value: 0.8499999880790711 and parameters: {'units1': 127, 'units2': 96, 'optimizer': 'Adam', 'learning_rate': 0.0005983710618819457, 'beta_1': 0.9819139721694596, 'beta_2': 0.8876644196294401, 'batch_size': 80}. Best is trial 0 with value: 0.9749999880790711.\n",
            "[I 2024-08-26 01:07:05,896] Trial 7 finished with value: 0.9583333253860473 and parameters: {'units1': 105, 'units2': 117, 'optimizer': 'Adam', 'learning_rate': 0.022386591903038277, 'beta_1': 0.878546225920571, 'beta_2': 0.9920786400914021, 'batch_size': 112}. Best is trial 0 with value: 0.9749999880790711.\n",
            "[I 2024-08-26 01:07:09,052] Trial 8 finished with value: 0.22499999701976775 and parameters: {'units1': 80, 'units2': 57, 'optimizer': 'Adam', 'learning_rate': 2.193901165744328e-05, 'beta_1': 0.8409424052326803, 'beta_2': 0.9328305584159238, 'batch_size': 125}. Best is trial 0 with value: 0.9749999880790711.\n",
            "[I 2024-08-26 01:07:11,762] Trial 9 finished with value: 0.21666666567325593 and parameters: {'units1': 69, 'units2': 62, 'optimizer': 'SGD', 'learning_rate': 3.1470388931953486e-05, 'momentum': 0.07597843469847027, 'batch_size': 120}. Best is trial 0 with value: 0.9749999880790711.\n",
            "[I 2024-08-26 01:07:15,505] Trial 10 finished with value: 0.9166666626930237 and parameters: {'units1': 78, 'units2': 103, 'optimizer': 'RMSprop', 'learning_rate': 0.056477937357487074, 'rho': 0.9966598468698586, 'batch_size': 66}. Best is trial 0 with value: 0.9749999880790711.\n",
            "[I 2024-08-26 01:07:18,133] Trial 11 finished with value: 0.6166666746139526 and parameters: {'units1': 72, 'units2': 126, 'optimizer': 'SGD', 'learning_rate': 6.90251837281002e-05, 'momentum': 0.08406600930600104, 'batch_size': 109}. Best is trial 0 with value: 0.9749999880790711.\n",
            "[I 2024-08-26 01:07:23,104] Trial 12 finished with value: 0.949999988079071 and parameters: {'units1': 26, 'units2': 123, 'optimizer': 'Adam', 'learning_rate': 0.04759181423835216, 'beta_1': 0.9567622063971426, 'beta_2': 0.9576871171060828, 'batch_size': 53}. Best is trial 0 with value: 0.9749999880790711.\n",
            "[I 2024-08-26 01:07:27,056] Trial 13 finished with value: 0.3166666656732559 and parameters: {'units1': 61, 'units2': 120, 'optimizer': 'SGD', 'learning_rate': 1.741397146970589e-05, 'momentum': 0.4287609101033553, 'batch_size': 42}. Best is trial 0 with value: 0.9749999880790711.\n",
            "[I 2024-08-26 01:07:29,949] Trial 14 finished with value: 0.8 and parameters: {'units1': 38, 'units2': 92, 'optimizer': 'SGD', 'learning_rate': 0.03680656300035902, 'momentum': 0.030898152426035275, 'batch_size': 32}. Best is trial 0 with value: 0.9749999880790711.\n",
            "[I 2024-08-26 01:07:33,131] Trial 15 finished with value: 0.9333333373069763 and parameters: {'units1': 36, 'units2': 90, 'optimizer': 'Adam', 'learning_rate': 0.019571767373431054, 'beta_1': 0.8808414998876952, 'beta_2': 0.9957659929408935, 'batch_size': 89}. Best is trial 0 with value: 0.9749999880790711.\n",
            "[I 2024-08-26 01:07:36,373] Trial 16 finished with value: 0.45000000596046447 and parameters: {'units1': 63, 'units2': 87, 'optimizer': 'Adam', 'learning_rate': 0.0001302997842660818, 'beta_1': 0.9122557195566605, 'beta_2': 0.8513706199110271, 'batch_size': 124}. Best is trial 0 with value: 0.9749999880790711.\n",
            "[I 2024-08-26 01:07:40,097] Trial 17 finished with value: 0.799999988079071 and parameters: {'units1': 120, 'units2': 28, 'optimizer': 'RMSprop', 'learning_rate': 0.0005229891824010448, 'rho': 0.8430422829726512, 'batch_size': 104}. Best is trial 0 with value: 0.9749999880790711.\n",
            "[I 2024-08-26 01:07:42,877] Trial 18 finished with value: 0.13333333432674407 and parameters: {'units1': 38, 'units2': 119, 'optimizer': 'RMSprop', 'learning_rate': 6.345498493102207e-05, 'rho': 0.8678273652020788, 'batch_size': 48}. Best is trial 0 with value: 0.9749999880790711.\n",
            "[I 2024-08-26 01:07:45,878] Trial 19 finished with value: 0.9583333253860473 and parameters: {'units1': 114, 'units2': 70, 'optimizer': 'Adam', 'learning_rate': 0.07261562992963842, 'beta_1': 0.8348787946283771, 'beta_2': 0.8923555755915827, 'batch_size': 72}. Best is trial 0 with value: 0.9749999880790711.\n",
            "[I 2024-08-26 01:07:45,882] Trial 6 finished with value: 0.9749999880790711 and parameters: {'pruner': 'NopPruner', 'sampler': 'RandomSampler'}. Best is trial 5 with value: 0.9749999880790711.\n",
            "[I 2024-08-26 01:07:45,887] A new study created in memory with name: no-name-13c39f09-38a8-4b67-8d23-778555afb0a9\n",
            "[I 2024-08-26 01:07:48,781] Trial 0 finished with value: 0.9416666507720948 and parameters: {'optimizer': 'Adam', 'units1': 39, 'units2': 29, 'learning_rate': 0.011025577826943852, 'beta_1': 0.969818535001534, 'beta_2': 0.8211394487153193, 'batch_size': 55}. Best is trial 0 with value: 0.9416666507720948.\n",
            "[I 2024-08-26 01:07:52,677] Trial 1 finished with value: 0.8499999880790711 and parameters: {'optimizer': 'RMSprop', 'units1': 87, 'units2': 91, 'learning_rate': 0.00045030916640740237, 'rho': 0.834945157222999, 'batch_size': 93}. Best is trial 0 with value: 0.9416666507720948.\n",
            "[I 2024-08-26 01:07:55,511] Trial 2 finished with value: 0.8333333253860473 and parameters: {'optimizer': 'SGD', 'units1': 72, 'units2': 71, 'learning_rate': 0.028043639793036187, 'momentum': 0.29861558499344293, 'batch_size': 54}. Best is trial 0 with value: 0.9416666507720948.\n",
            "[I 2024-08-26 01:07:58,508] Trial 3 finished with value: 0.8583333253860473 and parameters: {'optimizer': 'RMSprop', 'units1': 40, 'units2': 70, 'learning_rate': 0.00037982603339093237, 'rho': 0.9592355600089957, 'batch_size': 63}. Best is trial 0 with value: 0.9416666507720948.\n",
            "[I 2024-08-26 01:08:01,196] Trial 4 finished with value: 0.775 and parameters: {'optimizer': 'RMSprop', 'units1': 29, 'units2': 50, 'learning_rate': 6.743861973145566e-05, 'rho': 0.8347667244646805, 'batch_size': 76}. Best is trial 0 with value: 0.9416666507720948.\n",
            "[I 2024-08-26 01:08:04,963] Trial 5 finished with value: 0.5916666626930237 and parameters: {'optimizer': 'RMSprop', 'units1': 46, 'units2': 97, 'learning_rate': 9.479550496531029e-05, 'rho': 0.8815918359938342, 'batch_size': 58}. Best is trial 0 with value: 0.9416666507720948.\n",
            "[I 2024-08-26 01:08:08,051] Trial 6 finished with value: 0.8666666626930237 and parameters: {'optimizer': 'Adam', 'units1': 70, 'units2': 57, 'learning_rate': 0.0020205997737098914, 'beta_1': 0.9276072657131029, 'beta_2': 0.8238701781311485, 'batch_size': 55}. Best is trial 0 with value: 0.9416666507720948.\n",
            "[I 2024-08-26 01:08:10,611] Trial 7 finished with value: 0.6083333253860473 and parameters: {'optimizer': 'SGD', 'units1': 97, 'units2': 64, 'learning_rate': 0.0008075505861484831, 'momentum': 0.7255937197347656, 'batch_size': 96}. Best is trial 0 with value: 0.9416666507720948.\n",
            "[I 2024-08-26 01:08:13,641] Trial 8 finished with value: 0.5916666597127914 and parameters: {'optimizer': 'Adam', 'units1': 29, 'units2': 66, 'learning_rate': 0.00041570832539720315, 'beta_1': 0.8526600676488819, 'beta_2': 0.9346115014499621, 'batch_size': 68}. Best is trial 0 with value: 0.9416666507720948.\n",
            "[I 2024-08-26 01:08:17,466] Trial 9 finished with value: 0.9416666507720948 and parameters: {'optimizer': 'RMSprop', 'units1': 86, 'units2': 81, 'learning_rate': 0.01763847509236645, 'rho': 0.8126330038268332, 'batch_size': 101}. Best is trial 0 with value: 0.9416666507720948.\n",
            "[I 2024-08-26 01:08:20,709] Trial 10 finished with value: 0.925000011920929 and parameters: {'optimizer': 'Adam', 'units1': 62, 'units2': 63, 'learning_rate': 0.005200693759884869, 'beta_1': 0.8821320553806291, 'beta_2': 0.9236803695938576, 'batch_size': 78}. Best is trial 0 with value: 0.9416666507720948.\n",
            "[I 2024-08-26 01:08:23,693] Trial 11 finished with value: 0.9333333253860474 and parameters: {'optimizer': 'Adam', 'units1': 66, 'units2': 57, 'learning_rate': 0.011428885283250785, 'beta_1': 0.9856217874444609, 'beta_2': 0.9467790252976783, 'batch_size': 73}. Best is trial 0 with value: 0.9416666507720948.\n",
            "[I 2024-08-26 01:08:26,765] Trial 12 finished with value: 0.925 and parameters: {'optimizer': 'Adam', 'units1': 59, 'units2': 85, 'learning_rate': 0.014133184106039446, 'beta_1': 0.8917357365612957, 'beta_2': 0.9317120763402582, 'batch_size': 90}. Best is trial 0 with value: 0.9416666507720948.\n",
            "[I 2024-08-26 01:08:30,994] Trial 13 finished with value: 0.9333333373069763 and parameters: {'optimizer': 'Adam', 'units1': 87, 'units2': 47, 'learning_rate': 0.009545121283785499, 'beta_1': 0.9306222082221209, 'beta_2': 0.8035465803196902, 'batch_size': 83}. Best is trial 0 with value: 0.9416666507720948.\n",
            "[I 2024-08-26 01:08:33,931] Trial 14 finished with value: 0.949999988079071 and parameters: {'optimizer': 'RMSprop', 'units1': 64, 'units2': 80, 'learning_rate': 0.009500017163083196, 'rho': 0.8527533169646565, 'batch_size': 80}. Best is trial 14 with value: 0.949999988079071.\n",
            "[I 2024-08-26 01:08:37,062] Trial 15 finished with value: 0.9166666626930237 and parameters: {'optimizer': 'Adam', 'units1': 71, 'units2': 107, 'learning_rate': 0.005244804419984265, 'beta_1': 0.954252099735947, 'beta_2': 0.9067248149074962, 'batch_size': 98}. Best is trial 14 with value: 0.949999988079071.\n",
            "[I 2024-08-26 01:08:39,912] Trial 16 finished with value: 0.9333333373069763 and parameters: {'optimizer': 'RMSprop', 'units1': 87, 'units2': 56, 'learning_rate': 0.004555446106486554, 'rho': 0.8192223717051091, 'batch_size': 71}. Best is trial 14 with value: 0.949999988079071.\n",
            "[I 2024-08-26 01:08:44,233] Trial 17 finished with value: 0.9583333253860473 and parameters: {'optimizer': 'Adam', 'units1': 91, 'units2': 84, 'learning_rate': 0.012057877358427565, 'beta_1': 0.9311798507025908, 'beta_2': 0.8725443331013145, 'batch_size': 73}. Best is trial 17 with value: 0.9583333253860473.\n",
            "[I 2024-08-26 01:08:47,145] Trial 18 finished with value: 0.8499999880790711 and parameters: {'optimizer': 'RMSprop', 'units1': 85, 'units2': 63, 'learning_rate': 0.0005900204278255757, 'rho': 0.8754365505021127, 'batch_size': 76}. Best is trial 17 with value: 0.9583333253860473.\n",
            "[I 2024-08-26 01:08:50,377] Trial 19 finished with value: 0.9 and parameters: {'optimizer': 'Adam', 'units1': 78, 'units2': 80, 'learning_rate': 0.00258545517142961, 'beta_1': 0.8326614768079386, 'beta_2': 0.993915479166194, 'batch_size': 73}. Best is trial 17 with value: 0.9583333253860473.\n",
            "[I 2024-08-26 01:08:50,380] Trial 7 finished with value: 0.9583333253860473 and parameters: {'pruner': 'NopPruner', 'sampler': 'CmaEsSampler'}. Best is trial 5 with value: 0.9749999880790711.\n",
            "[I 2024-08-26 01:08:50,384] A new study created in memory with name: no-name-e6c6ace1-9485-49e6-ac2b-acb98d55367c\n",
            "[I 2024-08-26 01:08:56,127] Trial 0 finished with value: 0.7083333492279053 and parameters: {'units1': 96, 'units2': 96, 'optimizer': 'RMSprop', 'learning_rate': 0.00017560976016600828, 'rho': 0.8459516062448106, 'batch_size': 111}. Best is trial 0 with value: 0.7083333492279053.\n",
            "[I 2024-08-26 01:08:59,173] Trial 1 finished with value: 0.9416666626930237 and parameters: {'units1': 107, 'units2': 63, 'optimizer': 'RMSprop', 'learning_rate': 0.009038767361852395, 'rho': 0.9934105074644578, 'batch_size': 121}. Best is trial 1 with value: 0.9416666626930237.\n",
            "[I 2024-08-26 01:09:02,316] Trial 2 finished with value: 0.8 and parameters: {'units1': 59, 'units2': 77, 'optimizer': 'RMSprop', 'learning_rate': 0.00015780506128647368, 'rho': 0.8353445397796033, 'batch_size': 56}. Best is trial 1 with value: 0.9416666626930237.\n",
            "[I 2024-08-26 01:09:05,341] Trial 3 finished with value: 0.8583333373069764 and parameters: {'units1': 122, 'units2': 58, 'optimizer': 'RMSprop', 'learning_rate': 0.07887991739454837, 'rho': 0.962289066677962, 'batch_size': 126}. Best is trial 1 with value: 0.9416666626930237.\n",
            "[I 2024-08-26 01:09:09,662] Trial 4 finished with value: 0.9666666626930237 and parameters: {'units1': 52, 'units2': 100, 'optimizer': 'Adam', 'learning_rate': 0.031832348153797624, 'beta_1': 0.8487366286629121, 'beta_2': 0.8329610574080683, 'batch_size': 122}. Best is trial 4 with value: 0.9666666626930237.\n",
            "[I 2024-08-26 01:09:12,924] Trial 5 finished with value: 0.9583333253860473 and parameters: {'units1': 56, 'units2': 94, 'optimizer': 'Adam', 'learning_rate': 0.01074162024641017, 'beta_1': 0.8366044019400608, 'beta_2': 0.9600582866135277, 'batch_size': 52}. Best is trial 4 with value: 0.9666666626930237.\n",
            "[I 2024-08-26 01:09:16,097] Trial 6 finished with value: 0.408333332836628 and parameters: {'units1': 56, 'units2': 21, 'optimizer': 'Adam', 'learning_rate': 0.000196090388231032, 'beta_1': 0.8428846686407386, 'beta_2': 0.8376375274577735, 'batch_size': 90}. Best is trial 4 with value: 0.9666666626930237.\n",
            "[I 2024-08-26 01:09:19,605] Trial 7 finished with value: 0.8499999880790711 and parameters: {'units1': 128, 'units2': 48, 'optimizer': 'SGD', 'learning_rate': 0.03300574803702715, 'momentum': 0.09278713023147377, 'batch_size': 61}. Best is trial 4 with value: 0.9666666626930237.\n",
            "[I 2024-08-26 01:09:23,282] Trial 8 finished with value: 0.5000000059604645 and parameters: {'units1': 69, 'units2': 46, 'optimizer': 'SGD', 'learning_rate': 0.00045102186570375295, 'momentum': 0.16166599964369438, 'batch_size': 39}. Best is trial 4 with value: 0.9666666626930237.\n",
            "[I 2024-08-26 01:09:26,268] Trial 9 finished with value: 0.775 and parameters: {'units1': 56, 'units2': 30, 'optimizer': 'SGD', 'learning_rate': 0.022867971193148113, 'momentum': 0.5551902692176885, 'batch_size': 118}. Best is trial 4 with value: 0.9666666626930237.\n",
            "[I 2024-08-26 01:09:30,473] Trial 10 finished with value: 0.5249999940395356 and parameters: {'units1': 115, 'units2': 76, 'optimizer': 'Adam', 'learning_rate': 6.521534751419387e-05, 'beta_1': 0.9518110455597873, 'beta_2': 0.8460603205866607, 'batch_size': 93}. Best is trial 4 with value: 0.9666666626930237.\n",
            "[I 2024-08-26 01:09:34,984] Trial 11 finished with value: 0.6333333373069763 and parameters: {'units1': 92, 'units2': 87, 'optimizer': 'Adam', 'learning_rate': 1.3856248395614911e-05, 'beta_1': 0.8462320124167603, 'beta_2': 0.8174842198874641, 'batch_size': 34}. Best is trial 4 with value: 0.9666666626930237.\n",
            "[I 2024-08-26 01:09:37,983] Trial 12 finished with value: 0.19166666865348816 and parameters: {'units1': 19, 'units2': 121, 'optimizer': 'SGD', 'learning_rate': 0.0002762026294077106, 'momentum': 0.2882594748322067, 'batch_size': 84}. Best is trial 4 with value: 0.9666666626930237.\n",
            "[I 2024-08-26 01:09:40,835] Trial 13 finished with value: 0.3000000059604645 and parameters: {'units1': 23, 'units2': 36, 'optimizer': 'SGD', 'learning_rate': 0.0003367745047660542, 'momentum': 0.6871995073321611, 'batch_size': 54}. Best is trial 4 with value: 0.9666666626930237.\n",
            "[I 2024-08-26 01:09:43,519] Trial 14 finished with value: 0.29166666567325594 and parameters: {'units1': 41, 'units2': 83, 'optimizer': 'SGD', 'learning_rate': 3.5363298299845234e-05, 'momentum': 0.47589619804793964, 'batch_size': 128}. Best is trial 4 with value: 0.9666666626930237.\n",
            "[I 2024-08-26 01:09:47,404] Trial 15 finished with value: 0.8833333253860474 and parameters: {'units1': 70, 'units2': 66, 'optimizer': 'RMSprop', 'learning_rate': 0.017235427194560397, 'rho': 0.933305742687738, 'batch_size': 44}. Best is trial 4 with value: 0.9666666626930237.\n",
            "[I 2024-08-26 01:09:50,019] Trial 16 finished with value: 0.34166666865348816 and parameters: {'units1': 76, 'units2': 57, 'optimizer': 'SGD', 'learning_rate': 0.0005435031757446482, 'momentum': 0.03043961013032843, 'batch_size': 68}. Best is trial 4 with value: 0.9666666626930237.\n",
            "[I 2024-08-26 01:09:53,406] Trial 17 finished with value: 0.8083333373069763 and parameters: {'units1': 120, 'units2': 36, 'optimizer': 'Adam', 'learning_rate': 0.0006959241471665702, 'beta_1': 0.9566902584147472, 'beta_2': 0.8047045008254577, 'batch_size': 47}. Best is trial 4 with value: 0.9666666626930237.\n",
            "[I 2024-08-26 01:09:56,498] Trial 18 finished with value: 0.8916666626930236 and parameters: {'units1': 50, 'units2': 99, 'optimizer': 'Adam', 'learning_rate': 0.0013113364428789882, 'beta_1': 0.9566733378598399, 'beta_2': 0.8124608462178216, 'batch_size': 41}. Best is trial 4 with value: 0.9666666626930237.\n",
            "[I 2024-08-26 01:10:00,136] Trial 19 finished with value: 0.9416666626930237 and parameters: {'units1': 104, 'units2': 96, 'optimizer': 'RMSprop', 'learning_rate': 0.007338028290107575, 'rho': 0.9914712408564023, 'batch_size': 104}. Best is trial 4 with value: 0.9666666626930237.\n",
            "[I 2024-08-26 01:10:00,139] Trial 8 finished with value: 0.9666666626930237 and parameters: {'pruner': 'MedianPruner', 'sampler': 'RandomSampler'}. Best is trial 5 with value: 0.9749999880790711.\n",
            "[I 2024-08-26 01:10:00,144] A new study created in memory with name: no-name-cb1d2e5a-15ad-454d-a5cf-d18f4e43bf9e\n",
            "[I 2024-08-26 01:10:03,402] Trial 0 finished with value: 0.4000000059604645 and parameters: {'optimizer': 'Adam', 'units1': 75, 'units2': 41, 'learning_rate': 0.00011409684206501521, 'beta_1': 0.8632876761407932, 'beta_2': 0.9437639595385836, 'batch_size': 94}. Best is trial 0 with value: 0.4000000059604645.\n",
            "[I 2024-08-26 01:10:06,377] Trial 1 finished with value: 0.9 and parameters: {'optimizer': 'RMSprop', 'units1': 87, 'units2': 79, 'learning_rate': 0.0035656758649555177, 'rho': 0.8371245858605223, 'batch_size': 83}. Best is trial 1 with value: 0.9.\n",
            "[I 2024-08-26 01:10:09,227] Trial 2 finished with value: 0.6416666567325592 and parameters: {'optimizer': 'RMSprop', 'units1': 83, 'units2': 76, 'learning_rate': 0.00016872077506267766, 'rho': 0.9121195492146545, 'batch_size': 87}. Best is trial 1 with value: 0.9.\n",
            "[I 2024-08-26 01:10:13,378] Trial 3 finished with value: 0.9416666626930237 and parameters: {'optimizer': 'RMSprop', 'units1': 90, 'units2': 57, 'learning_rate': 0.0029354840922657184, 'rho': 0.8003018602697829, 'batch_size': 84}. Best is trial 3 with value: 0.9416666626930237.\n",
            "[I 2024-08-26 01:10:16,388] Trial 4 finished with value: 0.31666666865348814 and parameters: {'optimizer': 'SGD', 'units1': 78, 'units2': 79, 'learning_rate': 0.00016555495041665582, 'momentum': 0.5626757678478842, 'batch_size': 103}. Best is trial 3 with value: 0.9416666626930237.\n",
            "[I 2024-08-26 01:10:19,800] Trial 5 finished with value: 0.6666666746139527 and parameters: {'optimizer': 'Adam', 'units1': 84, 'units2': 55, 'learning_rate': 9.916848769156061e-05, 'beta_1': 0.8259918832296461, 'beta_2': 0.8395319620787733, 'batch_size': 94}. Best is trial 3 with value: 0.9416666626930237.\n",
            "[I 2024-08-26 01:10:23,605] Trial 6 finished with value: 0.9583333253860473 and parameters: {'optimizer': 'Adam', 'units1': 59, 'units2': 102, 'learning_rate': 0.03590485250459313, 'beta_1': 0.9168683833038307, 'beta_2': 0.9885288163616386, 'batch_size': 61}. Best is trial 6 with value: 0.9583333253860473.\n",
            "[I 2024-08-26 01:10:26,960] Trial 7 finished with value: 0.8916666626930236 and parameters: {'optimizer': 'RMSprop', 'units1': 74, 'units2': 67, 'learning_rate': 0.0014065442242893575, 'rho': 0.9277218235787302, 'batch_size': 83}. Best is trial 6 with value: 0.9583333253860473.\n",
            "[I 2024-08-26 01:10:29,854] Trial 8 finished with value: 0.4 and parameters: {'optimizer': 'RMSprop', 'units1': 43, 'units2': 66, 'learning_rate': 6.124078290908621e-05, 'rho': 0.8739542660561808, 'batch_size': 74}. Best is trial 6 with value: 0.9583333253860473.\n",
            "[I 2024-08-26 01:10:32,825] Trial 9 finished with value: 0.9166666507720947 and parameters: {'optimizer': 'RMSprop', 'units1': 56, 'units2': 77, 'learning_rate': 0.004028123669668528, 'rho': 0.8293973982731561, 'batch_size': 81}. Best is trial 6 with value: 0.9583333253860473.\n",
            "[I 2024-08-26 01:10:36,165] Trial 10 finished with value: 0.8416666507720947 and parameters: {'optimizer': 'SGD', 'units1': 70, 'units2': 106, 'learning_rate': 0.008944844515334787, 'momentum': 0.8111736886257559, 'batch_size': 76}. Best is trial 6 with value: 0.9583333253860473.\n",
            "[I 2024-08-26 01:10:39,824] Trial 11 finished with value: 0.9583333253860473 and parameters: {'optimizer': 'Adam', 'units1': 73, 'units2': 69, 'learning_rate': 0.0072037041707282735, 'beta_1': 0.8711065593163915, 'beta_2': 0.8700266157842924, 'batch_size': 48}. Best is trial 6 with value: 0.9583333253860473.\n",
            "[I 2024-08-26 01:10:43,139] Trial 12 finished with value: 0.9583333253860473 and parameters: {'optimizer': 'Adam', 'units1': 74, 'units2': 72, 'learning_rate': 0.039786409150174055, 'beta_1': 0.8203605588698446, 'beta_2': 0.8431817528590101, 'batch_size': 64}. Best is trial 6 with value: 0.9583333253860473.\n",
            "[I 2024-08-26 01:10:45,870] Trial 13 finished with value: 0.11666666865348815 and parameters: {'optimizer': 'SGD', 'units1': 85, 'units2': 113, 'learning_rate': 0.00011664343005826335, 'momentum': 0.1613680890492295, 'batch_size': 59}. Best is trial 6 with value: 0.9583333253860473.\n",
            "[I 2024-08-26 01:10:49,490] Trial 14 finished with value: 0.2083333306014538 and parameters: {'optimizer': 'SGD', 'units1': 71, 'units2': 92, 'learning_rate': 0.001131060269973339, 'momentum': 0.0533150352797276, 'batch_size': 45}. Best is trial 6 with value: 0.9583333253860473.\n",
            "[I 2024-08-26 01:10:55,784] Trial 15 finished with value: 0.9749999880790711 and parameters: {'optimizer': 'Adam', 'units1': 74, 'units2': 59, 'learning_rate': 0.03209783181296977, 'beta_1': 0.9126472578056233, 'beta_2': 0.842792073046953, 'batch_size': 55}. Best is trial 15 with value: 0.9749999880790711.\n",
            "[I 2024-08-26 01:10:59,175] Trial 16 finished with value: 0.775 and parameters: {'optimizer': 'Adam', 'units1': 68, 'units2': 42, 'learning_rate': 0.0009351535670723147, 'beta_1': 0.8629946936215913, 'beta_2': 0.9081832961976832, 'batch_size': 60}. Best is trial 15 with value: 0.9749999880790711.\n",
            "[I 2024-08-26 01:11:03,346] Trial 17 finished with value: 0.9416666507720948 and parameters: {'optimizer': 'RMSprop', 'units1': 76, 'units2': 93, 'learning_rate': 0.05618904207686031, 'rho': 0.9750656681261577, 'batch_size': 68}. Best is trial 15 with value: 0.9749999880790711.\n",
            "[I 2024-08-26 01:11:06,370] Trial 18 finished with value: 0.95 and parameters: {'optimizer': 'RMSprop', 'units1': 61, 'units2': 126, 'learning_rate': 0.014960652785415736, 'rho': 0.8117114347171918, 'batch_size': 74}. Best is trial 15 with value: 0.9749999880790711.\n",
            "[I 2024-08-26 01:11:09,266] Trial 19 finished with value: 0.5916666746139526 and parameters: {'optimizer': 'SGD', 'units1': 95, 'units2': 77, 'learning_rate': 0.011354276960880202, 'momentum': 0.600523478435462, 'batch_size': 123}. Best is trial 15 with value: 0.9749999880790711.\n",
            "[I 2024-08-26 01:11:09,269] Trial 9 finished with value: 0.9749999880790711 and parameters: {'pruner': 'MedianPruner', 'sampler': 'CmaEsSampler'}. Best is trial 5 with value: 0.9749999880790711.\n"
          ]
        }
      ]
    },
    {
      "cell_type": "code",
      "source": [
        "# Function to get the best study and model parameters\n",
        "def get_best_study_and_params(meta_study):\n",
        "    best_trial = meta_study.best_trial\n",
        "    print('Best meta-optimized study:')\n",
        "    print(f'  Value: {best_trial.value}')\n",
        "    print(f'  Parameters: {best_trial.params}')\n",
        "\n",
        "    # Determine the best sampler and pruner\n",
        "    sampler_name = best_trial.params['sampler']\n",
        "    pruner = getattr(optuna.pruners, best_trial.params['pruner'])()\n",
        "\n",
        "    if sampler_name == 'CmaEsSampler':\n",
        "        # For CmaEsSampler, use TPESampler for categorical parameters\n",
        "        sampler = CmaEsSampler(warn_independent_sampling=False)\n",
        "    else:\n",
        "        sampler = getattr(optuna.samplers, sampler_name)()\n",
        "\n",
        "    return sampler, pruner, best_trial.params"
      ],
      "metadata": {
        "id": "LGPLWA19C_Do"
      },
      "execution_count": 10,
      "outputs": []
    },
    {
      "cell_type": "code",
      "source": [
        "# Get the best study parameters\n",
        "sampler, pruner, params = get_best_study_and_params(meta_study)"
      ],
      "metadata": {
        "colab": {
          "base_uri": "https://localhost:8080/"
        },
        "id": "d69jq7VoDdoc",
        "outputId": "eefea91d-867b-401e-bdb5-0f98c566f1b0"
      },
      "execution_count": 11,
      "outputs": [
        {
          "output_type": "stream",
          "name": "stdout",
          "text": [
            "Best meta-optimized study:\n",
            "  Value: 0.9749999880790711\n",
            "  Parameters: {'pruner': 'MedianPruner', 'sampler': 'TPESampler'}\n"
          ]
        }
      ]
    },
    {
      "cell_type": "code",
      "source": [
        "# Function to get the optimizer based on the best parameters\n",
        "def get_optimizer(params):\n",
        "    optimizer_name = params['optimizer']\n",
        "    learning_rate = params['learning_rate']\n",
        "\n",
        "    if optimizer_name == 'Adam':\n",
        "        return tf.keras.optimizers.Adam(learning_rate=learning_rate, beta_1=params['beta_1'], beta_2=params['beta_2'])\n",
        "    elif optimizer_name == 'RMSprop':\n",
        "        return tf.keras.optimizers.RMSprop(learning_rate=learning_rate, rho=params['rho'])\n",
        "    else:\n",
        "        return tf.keras.optimizers.SGD(learning_rate=learning_rate, momentum=params['momentum'])"
      ],
      "metadata": {
        "id": "SSOqBlrDC_A0"
      },
      "execution_count": 12,
      "outputs": []
    },
    {
      "cell_type": "code",
      "source": [
        "# Function to build and compile the model using the best parameters\n",
        "def build_and_compile_model(params):\n",
        "    model = tf.keras.Sequential([\n",
        "        layers.Dense(params['units1'], activation='relu'),\n",
        "        layers.Dense(params['units2'], activation='relu'),\n",
        "        layers.Dense(3, activation='softmax')\n",
        "    ])\n",
        "\n",
        "    optimizer = get_optimizer(params)\n",
        "    model.compile(optimizer=optimizer, loss='sparse_categorical_crossentropy', metrics=['accuracy'])\n",
        "\n",
        "    return model"
      ],
      "metadata": {
        "id": "Ytz5MwnDC8Vs"
      },
      "execution_count": 13,
      "outputs": []
    },
    {
      "cell_type": "code",
      "source": [
        "# Function to train the model with the best parameters\n",
        "def train_model_with_best_params(sampler, pruner, params, X_train, y_train, X_test, y_test):\n",
        "    def inner_study_optimization(inner_trial):\n",
        "        # Use TPESampler for categorical parameters within CmaEsSampler\n",
        "        optimizer_name = inner_trial.suggest_categorical('optimizer', ['Adam', 'RMSprop', 'SGD'])\n",
        "        return model_optimization(inner_trial, X_train, y_train)\n",
        "\n",
        "    if isinstance(sampler, CmaEsSampler):\n",
        "        # When using CmaEsSampler, handle categorical parameters separately\n",
        "        nested_study = optuna.create_study(direction='maximize', sampler=sampler, pruner=pruner)\n",
        "        nested_study.optimize(inner_study_optimization, n_trials=20)\n",
        "        model_params = nested_study.best_trial.params\n",
        "    else:\n",
        "        # Use the selected sampler directly\n",
        "        best_study = optuna.create_study(direction='maximize', sampler=sampler, pruner=pruner)\n",
        "        best_study.optimize(lambda t: model_optimization(t, X_train, y_train), n_trials=20)\n",
        "        model_params = best_study.best_trial.params\n",
        "\n",
        "    model = build_and_compile_model(model_params)\n",
        "    model.fit(X_train, y_train, epochs=5, batch_size=model_params['batch_size'], verbose=0)\n",
        "\n",
        "    return model"
      ],
      "metadata": {
        "id": "yaAkY86GDKKn"
      },
      "execution_count": 14,
      "outputs": []
    },
    {
      "cell_type": "code",
      "source": [
        "# Train the model using the best parameters\n",
        "model = train_model_with_best_params(sampler, pruner, params, X_train, y_train, X_test, y_test)\n",
        "print('\\n')\n",
        "model.summary()"
      ],
      "metadata": {
        "colab": {
          "base_uri": "https://localhost:8080/",
          "height": 660
        },
        "id": "CxjTdB1pDsmC",
        "outputId": "9fbd1ebd-8843-4648-c82d-709cdcb3717c"
      },
      "execution_count": 15,
      "outputs": [
        {
          "output_type": "stream",
          "name": "stderr",
          "text": [
            "[I 2024-08-26 01:11:09,334] A new study created in memory with name: no-name-d0555a2c-f3aa-471c-807a-33a6d086d5cb\n",
            "[I 2024-08-26 01:11:12,703] Trial 0 finished with value: 0.7 and parameters: {'units1': 124, 'units2': 116, 'optimizer': 'Adam', 'learning_rate': 0.00018116293820070892, 'beta_1': 0.9049324003155907, 'beta_2': 0.8727720605939158, 'batch_size': 97}. Best is trial 0 with value: 0.7.\n",
            "[I 2024-08-26 01:11:16,617] Trial 1 finished with value: 0.5000000059604645 and parameters: {'units1': 83, 'units2': 113, 'optimizer': 'SGD', 'learning_rate': 2.1423091006483323e-05, 'momentum': 0.6987591904596353, 'batch_size': 83}. Best is trial 0 with value: 0.7.\n",
            "[I 2024-08-26 01:11:19,982] Trial 2 finished with value: 0.9666666507720947 and parameters: {'units1': 31, 'units2': 128, 'optimizer': 'Adam', 'learning_rate': 0.04679033792788358, 'beta_1': 0.8239077766956813, 'beta_2': 0.9356178712262642, 'batch_size': 34}. Best is trial 2 with value: 0.9666666507720947.\n",
            "[I 2024-08-26 01:11:23,036] Trial 3 finished with value: 0.8333333253860473 and parameters: {'units1': 26, 'units2': 32, 'optimizer': 'RMSprop', 'learning_rate': 0.0003120525674070152, 'rho': 0.9963854366832351, 'batch_size': 79}. Best is trial 2 with value: 0.9666666507720947.\n",
            "[I 2024-08-26 01:11:26,001] Trial 4 finished with value: 0.8416666507720947 and parameters: {'units1': 74, 'units2': 46, 'optimizer': 'SGD', 'learning_rate': 0.06421034315069754, 'momentum': 0.2866380462179141, 'batch_size': 109}. Best is trial 2 with value: 0.9666666507720947.\n",
            "[I 2024-08-26 01:11:30,335] Trial 5 finished with value: 0.6833333373069763 and parameters: {'units1': 24, 'units2': 21, 'optimizer': 'Adam', 'learning_rate': 0.001251318480876341, 'beta_1': 0.8024133807304046, 'beta_2': 0.8735109475498363, 'batch_size': 92}. Best is trial 2 with value: 0.9666666507720947.\n",
            "[I 2024-08-26 01:11:33,385] Trial 6 finished with value: 0.6500000119209289 and parameters: {'units1': 18, 'units2': 76, 'optimizer': 'RMSprop', 'learning_rate': 7.122590545212574e-05, 'rho': 0.8808954225973725, 'batch_size': 34}. Best is trial 2 with value: 0.9666666507720947.\n",
            "[I 2024-08-26 01:11:36,172] Trial 7 finished with value: 0.34166666865348816 and parameters: {'units1': 91, 'units2': 21, 'optimizer': 'SGD', 'learning_rate': 0.0007065146853232449, 'momentum': 0.8589775873721323, 'batch_size': 50}. Best is trial 2 with value: 0.9666666507720947.\n",
            "[I 2024-08-26 01:11:38,964] Trial 8 finished with value: 0.3500000059604645 and parameters: {'units1': 78, 'units2': 38, 'optimizer': 'RMSprop', 'learning_rate': 1.567467069772941e-05, 'rho': 0.9400418649548881, 'batch_size': 121}. Best is trial 2 with value: 0.9666666507720947.\n",
            "[I 2024-08-26 01:11:42,906] Trial 9 finished with value: 0.824999988079071 and parameters: {'units1': 128, 'units2': 96, 'optimizer': 'RMSprop', 'learning_rate': 0.0002116797064956162, 'rho': 0.8804809976924262, 'batch_size': 69}. Best is trial 2 with value: 0.9666666507720947.\n",
            "[I 2024-08-26 01:11:45,972] Trial 10 finished with value: 0.9583333253860473 and parameters: {'units1': 47, 'units2': 127, 'optimizer': 'Adam', 'learning_rate': 0.050570863039655, 'beta_1': 0.8046595502609281, 'beta_2': 0.9973965718368256, 'batch_size': 33}. Best is trial 2 with value: 0.9666666507720947.\n",
            "[I 2024-08-26 01:11:49,318] Trial 11 finished with value: 0.9166666626930237 and parameters: {'units1': 48, 'units2': 128, 'optimizer': 'Adam', 'learning_rate': 0.07117457065549113, 'beta_1': 0.8042776897876264, 'beta_2': 0.9963813433110718, 'batch_size': 34}. Best is trial 2 with value: 0.9666666507720947.\n",
            "[I 2024-08-26 01:11:52,651] Trial 12 finished with value: 0.9583333253860473 and parameters: {'units1': 50, 'units2': 95, 'optimizer': 'Adam', 'learning_rate': 0.01041347747635002, 'beta_1': 0.8396180617654583, 'beta_2': 0.9873165671996279, 'batch_size': 54}. Best is trial 2 with value: 0.9666666507720947.\n",
            "[I 2024-08-26 01:11:56,915] Trial 13 finished with value: 0.9416666626930237 and parameters: {'units1': 45, 'units2': 128, 'optimizer': 'Adam', 'learning_rate': 0.009059648047401673, 'beta_1': 0.9974010533630183, 'beta_2': 0.9388437155783461, 'batch_size': 52}. Best is trial 2 with value: 0.9666666507720947.\n",
            "[I 2024-08-26 01:12:00,149] Trial 14 finished with value: 0.95 and parameters: {'units1': 59, 'units2': 98, 'optimizer': 'Adam', 'learning_rate': 0.015397391037703505, 'beta_1': 0.8695110504376422, 'beta_2': 0.9340854228218702, 'batch_size': 42}. Best is trial 2 with value: 0.9666666507720947.\n",
            "[I 2024-08-26 01:12:03,308] Trial 15 finished with value: 0.925 and parameters: {'units1': 40, 'units2': 62, 'optimizer': 'Adam', 'learning_rate': 0.003005045469117118, 'beta_1': 0.8519815634559985, 'beta_2': 0.8000013663690084, 'batch_size': 61}. Best is trial 2 with value: 0.9666666507720947.\n",
            "[I 2024-08-26 01:12:07,366] Trial 16 finished with value: 0.9583333253860473 and parameters: {'units1': 34, 'units2': 111, 'optimizer': 'Adam', 'learning_rate': 0.027299496507804975, 'beta_1': 0.920200106413507, 'beta_2': 0.9491707707093586, 'batch_size': 33}. Best is trial 2 with value: 0.9666666507720947.\n",
            "[I 2024-08-26 01:12:10,848] Trial 17 finished with value: 0.924999988079071 and parameters: {'units1': 61, 'units2': 80, 'optimizer': 'Adam', 'learning_rate': 0.0038025684702534058, 'beta_1': 0.8340065313091867, 'beta_2': 0.9660896434296582, 'batch_size': 64}. Best is trial 2 with value: 0.9666666507720947.\n",
            "[I 2024-08-26 01:12:14,129] Trial 18 finished with value: 0.95 and parameters: {'units1': 97, 'units2': 104, 'optimizer': 'Adam', 'learning_rate': 0.03922274032174357, 'beta_1': 0.9495029924594216, 'beta_2': 0.9023930019720249, 'batch_size': 43}. Best is trial 2 with value: 0.9666666507720947.\n",
            "[I 2024-08-26 01:12:16,846] Trial 19 finished with value: 0.875 and parameters: {'units1': 62, 'units2': 59, 'optimizer': 'SGD', 'learning_rate': 0.09220499645736163, 'momentum': 0.1509015067558182, 'batch_size': 72}. Best is trial 2 with value: 0.9666666507720947.\n"
          ]
        },
        {
          "output_type": "stream",
          "name": "stdout",
          "text": [
            "\n",
            "\n"
          ]
        },
        {
          "output_type": "display_data",
          "data": {
            "text/plain": [
              "\u001b[1mModel: \"sequential_220\"\u001b[0m\n"
            ],
            "text/html": [
              "<pre style=\"white-space:pre;overflow-x:auto;line-height:normal;font-family:Menlo,'DejaVu Sans Mono',consolas,'Courier New',monospace\"><span style=\"font-weight: bold\">Model: \"sequential_220\"</span>\n",
              "</pre>\n"
            ]
          },
          "metadata": {}
        },
        {
          "output_type": "display_data",
          "data": {
            "text/plain": [
              "┏━━━━━━━━━━━━━━━━━━━━━━━━━━━━━━━━━━━━━━┳━━━━━━━━━━━━━━━━━━━━━━━━━━━━━┳━━━━━━━━━━━━━━━━━┓\n",
              "┃\u001b[1m \u001b[0m\u001b[1mLayer (type)                        \u001b[0m\u001b[1m \u001b[0m┃\u001b[1m \u001b[0m\u001b[1mOutput Shape               \u001b[0m\u001b[1m \u001b[0m┃\u001b[1m \u001b[0m\u001b[1m        Param #\u001b[0m\u001b[1m \u001b[0m┃\n",
              "┡━━━━━━━━━━━━━━━━━━━━━━━━━━━━━━━━━━━━━━╇━━━━━━━━━━━━━━━━━━━━━━━━━━━━━╇━━━━━━━━━━━━━━━━━┩\n",
              "│ dense_660 (\u001b[38;5;33mDense\u001b[0m)                    │ (\u001b[38;5;45mNone\u001b[0m, \u001b[38;5;34m31\u001b[0m)                  │             \u001b[38;5;34m155\u001b[0m │\n",
              "├──────────────────────────────────────┼─────────────────────────────┼─────────────────┤\n",
              "│ dense_661 (\u001b[38;5;33mDense\u001b[0m)                    │ (\u001b[38;5;45mNone\u001b[0m, \u001b[38;5;34m128\u001b[0m)                 │           \u001b[38;5;34m4,096\u001b[0m │\n",
              "├──────────────────────────────────────┼─────────────────────────────┼─────────────────┤\n",
              "│ dense_662 (\u001b[38;5;33mDense\u001b[0m)                    │ (\u001b[38;5;45mNone\u001b[0m, \u001b[38;5;34m3\u001b[0m)                   │             \u001b[38;5;34m387\u001b[0m │\n",
              "└──────────────────────────────────────┴─────────────────────────────┴─────────────────┘\n"
            ],
            "text/html": [
              "<pre style=\"white-space:pre;overflow-x:auto;line-height:normal;font-family:Menlo,'DejaVu Sans Mono',consolas,'Courier New',monospace\">┏━━━━━━━━━━━━━━━━━━━━━━━━━━━━━━━━━━━━━━┳━━━━━━━━━━━━━━━━━━━━━━━━━━━━━┳━━━━━━━━━━━━━━━━━┓\n",
              "┃<span style=\"font-weight: bold\"> Layer (type)                         </span>┃<span style=\"font-weight: bold\"> Output Shape                </span>┃<span style=\"font-weight: bold\">         Param # </span>┃\n",
              "┡━━━━━━━━━━━━━━━━━━━━━━━━━━━━━━━━━━━━━━╇━━━━━━━━━━━━━━━━━━━━━━━━━━━━━╇━━━━━━━━━━━━━━━━━┩\n",
              "│ dense_660 (<span style=\"color: #0087ff; text-decoration-color: #0087ff\">Dense</span>)                    │ (<span style=\"color: #00d7ff; text-decoration-color: #00d7ff\">None</span>, <span style=\"color: #00af00; text-decoration-color: #00af00\">31</span>)                  │             <span style=\"color: #00af00; text-decoration-color: #00af00\">155</span> │\n",
              "├──────────────────────────────────────┼─────────────────────────────┼─────────────────┤\n",
              "│ dense_661 (<span style=\"color: #0087ff; text-decoration-color: #0087ff\">Dense</span>)                    │ (<span style=\"color: #00d7ff; text-decoration-color: #00d7ff\">None</span>, <span style=\"color: #00af00; text-decoration-color: #00af00\">128</span>)                 │           <span style=\"color: #00af00; text-decoration-color: #00af00\">4,096</span> │\n",
              "├──────────────────────────────────────┼─────────────────────────────┼─────────────────┤\n",
              "│ dense_662 (<span style=\"color: #0087ff; text-decoration-color: #0087ff\">Dense</span>)                    │ (<span style=\"color: #00d7ff; text-decoration-color: #00d7ff\">None</span>, <span style=\"color: #00af00; text-decoration-color: #00af00\">3</span>)                   │             <span style=\"color: #00af00; text-decoration-color: #00af00\">387</span> │\n",
              "└──────────────────────────────────────┴─────────────────────────────┴─────────────────┘\n",
              "</pre>\n"
            ]
          },
          "metadata": {}
        },
        {
          "output_type": "display_data",
          "data": {
            "text/plain": [
              "\u001b[1m Total params: \u001b[0m\u001b[38;5;34m13,916\u001b[0m (54.36 KB)\n"
            ],
            "text/html": [
              "<pre style=\"white-space:pre;overflow-x:auto;line-height:normal;font-family:Menlo,'DejaVu Sans Mono',consolas,'Courier New',monospace\"><span style=\"font-weight: bold\"> Total params: </span><span style=\"color: #00af00; text-decoration-color: #00af00\">13,916</span> (54.36 KB)\n",
              "</pre>\n"
            ]
          },
          "metadata": {}
        },
        {
          "output_type": "display_data",
          "data": {
            "text/plain": [
              "\u001b[1m Trainable params: \u001b[0m\u001b[38;5;34m4,638\u001b[0m (18.12 KB)\n"
            ],
            "text/html": [
              "<pre style=\"white-space:pre;overflow-x:auto;line-height:normal;font-family:Menlo,'DejaVu Sans Mono',consolas,'Courier New',monospace\"><span style=\"font-weight: bold\"> Trainable params: </span><span style=\"color: #00af00; text-decoration-color: #00af00\">4,638</span> (18.12 KB)\n",
              "</pre>\n"
            ]
          },
          "metadata": {}
        },
        {
          "output_type": "display_data",
          "data": {
            "text/plain": [
              "\u001b[1m Non-trainable params: \u001b[0m\u001b[38;5;34m0\u001b[0m (0.00 B)\n"
            ],
            "text/html": [
              "<pre style=\"white-space:pre;overflow-x:auto;line-height:normal;font-family:Menlo,'DejaVu Sans Mono',consolas,'Courier New',monospace\"><span style=\"font-weight: bold\"> Non-trainable params: </span><span style=\"color: #00af00; text-decoration-color: #00af00\">0</span> (0.00 B)\n",
              "</pre>\n"
            ]
          },
          "metadata": {}
        },
        {
          "output_type": "display_data",
          "data": {
            "text/plain": [
              "\u001b[1m Optimizer params: \u001b[0m\u001b[38;5;34m9,278\u001b[0m (36.25 KB)\n"
            ],
            "text/html": [
              "<pre style=\"white-space:pre;overflow-x:auto;line-height:normal;font-family:Menlo,'DejaVu Sans Mono',consolas,'Courier New',monospace\"><span style=\"font-weight: bold\"> Optimizer params: </span><span style=\"color: #00af00; text-decoration-color: #00af00\">9,278</span> (36.25 KB)\n",
              "</pre>\n"
            ]
          },
          "metadata": {}
        }
      ]
    },
    {
      "cell_type": "markdown",
      "source": [
        "# Evaluate the Model"
      ],
      "metadata": {
        "id": "dh6F7IkmBuDh"
      }
    },
    {
      "cell_type": "code",
      "source": [
        "# Function to evaluate the model on the test set\n",
        "def evaluate_model_on_test_set(model, X_test, y_test):\n",
        "    y_pred = model.predict(X_test)\n",
        "    y_pred_classes = y_pred.argmax(axis=1)\n",
        "    test_accuracy = accuracy_score(y_test, y_pred_classes)\n",
        "\n",
        "    print(f'Test accuracy of the best model: {test_accuracy:.4f}')\n",
        "    return test_accuracy"
      ],
      "metadata": {
        "id": "UbRxLkRIDRy4"
      },
      "execution_count": 16,
      "outputs": []
    },
    {
      "cell_type": "code",
      "source": [
        "# Function to evaluate the best model\n",
        "def evaluate_best_model(meta_study, X_train, X_test, y_train, y_test):\n",
        "    sampler, pruner, params = get_best_study_and_params(meta_study)\n",
        "    model = train_model_with_best_params(sampler, pruner, params, X_train, y_train, X_test, y_test)\n",
        "    evaluate_model_on_test_set(model, X_test, y_test)"
      ],
      "metadata": {
        "id": "0C5OtCW9DVBH"
      },
      "execution_count": 17,
      "outputs": []
    },
    {
      "cell_type": "code",
      "source": [
        "# Evaluate the best model\n",
        "evaluate_best_model(meta_study, X_train, X_test, y_train, y_test)"
      ],
      "metadata": {
        "colab": {
          "base_uri": "https://localhost:8080/"
        },
        "id": "al3jvTIGDx-h",
        "outputId": "41fd8be9-e426-4733-ee84-e05e5467c41f"
      },
      "execution_count": 18,
      "outputs": [
        {
          "output_type": "stream",
          "name": "stderr",
          "text": [
            "[I 2024-08-26 01:12:18,575] A new study created in memory with name: no-name-03e9882f-0ab9-4afe-b758-e491c26bdf8f\n"
          ]
        },
        {
          "output_type": "stream",
          "name": "stdout",
          "text": [
            "Best meta-optimized study:\n",
            "  Value: 0.9749999880790711\n",
            "  Parameters: {'pruner': 'MedianPruner', 'sampler': 'TPESampler'}\n"
          ]
        },
        {
          "output_type": "stream",
          "name": "stderr",
          "text": [
            "[I 2024-08-26 01:12:22,331] Trial 0 finished with value: 0.9333333253860474 and parameters: {'units1': 23, 'units2': 67, 'optimizer': 'RMSprop', 'learning_rate': 0.01586500078754188, 'rho': 0.9435331774759447, 'batch_size': 118}. Best is trial 0 with value: 0.9333333253860474.\n",
            "[I 2024-08-26 01:12:25,171] Trial 1 finished with value: 0.7083333373069763 and parameters: {'units1': 63, 'units2': 124, 'optimizer': 'SGD', 'learning_rate': 0.0018369402708760555, 'momentum': 0.5973867178756546, 'batch_size': 34}. Best is trial 0 with value: 0.9333333253860474.\n",
            "[I 2024-08-26 01:12:28,373] Trial 2 finished with value: 0.3 and parameters: {'units1': 59, 'units2': 43, 'optimizer': 'Adam', 'learning_rate': 7.905890034049579e-05, 'beta_1': 0.9771404143270667, 'beta_2': 0.9965213417885412, 'batch_size': 93}. Best is trial 0 with value: 0.9333333253860474.\n",
            "[I 2024-08-26 01:12:32,270] Trial 3 finished with value: 0.924999988079071 and parameters: {'units1': 78, 'units2': 49, 'optimizer': 'Adam', 'learning_rate': 0.06707779826258294, 'beta_1': 0.9411164694154333, 'beta_2': 0.9273875296386382, 'batch_size': 101}. Best is trial 0 with value: 0.9333333253860474.\n",
            "[I 2024-08-26 01:12:35,529] Trial 4 finished with value: 0.925 and parameters: {'units1': 29, 'units2': 68, 'optimizer': 'RMSprop', 'learning_rate': 0.006787832329822294, 'rho': 0.9410415233916881, 'batch_size': 51}. Best is trial 0 with value: 0.9333333253860474.\n",
            "[I 2024-08-26 01:12:38,451] Trial 5 finished with value: 0.37500000596046446 and parameters: {'units1': 110, 'units2': 54, 'optimizer': 'RMSprop', 'learning_rate': 2.74157175810554e-05, 'rho': 0.8852648698622836, 'batch_size': 81}. Best is trial 0 with value: 0.9333333253860474.\n",
            "[I 2024-08-26 01:12:42,431] Trial 6 finished with value: 0.6749999940395355 and parameters: {'units1': 26, 'units2': 23, 'optimizer': 'RMSprop', 'learning_rate': 0.0007417175359750548, 'rho': 0.9207051688613216, 'batch_size': 117}. Best is trial 0 with value: 0.9333333253860474.\n",
            "[I 2024-08-26 01:12:46,373] Trial 7 finished with value: 0.8416666507720947 and parameters: {'units1': 22, 'units2': 102, 'optimizer': 'SGD', 'learning_rate': 0.047082435891350444, 'momentum': 0.06396526321276037, 'batch_size': 120}. Best is trial 0 with value: 0.9333333253860474.\n",
            "[I 2024-08-26 01:12:49,596] Trial 8 finished with value: 0.9833333253860473 and parameters: {'units1': 25, 'units2': 101, 'optimizer': 'Adam', 'learning_rate': 0.0317216692044458, 'beta_1': 0.95286915863197, 'beta_2': 0.9952517019906288, 'batch_size': 84}. Best is trial 8 with value: 0.9833333253860473.\n",
            "[I 2024-08-26 01:12:52,277] Trial 9 finished with value: 0.0416666679084301 and parameters: {'units1': 119, 'units2': 32, 'optimizer': 'SGD', 'learning_rate': 0.0007048161271958563, 'momentum': 0.02822073147382793, 'batch_size': 37}. Best is trial 8 with value: 0.9833333253860473.\n",
            "[I 2024-08-26 01:12:55,556] Trial 10 finished with value: 0.9333333373069763 and parameters: {'units1': 45, 'units2': 95, 'optimizer': 'Adam', 'learning_rate': 0.005661959361430282, 'beta_1': 0.8255576936057484, 'beta_2': 0.8205085584037033, 'batch_size': 64}. Best is trial 8 with value: 0.9833333253860473.\n",
            "[I 2024-08-26 01:13:00,040] Trial 11 finished with value: 0.949999988079071 and parameters: {'units1': 46, 'units2': 96, 'optimizer': 'Adam', 'learning_rate': 0.006089619584971998, 'beta_1': 0.8017744772193633, 'beta_2': 0.8080062499204185, 'batch_size': 64}. Best is trial 8 with value: 0.9833333253860473.\n",
            "[I 2024-08-26 01:13:03,300] Trial 12 finished with value: 0.9333333373069763 and parameters: {'units1': 43, 'units2': 91, 'optimizer': 'Adam', 'learning_rate': 0.020672083545857457, 'beta_1': 0.804854859192413, 'beta_2': 0.8301964472483507, 'batch_size': 69}. Best is trial 8 with value: 0.9833333253860473.\n",
            "[I 2024-08-26 01:13:10,430] Trial 13 finished with value: 0.9166666626930237 and parameters: {'units1': 90, 'units2': 114, 'optimizer': 'Adam', 'learning_rate': 0.0033586481563209606, 'beta_1': 0.8864705355381681, 'beta_2': 0.9041036226565451, 'batch_size': 77}. Best is trial 8 with value: 0.9833333253860473.\n",
            "[I 2024-08-26 01:13:14,334] Trial 14 finished with value: 0.6333333492279053 and parameters: {'units1': 46, 'units2': 83, 'optimizer': 'Adam', 'learning_rate': 0.00016161184991343887, 'beta_1': 0.8890441843551758, 'beta_2': 0.9792268581287621, 'batch_size': 55}. Best is trial 8 with value: 0.9833333253860473.\n",
            "[I 2024-08-26 01:13:17,733] Trial 15 finished with value: 0.8583333253860473 and parameters: {'units1': 40, 'units2': 107, 'optimizer': 'Adam', 'learning_rate': 0.09330394660311982, 'beta_1': 0.9329221252318304, 'beta_2': 0.8698681013599059, 'batch_size': 93}. Best is trial 8 with value: 0.9833333253860473.\n",
            "[I 2024-08-26 01:13:21,341] Trial 16 finished with value: 0.9583333373069763 and parameters: {'units1': 16, 'units2': 128, 'optimizer': 'Adam', 'learning_rate': 0.018574927674163126, 'beta_1': 0.85024966505304, 'beta_2': 0.9458630471797861, 'batch_size': 81}. Best is trial 8 with value: 0.9833333253860473.\n",
            "[I 2024-08-26 01:13:25,951] Trial 17 finished with value: 0.9333333253860474 and parameters: {'units1': 16, 'units2': 119, 'optimizer': 'Adam', 'learning_rate': 0.013772687779314207, 'beta_1': 0.8469994969353406, 'beta_2': 0.9545001589177164, 'batch_size': 104}. Best is trial 8 with value: 0.9833333253860473.\n",
            "[I 2024-08-26 01:13:29,578] Trial 18 finished with value: 0.9166666626930237 and parameters: {'units1': 91, 'units2': 127, 'optimizer': 'Adam', 'learning_rate': 0.02687447690807347, 'beta_1': 0.9824333010583011, 'beta_2': 0.960076835209764, 'batch_size': 83}. Best is trial 8 with value: 0.9833333253860473.\n",
            "[I 2024-08-26 01:13:32,932] Trial 19 finished with value: 0.6666666746139527 and parameters: {'units1': 58, 'units2': 82, 'optimizer': 'SGD', 'learning_rate': 0.0015922188329842955, 'momentum': 0.897027187804883, 'batch_size': 92}. Best is trial 8 with value: 0.9833333253860473.\n"
          ]
        },
        {
          "output_type": "stream",
          "name": "stdout",
          "text": [
            "\u001b[1m1/1\u001b[0m \u001b[32m━━━━━━━━━━━━━━━━━━━━\u001b[0m\u001b[37m\u001b[0m \u001b[1m0s\u001b[0m 86ms/step\n",
            "Test accuracy of the best model: 0.9667\n"
          ]
        }
      ]
    }
  ]
}