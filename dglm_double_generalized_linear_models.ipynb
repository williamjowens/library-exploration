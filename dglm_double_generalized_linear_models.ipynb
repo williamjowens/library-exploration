{
  "nbformat": 4,
  "nbformat_minor": 0,
  "metadata": {
    "colab": {
      "provenance": []
    },
    "kernelspec": {
      "name": "ir",
      "display_name": "R"
    },
    "language_info": {
      "name": "R"
    }
  },
  "cells": [
    {
      "cell_type": "code",
      "source": [
        "if (!requireNamespace(\"MASS\", quietly=TRUE)) {\n",
        "  install.packages(\"MASS\", repos=\"https://cloud.r-project.org\")\n",
        "}\n",
        "if (!requireNamespace(\"dglm\", quietly=TRUE)) {\n",
        "  install.packages(\"dglm\", repos=\"https://cloud.r-project.org\")\n",
        "}"
      ],
      "metadata": {
        "id": "Crm1bdE2vdDX"
      },
      "execution_count": 1,
      "outputs": []
    },
    {
      "cell_type": "code",
      "source": [
        "library(MASS)\n",
        "library(dglm)"
      ],
      "metadata": {
        "id": "3Izd3TSovdBB"
      },
      "execution_count": 2,
      "outputs": []
    },
    {
      "cell_type": "code",
      "source": [
        "# Simulate heteroscedastic NB data\n",
        "set.seed(42)\n",
        "n <- 500\n",
        "x <- runif(n, 0, 10)\n",
        "z <- runif(n, 0, 10)\n",
        "\n",
        "# True parameters for mean and (log-)dispersion\n",
        "beta0 <- 0.5\n",
        "beta1 <- 0.1\n",
        "gamma0 <- -1.0\n",
        "gamma1 <-  0.3\n",
        "\n",
        "# Linear predictors\n",
        "eta_mu <- beta0 + beta1 * x\n",
        "eta_disp <- gamma0 + gamma1 * z\n",
        "\n",
        "# Canonical links\n",
        "mu_i <- exp(eta_mu)       # E[Y_i]\n",
        "theta_i <- exp(eta_disp)  # NB shape ≡ size parameter\n",
        "\n",
        "# NB parameterization: size = theta_i, prob = theta_i/(theta_i + mu_i)\n",
        "size_i <- theta_i\n",
        "prob_i <- size_i / (size_i + mu_i)\n",
        "\n",
        "# Draw counts\n",
        "y <- rnbinom(n, size = size_i, prob = prob_i)\n",
        "\n",
        "df <- data.frame(y = y, x = x, z = z)"
      ],
      "metadata": {
        "id": "Y48L0Gs2vc-s"
      },
      "execution_count": 3,
      "outputs": []
    },
    {
      "cell_type": "code",
      "source": [
        "# Fit the Negative-Binomial DGLM\n",
        "#  formula = mean model: (NB mean, log-link): y ~ x\n",
        "#  dformula = dispersion model: (log-dispersion link): ~ z\n",
        "#  family = negative.binomial(theta = 1) (seed scale=1)\n",
        "\n",
        "nb_dglm <- dglm(\n",
        "  formula = y ~ x,\n",
        "  dformula = ~ z,\n",
        "  family = negative.binomial(theta = 1),\n",
        "  data = df\n",
        ")"
      ],
      "metadata": {
        "id": "80z9O0f3vc71"
      },
      "execution_count": 4,
      "outputs": []
    },
    {
      "cell_type": "code",
      "source": [
        "# Summaries\n",
        "cat(\"--- Mean (NB) Submodel ---\\n\")\n",
        "print(summary(nb_dglm))\n",
        "\n",
        "cat(\"\\n--- Dispersion  Submodel ---\\n\")\n",
        "print(summary(nb_dglm$dispersion.fit))"
      ],
      "metadata": {
        "colab": {
          "base_uri": "https://localhost:8080/"
        },
        "id": "9zDl7qJmwoJ-",
        "outputId": "0b6c2311-1ae8-442a-9fd0-79e2c3990a8f"
      },
      "execution_count": 5,
      "outputs": [
        {
          "output_type": "stream",
          "name": "stdout",
          "text": [
            "--- Mean (NB) Submodel ---\n",
            "\n",
            "Call: dglm(formula = y ~ x, dformula = ~z, family = negative.binomial(theta = 1), \n",
            "    data = df)\n",
            "\n",
            "Mean Coefficients:\n",
            "             Estimate Std. Error  t value     Pr(>|t|)\n",
            "(Intercept) 0.4082464 0.11278489 3.619690 3.251216e-04\n",
            "x           0.1061652 0.01635981 6.489389 2.084571e-10\n",
            "(Dispersion Parameters for Negative Binomial(1) family estimated as below )\n",
            "\n",
            "    Scaled Null Deviance: 542.1853 on 499 degrees of freedom\n",
            "Scaled Residual Deviance: 500 on 498 degrees of freedom\n",
            "\n",
            "Dispersion Coefficients:\n",
            "              Estimate Std. Error   z value     Pr(>|z|)\n",
            "(Intercept)  0.6422690 0.12367480  5.193208 2.067011e-07\n",
            "z           -0.1474883 0.02182603 -6.757451 1.404401e-11\n",
            "(Dispersion parameter for Gamma family taken to be 2 )\n",
            "\n",
            "    Scaled Null Deviance: 692.6289 on 499 degrees of freedom\n",
            "Scaled Residual Deviance: 646.4779 on 498 degrees of freedom\n",
            "\n",
            "Minus Twice the Log-Likelihood: 2064.116 \n",
            "Number of Alternating Iterations: 4 \n",
            "\n",
            "--- Dispersion  Submodel ---\n",
            "\n",
            "Call:\n",
            "dglm(formula = ~z, family = Gamma(link = \"log\"), data = df)\n",
            "\n",
            "Coefficients:\n",
            "            Estimate Std. Error t value Pr(>|t|)    \n",
            "(Intercept)   0.6423     0.1836   3.499 0.000509 ***\n",
            "z            -0.1475     0.0324  -4.553 6.67e-06 ***\n",
            "---\n",
            "Signif. codes:  0 ‘***’ 0.001 ‘**’ 0.01 ‘*’ 0.05 ‘.’ 0.1 ‘ ’ 1\n",
            "\n",
            "(Dispersion parameter for Gamma family taken to be 4.406349)\n",
            "\n",
            "    Null deviance: 692.63  on 498  degrees of freedom\n",
            "Residual deviance: 646.48  on 498  degrees of freedom\n",
            "AIC: NA\n",
            "\n",
            "Number of Fisher Scoring iterations: 4\n",
            "\n"
          ]
        }
      ]
    },
    {
      "cell_type": "code",
      "execution_count": 6,
      "metadata": {
        "colab": {
          "base_uri": "https://localhost:8080/",
          "height": 437
        },
        "id": "3i-VZWqTucam",
        "outputId": "6a8bfa42-f3bb-4993-d1f4-cb8d0a223fbc"
      },
      "outputs": [
        {
          "output_type": "display_data",
          "data": {
            "text/plain": [
              "Plot with title “NB Dispersion Submodel”"
            ],
            "image/png": "[encoded data removed]"
          },
          "metadata": {
            "image/png": {
              "width": 420,
              "height": 420
            }
          }
        }
      ],
      "source": [
        "# Diagnostic plots\n",
        "par(mfrow = c(1, 2), mar = c(4, 4, 2, 1))\n",
        "\n",
        "# Mean fit: observed vs. fitted\n",
        "plot(\n",
        "    x,\n",
        "    y,\n",
        "    pch = 16,\n",
        "    cex = 0.6,\n",
        "    xlab = \"x\",\n",
        "    ylab = \"y\",\n",
        "    main = \"NB Mean Submodel\"\n",
        ")\n",
        "\n",
        "xx <- seq(min(x), max(x), length = 200)\n",
        "lines(\n",
        "    xx,\n",
        "    predict(\n",
        "        nb_dglm,\n",
        "        newdata = data.frame(x = xx),\n",
        "        type = \"response\"\n",
        "    ),\n",
        "    col = \"blue\",\n",
        "    lwd = 2\n",
        ")\n",
        "\n",
        "# Dispersion fit: estimated log-dispersion vs. z\n",
        "disp_link_z <- predict(\n",
        "    nb_dglm$dispersion.fit,\n",
        "    newdata = data.frame(z = z),\n",
        "    type = \"link\"\n",
        ")\n",
        "\n",
        "plot(\n",
        "    z,\n",
        "    disp_link_z,\n",
        "    pch = 16,\n",
        "    cex = 0.6,\n",
        "    xlab = \"z\",\n",
        "    ylab = \"log(alpha_i)\",\n",
        "    main = \"NB Dispersion Submodel\"\n",
        ")\n",
        "\n",
        "zz <- seq(min(z), max(z), length = 200)\n",
        "lines(\n",
        "    zz,\n",
        "    predict(\n",
        "        nb_dglm$dispersion.fit,\n",
        "        newdata = data.frame(z = zz),\n",
        "        type = \"link\"\n",
        "    ),\n",
        "    col = \"blue\",\n",
        "    lwd = 2\n",
        ")"
      ]
    }
  ]
}