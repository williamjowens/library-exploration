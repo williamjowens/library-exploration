{
  "nbformat": 4,
  "nbformat_minor": 0,
  "metadata": {
    "colab": {
      "provenance": [],
      "machine_shape": "hm"
    },
    "kernelspec": {
      "name": "ir",
      "display_name": "R"
    },
    "language_info": {
      "name": "R"
    }
  },
  "cells": [
    {
      "cell_type": "markdown",
      "source": [
        "# Library Setup"
      ],
      "metadata": {
        "id": "Kyukc61JWrRw"
      }
    },
    {
      "cell_type": "code",
      "execution_count": 1,
      "metadata": {
        "id": "SN-vKRZi23ff",
        "colab": {
          "base_uri": "https://localhost:8080/"
        },
        "outputId": "f77a0069-16c9-469c-a4a4-350dfe0b62d0"
      },
      "outputs": [
        {
          "output_type": "stream",
          "name": "stderr",
          "text": [
            "Installing package into ‘/usr/local/lib/R/site-library’\n",
            "(as ‘lib’ is unspecified)\n",
            "\n",
            "also installing the dependencies ‘cowplot’, ‘Deriv’, ‘microbenchmark’, ‘numDeriv’, ‘doBy’, ‘SparseM’, ‘MatrixModels’, ‘minqa’, ‘nloptr’, ‘RcppEigen’, ‘rbibutils’, ‘carData’, ‘abind’, ‘pbkrtest’, ‘quantreg’, ‘lme4’, ‘zoo’, ‘bdsmatrix’, ‘collapse’, ‘Rdpack’, ‘Formula’, ‘car’, ‘maxLik’, ‘glmmML’, ‘sandwich’, ‘miscTools’, ‘plm’, ‘AER’, ‘lmtest’\n",
            "\n",
            "\n",
            "Installing package into ‘/usr/local/lib/R/site-library’\n",
            "(as ‘lib’ is unspecified)\n",
            "\n",
            "Installing package into ‘/usr/local/lib/R/site-library’\n",
            "(as ‘lib’ is unspecified)\n",
            "\n",
            "also installing the dependencies ‘bitops’, ‘mitools’, ‘gss’, ‘stabledist’, ‘gbutils’, ‘gtools’, ‘caTools’, ‘truncnorm’, ‘FNN’, ‘kernlab’, ‘mclust’, ‘multicool’, ‘pracma’, ‘DistributionUtils’, ‘GeneralizedHyperbolic’, ‘TTR’, ‘survey’, ‘estimability’, ‘insight’, ‘fBasics’, ‘timeDate’, ‘timeSeries’, ‘fastICA’, ‘cvar’, ‘fracdiff’, ‘RcppArmadillo’, ‘dfidx’, ‘statmod’, ‘cubature’, ‘quadprog’, ‘gplots’, ‘Rsolnp’, ‘ks’, ‘spd’, ‘xts’, ‘chron’, ‘SkewHyperbolic’, ‘VGAM’, ‘mvtnorm’, ‘quantmod’, ‘dynlm’, ‘effects’, ‘fGarch’, ‘forecast’, ‘ineq’, ‘longmemo’, ‘mlogit’, ‘np’, ‘pscl’, ‘rgl’, ‘ROCR’, ‘rugarch’, ‘sampleSelection’, ‘scatterplot3d’, ‘strucchange’, ‘systemfit’, ‘truncreg’, ‘tseries’, ‘urca’, ‘vars’\n",
            "\n",
            "\n",
            "Installing package into ‘/usr/local/lib/R/site-library’\n",
            "(as ‘lib’ is unspecified)\n",
            "\n",
            "also installing the dependencies ‘listenv’, ‘parallelly’, ‘future’, ‘globals’, ‘R.methodsS3’, ‘R.oo’, ‘R.utils’, ‘shape’, ‘future.apply’, ‘progressr’, ‘SQUAREM’, ‘R.cache’, ‘TH.data’, ‘profileModel’, ‘lazyeval’, ‘plotrix’, ‘diagram’, ‘lava’, ‘styler’, ‘classInt’, ‘labelled’, ‘libcoin’, ‘matrixStats’, ‘multcomp’, ‘iterators’, ‘clock’, ‘gower’, ‘hardhat’, ‘brglm’, ‘qvcalc’, ‘rex’, ‘plotmo’, ‘prodlim’, ‘combinat’, ‘questionr’, ‘modeltools’, ‘coin’, ‘ROSE’, ‘e1071’, ‘foreach’, ‘ModelMetrics’, ‘plyr’, ‘pROC’, ‘recipes’, ‘reshape2’, ‘BradleyTerry2’, ‘covr’, ‘Cubist’, ‘earth’, ‘ellipse’, ‘gam’, ‘ipred’, ‘klaR’, ‘mda’, ‘mlbench’, ‘MLmetrics’, ‘pamr’, ‘party’, ‘pls’, ‘proxy’, ‘randomForest’, ‘RANN’, ‘spls’, ‘superpc’, ‘themis’\n",
            "\n",
            "\n",
            "Installing package into ‘/usr/local/lib/R/site-library’\n",
            "(as ‘lib’ is unspecified)\n",
            "\n",
            "Installing package into ‘/usr/local/lib/R/site-library’\n",
            "(as ‘lib’ is unspecified)\n",
            "\n",
            "also installing the dependency ‘egg’\n",
            "\n",
            "\n"
          ]
        }
      ],
      "source": [
        "# Install packages\n",
        "required_packages <- c(\"censReg\", \"cenGAM\", \"AER\", \"dplyr\", \"ggplot2\",\n",
        "                       \"caret\", \"Metrics\", \"tidyr\", \"gridExtra\")\n",
        "\n",
        "installed_packages <- rownames(installed.packages())\n",
        "\n",
        "for(p in required_packages){\n",
        "  if(!(p %in% installed_packages)){\n",
        "    install.packages(p, dependencies = TRUE)\n",
        "  }\n",
        "}"
      ]
    },
    {
      "cell_type": "code",
      "source": [
        "# Load libraries\n",
        "library(censReg)\n",
        "library(cenGAM)\n",
        "library(AER)\n",
        "library(dplyr)\n",
        "library(ggplot2)\n",
        "library(caret)\n",
        "library(Metrics)\n",
        "library(tidyr)\n",
        "library(gridExtra)"
      ],
      "metadata": {
        "colab": {
          "base_uri": "https://localhost:8080/"
        },
        "id": "UxQI5TJoj2wL",
        "outputId": "c3c0600e-1c62-4aeb-ec29-0c57958d6722"
      },
      "execution_count": 2,
      "outputs": [
        {
          "output_type": "stream",
          "name": "stderr",
          "text": [
            "Loading required package: maxLik\n",
            "\n",
            "Loading required package: miscTools\n",
            "\n",
            "\n",
            "Please cite the 'maxLik' package as:\n",
            "Henningsen, Arne and Toomet, Ott (2011). maxLik: A package for maximum likelihood estimation in R. Computational Statistics 26(3), 443-458. DOI 10.1007/s00180-010-0217-1.\n",
            "\n",
            "If you have questions, suggestions, or comments regarding the 'maxLik' package, please use a forum or 'tracker' at maxLik's R-Forge site:\n",
            "https://r-forge.r-project.org/projects/maxlik/\n",
            "\n",
            "\n",
            "Please cite the 'censReg' package as:\n",
            "Henningsen, Arne (2017). censReg: Censored Regression (Tobit) Models. R package version 0.5. http://CRAN.R-Project.org/package=censReg.\n",
            "\n",
            "If you have questions, suggestions, or comments regarding the 'censReg' package, please use a forum or 'tracker' at the R-Forge site of the 'sampleSelection' project:\n",
            "https://r-forge.r-project.org/projects/sampleselection/\n",
            "\n",
            "Loading required package: mgcv\n",
            "\n",
            "Loading required package: nlme\n",
            "\n",
            "This is mgcv 1.9-1. For overview type 'help(\"mgcv-package\")'.\n",
            "\n",
            "Loading required package: car\n",
            "\n",
            "Loading required package: carData\n",
            "\n",
            "Loading required package: lmtest\n",
            "\n",
            "Loading required package: zoo\n",
            "\n",
            "\n",
            "Attaching package: ‘zoo’\n",
            "\n",
            "\n",
            "The following objects are masked from ‘package:base’:\n",
            "\n",
            "    as.Date, as.Date.numeric\n",
            "\n",
            "\n",
            "Loading required package: sandwich\n",
            "\n",
            "Loading required package: survival\n",
            "\n",
            "\n",
            "Attaching package: ‘dplyr’\n",
            "\n",
            "\n",
            "The following object is masked from ‘package:car’:\n",
            "\n",
            "    recode\n",
            "\n",
            "\n",
            "The following object is masked from ‘package:nlme’:\n",
            "\n",
            "    collapse\n",
            "\n",
            "\n",
            "The following objects are masked from ‘package:stats’:\n",
            "\n",
            "    filter, lag\n",
            "\n",
            "\n",
            "The following objects are masked from ‘package:base’:\n",
            "\n",
            "    intersect, setdiff, setequal, union\n",
            "\n",
            "\n",
            "Loading required package: lattice\n",
            "\n",
            "\n",
            "Attaching package: ‘caret’\n",
            "\n",
            "\n",
            "The following object is masked from ‘package:survival’:\n",
            "\n",
            "    cluster\n",
            "\n",
            "\n",
            "\n",
            "Attaching package: ‘Metrics’\n",
            "\n",
            "\n",
            "The following objects are masked from ‘package:caret’:\n",
            "\n",
            "    precision, recall\n",
            "\n",
            "\n",
            "\n",
            "Attaching package: ‘gridExtra’\n",
            "\n",
            "\n",
            "The following object is masked from ‘package:dplyr’:\n",
            "\n",
            "    combine\n",
            "\n",
            "\n"
          ]
        }
      ]
    },
    {
      "cell_type": "markdown",
      "source": [
        "# Load Data"
      ],
      "metadata": {
        "id": "YTWjfcRAWliD"
      }
    },
    {
      "cell_type": "code",
      "source": [
        "# Load the 'Affairs' dataset\n",
        "data(\"Affairs\", package = \"AER\")\n",
        "df <- Affairs\n",
        "\n",
        "# View the first few rows\n",
        "head(df)"
      ],
      "metadata": {
        "colab": {
          "base_uri": "https://localhost:8080/",
          "height": 286
        },
        "id": "JArssID5Wx7H",
        "outputId": "275f7b5d-eb4f-4927-9544-12782598502e"
      },
      "execution_count": 3,
      "outputs": [
        {
          "output_type": "display_data",
          "data": {
            "text/html": [
              "<table class=\"dataframe\">\n",
              "<caption>A data.frame: 6 × 9</caption>\n",
              "<thead>\n",
              "\t<tr><th></th><th scope=col>affairs</th><th scope=col>gender</th><th scope=col>age</th><th scope=col>yearsmarried</th><th scope=col>children</th><th scope=col>religiousness</th><th scope=col>education</th><th scope=col>occupation</th><th scope=col>rating</th></tr>\n",
              "\t<tr><th></th><th scope=col>&lt;dbl&gt;</th><th scope=col>&lt;fct&gt;</th><th scope=col>&lt;dbl&gt;</th><th scope=col>&lt;dbl&gt;</th><th scope=col>&lt;fct&gt;</th><th scope=col>&lt;int&gt;</th><th scope=col>&lt;dbl&gt;</th><th scope=col>&lt;int&gt;</th><th scope=col>&lt;int&gt;</th></tr>\n",
              "</thead>\n",
              "<tbody>\n",
              "\t<tr><th scope=row>4</th><td>0</td><td>male  </td><td>37</td><td>10.00</td><td>no </td><td>3</td><td>18</td><td>7</td><td>4</td></tr>\n",
              "\t<tr><th scope=row>5</th><td>0</td><td>female</td><td>27</td><td> 4.00</td><td>no </td><td>4</td><td>14</td><td>6</td><td>4</td></tr>\n",
              "\t<tr><th scope=row>11</th><td>0</td><td>female</td><td>32</td><td>15.00</td><td>yes</td><td>1</td><td>12</td><td>1</td><td>4</td></tr>\n",
              "\t<tr><th scope=row>16</th><td>0</td><td>male  </td><td>57</td><td>15.00</td><td>yes</td><td>5</td><td>18</td><td>6</td><td>5</td></tr>\n",
              "\t<tr><th scope=row>23</th><td>0</td><td>male  </td><td>22</td><td> 0.75</td><td>no </td><td>2</td><td>17</td><td>6</td><td>3</td></tr>\n",
              "\t<tr><th scope=row>29</th><td>0</td><td>female</td><td>32</td><td> 1.50</td><td>no </td><td>2</td><td>17</td><td>5</td><td>5</td></tr>\n",
              "</tbody>\n",
              "</table>\n"
            ],
            "text/markdown": "\nA data.frame: 6 × 9\n\n| <!--/--> | affairs &lt;dbl&gt; | gender &lt;fct&gt; | age &lt;dbl&gt; | yearsmarried &lt;dbl&gt; | children &lt;fct&gt; | religiousness &lt;int&gt; | education &lt;dbl&gt; | occupation &lt;int&gt; | rating &lt;int&gt; |\n|---|---|---|---|---|---|---|---|---|---|\n| 4 | 0 | male   | 37 | 10.00 | no  | 3 | 18 | 7 | 4 |\n| 5 | 0 | female | 27 |  4.00 | no  | 4 | 14 | 6 | 4 |\n| 11 | 0 | female | 32 | 15.00 | yes | 1 | 12 | 1 | 4 |\n| 16 | 0 | male   | 57 | 15.00 | yes | 5 | 18 | 6 | 5 |\n| 23 | 0 | male   | 22 |  0.75 | no  | 2 | 17 | 6 | 3 |\n| 29 | 0 | female | 32 |  1.50 | no  | 2 | 17 | 5 | 5 |\n\n",
            "text/latex": "A data.frame: 6 × 9\n\\begin{tabular}{r|lllllllll}\n  & affairs & gender & age & yearsmarried & children & religiousness & education & occupation & rating\\\\\n  & <dbl> & <fct> & <dbl> & <dbl> & <fct> & <int> & <dbl> & <int> & <int>\\\\\n\\hline\n\t4 & 0 & male   & 37 & 10.00 & no  & 3 & 18 & 7 & 4\\\\\n\t5 & 0 & female & 27 &  4.00 & no  & 4 & 14 & 6 & 4\\\\\n\t11 & 0 & female & 32 & 15.00 & yes & 1 & 12 & 1 & 4\\\\\n\t16 & 0 & male   & 57 & 15.00 & yes & 5 & 18 & 6 & 5\\\\\n\t23 & 0 & male   & 22 &  0.75 & no  & 2 & 17 & 6 & 3\\\\\n\t29 & 0 & female & 32 &  1.50 & no  & 2 & 17 & 5 & 5\\\\\n\\end{tabular}\n",
            "text/plain": [
              "   affairs gender age yearsmarried children religiousness education occupation\n",
              "4  0       male   37  10.00        no       3             18        7         \n",
              "5  0       female 27   4.00        no       4             14        6         \n",
              "11 0       female 32  15.00        yes      1             12        1         \n",
              "16 0       male   57  15.00        yes      5             18        6         \n",
              "23 0       male   22   0.75        no       2             17        6         \n",
              "29 0       female 32   1.50        no       2             17        5         \n",
              "   rating\n",
              "4  4     \n",
              "5  4     \n",
              "11 4     \n",
              "16 5     \n",
              "23 3     \n",
              "29 5     "
            ]
          },
          "metadata": {}
        }
      ]
    },
    {
      "cell_type": "markdown",
      "source": [
        "# Explore Data"
      ],
      "metadata": {
        "id": "or-PQHR0W-il"
      }
    },
    {
      "cell_type": "code",
      "source": [
        "# Summary statistics\n",
        "summary(df)\n",
        "\n",
        "# Check for missing values\n",
        "cat(\"\\n\")\n",
        "cat(\"Total Missing Values in Dataset:\", sum(is.na(df)))\n",
        "cat(\"\\n\\n\")\n",
        "\n",
        "# Structure of the dataset\n",
        "str(df)"
      ],
      "metadata": {
        "colab": {
          "base_uri": "https://localhost:8080/",
          "height": 486
        },
        "id": "qn_BvJriW1B_",
        "outputId": "8707d462-9b8f-41e0-e3da-68fc4ce99a21"
      },
      "execution_count": 4,
      "outputs": [
        {
          "output_type": "display_data",
          "data": {
            "text/plain": [
              "    affairs          gender         age         yearsmarried    children \n",
              " Min.   : 0.000   female:315   Min.   :17.50   Min.   : 0.125   no :171  \n",
              " 1st Qu.: 0.000   male  :286   1st Qu.:27.00   1st Qu.: 4.000   yes:430  \n",
              " Median : 0.000                Median :32.00   Median : 7.000            \n",
              " Mean   : 1.456                Mean   :32.49   Mean   : 8.178            \n",
              " 3rd Qu.: 0.000                3rd Qu.:37.00   3rd Qu.:15.000            \n",
              " Max.   :12.000                Max.   :57.00   Max.   :15.000            \n",
              " religiousness     education       occupation        rating     \n",
              " Min.   :1.000   Min.   : 9.00   Min.   :1.000   Min.   :1.000  \n",
              " 1st Qu.:2.000   1st Qu.:14.00   1st Qu.:3.000   1st Qu.:3.000  \n",
              " Median :3.000   Median :16.00   Median :5.000   Median :4.000  \n",
              " Mean   :3.116   Mean   :16.17   Mean   :4.195   Mean   :3.932  \n",
              " 3rd Qu.:4.000   3rd Qu.:18.00   3rd Qu.:6.000   3rd Qu.:5.000  \n",
              " Max.   :5.000   Max.   :20.00   Max.   :7.000   Max.   :5.000  "
            ]
          },
          "metadata": {}
        },
        {
          "output_type": "stream",
          "name": "stdout",
          "text": [
            "\n",
            "Total Missing Values in Dataset: 0\n",
            "\n",
            "'data.frame':\t601 obs. of  9 variables:\n",
            " $ affairs      : num  0 0 0 0 0 0 0 0 0 0 ...\n",
            " $ gender       : Factor w/ 2 levels \"female\",\"male\": 2 1 1 2 2 1 1 2 1 2 ...\n",
            " $ age          : num  37 27 32 57 22 32 22 57 32 22 ...\n",
            " $ yearsmarried : num  10 4 15 15 0.75 1.5 0.75 15 15 1.5 ...\n",
            " $ children     : Factor w/ 2 levels \"no\",\"yes\": 1 1 2 2 1 1 1 2 2 1 ...\n",
            " $ religiousness: int  3 4 1 5 2 2 2 2 4 4 ...\n",
            " $ education    : num  18 14 12 18 17 17 12 14 16 14 ...\n",
            " $ occupation   : int  7 6 1 6 6 5 1 4 1 4 ...\n",
            " $ rating       : int  4 4 4 5 3 5 3 4 2 5 ...\n"
          ]
        }
      ]
    },
    {
      "cell_type": "code",
      "source": [
        "# Visualize the distribution of the censored variable 'affairs'\n",
        "options(repr.plot.width = 12, repr.plot.height = 7)\n",
        "ggplot(df, aes(x = affairs)) +\n",
        "  geom_histogram(binwidth = 1, fill = \"skyblue\", color = \"black\") +\n",
        "  labs(title = \"Distribution of Affairs\", x = \"Number of Affairs\", y = \"Count\") +\n",
        "  theme_minimal()"
      ],
      "metadata": {
        "colab": {
          "base_uri": "https://localhost:8080/",
          "height": 437
        },
        "id": "1ET45JvZt1G3",
        "outputId": "2b3e7b09-a6af-47a5-844d-804e781e6a3c"
      },
      "execution_count": 5,
      "outputs": [
        {
          "output_type": "display_data",
          "data": {
            "text/plain": [
              "plot without title"
            ],
            "image/png": "[encoded data removed]"
          },
          "metadata": {
            "image/png": {
              "width": 720,
              "height": 420
            }
          }
        }
      ]
    },
    {
      "cell_type": "code",
      "source": [
        "# Identify censoring (affairs == 0 indicates no affairs, hence censored at 0)\n",
        "options(repr.plot.width = 6, repr.plot.height = 6)\n",
        "ggplot(df, aes(x = factor(affairs == 0))) +\n",
        "  geom_bar(fill = \"salmon\") +\n",
        "  labs(\n",
        "    title = \"Censoring Indicator for Affairs (affairs == 0)\",\n",
        "    x = \"affairs == 0\",\n",
        "    y = \"Count\"\n",
        "  ) +\n",
        "  theme_minimal()"
      ],
      "metadata": {
        "colab": {
          "base_uri": "https://localhost:8080/",
          "height": 377
        },
        "id": "nK3V8EQiW0_3",
        "outputId": "c2524305-0f6f-4c5a-f42e-aeca8684a38a"
      },
      "execution_count": 6,
      "outputs": [
        {
          "output_type": "display_data",
          "data": {
            "text/plain": [
              "plot without title"
            ],
            "image/png": "[encoded data removed]"
          },
          "metadata": {
            "image/png": {
              "width": 360,
              "height": 360
            }
          }
        }
      ]
    },
    {
      "cell_type": "code",
      "source": [
        "# Correlation matrix for numeric variables\n",
        "numeric_vars <- df %>% select_if(is.numeric)\n",
        "cor_matrix <- cor(numeric_vars, use = \"complete.obs\")\n",
        "cor_matrix"
      ],
      "metadata": {
        "colab": {
          "base_uri": "https://localhost:8080/",
          "height": 286
        },
        "id": "Knspkir8W06L",
        "outputId": "b05453d4-002f-4076-d86c-a568970d6e82"
      },
      "execution_count": 7,
      "outputs": [
        {
          "output_type": "display_data",
          "data": {
            "text/html": [
              "<table class=\"dataframe\">\n",
              "<caption>A matrix: 7 × 7 of type dbl</caption>\n",
              "<thead>\n",
              "\t<tr><th></th><th scope=col>affairs</th><th scope=col>age</th><th scope=col>yearsmarried</th><th scope=col>religiousness</th><th scope=col>education</th><th scope=col>occupation</th><th scope=col>rating</th></tr>\n",
              "</thead>\n",
              "<tbody>\n",
              "\t<tr><th scope=row>affairs</th><td> 1.000000000</td><td> 0.0952372</td><td> 0.18684169</td><td>-0.14450135</td><td>-0.002437441</td><td> 0.04961176</td><td>-0.27951240</td></tr>\n",
              "\t<tr><th scope=row>age</th><td> 0.095237204</td><td> 1.0000000</td><td> 0.77754585</td><td> 0.19377693</td><td> 0.134596015</td><td> 0.16641254</td><td>-0.19899990</td></tr>\n",
              "\t<tr><th scope=row>yearsmarried</th><td> 0.186841686</td><td> 0.7775458</td><td> 1.00000000</td><td> 0.21826067</td><td> 0.040002716</td><td> 0.04459201</td><td>-0.24311883</td></tr>\n",
              "\t<tr><th scope=row>religiousness</th><td>-0.144501345</td><td> 0.1937769</td><td> 0.21826067</td><td> 1.00000000</td><td>-0.042571079</td><td>-0.03972232</td><td> 0.02429578</td></tr>\n",
              "\t<tr><th scope=row>education</th><td>-0.002437441</td><td> 0.1345960</td><td> 0.04000272</td><td>-0.04257108</td><td> 1.000000000</td><td> 0.53360524</td><td> 0.10930347</td></tr>\n",
              "\t<tr><th scope=row>occupation</th><td> 0.049611758</td><td> 0.1664125</td><td> 0.04459201</td><td>-0.03972232</td><td> 0.533605242</td><td> 1.00000000</td><td> 0.01742227</td></tr>\n",
              "\t<tr><th scope=row>rating</th><td>-0.279512403</td><td>-0.1989999</td><td>-0.24311883</td><td> 0.02429578</td><td> 0.109303473</td><td> 0.01742227</td><td> 1.00000000</td></tr>\n",
              "</tbody>\n",
              "</table>\n"
            ],
            "text/markdown": "\nA matrix: 7 × 7 of type dbl\n\n| <!--/--> | affairs | age | yearsmarried | religiousness | education | occupation | rating |\n|---|---|---|---|---|---|---|---|\n| affairs |  1.000000000 |  0.0952372 |  0.18684169 | -0.14450135 | -0.002437441 |  0.04961176 | -0.27951240 |\n| age |  0.095237204 |  1.0000000 |  0.77754585 |  0.19377693 |  0.134596015 |  0.16641254 | -0.19899990 |\n| yearsmarried |  0.186841686 |  0.7775458 |  1.00000000 |  0.21826067 |  0.040002716 |  0.04459201 | -0.24311883 |\n| religiousness | -0.144501345 |  0.1937769 |  0.21826067 |  1.00000000 | -0.042571079 | -0.03972232 |  0.02429578 |\n| education | -0.002437441 |  0.1345960 |  0.04000272 | -0.04257108 |  1.000000000 |  0.53360524 |  0.10930347 |\n| occupation |  0.049611758 |  0.1664125 |  0.04459201 | -0.03972232 |  0.533605242 |  1.00000000 |  0.01742227 |\n| rating | -0.279512403 | -0.1989999 | -0.24311883 |  0.02429578 |  0.109303473 |  0.01742227 |  1.00000000 |\n\n",
            "text/latex": "A matrix: 7 × 7 of type dbl\n\\begin{tabular}{r|lllllll}\n  & affairs & age & yearsmarried & religiousness & education & occupation & rating\\\\\n\\hline\n\taffairs &  1.000000000 &  0.0952372 &  0.18684169 & -0.14450135 & -0.002437441 &  0.04961176 & -0.27951240\\\\\n\tage &  0.095237204 &  1.0000000 &  0.77754585 &  0.19377693 &  0.134596015 &  0.16641254 & -0.19899990\\\\\n\tyearsmarried &  0.186841686 &  0.7775458 &  1.00000000 &  0.21826067 &  0.040002716 &  0.04459201 & -0.24311883\\\\\n\treligiousness & -0.144501345 &  0.1937769 &  0.21826067 &  1.00000000 & -0.042571079 & -0.03972232 &  0.02429578\\\\\n\teducation & -0.002437441 &  0.1345960 &  0.04000272 & -0.04257108 &  1.000000000 &  0.53360524 &  0.10930347\\\\\n\toccupation &  0.049611758 &  0.1664125 &  0.04459201 & -0.03972232 &  0.533605242 &  1.00000000 &  0.01742227\\\\\n\trating & -0.279512403 & -0.1989999 & -0.24311883 &  0.02429578 &  0.109303473 &  0.01742227 &  1.00000000\\\\\n\\end{tabular}\n",
            "text/plain": [
              "              affairs      age        yearsmarried religiousness education   \n",
              "affairs        1.000000000  0.0952372  0.18684169  -0.14450135   -0.002437441\n",
              "age            0.095237204  1.0000000  0.77754585   0.19377693    0.134596015\n",
              "yearsmarried   0.186841686  0.7775458  1.00000000   0.21826067    0.040002716\n",
              "religiousness -0.144501345  0.1937769  0.21826067   1.00000000   -0.042571079\n",
              "education     -0.002437441  0.1345960  0.04000272  -0.04257108    1.000000000\n",
              "occupation     0.049611758  0.1664125  0.04459201  -0.03972232    0.533605242\n",
              "rating        -0.279512403 -0.1989999 -0.24311883   0.02429578    0.109303473\n",
              "              occupation  rating     \n",
              "affairs        0.04961176 -0.27951240\n",
              "age            0.16641254 -0.19899990\n",
              "yearsmarried   0.04459201 -0.24311883\n",
              "religiousness -0.03972232  0.02429578\n",
              "education      0.53360524  0.10930347\n",
              "occupation     1.00000000  0.01742227\n",
              "rating         0.01742227  1.00000000"
            ]
          },
          "metadata": {}
        }
      ]
    },
    {
      "cell_type": "markdown",
      "source": [
        " # Prepare Data"
      ],
      "metadata": {
        "id": "YrTqSakoXBh9"
      }
    },
    {
      "cell_type": "code",
      "source": [
        "# Set seed\n",
        "set.seed(123)\n",
        "\n",
        "# Split the data into training (80%) and testing (20%) sets\n",
        "train_index <- createDataPartition(df$affairs, p = 0.8, list = FALSE)\n",
        "train_data <- df[train_index, ]\n",
        "test_data  <- df[-train_index, ]"
      ],
      "metadata": {
        "id": "WozE3qK-XCgS"
      },
      "execution_count": 8,
      "outputs": []
    },
    {
      "cell_type": "code",
      "source": [
        "# Identify categorical variables\n",
        "categorical_vars <- c(\"gender\", \"religiousness\", \"education\", \"occupation\", \"rating\")\n",
        "\n",
        "# Convert to factors in training and test sets\n",
        "train_data[categorical_vars] <- lapply(train_data[categorical_vars], factor)\n",
        "test_data[categorical_vars] <- lapply(test_data[categorical_vars], factor)"
      ],
      "metadata": {
        "id": "-wc1K6cWXJie"
      },
      "execution_count": 9,
      "outputs": []
    },
    {
      "cell_type": "code",
      "source": [
        "# Ensure levels in test set match training set\n",
        "for(var in categorical_vars){\n",
        "  test_data[[var]] <- factor(test_data[[var]], levels = levels(train_data[[var]]))\n",
        "}"
      ],
      "metadata": {
        "id": "qp5faWQHXJgW"
      },
      "execution_count": 10,
      "outputs": []
    },
    {
      "cell_type": "code",
      "source": [
        "# Scale numeric predictors\n",
        "numeric_predictors <- c(\"age\")\n",
        "\n",
        "preProcValues <- preProcess(train_data[, numeric_predictors, drop = FALSE], method = c(\"center\", \"scale\"))\n",
        "\n",
        "train_data_scaled <- train_data\n",
        "train_data_scaled[, numeric_predictors] <- predict(preProcValues, train_data[, numeric_predictors, drop = FALSE])\n",
        "\n",
        "test_data_scaled <- test_data\n",
        "test_data_scaled[, numeric_predictors]  <- predict(preProcValues, test_data[, numeric_predictors, drop = FALSE])"
      ],
      "metadata": {
        "id": "h7yltf3_XJdv"
      },
      "execution_count": 11,
      "outputs": []
    },
    {
      "cell_type": "code",
      "source": [
        "# Verify the data types\n",
        "str(train_data_scaled)"
      ],
      "metadata": {
        "colab": {
          "base_uri": "https://localhost:8080/"
        },
        "id": "yvhZNAypugLZ",
        "outputId": "cc38b2c3-6eed-4535-cc14-afdc26ea8f19"
      },
      "execution_count": 12,
      "outputs": [
        {
          "output_type": "stream",
          "name": "stdout",
          "text": [
            "'data.frame':\t481 obs. of  9 variables:\n",
            " $ affairs      : num  0 0 0 0 0 0 0 0 0 0 ...\n",
            " $ gender       : Factor w/ 2 levels \"female\",\"male\": 2 2 1 1 2 2 2 2 2 1 ...\n",
            " $ age          : num  2.6599 -1.1134 -0.0353 -1.1134 2.6599 ...\n",
            " $ yearsmarried : num  15 0.75 1.5 0.75 15 1.5 15 4 15 1.5 ...\n",
            " $ children     : Factor w/ 2 levels \"no\",\"yes\": 2 1 1 1 2 1 2 2 2 1 ...\n",
            " $ religiousness: Factor w/ 5 levels \"1\",\"2\",\"3\",\"4\",..: 5 2 2 2 2 4 2 4 5 2 ...\n",
            " $ education    : Factor w/ 7 levels \"9\",\"12\",\"14\",..: 6 5 5 2 3 3 7 6 5 5 ...\n",
            " $ occupation   : Factor w/ 7 levels \"1\",\"2\",\"3\",\"4\",..: 6 6 5 1 4 4 7 6 6 5 ...\n",
            " $ rating       : Factor w/ 5 levels \"1\",\"2\",\"3\",\"4\",..: 5 3 5 3 4 5 2 4 4 4 ...\n"
          ]
        }
      ]
    },
    {
      "cell_type": "markdown",
      "source": [
        "# Explanatory Modeling"
      ],
      "metadata": {
        "id": "2QhSxZfHZmth"
      }
    },
    {
      "cell_type": "code",
      "source": [
        "# Create full dataset\n",
        "full_data <- df\n",
        "full_data[categorical_vars] <- lapply(full_data[categorical_vars], factor)\n",
        "str(full_data)"
      ],
      "metadata": {
        "colab": {
          "base_uri": "https://localhost:8080/"
        },
        "id": "JfdgTWIqZTUI",
        "outputId": "2648c9f7-4847-429a-af65-dd5003afaa0e"
      },
      "execution_count": 13,
      "outputs": [
        {
          "output_type": "stream",
          "name": "stdout",
          "text": [
            "'data.frame':\t601 obs. of  9 variables:\n",
            " $ affairs      : num  0 0 0 0 0 0 0 0 0 0 ...\n",
            " $ gender       : Factor w/ 2 levels \"female\",\"male\": 2 1 1 2 2 1 1 2 1 2 ...\n",
            " $ age          : num  37 27 32 57 22 32 22 57 32 22 ...\n",
            " $ yearsmarried : num  10 4 15 15 0.75 1.5 0.75 15 15 1.5 ...\n",
            " $ children     : Factor w/ 2 levels \"no\",\"yes\": 1 1 2 2 1 1 1 2 2 1 ...\n",
            " $ religiousness: Factor w/ 5 levels \"1\",\"2\",\"3\",\"4\",..: 3 4 1 5 2 2 2 2 4 4 ...\n",
            " $ education    : Factor w/ 7 levels \"9\",\"12\",\"14\",..: 6 3 2 6 5 5 2 3 4 3 ...\n",
            " $ occupation   : Factor w/ 7 levels \"1\",\"2\",\"3\",\"4\",..: 7 6 1 6 6 5 1 4 1 4 ...\n",
            " $ rating       : Factor w/ 5 levels \"1\",\"2\",\"3\",\"4\",..: 4 4 4 5 3 5 3 4 2 5 ...\n"
          ]
        }
      ]
    },
    {
      "cell_type": "code",
      "source": [
        "# censReg Model\n",
        "censReg_model_full <- censReg(affairs ~ ., data = full_data, left = 0)\n",
        "summary(censReg_model_full)"
      ],
      "metadata": {
        "colab": {
          "base_uri": "https://localhost:8080/",
          "height": 746
        },
        "id": "lK4jIk6mxjVC",
        "outputId": "a3a1d392-29d0-49a7-c32b-45612e82ffbf"
      },
      "execution_count": 14,
      "outputs": [
        {
          "output_type": "display_data",
          "data": {
            "text/plain": [
              "\n",
              "Call:\n",
              "censReg(formula = affairs ~ ., left = 0, data = full_data)\n",
              "\n",
              "Observations:\n",
              "         Total  Left-censored     Uncensored Right-censored \n",
              "           601            451            150              0 \n",
              "\n",
              "Coefficients:\n",
              "               Estimate Std. error t value  Pr(> t)    \n",
              "(Intercept)     4.32873    4.98178   0.869 0.384895    \n",
              "gendermale      0.69914    1.11367   0.628 0.530147    \n",
              "age            -0.20020    0.08038  -2.491 0.012750 *  \n",
              "yearsmarried    0.53581    0.14586   3.674 0.000239 ***\n",
              "childrenyes     1.16177    1.28783   0.902 0.366996    \n",
              "religiousness2 -4.12328    1.63787  -2.517 0.011820 *  \n",
              "religiousness3 -3.01681    1.65461  -1.823 0.068262 .  \n",
              "religiousness4 -7.07309    1.67926  -4.212 2.53e-05 ***\n",
              "religiousness5 -6.89248    2.02206  -3.409 0.000653 ***\n",
              "education12    -0.50950    4.40692  -0.116 0.907959    \n",
              "education14    -2.57267    4.26891  -0.603 0.546740    \n",
              "education16    -2.83286    4.36144  -0.650 0.515999    \n",
              "education17     0.66074    4.34373   0.152 0.879097    \n",
              "education18    -1.25531    4.36938  -0.287 0.773885    \n",
              "education20    -1.07718    4.50996  -0.239 0.811226    \n",
              "occupation2     1.14993    3.41588   0.337 0.736386    \n",
              "occupation3     2.41173    1.93959   1.243 0.213712    \n",
              "occupation4     3.37965    1.79228   1.886 0.059340 .  \n",
              "occupation5     0.96606    1.49806   0.645 0.519007    \n",
              "occupation6     1.26344    1.80002   0.702 0.482739    \n",
              "occupation7     1.54271    3.06250   0.504 0.614441    \n",
              "rating2         1.51089    2.64136   0.572 0.567314    \n",
              "rating3        -3.60552    2.65116  -1.360 0.173837    \n",
              "rating4        -4.37766    2.54791  -1.718 0.085772 .  \n",
              "rating5        -6.31487    2.59486  -2.434 0.014949 *  \n",
              "logSigma        2.07577    0.06704  30.963  < 2e-16 ***\n",
              "---\n",
              "Signif. codes:  0 ‘***’ 0.001 ‘**’ 0.01 ‘*’ 0.05 ‘.’ 0.1 ‘ ’ 1\n",
              "\n",
              "Newton-Raphson maximisation, 7 iterations\n",
              "Return code 1: gradient close to zero (gradtol)\n",
              "Log-likelihood: -694.2919 on 26 Df\n"
            ]
          },
          "metadata": {}
        }
      ]
    },
    {
      "cell_type": "code",
      "source": [
        "# cenGAM Model\n",
        "cenGAM_model_full <- gam(\n",
        "  affairs ~ s(age, k = 3) + gender + yearsmarried + religiousness + education + occupation + rating,\n",
        "  family = tobit1(left.threshold = 0),\n",
        "  data = full_data\n",
        ")\n",
        "summary(cenGAM_model_full)"
      ],
      "metadata": {
        "colab": {
          "base_uri": "https://localhost:8080/",
          "height": 781
        },
        "id": "-_3YXXcJZxql",
        "outputId": "6f650610-438f-4796-c990-72f6f7f1a9dd"
      },
      "execution_count": 15,
      "outputs": [
        {
          "output_type": "display_data",
          "data": {
            "text/plain": [
              "\n",
              "Family: Censored normal (sigma=9.012) \n",
              "Link function: identity \n",
              "\n",
              "Formula:\n",
              "affairs ~ s(age, k = 3) + gender + yearsmarried + religiousness + \n",
              "    education + occupation + rating\n",
              "\n",
              "Parametric coefficients:\n",
              "               Estimate Std. Error z value Pr(>|z|)    \n",
              "(Intercept)     -2.7327     5.2579  -0.520  0.60325    \n",
              "gendermale       0.8694     1.2592   0.690  0.48991    \n",
              "yearsmarried     0.6330     0.1529   4.139 3.49e-05 ***\n",
              "religiousness2  -4.5172     1.8445  -2.449  0.01433 *  \n",
              "religiousness3  -3.2379     1.8719  -1.730  0.08368 .  \n",
              "religiousness4  -7.7031     1.8715  -4.116 3.86e-05 ***\n",
              "religiousness5  -7.4301     2.2666  -3.278  0.00104 ** \n",
              "education12     -0.1606     5.0225  -0.032  0.97448    \n",
              "education14     -2.3726     4.8702  -0.487  0.62614    \n",
              "education16     -2.6312     4.9755  -0.529  0.59692    \n",
              "education17      1.1027     4.9516   0.223  0.82377    \n",
              "education18     -0.8691     4.9811  -0.174  0.86150    \n",
              "education20     -0.7518     5.1424  -0.146  0.88377    \n",
              "occupation2      1.4966     3.8726   0.386  0.69915    \n",
              "occupation3      2.2918     2.1617   1.060  0.28906    \n",
              "occupation4      3.4215     1.9923   1.717  0.08592 .  \n",
              "occupation5      0.7458     1.6786   0.444  0.65684    \n",
              "occupation6      1.1049     2.0263   0.545  0.58556    \n",
              "occupation7      1.5815     3.4557   0.458  0.64720    \n",
              "rating2          1.7558     3.0003   0.585  0.55841    \n",
              "rating3         -3.7728     3.0102  -1.253  0.21008    \n",
              "rating4         -4.5909     2.8867  -1.590  0.11175    \n",
              "rating5         -6.8983     2.9355  -2.350  0.01877 *  \n",
              "---\n",
              "Signif. codes:  0 ‘***’ 0.001 ‘**’ 0.01 ‘*’ 0.05 ‘.’ 0.1 ‘ ’ 1\n",
              "\n",
              "Approximate significance of smooth terms:\n",
              "       edf Ref.df Chi.sq p-value  \n",
              "s(age)   1      1  5.974  0.0145 *\n",
              "---\n",
              "Signif. codes:  0 ‘***’ 0.001 ‘**’ 0.01 ‘*’ 0.05 ‘.’ 0.1 ‘ ’ 1\n",
              "\n",
              "R-sq.(adj) =  -0.968   Deviance explained = 20.6%\n",
              "-REML = 665.99  Scale est. = 1         n = 601"
            ]
          },
          "metadata": {}
        }
      ]
    },
    {
      "cell_type": "code",
      "source": [
        "# Tobit Model from AER\n",
        "tobit_model_full <- tobit(affairs ~ ., data = full_data, left = 0)\n",
        "summary(tobit_model_full)"
      ],
      "metadata": {
        "colab": {
          "base_uri": "https://localhost:8080/",
          "height": 798
        },
        "id": "px-sSnW_XxRI",
        "outputId": "5afce6a2-8362-49da-e804-9a41477ad95a"
      },
      "execution_count": 16,
      "outputs": [
        {
          "output_type": "display_data",
          "data": {
            "text/plain": [
              "\n",
              "Call:\n",
              "tobit(formula = affairs ~ ., left = 0, data = full_data)\n",
              "\n",
              "Observations:\n",
              "         Total  Left-censored     Uncensored Right-censored \n",
              "           601            451            150              0 \n",
              "\n",
              "Coefficients:\n",
              "               Estimate Std. Error z value Pr(>|z|)    \n",
              "(Intercept)     4.32873    4.98178   0.869 0.384895    \n",
              "gendermale      0.69914    1.11367   0.628 0.530147    \n",
              "age            -0.20020    0.08038  -2.491 0.012750 *  \n",
              "yearsmarried    0.53581    0.14586   3.674 0.000239 ***\n",
              "childrenyes     1.16177    1.28783   0.902 0.366996    \n",
              "religiousness2 -4.12328    1.63787  -2.517 0.011820 *  \n",
              "religiousness3 -3.01681    1.65461  -1.823 0.068262 .  \n",
              "religiousness4 -7.07309    1.67926  -4.212 2.53e-05 ***\n",
              "religiousness5 -6.89248    2.02206  -3.409 0.000653 ***\n",
              "education12    -0.50950    4.40692  -0.116 0.907959    \n",
              "education14    -2.57267    4.26891  -0.603 0.546740    \n",
              "education16    -2.83286    4.36144  -0.650 0.515999    \n",
              "education17     0.66074    4.34373   0.152 0.879097    \n",
              "education18    -1.25531    4.36938  -0.287 0.773885    \n",
              "education20    -1.07718    4.50996  -0.239 0.811226    \n",
              "occupation2     1.14993    3.41588   0.337 0.736386    \n",
              "occupation3     2.41173    1.93959   1.243 0.213712    \n",
              "occupation4     3.37965    1.79228   1.886 0.059340 .  \n",
              "occupation5     0.96606    1.49806   0.645 0.519007    \n",
              "occupation6     1.26344    1.80002   0.702 0.482739    \n",
              "occupation7     1.54271    3.06250   0.504 0.614441    \n",
              "rating2         1.51089    2.64136   0.572 0.567314    \n",
              "rating3        -3.60552    2.65116  -1.360 0.173837    \n",
              "rating4        -4.37766    2.54791  -1.718 0.085772 .  \n",
              "rating5        -6.31487    2.59486  -2.434 0.014949 *  \n",
              "Log(scale)      2.07577    0.06704  30.963  < 2e-16 ***\n",
              "---\n",
              "Signif. codes:  0 ‘***’ 0.001 ‘**’ 0.01 ‘*’ 0.05 ‘.’ 0.1 ‘ ’ 1\n",
              "\n",
              "Scale: 7.971 \n",
              "\n",
              "Gaussian distribution\n",
              "Number of Newton-Raphson Iterations: 4 \n",
              "Log-likelihood: -694.3 on 26 Df\n",
              "Wald-statistic: 83.86 on 24 Df, p-value: 1.4581e-08 \n"
            ]
          },
          "metadata": {}
        }
      ]
    },
    {
      "cell_type": "markdown",
      "source": [
        "# Predictive Modeling"
      ],
      "metadata": {
        "id": "zOURyq5eZ2XV"
      }
    },
    {
      "cell_type": "code",
      "source": [
        "# censReg Model\n",
        "censReg_model_train <- censReg(affairs ~ ., data = train_data_scaled, left = 0)\n",
        "summary(censReg_model_train)"
      ],
      "metadata": {
        "colab": {
          "base_uri": "https://localhost:8080/",
          "height": 746
        },
        "id": "SEfk1tLNZ4X_",
        "outputId": "741d6ae5-997a-452c-c22e-413e60577f66"
      },
      "execution_count": 17,
      "outputs": [
        {
          "output_type": "display_data",
          "data": {
            "text/plain": [
              "\n",
              "Call:\n",
              "censReg(formula = affairs ~ ., left = 0, data = train_data_scaled)\n",
              "\n",
              "Observations:\n",
              "         Total  Left-censored     Uncensored Right-censored \n",
              "           481            363            118              0 \n",
              "\n",
              "Coefficients:\n",
              "               Estimate Std. error t value  Pr(> t)    \n",
              "(Intercept)    -2.04409    6.06422  -0.337 0.736061    \n",
              "gendermale      0.59008    1.27876   0.461 0.644478    \n",
              "age            -1.30830    0.84751  -1.544 0.122661    \n",
              "yearsmarried    0.48443    0.16554   2.926 0.003430 ** \n",
              "childrenyes     0.74504    1.45671   0.511 0.609036    \n",
              "religiousness2 -4.27594    1.94126  -2.203 0.027619 *  \n",
              "religiousness3 -2.69650    1.95706  -1.378 0.168256    \n",
              "religiousness4 -7.51155    1.95549  -3.841 0.000122 ***\n",
              "religiousness5 -6.56799    2.31913  -2.832 0.004624 ** \n",
              "education12     3.29830    5.71994   0.577 0.564188    \n",
              "education14     0.97593    5.59524   0.174 0.861534    \n",
              "education16     1.54390    5.70919   0.270 0.786835    \n",
              "education17     3.92753    5.68423   0.691 0.489596    \n",
              "education18     1.93873    5.71666   0.339 0.734507    \n",
              "education20     2.11782    5.87298   0.361 0.718396    \n",
              "occupation2     2.13194    3.79526   0.562 0.574296    \n",
              "occupation3     1.52150    2.17911   0.698 0.485039    \n",
              "occupation4     2.05050    1.95426   1.049 0.294064    \n",
              "occupation5    -0.07655    1.69717  -0.045 0.964024    \n",
              "occupation6     0.62567    2.10658   0.297 0.766459    \n",
              "occupation7     0.15676    3.75108   0.042 0.966665    \n",
              "rating2        -1.29636    3.06831  -0.422 0.672661    \n",
              "rating3        -6.16827    3.05269  -2.021 0.043321 *  \n",
              "rating4        -6.24479    2.95361  -2.114 0.034491 *  \n",
              "rating5        -8.11408    2.99746  -2.707 0.006790 ** \n",
              "logSigma        2.08245    0.07586  27.453  < 2e-16 ***\n",
              "---\n",
              "Signif. codes:  0 ‘***’ 0.001 ‘**’ 0.01 ‘*’ 0.05 ‘.’ 0.1 ‘ ’ 1\n",
              "\n",
              "Newton-Raphson maximisation, 7 iterations\n",
              "Return code 1: gradient close to zero (gradtol)\n",
              "Log-likelihood: -550.1511 on 26 Df\n"
            ]
          },
          "metadata": {}
        }
      ]
    },
    {
      "cell_type": "code",
      "source": [
        "# cenGAM Model\n",
        "cenGAM_model_train <- gam(\n",
        "  affairs ~ s(age, k = 3) + gender + yearsmarried + religiousness + education + occupation + rating,\n",
        "  family = tobit1(left.threshold = 0),\n",
        "  data = train_data_scaled\n",
        ")\n",
        "summary(cenGAM_model_train)"
      ],
      "metadata": {
        "colab": {
          "base_uri": "https://localhost:8080/",
          "height": 746
        },
        "id": "iLPE4JJOZ4VY",
        "outputId": "f519fc90-3e77-4b7a-c742-7af63ea438be"
      },
      "execution_count": 18,
      "outputs": [
        {
          "output_type": "display_data",
          "data": {
            "text/plain": [
              "\n",
              "Family: Censored normal (sigma=9.438) \n",
              "Link function: identity \n",
              "\n",
              "Formula:\n",
              "affairs ~ s(age, k = 3) + gender + yearsmarried + religiousness + \n",
              "    education + occupation + rating\n",
              "\n",
              "Parametric coefficients:\n",
              "               Estimate Std. Error z value Pr(>|z|)    \n",
              "(Intercept)     -3.1933     7.1323  -0.448 0.654352    \n",
              "gendermale       0.7486     1.5099   0.496 0.620061    \n",
              "yearsmarried     0.5761     0.1819   3.167 0.001539 ** \n",
              "religiousness2  -4.8596     2.2776  -2.134 0.032874 *  \n",
              "religiousness3  -2.9799     2.3116  -1.289 0.197364    \n",
              "religiousness4  -8.4132     2.2728  -3.702 0.000214 ***\n",
              "religiousness5  -7.3775     2.7152  -2.717 0.006586 ** \n",
              "education12      4.1961     6.7844   0.618 0.536248    \n",
              "education14      1.7106     6.6422   0.258 0.796766    \n",
              "education16      2.3776     6.7757   0.351 0.725662    \n",
              "education17      4.9365     6.7417   0.732 0.464024    \n",
              "education18      2.8564     6.7799   0.421 0.673531    \n",
              "education20      3.0557     6.9601   0.439 0.660645    \n",
              "occupation2      2.7894     4.4702   0.624 0.532627    \n",
              "occupation3      1.4738     2.5206   0.585 0.558751    \n",
              "occupation4      2.2242     2.2756   0.977 0.328366    \n",
              "occupation5     -0.3433     1.9865  -0.173 0.862795    \n",
              "occupation6      0.4174     2.4670   0.169 0.865637    \n",
              "occupation7      0.2838     4.4239   0.064 0.948841    \n",
              "rating2         -1.3566     3.6095  -0.376 0.707026    \n",
              "rating3         -6.7760     3.5825  -1.891 0.058567 .  \n",
              "rating4         -6.8897     3.4600  -1.991 0.046453 *  \n",
              "rating5         -9.1358     3.5065  -2.605 0.009177 ** \n",
              "---\n",
              "Signif. codes:  0 ‘***’ 0.001 ‘**’ 0.01 ‘*’ 0.05 ‘.’ 0.1 ‘ ’ 1\n",
              "\n",
              "Approximate significance of smooth terms:\n",
              "       edf Ref.df Chi.sq p-value\n",
              "s(age)   1  1.001  2.207   0.137\n",
              "\n",
              "R-sq.(adj) =  -1.03   Deviance explained = 20.4%\n",
              "-REML = 517.93  Scale est. = 1         n = 481"
            ]
          },
          "metadata": {}
        }
      ]
    },
    {
      "cell_type": "code",
      "source": [
        "# Tobit Model from AER\n",
        "tobit_model_train <- tobit(affairs ~ ., data = train_data_scaled, left = 0)\n",
        "summary(tobit_model_train)"
      ],
      "metadata": {
        "colab": {
          "base_uri": "https://localhost:8080/",
          "height": 798
        },
        "id": "JiSvOdQGZ7d-",
        "outputId": "54840659-29a4-47f8-964a-a3c0bdd25fa1"
      },
      "execution_count": 19,
      "outputs": [
        {
          "output_type": "display_data",
          "data": {
            "text/plain": [
              "\n",
              "Call:\n",
              "tobit(formula = affairs ~ ., left = 0, data = train_data_scaled)\n",
              "\n",
              "Observations:\n",
              "         Total  Left-censored     Uncensored Right-censored \n",
              "           481            363            118              0 \n",
              "\n",
              "Coefficients:\n",
              "               Estimate Std. Error z value Pr(>|z|)    \n",
              "(Intercept)    -2.04409    6.06422  -0.337 0.736061    \n",
              "gendermale      0.59008    1.27876   0.461 0.644478    \n",
              "age            -1.30830    0.84751  -1.544 0.122661    \n",
              "yearsmarried    0.48443    0.16554   2.926 0.003430 ** \n",
              "childrenyes     0.74504    1.45671   0.511 0.609036    \n",
              "religiousness2 -4.27594    1.94126  -2.203 0.027619 *  \n",
              "religiousness3 -2.69650    1.95706  -1.378 0.168256    \n",
              "religiousness4 -7.51155    1.95549  -3.841 0.000122 ***\n",
              "religiousness5 -6.56799    2.31913  -2.832 0.004624 ** \n",
              "education12     3.29830    5.71994   0.577 0.564188    \n",
              "education14     0.97593    5.59524   0.174 0.861534    \n",
              "education16     1.54390    5.70919   0.270 0.786835    \n",
              "education17     3.92753    5.68423   0.691 0.489596    \n",
              "education18     1.93873    5.71666   0.339 0.734507    \n",
              "education20     2.11782    5.87298   0.361 0.718396    \n",
              "occupation2     2.13194    3.79526   0.562 0.574296    \n",
              "occupation3     1.52150    2.17911   0.698 0.485039    \n",
              "occupation4     2.05050    1.95426   1.049 0.294064    \n",
              "occupation5    -0.07655    1.69717  -0.045 0.964024    \n",
              "occupation6     0.62567    2.10658   0.297 0.766459    \n",
              "occupation7     0.15676    3.75108   0.042 0.966665    \n",
              "rating2        -1.29636    3.06831  -0.422 0.672661    \n",
              "rating3        -6.16827    3.05269  -2.021 0.043321 *  \n",
              "rating4        -6.24479    2.95361  -2.114 0.034491 *  \n",
              "rating5        -8.11408    2.99746  -2.707 0.006790 ** \n",
              "Log(scale)      2.08245    0.07586  27.453  < 2e-16 ***\n",
              "---\n",
              "Signif. codes:  0 ‘***’ 0.001 ‘**’ 0.01 ‘*’ 0.05 ‘.’ 0.1 ‘ ’ 1\n",
              "\n",
              "Scale: 8.024 \n",
              "\n",
              "Gaussian distribution\n",
              "Number of Newton-Raphson Iterations: 4 \n",
              "Log-likelihood: -550.2 on 26 Df\n",
              "Wald-statistic: 59.44 on 24 Df, p-value: 7.6592e-05 \n"
            ]
          },
          "metadata": {}
        }
      ]
    },
    {
      "cell_type": "markdown",
      "source": [
        "# Model Evaluation"
      ],
      "metadata": {
        "id": "-Y411ZVuZ_2X"
      }
    },
    {
      "cell_type": "code",
      "source": [
        "# Explanatory Modeling Evaluation (Full Dataset)\n",
        "explanatory_metrics <- data.frame(\n",
        "  Model = c(\"censReg\", \"cenGAM\", \"Tobit\"),\n",
        "  AIC = c(AIC(censReg_model_full), AIC(cenGAM_model_full), AIC(tobit_model_full)),\n",
        "  BIC = c(BIC(censReg_model_full), BIC(cenGAM_model_full), BIC(tobit_model_full))\n",
        ")\n",
        "\n",
        "print(\"Explanatory Modeling Metrics (Full Dataset):\")\n",
        "explanatory_metrics"
      ],
      "metadata": {
        "colab": {
          "base_uri": "https://localhost:8080/",
          "height": 210
        },
        "id": "9LA_BmUCaG6t",
        "outputId": "a6ff9c4d-c1ab-48bb-d1e8-334f59392645"
      },
      "execution_count": 20,
      "outputs": [
        {
          "output_type": "stream",
          "name": "stdout",
          "text": [
            "[1] \"Explanatory Modeling Metrics (Full Dataset):\"\n"
          ]
        },
        {
          "output_type": "display_data",
          "data": {
            "text/html": [
              "<table class=\"dataframe\">\n",
              "<caption>A data.frame: 3 × 3</caption>\n",
              "<thead>\n",
              "\t<tr><th scope=col>Model</th><th scope=col>AIC</th><th scope=col>BIC</th></tr>\n",
              "\t<tr><th scope=col>&lt;chr&gt;</th><th scope=col>&lt;dbl&gt;</th><th scope=col>&lt;dbl&gt;</th></tr>\n",
              "</thead>\n",
              "<tbody>\n",
              "\t<tr><td>censReg</td><td>1440.584</td><td>1554.947</td></tr>\n",
              "\t<tr><td>cenGAM </td><td>1442.591</td><td>1552.556</td></tr>\n",
              "\t<tr><td>Tobit  </td><td>1440.584</td><td>1554.947</td></tr>\n",
              "</tbody>\n",
              "</table>\n"
            ],
            "text/markdown": "\nA data.frame: 3 × 3\n\n| Model &lt;chr&gt; | AIC &lt;dbl&gt; | BIC &lt;dbl&gt; |\n|---|---|---|\n| censReg | 1440.584 | 1554.947 |\n| cenGAM  | 1442.591 | 1552.556 |\n| Tobit   | 1440.584 | 1554.947 |\n\n",
            "text/latex": "A data.frame: 3 × 3\n\\begin{tabular}{lll}\n Model & AIC & BIC\\\\\n <chr> & <dbl> & <dbl>\\\\\n\\hline\n\t censReg & 1440.584 & 1554.947\\\\\n\t cenGAM  & 1442.591 & 1552.556\\\\\n\t Tobit   & 1440.584 & 1554.947\\\\\n\\end{tabular}\n",
            "text/plain": [
              "  Model   AIC      BIC     \n",
              "1 censReg 1440.584 1554.947\n",
              "2 cenGAM  1442.591 1552.556\n",
              "3 Tobit   1440.584 1554.947"
            ]
          },
          "metadata": {}
        }
      ]
    },
    {
      "cell_type": "code",
      "source": [
        "# Explanatory Modeling: Compare AIC & BIC\n",
        "options(repr.plot.width = 10, repr.plot.height = 7)\n",
        "explanatory_long <- explanatory_metrics %>%\n",
        "  pivot_longer(cols = c(AIC, BIC), names_to = \"Metric\", values_to = \"Value\")\n",
        "\n",
        "ggplot(explanatory_long, aes(x = Model, y = Value, fill = Metric)) +\n",
        "  geom_bar(stat = \"identity\", position = position_dodge(width = 0.9)) +\n",
        "  geom_text(aes(label = round(Value, 2)),\n",
        "            position = position_dodge(width = 0.9),\n",
        "            vjust = -0.5,\n",
        "            size = 3.5) +\n",
        "  labs(title = \"Explanatory Modeling Metrics\", y = \"Value\") +\n",
        "  theme_minimal() +\n",
        "  theme(\n",
        "    plot.title = element_text(\n",
        "      hjust = 0.5,\n",
        "      size = 14,\n",
        "      face = \"bold\",\n",
        "      color = \"black\"\n",
        "    ),\n",
        "    axis.title.x = element_text(\n",
        "      size = 12,\n",
        "      color = \"black\"\n",
        "    ),\n",
        "    axis.title.y = element_text(\n",
        "      size = 12,\n",
        "      color = \"black\"\n",
        "    ),\n",
        "    axis.text.x = element_text(\n",
        "      size = 10,\n",
        "      color = \"black\"\n",
        "    ),\n",
        "    axis.text.y = element_text(\n",
        "      size = 10,\n",
        "      color = \"black\"\n",
        "    ),\n",
        "    legend.title = element_text(\n",
        "      size = 12,\n",
        "      color = \"black\"\n",
        "    ),\n",
        "    legend.text = element_text(\n",
        "      size = 10,\n",
        "      color = \"black\"\n",
        "    )\n",
        "  ) +\n",
        "  ylim(0, max(explanatory_long$Value) * 1.1)"
      ],
      "metadata": {
        "colab": {
          "base_uri": "https://localhost:8080/",
          "height": 437
        },
        "id": "R1jUGRFWaP_c",
        "outputId": "869e0772-4fe6-4a8c-e108-d8ba1716460d"
      },
      "execution_count": 21,
      "outputs": [
        {
          "output_type": "display_data",
          "data": {
            "text/plain": [
              "plot without title"
            ],
            "image/png": "[encoded data removed]"
          },
          "metadata": {
            "image/png": {
              "width": 600,
              "height": 420
            }
          }
        }
      ]
    },
    {
      "cell_type": "markdown",
      "source": [
        "No predict() method for the censReg model."
      ],
      "metadata": {
        "id": "KYhuqo797ztx"
      }
    },
    {
      "cell_type": "code",
      "source": [
        "# cenGAM Predictions\n",
        "cenGAM_pred <- predict(cenGAM_model_train, newdata = test_data_scaled)"
      ],
      "metadata": {
        "id": "4z5K8dKB3C4d"
      },
      "execution_count": 22,
      "outputs": []
    },
    {
      "cell_type": "code",
      "source": [
        "# Tobit Predictions\n",
        "tobit_pred <- predict(tobit_model_train, newdata = test_data_scaled)"
      ],
      "metadata": {
        "id": "AfHCCgF3XxOy"
      },
      "execution_count": 23,
      "outputs": []
    },
    {
      "cell_type": "code",
      "source": [
        "# Predictive Modeling Evaluation\n",
        "predictive_metrics <- data.frame(\n",
        "  Model = c(\"cenGAM\", \"Tobit\"),\n",
        "  RMSE = c(\n",
        "    rmse(test_data_scaled$affairs, cenGAM_pred),\n",
        "    rmse(test_data_scaled$affairs, tobit_pred)\n",
        "  ),\n",
        "  MAE = c(\n",
        "    mae(test_data_scaled$affairs, cenGAM_pred),\n",
        "    mae(test_data_scaled$affairs, tobit_pred)\n",
        "  )\n",
        ")\n",
        "\n",
        "print(\"Predictive Modeling Metrics:\")\n",
        "predictive_metrics"
      ],
      "metadata": {
        "colab": {
          "base_uri": "https://localhost:8080/",
          "height": 178
        },
        "id": "f_7aeff0X4AY",
        "outputId": "ae00a48e-dfb9-4889-9fd7-51c35e40dddf"
      },
      "execution_count": 24,
      "outputs": [
        {
          "output_type": "stream",
          "name": "stdout",
          "text": [
            "[1] \"Predictive Modeling Metrics:\"\n"
          ]
        },
        {
          "output_type": "display_data",
          "data": {
            "text/html": [
              "<table class=\"dataframe\">\n",
              "<caption>A data.frame: 2 × 3</caption>\n",
              "<thead>\n",
              "\t<tr><th scope=col>Model</th><th scope=col>RMSE</th><th scope=col>MAE</th></tr>\n",
              "\t<tr><th scope=col>&lt;chr&gt;</th><th scope=col>&lt;dbl&gt;</th><th scope=col>&lt;dbl&gt;</th></tr>\n",
              "</thead>\n",
              "<tbody>\n",
              "\t<tr><td>cenGAM</td><td>9.507447</td><td>8.375812</td></tr>\n",
              "\t<tr><td>Tobit </td><td>8.173967</td><td>7.097605</td></tr>\n",
              "</tbody>\n",
              "</table>\n"
            ],
            "text/markdown": "\nA data.frame: 2 × 3\n\n| Model &lt;chr&gt; | RMSE &lt;dbl&gt; | MAE &lt;dbl&gt; |\n|---|---|---|\n| cenGAM | 9.507447 | 8.375812 |\n| Tobit  | 8.173967 | 7.097605 |\n\n",
            "text/latex": "A data.frame: 2 × 3\n\\begin{tabular}{lll}\n Model & RMSE & MAE\\\\\n <chr> & <dbl> & <dbl>\\\\\n\\hline\n\t cenGAM & 9.507447 & 8.375812\\\\\n\t Tobit  & 8.173967 & 7.097605\\\\\n\\end{tabular}\n",
            "text/plain": [
              "  Model  RMSE     MAE     \n",
              "1 cenGAM 9.507447 8.375812\n",
              "2 Tobit  8.173967 7.097605"
            ]
          },
          "metadata": {}
        }
      ]
    },
    {
      "cell_type": "code",
      "source": [
        "# Predictive Modeling: Compare RMSE and MAE\n",
        "options(repr.plot.width = 10, repr.plot.height = 7)\n",
        "predictive_long <- predictive_metrics %>%\n",
        "  pivot_longer(cols = c(RMSE, MAE), names_to = \"Metric\", values_to = \"Value\")\n",
        "\n",
        "ggplot(predictive_long, aes(x = Model, y = Value, fill = Metric)) +\n",
        "  geom_bar(stat = \"identity\", position = position_dodge(width = 0.9)) +\n",
        "  geom_text(aes(label = round(Value, 2)),\n",
        "            position = position_dodge(width = 0.9),\n",
        "            vjust = -0.5,\n",
        "            size = 3.5) +\n",
        "  labs(title = \"Predictive Modeling Metrics\", y = \"Error\") +\n",
        "  theme_minimal() +\n",
        "  theme(\n",
        "    plot.title = element_text(\n",
        "      hjust = 0.5,\n",
        "      size = 14,\n",
        "      face = \"bold\",\n",
        "      color = \"black\"\n",
        "    ),\n",
        "    axis.title.x = element_text(\n",
        "      size = 12,\n",
        "      color = \"black\"\n",
        "    ),\n",
        "    axis.title.y = element_text(\n",
        "      size = 12,\n",
        "      color = \"black\"\n",
        "    ),\n",
        "    axis.text.x = element_text(\n",
        "      size = 10,\n",
        "      color = \"black\"\n",
        "    ),\n",
        "    axis.text.y = element_text(\n",
        "      size = 10,\n",
        "      color = \"black\"\n",
        "    ),\n",
        "    legend.title = element_text(\n",
        "      size = 12,\n",
        "      color = \"black\"\n",
        "    ),\n",
        "    legend.text = element_text(\n",
        "      size = 10,\n",
        "      color = \"black\"\n",
        "    )\n",
        "  ) +\n",
        "  ylim(0, max(predictive_long$Value) * 1.1)"
      ],
      "metadata": {
        "colab": {
          "base_uri": "https://localhost:8080/",
          "height": 437
        },
        "id": "tjsiM-M0aS9i",
        "outputId": "053bb9a2-ccfb-482c-cb6d-d3f7e0d703de"
      },
      "execution_count": 25,
      "outputs": [
        {
          "output_type": "display_data",
          "data": {
            "text/plain": [
              "plot without title"
            ],
            "image/png": "[encoded data removed]"
          },
          "metadata": {
            "image/png": {
              "width": 600,
              "height": 420
            }
          }
        }
      ]
    },
    {
      "cell_type": "code",
      "source": [
        "# Combine all metrics into one dataframe for comparison\n",
        "all_metrics <- explanatory_metrics %>%\n",
        "  left_join(predictive_metrics, by = \"Model\")\n",
        "\n",
        "print(\"Combined Model Metrics:\")\n",
        "all_metrics"
      ],
      "metadata": {
        "colab": {
          "base_uri": "https://localhost:8080/",
          "height": 210
        },
        "id": "Ow8y-y7DaX3o",
        "outputId": "b783b7e4-242d-41db-8077-f6e9652e711c"
      },
      "execution_count": 26,
      "outputs": [
        {
          "output_type": "stream",
          "name": "stdout",
          "text": [
            "[1] \"Combined Model Metrics:\"\n"
          ]
        },
        {
          "output_type": "display_data",
          "data": {
            "text/html": [
              "<table class=\"dataframe\">\n",
              "<caption>A data.frame: 3 × 5</caption>\n",
              "<thead>\n",
              "\t<tr><th scope=col>Model</th><th scope=col>AIC</th><th scope=col>BIC</th><th scope=col>RMSE</th><th scope=col>MAE</th></tr>\n",
              "\t<tr><th scope=col>&lt;chr&gt;</th><th scope=col>&lt;dbl&gt;</th><th scope=col>&lt;dbl&gt;</th><th scope=col>&lt;dbl&gt;</th><th scope=col>&lt;dbl&gt;</th></tr>\n",
              "</thead>\n",
              "<tbody>\n",
              "\t<tr><td>censReg</td><td>1440.584</td><td>1554.947</td><td>      NA</td><td>      NA</td></tr>\n",
              "\t<tr><td>cenGAM </td><td>1442.591</td><td>1552.556</td><td>9.507447</td><td>8.375812</td></tr>\n",
              "\t<tr><td>Tobit  </td><td>1440.584</td><td>1554.947</td><td>8.173967</td><td>7.097605</td></tr>\n",
              "</tbody>\n",
              "</table>\n"
            ],
            "text/markdown": "\nA data.frame: 3 × 5\n\n| Model &lt;chr&gt; | AIC &lt;dbl&gt; | BIC &lt;dbl&gt; | RMSE &lt;dbl&gt; | MAE &lt;dbl&gt; |\n|---|---|---|---|---|\n| censReg | 1440.584 | 1554.947 |       NA |       NA |\n| cenGAM  | 1442.591 | 1552.556 | 9.507447 | 8.375812 |\n| Tobit   | 1440.584 | 1554.947 | 8.173967 | 7.097605 |\n\n",
            "text/latex": "A data.frame: 3 × 5\n\\begin{tabular}{lllll}\n Model & AIC & BIC & RMSE & MAE\\\\\n <chr> & <dbl> & <dbl> & <dbl> & <dbl>\\\\\n\\hline\n\t censReg & 1440.584 & 1554.947 &       NA &       NA\\\\\n\t cenGAM  & 1442.591 & 1552.556 & 9.507447 & 8.375812\\\\\n\t Tobit   & 1440.584 & 1554.947 & 8.173967 & 7.097605\\\\\n\\end{tabular}\n",
            "text/plain": [
              "  Model   AIC      BIC      RMSE     MAE     \n",
              "1 censReg 1440.584 1554.947       NA       NA\n",
              "2 cenGAM  1442.591 1552.556 9.507447 8.375812\n",
              "3 Tobit   1440.584 1554.947 8.173967 7.097605"
            ]
          },
          "metadata": {}
        }
      ]
    },
    {
      "cell_type": "code",
      "source": [
        "# Visualize Combined Metrics\n",
        "# Melt the dataframe\n",
        "options(repr.plot.width = 12, repr.plot.height = 7)\n",
        "all_metrics_long <- all_metrics %>%\n",
        "  pivot_longer(cols = -Model, names_to = \"Metric\", values_to = \"Value\")\n",
        "\n",
        "ggplot(all_metrics_long, aes(x = Model, y = Value, fill = Metric)) +\n",
        "  geom_bar(stat = \"identity\", position = position_dodge(width = 0.9)) +\n",
        "  geom_text(aes(label = round(Value, 2)),\n",
        "            position = position_dodge(width = 0.9),\n",
        "            vjust = -0.5,\n",
        "            size = 3.5) +\n",
        "  labs(title = \"Combined Model Performance Metrics\", y = \"Metric Value\") +\n",
        "  theme_minimal() +\n",
        "  theme(\n",
        "    plot.title = element_text(\n",
        "      hjust = 0.5,\n",
        "      size = 14,\n",
        "      face = \"bold\",\n",
        "      color = \"black\"\n",
        "    ),\n",
        "    axis.title.x = element_text(\n",
        "      size = 12,\n",
        "      color = \"black\"\n",
        "    ),\n",
        "    axis.title.y = element_text(\n",
        "      size = 12,\n",
        "      color = \"black\"\n",
        "    ),\n",
        "    axis.text.x = element_text(\n",
        "      size = 10,\n",
        "      color = \"black\"\n",
        "    ),\n",
        "    axis.text.y = element_text(\n",
        "      size = 10,\n",
        "      color = \"black\"\n",
        "    ),\n",
        "    legend.title = element_text(\n",
        "      size = 12,\n",
        "      color = \"black\"\n",
        "    ),\n",
        "    legend.text = element_text(\n",
        "      size = 10,\n",
        "      color = \"black\"\n",
        "    )\n",
        "  ) +\n",
        "  ylim(0, max(all_metrics_long$Value) * 1.1)"
      ],
      "metadata": {
        "colab": {
          "base_uri": "https://localhost:8080/",
          "height": 541
        },
        "id": "8ugP7PvCaX1S",
        "outputId": "180c2a12-7acd-4c86-e2ca-c87965579f08"
      },
      "execution_count": 28,
      "outputs": [
        {
          "output_type": "stream",
          "name": "stderr",
          "text": [
            "Warning message:\n",
            "“\u001b[1m\u001b[22mRemoved 2 rows containing missing values or values outside the scale range\n",
            "(`geom_bar()`).”\n",
            "Warning message:\n",
            "“\u001b[1m\u001b[22mRemoved 2 rows containing missing values or values outside the scale range\n",
            "(`geom_text()`).”\n"
          ]
        },
        {
          "output_type": "display_data",
          "data": {
            "text/plain": [
              "plot without title"
            ],
            "image/png": "[encoded data removed]"
          },
          "metadata": {
            "image/png": {
              "width": 720,
              "height": 420
            }
          }
        }
      ]
    }
  ]
}